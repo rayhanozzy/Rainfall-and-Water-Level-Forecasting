{
 "cells": [
  {
   "cell_type": "markdown",
   "metadata": {
    "id": "VMPDxYyw5d6h"
   },
   "source": [
    "# [Facebook Prophet](https://github.com/facebook/prophet) and [NeuralProphet](https://github.com/ourownstory/neural_prophet) Comparison\n",
    "By: Rayhan Ozzy Ertarto\n",
    "\n",
    "The goal of this notebook is to compare the *expected values* forecasted by these two models and compare them against the actuals in order to calculate the performance metrics and define which model performs better using this time series dataset (Water Level in Karet Floodgate, Central Jakarta)"
   ]
  },
  {
   "cell_type": "markdown",
   "metadata": {
    "id": "00MQ79C35ueh"
   },
   "source": [
    "Importing basic libraries"
   ]
  },
  {
   "cell_type": "code",
   "execution_count": 1,
   "metadata": {
    "execution": {
     "iopub.execute_input": "2022-03-30T17:28:01.031678Z",
     "iopub.status.busy": "2022-03-30T17:28:01.031081Z",
     "iopub.status.idle": "2022-03-30T17:28:01.036723Z",
     "shell.execute_reply": "2022-03-30T17:28:01.036064Z",
     "shell.execute_reply.started": "2022-03-30T17:28:01.031637Z"
    },
    "id": "0Ricp40n5W3h"
   },
   "outputs": [],
   "source": [
    "import pandas as pd\n",
    "import numpy as np\n",
    "import matplotlib.pyplot as plt\n",
    "import seaborn as sns"
   ]
  },
  {
   "cell_type": "code",
   "execution_count": 2,
   "metadata": {
    "execution": {
     "iopub.execute_input": "2022-03-30T17:28:01.061566Z",
     "iopub.status.busy": "2022-03-30T17:28:01.060674Z",
     "iopub.status.idle": "2022-03-30T17:28:01.066341Z",
     "shell.execute_reply": "2022-03-30T17:28:01.065312Z",
     "shell.execute_reply.started": "2022-03-30T17:28:01.061523Z"
    },
    "id": "I85geYiv55Tc"
   },
   "outputs": [],
   "source": [
    "np.random.seed(1234)"
   ]
  },
  {
   "cell_type": "code",
   "execution_count": 3,
   "metadata": {
    "execution": {
     "iopub.execute_input": "2022-03-30T17:28:01.131394Z",
     "iopub.status.busy": "2022-03-30T17:28:01.13053Z",
     "iopub.status.idle": "2022-03-30T17:28:01.13633Z",
     "shell.execute_reply": "2022-03-30T17:28:01.135404Z",
     "shell.execute_reply.started": "2022-03-30T17:28:01.13135Z"
    },
    "id": "ngJzMaV17JSb"
   },
   "outputs": [],
   "source": [
    "plt.style.use('ggplot')"
   ]
  },
  {
   "cell_type": "markdown",
   "metadata": {
    "_kg_hide-input": true,
    "_kg_hide-output": true,
    "id": "Ixo5-LLZ6Dlq"
   },
   "source": [
    "Reading the time series"
   ]
  },
  {
   "cell_type": "code",
   "execution_count": 4,
   "metadata": {
    "execution": {
     "iopub.execute_input": "2022-03-30T17:28:01.230086Z",
     "iopub.status.busy": "2022-03-30T17:28:01.229144Z",
     "iopub.status.idle": "2022-03-30T17:28:05.065534Z",
     "shell.execute_reply": "2022-03-30T17:28:05.064406Z",
     "shell.execute_reply.started": "2022-03-30T17:28:01.230036Z"
    }
   },
   "outputs": [
    {
     "data": {
      "text/html": [
       "<div>\n",
       "<style scoped>\n",
       "    .dataframe tbody tr th:only-of-type {\n",
       "        vertical-align: middle;\n",
       "    }\n",
       "\n",
       "    .dataframe tbody tr th {\n",
       "        vertical-align: top;\n",
       "    }\n",
       "\n",
       "    .dataframe thead th {\n",
       "        text-align: right;\n",
       "    }\n",
       "</style>\n",
       "<table border=\"1\" class=\"dataframe\">\n",
       "  <thead>\n",
       "    <tr style=\"text-align: right;\">\n",
       "      <th></th>\n",
       "      <th>id</th>\n",
       "      <th>pintu_air_id</th>\n",
       "      <th>nama_pintu_air</th>\n",
       "      <th>ketinggian</th>\n",
       "      <th>status_siaga</th>\n",
       "      <th>cuaca</th>\n",
       "      <th>tanggal_laporan</th>\n",
       "      <th>jam_laporan</th>\n",
       "      <th>status_bukaan</th>\n",
       "      <th>tinggi_bukaan</th>\n",
       "      <th>keterangan</th>\n",
       "      <th>delete_at</th>\n",
       "      <th>created_at</th>\n",
       "      <th>updated_at</th>\n",
       "    </tr>\n",
       "  </thead>\n",
       "  <tbody>\n",
       "    <tr>\n",
       "      <th>0</th>\n",
       "      <td>1</td>\n",
       "      <td>4</td>\n",
       "      <td>Cideng Tarakan</td>\n",
       "      <td>0</td>\n",
       "      <td>4</td>\n",
       "      <td>Terang</td>\n",
       "      <td>11/17/2021</td>\n",
       "      <td>3:00:00</td>\n",
       "      <td>[\"T\",\"T\",\"T\"]</td>\n",
       "      <td>[\"1\",\"1\",\"1\"]</td>\n",
       "      <td>NaN</td>\n",
       "      <td>NaN</td>\n",
       "      <td>11/16/2021 20:37</td>\n",
       "      <td>11/16/2021 20:37</td>\n",
       "    </tr>\n",
       "    <tr>\n",
       "      <th>1</th>\n",
       "      <td>2</td>\n",
       "      <td>12</td>\n",
       "      <td>Pasar Ikan - Laut</td>\n",
       "      <td>190</td>\n",
       "      <td>3</td>\n",
       "      <td>Terang</td>\n",
       "      <td>11/17/2021</td>\n",
       "      <td>3:00:00</td>\n",
       "      <td>[\"T\",\"T\",\"T\",\"T\"]</td>\n",
       "      <td>[null,null,null,null]</td>\n",
       "      <td>NaN</td>\n",
       "      <td>NaN</td>\n",
       "      <td>11/16/2021 20:43</td>\n",
       "      <td>11/16/2021 20:43</td>\n",
       "    </tr>\n",
       "    <tr>\n",
       "      <th>2</th>\n",
       "      <td>3</td>\n",
       "      <td>4</td>\n",
       "      <td>Cideng Tarakan</td>\n",
       "      <td>0</td>\n",
       "      <td>4</td>\n",
       "      <td>Terang</td>\n",
       "      <td>11/17/2021</td>\n",
       "      <td>4:00:00</td>\n",
       "      <td>[\"T\",\"T\",\"T\"]</td>\n",
       "      <td>[\"1\",\"1\",\"1\"]</td>\n",
       "      <td>NaN</td>\n",
       "      <td>NaN</td>\n",
       "      <td>11/16/2021 20:43</td>\n",
       "      <td>11/16/2021 20:43</td>\n",
       "    </tr>\n",
       "    <tr>\n",
       "      <th>3</th>\n",
       "      <td>4</td>\n",
       "      <td>15</td>\n",
       "      <td>Istiqlal</td>\n",
       "      <td>160</td>\n",
       "      <td>4</td>\n",
       "      <td>Terang</td>\n",
       "      <td>11/17/2021</td>\n",
       "      <td>3:00:00</td>\n",
       "      <td>[\"F\",\"F\",\"F\"]</td>\n",
       "      <td>[\"400\",\"400\",\"400\"]</td>\n",
       "      <td>NaN</td>\n",
       "      <td>NaN</td>\n",
       "      <td>11/16/2021 20:44</td>\n",
       "      <td>11/16/2021 20:44</td>\n",
       "    </tr>\n",
       "    <tr>\n",
       "      <th>4</th>\n",
       "      <td>5</td>\n",
       "      <td>6</td>\n",
       "      <td>Manggarai BKB</td>\n",
       "      <td>580</td>\n",
       "      <td>4</td>\n",
       "      <td>Terang</td>\n",
       "      <td>11/17/2021</td>\n",
       "      <td>3:00:00</td>\n",
       "      <td>[\"F\",\"F\",\"F\"]</td>\n",
       "      <td>[\"800\",\"800\",\"800\"]</td>\n",
       "      <td>NaN</td>\n",
       "      <td>NaN</td>\n",
       "      <td>11/16/2021 20:45</td>\n",
       "      <td>11/16/2021 20:45</td>\n",
       "    </tr>\n",
       "    <tr>\n",
       "      <th>5</th>\n",
       "      <td>6</td>\n",
       "      <td>7</td>\n",
       "      <td>Manggarai KCL</td>\n",
       "      <td>550</td>\n",
       "      <td>4</td>\n",
       "      <td>Terang</td>\n",
       "      <td>11/17/2021</td>\n",
       "      <td>3:00:00</td>\n",
       "      <td>[\"B\"]</td>\n",
       "      <td>[\"100\"]</td>\n",
       "      <td>NaN</td>\n",
       "      <td>NaN</td>\n",
       "      <td>11/16/2021 20:46</td>\n",
       "      <td>11/16/2021 20:46</td>\n",
       "    </tr>\n",
       "    <tr>\n",
       "      <th>6</th>\n",
       "      <td>7</td>\n",
       "      <td>5</td>\n",
       "      <td>PA. Karet</td>\n",
       "      <td>250</td>\n",
       "      <td>4</td>\n",
       "      <td>Terang</td>\n",
       "      <td>11/17/2021</td>\n",
       "      <td>3:00:00</td>\n",
       "      <td>[\"F\",\"F\",\"F\",\"F\",\"F\"]</td>\n",
       "      <td>[\"700\",\"700\",\"700\",\"700\",\"700\"]</td>\n",
       "      <td>NaN</td>\n",
       "      <td>NaN</td>\n",
       "      <td>11/16/2021 20:49</td>\n",
       "      <td>11/16/2021 20:49</td>\n",
       "    </tr>\n",
       "    <tr>\n",
       "      <th>7</th>\n",
       "      <td>8</td>\n",
       "      <td>14</td>\n",
       "      <td>PA. Marina</td>\n",
       "      <td>187</td>\n",
       "      <td>3</td>\n",
       "      <td>Terang</td>\n",
       "      <td>11/17/2021</td>\n",
       "      <td>3:00:00</td>\n",
       "      <td>[\"F\",\"F\",\"T\",\"T\",\"T\"]</td>\n",
       "      <td>[\"300\",\"300\",null,null,null]</td>\n",
       "      <td>NaN</td>\n",
       "      <td>NaN</td>\n",
       "      <td>11/16/2021 20:49</td>\n",
       "      <td>11/16/2021 20:49</td>\n",
       "    </tr>\n",
       "    <tr>\n",
       "      <th>8</th>\n",
       "      <td>9</td>\n",
       "      <td>13</td>\n",
       "      <td>Ancol Flushing</td>\n",
       "      <td>188</td>\n",
       "      <td>3</td>\n",
       "      <td>Terang</td>\n",
       "      <td>11/17/2021</td>\n",
       "      <td>3:00:00</td>\n",
       "      <td>[\"T\",\"T\"]</td>\n",
       "      <td>[null,null]</td>\n",
       "      <td>NaN</td>\n",
       "      <td>NaN</td>\n",
       "      <td>11/16/2021 20:49</td>\n",
       "      <td>11/16/2021 20:49</td>\n",
       "    </tr>\n",
       "    <tr>\n",
       "      <th>9</th>\n",
       "      <td>10</td>\n",
       "      <td>16</td>\n",
       "      <td>Jembatan Merah arah Marina</td>\n",
       "      <td>130</td>\n",
       "      <td>4</td>\n",
       "      <td>Terang</td>\n",
       "      <td>11/17/2021</td>\n",
       "      <td>3:00:00</td>\n",
       "      <td>[\"F\",\"F\",\"F\",\"F\"]</td>\n",
       "      <td>[\"300\",\"300\",\"300\",\"300\"]</td>\n",
       "      <td>NaN</td>\n",
       "      <td>NaN</td>\n",
       "      <td>11/16/2021 20:52</td>\n",
       "      <td>11/16/2021 20:52</td>\n",
       "    </tr>\n",
       "  </tbody>\n",
       "</table>\n",
       "</div>"
      ],
      "text/plain": [
       "   id  pintu_air_id              nama_pintu_air ketinggian  status_siaga  \\\n",
       "0   1             4              Cideng Tarakan          0             4   \n",
       "1   2            12           Pasar Ikan - Laut        190             3   \n",
       "2   3             4              Cideng Tarakan          0             4   \n",
       "3   4            15                    Istiqlal        160             4   \n",
       "4   5             6               Manggarai BKB        580             4   \n",
       "5   6             7               Manggarai KCL        550             4   \n",
       "6   7             5                   PA. Karet        250             4   \n",
       "7   8            14                  PA. Marina        187             3   \n",
       "8   9            13              Ancol Flushing        188             3   \n",
       "9  10            16  Jembatan Merah arah Marina        130             4   \n",
       "\n",
       "    cuaca tanggal_laporan jam_laporan          status_bukaan  \\\n",
       "0  Terang      11/17/2021     3:00:00          [\"T\",\"T\",\"T\"]   \n",
       "1  Terang      11/17/2021     3:00:00      [\"T\",\"T\",\"T\",\"T\"]   \n",
       "2  Terang      11/17/2021     4:00:00          [\"T\",\"T\",\"T\"]   \n",
       "3  Terang      11/17/2021     3:00:00          [\"F\",\"F\",\"F\"]   \n",
       "4  Terang      11/17/2021     3:00:00          [\"F\",\"F\",\"F\"]   \n",
       "5  Terang      11/17/2021     3:00:00                  [\"B\"]   \n",
       "6  Terang      11/17/2021     3:00:00  [\"F\",\"F\",\"F\",\"F\",\"F\"]   \n",
       "7  Terang      11/17/2021     3:00:00  [\"F\",\"F\",\"T\",\"T\",\"T\"]   \n",
       "8  Terang      11/17/2021     3:00:00              [\"T\",\"T\"]   \n",
       "9  Terang      11/17/2021     3:00:00      [\"F\",\"F\",\"F\",\"F\"]   \n",
       "\n",
       "                     tinggi_bukaan keterangan  delete_at        created_at  \\\n",
       "0                    [\"1\",\"1\",\"1\"]        NaN        NaN  11/16/2021 20:37   \n",
       "1            [null,null,null,null]        NaN        NaN  11/16/2021 20:43   \n",
       "2                    [\"1\",\"1\",\"1\"]        NaN        NaN  11/16/2021 20:43   \n",
       "3              [\"400\",\"400\",\"400\"]        NaN        NaN  11/16/2021 20:44   \n",
       "4              [\"800\",\"800\",\"800\"]        NaN        NaN  11/16/2021 20:45   \n",
       "5                          [\"100\"]        NaN        NaN  11/16/2021 20:46   \n",
       "6  [\"700\",\"700\",\"700\",\"700\",\"700\"]        NaN        NaN  11/16/2021 20:49   \n",
       "7     [\"300\",\"300\",null,null,null]        NaN        NaN  11/16/2021 20:49   \n",
       "8                      [null,null]        NaN        NaN  11/16/2021 20:49   \n",
       "9        [\"300\",\"300\",\"300\",\"300\"]        NaN        NaN  11/16/2021 20:52   \n",
       "\n",
       "         updated_at  \n",
       "0  11/16/2021 20:37  \n",
       "1  11/16/2021 20:43  \n",
       "2  11/16/2021 20:43  \n",
       "3  11/16/2021 20:44  \n",
       "4  11/16/2021 20:45  \n",
       "5  11/16/2021 20:46  \n",
       "6  11/16/2021 20:49  \n",
       "7  11/16/2021 20:49  \n",
       "8  11/16/2021 20:49  \n",
       "9  11/16/2021 20:52  "
      ]
     },
     "execution_count": 4,
     "metadata": {},
     "output_type": "execute_result"
    }
   ],
   "source": [
    "gsheetkey = \"1d0g-fOczYG3WGt3CpmAQzTfT4S0q4MI5BCtHR2HvQoE\"\n",
    "\n",
    "url=f'https://docs.google.com/spreadsheet/ccc?key={gsheetkey}&output=csv'\n",
    "df_tma = pd.read_csv(url)\n",
    "df_tma.head(10)"
   ]
  },
  {
   "cell_type": "code",
   "execution_count": 5,
   "metadata": {
    "execution": {
     "iopub.execute_input": "2022-03-30T17:28:05.068186Z",
     "iopub.status.busy": "2022-03-30T17:28:05.067736Z",
     "iopub.status.idle": "2022-03-30T17:28:05.120312Z",
     "shell.execute_reply": "2022-03-30T17:28:05.119421Z",
     "shell.execute_reply.started": "2022-03-30T17:28:05.068137Z"
    }
   },
   "outputs": [
    {
     "name": "stdout",
     "output_type": "stream",
     "text": [
      "<class 'pandas.core.frame.DataFrame'>\n",
      "RangeIndex: 30556 entries, 0 to 30555\n",
      "Data columns (total 14 columns):\n",
      " #   Column           Non-Null Count  Dtype  \n",
      "---  ------           --------------  -----  \n",
      " 0   id               30556 non-null  object \n",
      " 1   pintu_air_id     30556 non-null  int64  \n",
      " 2   nama_pintu_air   30556 non-null  object \n",
      " 3   ketinggian       30556 non-null  object \n",
      " 4   status_siaga     30556 non-null  int64  \n",
      " 5   cuaca            30556 non-null  object \n",
      " 6   tanggal_laporan  30556 non-null  object \n",
      " 7   jam_laporan      30556 non-null  object \n",
      " 8   status_bukaan    30556 non-null  object \n",
      " 9   tinggi_bukaan    30556 non-null  object \n",
      " 10  keterangan       334 non-null    object \n",
      " 11  delete_at        0 non-null      float64\n",
      " 12  created_at       30556 non-null  object \n",
      " 13  updated_at       30556 non-null  object \n",
      "dtypes: float64(1), int64(2), object(11)\n",
      "memory usage: 3.3+ MB\n"
     ]
    }
   ],
   "source": [
    "df_tma.info()"
   ]
  },
  {
   "cell_type": "code",
   "execution_count": 6,
   "metadata": {
    "execution": {
     "iopub.execute_input": "2022-03-30T17:28:05.122432Z",
     "iopub.status.busy": "2022-03-30T17:28:05.121931Z",
     "iopub.status.idle": "2022-03-30T17:28:05.138707Z",
     "shell.execute_reply": "2022-03-30T17:28:05.13777Z",
     "shell.execute_reply.started": "2022-03-30T17:28:05.122385Z"
    }
   },
   "outputs": [
    {
     "data": {
      "text/html": [
       "<div>\n",
       "<style scoped>\n",
       "    .dataframe tbody tr th:only-of-type {\n",
       "        vertical-align: middle;\n",
       "    }\n",
       "\n",
       "    .dataframe tbody tr th {\n",
       "        vertical-align: top;\n",
       "    }\n",
       "\n",
       "    .dataframe thead th {\n",
       "        text-align: right;\n",
       "    }\n",
       "</style>\n",
       "<table border=\"1\" class=\"dataframe\">\n",
       "  <thead>\n",
       "    <tr style=\"text-align: right;\">\n",
       "      <th></th>\n",
       "      <th>pintu_air_id</th>\n",
       "      <th>nama_pintu_air</th>\n",
       "      <th>ketinggian</th>\n",
       "      <th>jam_laporan</th>\n",
       "      <th>updated_at</th>\n",
       "    </tr>\n",
       "  </thead>\n",
       "  <tbody>\n",
       "    <tr>\n",
       "      <th>0</th>\n",
       "      <td>4</td>\n",
       "      <td>Cideng Tarakan</td>\n",
       "      <td>0</td>\n",
       "      <td>3:00:00</td>\n",
       "      <td>11/16/2021 20:37</td>\n",
       "    </tr>\n",
       "    <tr>\n",
       "      <th>1</th>\n",
       "      <td>12</td>\n",
       "      <td>Pasar Ikan - Laut</td>\n",
       "      <td>190</td>\n",
       "      <td>3:00:00</td>\n",
       "      <td>11/16/2021 20:43</td>\n",
       "    </tr>\n",
       "    <tr>\n",
       "      <th>2</th>\n",
       "      <td>4</td>\n",
       "      <td>Cideng Tarakan</td>\n",
       "      <td>0</td>\n",
       "      <td>4:00:00</td>\n",
       "      <td>11/16/2021 20:43</td>\n",
       "    </tr>\n",
       "    <tr>\n",
       "      <th>3</th>\n",
       "      <td>15</td>\n",
       "      <td>Istiqlal</td>\n",
       "      <td>160</td>\n",
       "      <td>3:00:00</td>\n",
       "      <td>11/16/2021 20:44</td>\n",
       "    </tr>\n",
       "    <tr>\n",
       "      <th>4</th>\n",
       "      <td>6</td>\n",
       "      <td>Manggarai BKB</td>\n",
       "      <td>580</td>\n",
       "      <td>3:00:00</td>\n",
       "      <td>11/16/2021 20:45</td>\n",
       "    </tr>\n",
       "    <tr>\n",
       "      <th>5</th>\n",
       "      <td>7</td>\n",
       "      <td>Manggarai KCL</td>\n",
       "      <td>550</td>\n",
       "      <td>3:00:00</td>\n",
       "      <td>11/16/2021 20:46</td>\n",
       "    </tr>\n",
       "    <tr>\n",
       "      <th>6</th>\n",
       "      <td>5</td>\n",
       "      <td>PA. Karet</td>\n",
       "      <td>250</td>\n",
       "      <td>3:00:00</td>\n",
       "      <td>11/16/2021 20:49</td>\n",
       "    </tr>\n",
       "    <tr>\n",
       "      <th>7</th>\n",
       "      <td>14</td>\n",
       "      <td>PA. Marina</td>\n",
       "      <td>187</td>\n",
       "      <td>3:00:00</td>\n",
       "      <td>11/16/2021 20:49</td>\n",
       "    </tr>\n",
       "    <tr>\n",
       "      <th>8</th>\n",
       "      <td>13</td>\n",
       "      <td>Ancol Flushing</td>\n",
       "      <td>188</td>\n",
       "      <td>3:00:00</td>\n",
       "      <td>11/16/2021 20:49</td>\n",
       "    </tr>\n",
       "    <tr>\n",
       "      <th>9</th>\n",
       "      <td>16</td>\n",
       "      <td>Jembatan Merah arah Marina</td>\n",
       "      <td>130</td>\n",
       "      <td>3:00:00</td>\n",
       "      <td>11/16/2021 20:52</td>\n",
       "    </tr>\n",
       "  </tbody>\n",
       "</table>\n",
       "</div>"
      ],
      "text/plain": [
       "   pintu_air_id              nama_pintu_air ketinggian jam_laporan  \\\n",
       "0             4              Cideng Tarakan          0     3:00:00   \n",
       "1            12           Pasar Ikan - Laut        190     3:00:00   \n",
       "2             4              Cideng Tarakan          0     4:00:00   \n",
       "3            15                    Istiqlal        160     3:00:00   \n",
       "4             6               Manggarai BKB        580     3:00:00   \n",
       "5             7               Manggarai KCL        550     3:00:00   \n",
       "6             5                   PA. Karet        250     3:00:00   \n",
       "7            14                  PA. Marina        187     3:00:00   \n",
       "8            13              Ancol Flushing        188     3:00:00   \n",
       "9            16  Jembatan Merah arah Marina        130     3:00:00   \n",
       "\n",
       "         updated_at  \n",
       "0  11/16/2021 20:37  \n",
       "1  11/16/2021 20:43  \n",
       "2  11/16/2021 20:43  \n",
       "3  11/16/2021 20:44  \n",
       "4  11/16/2021 20:45  \n",
       "5  11/16/2021 20:46  \n",
       "6  11/16/2021 20:49  \n",
       "7  11/16/2021 20:49  \n",
       "8  11/16/2021 20:49  \n",
       "9  11/16/2021 20:52  "
      ]
     },
     "execution_count": 6,
     "metadata": {},
     "output_type": "execute_result"
    }
   ],
   "source": [
    "df_tma = df_tma[['pintu_air_id','nama_pintu_air','ketinggian','jam_laporan','updated_at']]\n",
    "df_tma.head(10)"
   ]
  },
  {
   "cell_type": "code",
   "execution_count": 7,
   "metadata": {
    "execution": {
     "iopub.execute_input": "2022-03-30T17:28:05.14077Z",
     "iopub.status.busy": "2022-03-30T17:28:05.140425Z",
     "iopub.status.idle": "2022-03-30T17:28:08.199369Z",
     "shell.execute_reply": "2022-03-30T17:28:08.198559Z",
     "shell.execute_reply.started": "2022-03-30T17:28:05.140707Z"
    }
   },
   "outputs": [
    {
     "data": {
      "text/html": [
       "<div>\n",
       "<style scoped>\n",
       "    .dataframe tbody tr th:only-of-type {\n",
       "        vertical-align: middle;\n",
       "    }\n",
       "\n",
       "    .dataframe tbody tr th {\n",
       "        vertical-align: top;\n",
       "    }\n",
       "\n",
       "    .dataframe thead th {\n",
       "        text-align: right;\n",
       "    }\n",
       "</style>\n",
       "<table border=\"1\" class=\"dataframe\">\n",
       "  <thead>\n",
       "    <tr style=\"text-align: right;\">\n",
       "      <th></th>\n",
       "      <th>pintu_air_id</th>\n",
       "      <th>nama_pintu_air</th>\n",
       "      <th>ketinggian</th>\n",
       "      <th>jam_laporan</th>\n",
       "      <th>updated_at</th>\n",
       "    </tr>\n",
       "  </thead>\n",
       "  <tbody>\n",
       "    <tr>\n",
       "      <th>0</th>\n",
       "      <td>4</td>\n",
       "      <td>Cideng Tarakan</td>\n",
       "      <td>0</td>\n",
       "      <td>3:00:00</td>\n",
       "      <td>2021-11-16</td>\n",
       "    </tr>\n",
       "    <tr>\n",
       "      <th>1</th>\n",
       "      <td>12</td>\n",
       "      <td>Pasar Ikan - Laut</td>\n",
       "      <td>190</td>\n",
       "      <td>3:00:00</td>\n",
       "      <td>2021-11-16</td>\n",
       "    </tr>\n",
       "    <tr>\n",
       "      <th>2</th>\n",
       "      <td>4</td>\n",
       "      <td>Cideng Tarakan</td>\n",
       "      <td>0</td>\n",
       "      <td>4:00:00</td>\n",
       "      <td>2021-11-16</td>\n",
       "    </tr>\n",
       "    <tr>\n",
       "      <th>3</th>\n",
       "      <td>15</td>\n",
       "      <td>Istiqlal</td>\n",
       "      <td>160</td>\n",
       "      <td>3:00:00</td>\n",
       "      <td>2021-11-16</td>\n",
       "    </tr>\n",
       "    <tr>\n",
       "      <th>4</th>\n",
       "      <td>6</td>\n",
       "      <td>Manggarai BKB</td>\n",
       "      <td>580</td>\n",
       "      <td>3:00:00</td>\n",
       "      <td>2021-11-16</td>\n",
       "    </tr>\n",
       "    <tr>\n",
       "      <th>5</th>\n",
       "      <td>7</td>\n",
       "      <td>Manggarai KCL</td>\n",
       "      <td>550</td>\n",
       "      <td>3:00:00</td>\n",
       "      <td>2021-11-16</td>\n",
       "    </tr>\n",
       "    <tr>\n",
       "      <th>6</th>\n",
       "      <td>5</td>\n",
       "      <td>PA. Karet</td>\n",
       "      <td>250</td>\n",
       "      <td>3:00:00</td>\n",
       "      <td>2021-11-16</td>\n",
       "    </tr>\n",
       "    <tr>\n",
       "      <th>7</th>\n",
       "      <td>14</td>\n",
       "      <td>PA. Marina</td>\n",
       "      <td>187</td>\n",
       "      <td>3:00:00</td>\n",
       "      <td>2021-11-16</td>\n",
       "    </tr>\n",
       "    <tr>\n",
       "      <th>8</th>\n",
       "      <td>13</td>\n",
       "      <td>Ancol Flushing</td>\n",
       "      <td>188</td>\n",
       "      <td>3:00:00</td>\n",
       "      <td>2021-11-16</td>\n",
       "    </tr>\n",
       "    <tr>\n",
       "      <th>9</th>\n",
       "      <td>16</td>\n",
       "      <td>Jembatan Merah arah Marina</td>\n",
       "      <td>130</td>\n",
       "      <td>3:00:00</td>\n",
       "      <td>2021-11-16</td>\n",
       "    </tr>\n",
       "  </tbody>\n",
       "</table>\n",
       "</div>"
      ],
      "text/plain": [
       "   pintu_air_id              nama_pintu_air ketinggian jam_laporan  updated_at\n",
       "0             4              Cideng Tarakan          0     3:00:00  2021-11-16\n",
       "1            12           Pasar Ikan - Laut        190     3:00:00  2021-11-16\n",
       "2             4              Cideng Tarakan          0     4:00:00  2021-11-16\n",
       "3            15                    Istiqlal        160     3:00:00  2021-11-16\n",
       "4             6               Manggarai BKB        580     3:00:00  2021-11-16\n",
       "5             7               Manggarai KCL        550     3:00:00  2021-11-16\n",
       "6             5                   PA. Karet        250     3:00:00  2021-11-16\n",
       "7            14                  PA. Marina        187     3:00:00  2021-11-16\n",
       "8            13              Ancol Flushing        188     3:00:00  2021-11-16\n",
       "9            16  Jembatan Merah arah Marina        130     3:00:00  2021-11-16"
      ]
     },
     "execution_count": 7,
     "metadata": {},
     "output_type": "execute_result"
    }
   ],
   "source": [
    "df_tma['updated_at'] = pd.to_datetime(df_tma['updated_at']).dt.date\n",
    "df_tma.head(10)"
   ]
  },
  {
   "cell_type": "code",
   "execution_count": 8,
   "metadata": {
    "execution": {
     "iopub.execute_input": "2022-03-30T17:28:08.202614Z",
     "iopub.status.busy": "2022-03-30T17:28:08.202133Z",
     "iopub.status.idle": "2022-03-30T17:28:08.216547Z",
     "shell.execute_reply": "2022-03-30T17:28:08.215948Z",
     "shell.execute_reply.started": "2022-03-30T17:28:08.202565Z"
    }
   },
   "outputs": [
    {
     "data": {
      "text/html": [
       "<div>\n",
       "<style scoped>\n",
       "    .dataframe tbody tr th:only-of-type {\n",
       "        vertical-align: middle;\n",
       "    }\n",
       "\n",
       "    .dataframe tbody tr th {\n",
       "        vertical-align: top;\n",
       "    }\n",
       "\n",
       "    .dataframe thead th {\n",
       "        text-align: right;\n",
       "    }\n",
       "</style>\n",
       "<table border=\"1\" class=\"dataframe\">\n",
       "  <thead>\n",
       "    <tr style=\"text-align: right;\">\n",
       "      <th></th>\n",
       "      <th>pintu_air_id</th>\n",
       "      <th>nama_pintu_air</th>\n",
       "      <th>ketinggian</th>\n",
       "      <th>jam_laporan</th>\n",
       "      <th>tanggal</th>\n",
       "    </tr>\n",
       "  </thead>\n",
       "  <tbody>\n",
       "    <tr>\n",
       "      <th>0</th>\n",
       "      <td>4</td>\n",
       "      <td>Cideng Tarakan</td>\n",
       "      <td>0</td>\n",
       "      <td>3:00:00</td>\n",
       "      <td>2021-11-16</td>\n",
       "    </tr>\n",
       "    <tr>\n",
       "      <th>1</th>\n",
       "      <td>12</td>\n",
       "      <td>Pasar Ikan - Laut</td>\n",
       "      <td>190</td>\n",
       "      <td>3:00:00</td>\n",
       "      <td>2021-11-16</td>\n",
       "    </tr>\n",
       "    <tr>\n",
       "      <th>2</th>\n",
       "      <td>4</td>\n",
       "      <td>Cideng Tarakan</td>\n",
       "      <td>0</td>\n",
       "      <td>4:00:00</td>\n",
       "      <td>2021-11-16</td>\n",
       "    </tr>\n",
       "    <tr>\n",
       "      <th>3</th>\n",
       "      <td>15</td>\n",
       "      <td>Istiqlal</td>\n",
       "      <td>160</td>\n",
       "      <td>3:00:00</td>\n",
       "      <td>2021-11-16</td>\n",
       "    </tr>\n",
       "    <tr>\n",
       "      <th>4</th>\n",
       "      <td>6</td>\n",
       "      <td>Manggarai BKB</td>\n",
       "      <td>580</td>\n",
       "      <td>3:00:00</td>\n",
       "      <td>2021-11-16</td>\n",
       "    </tr>\n",
       "    <tr>\n",
       "      <th>5</th>\n",
       "      <td>7</td>\n",
       "      <td>Manggarai KCL</td>\n",
       "      <td>550</td>\n",
       "      <td>3:00:00</td>\n",
       "      <td>2021-11-16</td>\n",
       "    </tr>\n",
       "    <tr>\n",
       "      <th>6</th>\n",
       "      <td>5</td>\n",
       "      <td>PA. Karet</td>\n",
       "      <td>250</td>\n",
       "      <td>3:00:00</td>\n",
       "      <td>2021-11-16</td>\n",
       "    </tr>\n",
       "    <tr>\n",
       "      <th>7</th>\n",
       "      <td>14</td>\n",
       "      <td>PA. Marina</td>\n",
       "      <td>187</td>\n",
       "      <td>3:00:00</td>\n",
       "      <td>2021-11-16</td>\n",
       "    </tr>\n",
       "    <tr>\n",
       "      <th>8</th>\n",
       "      <td>13</td>\n",
       "      <td>Ancol Flushing</td>\n",
       "      <td>188</td>\n",
       "      <td>3:00:00</td>\n",
       "      <td>2021-11-16</td>\n",
       "    </tr>\n",
       "    <tr>\n",
       "      <th>9</th>\n",
       "      <td>16</td>\n",
       "      <td>Jembatan Merah arah Marina</td>\n",
       "      <td>130</td>\n",
       "      <td>3:00:00</td>\n",
       "      <td>2021-11-16</td>\n",
       "    </tr>\n",
       "  </tbody>\n",
       "</table>\n",
       "</div>"
      ],
      "text/plain": [
       "   pintu_air_id              nama_pintu_air ketinggian jam_laporan     tanggal\n",
       "0             4              Cideng Tarakan          0     3:00:00  2021-11-16\n",
       "1            12           Pasar Ikan - Laut        190     3:00:00  2021-11-16\n",
       "2             4              Cideng Tarakan          0     4:00:00  2021-11-16\n",
       "3            15                    Istiqlal        160     3:00:00  2021-11-16\n",
       "4             6               Manggarai BKB        580     3:00:00  2021-11-16\n",
       "5             7               Manggarai KCL        550     3:00:00  2021-11-16\n",
       "6             5                   PA. Karet        250     3:00:00  2021-11-16\n",
       "7            14                  PA. Marina        187     3:00:00  2021-11-16\n",
       "8            13              Ancol Flushing        188     3:00:00  2021-11-16\n",
       "9            16  Jembatan Merah arah Marina        130     3:00:00  2021-11-16"
      ]
     },
     "execution_count": 8,
     "metadata": {},
     "output_type": "execute_result"
    }
   ],
   "source": [
    "df_tma = df_tma.rename(columns={'updated_at': 'tanggal'})\n",
    "df_tma.head(10)"
   ]
  },
  {
   "cell_type": "code",
   "execution_count": 9,
   "metadata": {
    "execution": {
     "iopub.execute_input": "2022-03-30T17:28:08.217886Z",
     "iopub.status.busy": "2022-03-30T17:28:08.2176Z",
     "iopub.status.idle": "2022-03-30T17:28:08.473907Z",
     "shell.execute_reply": "2022-03-30T17:28:08.473014Z",
     "shell.execute_reply.started": "2022-03-30T17:28:08.217855Z"
    }
   },
   "outputs": [
    {
     "data": {
      "text/html": [
       "<div>\n",
       "<style scoped>\n",
       "    .dataframe tbody tr th:only-of-type {\n",
       "        vertical-align: middle;\n",
       "    }\n",
       "\n",
       "    .dataframe tbody tr th {\n",
       "        vertical-align: top;\n",
       "    }\n",
       "\n",
       "    .dataframe thead th {\n",
       "        text-align: right;\n",
       "    }\n",
       "</style>\n",
       "<table border=\"1\" class=\"dataframe\">\n",
       "  <thead>\n",
       "    <tr style=\"text-align: right;\">\n",
       "      <th></th>\n",
       "      <th>pintu_air_id</th>\n",
       "      <th>nama_pintu_air</th>\n",
       "      <th>ketinggian</th>\n",
       "      <th>jam_laporan</th>\n",
       "      <th>tanggal</th>\n",
       "    </tr>\n",
       "  </thead>\n",
       "  <tbody>\n",
       "    <tr>\n",
       "      <th>0</th>\n",
       "      <td>4</td>\n",
       "      <td>Cideng Tarakan</td>\n",
       "      <td>0</td>\n",
       "      <td>03:00</td>\n",
       "      <td>2021-11-16</td>\n",
       "    </tr>\n",
       "    <tr>\n",
       "      <th>1</th>\n",
       "      <td>12</td>\n",
       "      <td>Pasar Ikan - Laut</td>\n",
       "      <td>190</td>\n",
       "      <td>03:00</td>\n",
       "      <td>2021-11-16</td>\n",
       "    </tr>\n",
       "    <tr>\n",
       "      <th>2</th>\n",
       "      <td>4</td>\n",
       "      <td>Cideng Tarakan</td>\n",
       "      <td>0</td>\n",
       "      <td>04:00</td>\n",
       "      <td>2021-11-16</td>\n",
       "    </tr>\n",
       "    <tr>\n",
       "      <th>3</th>\n",
       "      <td>15</td>\n",
       "      <td>Istiqlal</td>\n",
       "      <td>160</td>\n",
       "      <td>03:00</td>\n",
       "      <td>2021-11-16</td>\n",
       "    </tr>\n",
       "    <tr>\n",
       "      <th>4</th>\n",
       "      <td>6</td>\n",
       "      <td>Manggarai BKB</td>\n",
       "      <td>580</td>\n",
       "      <td>03:00</td>\n",
       "      <td>2021-11-16</td>\n",
       "    </tr>\n",
       "    <tr>\n",
       "      <th>5</th>\n",
       "      <td>7</td>\n",
       "      <td>Manggarai KCL</td>\n",
       "      <td>550</td>\n",
       "      <td>03:00</td>\n",
       "      <td>2021-11-16</td>\n",
       "    </tr>\n",
       "    <tr>\n",
       "      <th>6</th>\n",
       "      <td>5</td>\n",
       "      <td>PA. Karet</td>\n",
       "      <td>250</td>\n",
       "      <td>03:00</td>\n",
       "      <td>2021-11-16</td>\n",
       "    </tr>\n",
       "    <tr>\n",
       "      <th>7</th>\n",
       "      <td>14</td>\n",
       "      <td>PA. Marina</td>\n",
       "      <td>187</td>\n",
       "      <td>03:00</td>\n",
       "      <td>2021-11-16</td>\n",
       "    </tr>\n",
       "    <tr>\n",
       "      <th>8</th>\n",
       "      <td>13</td>\n",
       "      <td>Ancol Flushing</td>\n",
       "      <td>188</td>\n",
       "      <td>03:00</td>\n",
       "      <td>2021-11-16</td>\n",
       "    </tr>\n",
       "    <tr>\n",
       "      <th>9</th>\n",
       "      <td>16</td>\n",
       "      <td>Jembatan Merah arah Marina</td>\n",
       "      <td>130</td>\n",
       "      <td>03:00</td>\n",
       "      <td>2021-11-16</td>\n",
       "    </tr>\n",
       "  </tbody>\n",
       "</table>\n",
       "</div>"
      ],
      "text/plain": [
       "   pintu_air_id              nama_pintu_air ketinggian jam_laporan     tanggal\n",
       "0             4              Cideng Tarakan          0       03:00  2021-11-16\n",
       "1            12           Pasar Ikan - Laut        190       03:00  2021-11-16\n",
       "2             4              Cideng Tarakan          0       04:00  2021-11-16\n",
       "3            15                    Istiqlal        160       03:00  2021-11-16\n",
       "4             6               Manggarai BKB        580       03:00  2021-11-16\n",
       "5             7               Manggarai KCL        550       03:00  2021-11-16\n",
       "6             5                   PA. Karet        250       03:00  2021-11-16\n",
       "7            14                  PA. Marina        187       03:00  2021-11-16\n",
       "8            13              Ancol Flushing        188       03:00  2021-11-16\n",
       "9            16  Jembatan Merah arah Marina        130       03:00  2021-11-16"
      ]
     },
     "execution_count": 9,
     "metadata": {},
     "output_type": "execute_result"
    }
   ],
   "source": [
    "df_tma['jam_laporan'] = pd.to_datetime(df_tma.jam_laporan).dt.strftime('%H:%M')\n",
    "df_tma.head(10)"
   ]
  },
  {
   "cell_type": "code",
   "execution_count": 10,
   "metadata": {
    "execution": {
     "iopub.execute_input": "2022-03-30T17:28:08.475925Z",
     "iopub.status.busy": "2022-03-30T17:28:08.475176Z",
     "iopub.status.idle": "2022-03-30T17:28:08.495503Z",
     "shell.execute_reply": "2022-03-30T17:28:08.494841Z",
     "shell.execute_reply.started": "2022-03-30T17:28:08.475887Z"
    }
   },
   "outputs": [
    {
     "data": {
      "text/html": [
       "<div>\n",
       "<style scoped>\n",
       "    .dataframe tbody tr th:only-of-type {\n",
       "        vertical-align: middle;\n",
       "    }\n",
       "\n",
       "    .dataframe tbody tr th {\n",
       "        vertical-align: top;\n",
       "    }\n",
       "\n",
       "    .dataframe thead th {\n",
       "        text-align: right;\n",
       "    }\n",
       "</style>\n",
       "<table border=\"1\" class=\"dataframe\">\n",
       "  <thead>\n",
       "    <tr style=\"text-align: right;\">\n",
       "      <th></th>\n",
       "      <th>pintu_air_id</th>\n",
       "      <th>nama_pintu_air</th>\n",
       "      <th>ketinggian</th>\n",
       "      <th>jam_laporan</th>\n",
       "      <th>tanggal</th>\n",
       "    </tr>\n",
       "  </thead>\n",
       "  <tbody>\n",
       "    <tr>\n",
       "      <th>0</th>\n",
       "      <td>4</td>\n",
       "      <td>Cideng Tarakan</td>\n",
       "      <td>0</td>\n",
       "      <td>03:00</td>\n",
       "      <td>2021-11-16</td>\n",
       "    </tr>\n",
       "    <tr>\n",
       "      <th>2</th>\n",
       "      <td>4</td>\n",
       "      <td>Cideng Tarakan</td>\n",
       "      <td>0</td>\n",
       "      <td>04:00</td>\n",
       "      <td>2021-11-16</td>\n",
       "    </tr>\n",
       "    <tr>\n",
       "      <th>3</th>\n",
       "      <td>15</td>\n",
       "      <td>Istiqlal</td>\n",
       "      <td>160</td>\n",
       "      <td>03:00</td>\n",
       "      <td>2021-11-16</td>\n",
       "    </tr>\n",
       "    <tr>\n",
       "      <th>4</th>\n",
       "      <td>6</td>\n",
       "      <td>Manggarai BKB</td>\n",
       "      <td>580</td>\n",
       "      <td>03:00</td>\n",
       "      <td>2021-11-16</td>\n",
       "    </tr>\n",
       "    <tr>\n",
       "      <th>5</th>\n",
       "      <td>7</td>\n",
       "      <td>Manggarai KCL</td>\n",
       "      <td>550</td>\n",
       "      <td>03:00</td>\n",
       "      <td>2021-11-16</td>\n",
       "    </tr>\n",
       "    <tr>\n",
       "      <th>6</th>\n",
       "      <td>5</td>\n",
       "      <td>PA. Karet</td>\n",
       "      <td>250</td>\n",
       "      <td>03:00</td>\n",
       "      <td>2021-11-16</td>\n",
       "    </tr>\n",
       "    <tr>\n",
       "      <th>9</th>\n",
       "      <td>16</td>\n",
       "      <td>Jembatan Merah arah Marina</td>\n",
       "      <td>130</td>\n",
       "      <td>03:00</td>\n",
       "      <td>2021-11-16</td>\n",
       "    </tr>\n",
       "    <tr>\n",
       "      <th>10</th>\n",
       "      <td>19</td>\n",
       "      <td>Jembatan Merah arah Husada</td>\n",
       "      <td>130</td>\n",
       "      <td>03:00</td>\n",
       "      <td>2021-11-16</td>\n",
       "    </tr>\n",
       "    <tr>\n",
       "      <th>18</th>\n",
       "      <td>6</td>\n",
       "      <td>Manggarai BKB</td>\n",
       "      <td>195</td>\n",
       "      <td>04:00</td>\n",
       "      <td>2021-11-16</td>\n",
       "    </tr>\n",
       "    <tr>\n",
       "      <th>21</th>\n",
       "      <td>6</td>\n",
       "      <td>Manggarai BKB</td>\n",
       "      <td>580</td>\n",
       "      <td>04:00</td>\n",
       "      <td>2021-11-16</td>\n",
       "    </tr>\n",
       "    <tr>\n",
       "      <th>22</th>\n",
       "      <td>7</td>\n",
       "      <td>Manggarai KCL</td>\n",
       "      <td>550</td>\n",
       "      <td>04:00</td>\n",
       "      <td>2021-11-16</td>\n",
       "    </tr>\n",
       "    <tr>\n",
       "      <th>24</th>\n",
       "      <td>15</td>\n",
       "      <td>Istiqlal</td>\n",
       "      <td>160</td>\n",
       "      <td>04:00</td>\n",
       "      <td>2021-11-16</td>\n",
       "    </tr>\n",
       "    <tr>\n",
       "      <th>25</th>\n",
       "      <td>5</td>\n",
       "      <td>PA. Karet</td>\n",
       "      <td>250</td>\n",
       "      <td>04:00</td>\n",
       "      <td>2021-11-16</td>\n",
       "    </tr>\n",
       "    <tr>\n",
       "      <th>27</th>\n",
       "      <td>16</td>\n",
       "      <td>Jembatan Merah arah Marina</td>\n",
       "      <td>135</td>\n",
       "      <td>04:00</td>\n",
       "      <td>2021-11-16</td>\n",
       "    </tr>\n",
       "    <tr>\n",
       "      <th>28</th>\n",
       "      <td>19</td>\n",
       "      <td>Jembatan Merah arah Husada</td>\n",
       "      <td>135</td>\n",
       "      <td>04:00</td>\n",
       "      <td>2021-11-16</td>\n",
       "    </tr>\n",
       "    <tr>\n",
       "      <th>29</th>\n",
       "      <td>4</td>\n",
       "      <td>Cideng Tarakan</td>\n",
       "      <td>0</td>\n",
       "      <td>05:00</td>\n",
       "      <td>2021-11-16</td>\n",
       "    </tr>\n",
       "    <tr>\n",
       "      <th>32</th>\n",
       "      <td>16</td>\n",
       "      <td>Jembatan Merah arah Marina</td>\n",
       "      <td>140</td>\n",
       "      <td>05:00</td>\n",
       "      <td>2021-11-16</td>\n",
       "    </tr>\n",
       "    <tr>\n",
       "      <th>33</th>\n",
       "      <td>19</td>\n",
       "      <td>Jembatan Merah arah Husada</td>\n",
       "      <td>140</td>\n",
       "      <td>05:00</td>\n",
       "      <td>2021-11-16</td>\n",
       "    </tr>\n",
       "    <tr>\n",
       "      <th>36</th>\n",
       "      <td>5</td>\n",
       "      <td>PA. Karet</td>\n",
       "      <td>250</td>\n",
       "      <td>05:00</td>\n",
       "      <td>2021-11-16</td>\n",
       "    </tr>\n",
       "    <tr>\n",
       "      <th>37</th>\n",
       "      <td>15</td>\n",
       "      <td>Istiqlal</td>\n",
       "      <td>160</td>\n",
       "      <td>05:00</td>\n",
       "      <td>2021-11-16</td>\n",
       "    </tr>\n",
       "  </tbody>\n",
       "</table>\n",
       "</div>"
      ],
      "text/plain": [
       "    pintu_air_id              nama_pintu_air ketinggian jam_laporan  \\\n",
       "0              4              Cideng Tarakan          0       03:00   \n",
       "2              4              Cideng Tarakan          0       04:00   \n",
       "3             15                    Istiqlal        160       03:00   \n",
       "4              6               Manggarai BKB        580       03:00   \n",
       "5              7               Manggarai KCL        550       03:00   \n",
       "6              5                   PA. Karet        250       03:00   \n",
       "9             16  Jembatan Merah arah Marina        130       03:00   \n",
       "10            19  Jembatan Merah arah Husada        130       03:00   \n",
       "18             6               Manggarai BKB        195       04:00   \n",
       "21             6               Manggarai BKB        580       04:00   \n",
       "22             7               Manggarai KCL        550       04:00   \n",
       "24            15                    Istiqlal        160       04:00   \n",
       "25             5                   PA. Karet        250       04:00   \n",
       "27            16  Jembatan Merah arah Marina        135       04:00   \n",
       "28            19  Jembatan Merah arah Husada        135       04:00   \n",
       "29             4              Cideng Tarakan          0       05:00   \n",
       "32            16  Jembatan Merah arah Marina        140       05:00   \n",
       "33            19  Jembatan Merah arah Husada        140       05:00   \n",
       "36             5                   PA. Karet        250       05:00   \n",
       "37            15                    Istiqlal        160       05:00   \n",
       "\n",
       "       tanggal  \n",
       "0   2021-11-16  \n",
       "2   2021-11-16  \n",
       "3   2021-11-16  \n",
       "4   2021-11-16  \n",
       "5   2021-11-16  \n",
       "6   2021-11-16  \n",
       "9   2021-11-16  \n",
       "10  2021-11-16  \n",
       "18  2021-11-16  \n",
       "21  2021-11-16  \n",
       "22  2021-11-16  \n",
       "24  2021-11-16  \n",
       "25  2021-11-16  \n",
       "27  2021-11-16  \n",
       "28  2021-11-16  \n",
       "29  2021-11-16  \n",
       "32  2021-11-16  \n",
       "33  2021-11-16  \n",
       "36  2021-11-16  \n",
       "37  2021-11-16  "
      ]
     },
     "execution_count": 10,
     "metadata": {},
     "output_type": "execute_result"
    }
   ],
   "source": [
    "df_tma_jakpus = df_tma.loc[(df_tma['pintu_air_id'] == 4) | (df_tma['pintu_air_id'] == 5) |\n",
    "                           (df_tma['pintu_air_id'] == 6) | (df_tma['pintu_air_id'] == 7) |\n",
    "                           (df_tma['pintu_air_id'] == 15) | (df_tma['pintu_air_id'] == 16) |\n",
    "                           (df_tma['pintu_air_id'] == 19)]\n",
    "df_tma_jakpus.head(20)"
   ]
  },
  {
   "cell_type": "code",
   "execution_count": 11,
   "metadata": {
    "execution": {
     "iopub.execute_input": "2022-03-30T17:28:08.497083Z",
     "iopub.status.busy": "2022-03-30T17:28:08.496721Z",
     "iopub.status.idle": "2022-03-30T17:28:08.511857Z",
     "shell.execute_reply": "2022-03-30T17:28:08.511021Z",
     "shell.execute_reply.started": "2022-03-30T17:28:08.497053Z"
    }
   },
   "outputs": [
    {
     "data": {
      "text/html": [
       "<div>\n",
       "<style scoped>\n",
       "    .dataframe tbody tr th:only-of-type {\n",
       "        vertical-align: middle;\n",
       "    }\n",
       "\n",
       "    .dataframe tbody tr th {\n",
       "        vertical-align: top;\n",
       "    }\n",
       "\n",
       "    .dataframe thead th {\n",
       "        text-align: right;\n",
       "    }\n",
       "</style>\n",
       "<table border=\"1\" class=\"dataframe\">\n",
       "  <thead>\n",
       "    <tr style=\"text-align: right;\">\n",
       "      <th></th>\n",
       "      <th>pintu_air_id</th>\n",
       "      <th>nama_pintu_air</th>\n",
       "      <th>ketinggian</th>\n",
       "      <th>jam_laporan</th>\n",
       "      <th>tanggal</th>\n",
       "    </tr>\n",
       "  </thead>\n",
       "  <tbody>\n",
       "    <tr>\n",
       "      <th>6</th>\n",
       "      <td>5</td>\n",
       "      <td>PA. Karet</td>\n",
       "      <td>250</td>\n",
       "      <td>03:00</td>\n",
       "      <td>2021-11-16</td>\n",
       "    </tr>\n",
       "    <tr>\n",
       "      <th>25</th>\n",
       "      <td>5</td>\n",
       "      <td>PA. Karet</td>\n",
       "      <td>250</td>\n",
       "      <td>04:00</td>\n",
       "      <td>2021-11-16</td>\n",
       "    </tr>\n",
       "    <tr>\n",
       "      <th>36</th>\n",
       "      <td>5</td>\n",
       "      <td>PA. Karet</td>\n",
       "      <td>250</td>\n",
       "      <td>05:00</td>\n",
       "      <td>2021-11-16</td>\n",
       "    </tr>\n",
       "    <tr>\n",
       "      <th>58</th>\n",
       "      <td>5</td>\n",
       "      <td>PA. Karet</td>\n",
       "      <td>250</td>\n",
       "      <td>06:00</td>\n",
       "      <td>2021-11-16</td>\n",
       "    </tr>\n",
       "    <tr>\n",
       "      <th>71</th>\n",
       "      <td>5</td>\n",
       "      <td>PA. Karet</td>\n",
       "      <td>250</td>\n",
       "      <td>07:00</td>\n",
       "      <td>2021-11-16</td>\n",
       "    </tr>\n",
       "    <tr>\n",
       "      <th>72</th>\n",
       "      <td>5</td>\n",
       "      <td>PA. Karet</td>\n",
       "      <td>250</td>\n",
       "      <td>07:00</td>\n",
       "      <td>2021-11-16</td>\n",
       "    </tr>\n",
       "    <tr>\n",
       "      <th>93</th>\n",
       "      <td>5</td>\n",
       "      <td>PA. Karet</td>\n",
       "      <td>250</td>\n",
       "      <td>08:00</td>\n",
       "      <td>2021-11-17</td>\n",
       "    </tr>\n",
       "    <tr>\n",
       "      <th>102</th>\n",
       "      <td>5</td>\n",
       "      <td>PA. Karet</td>\n",
       "      <td>250</td>\n",
       "      <td>09:00</td>\n",
       "      <td>2021-11-17</td>\n",
       "    </tr>\n",
       "    <tr>\n",
       "      <th>120</th>\n",
       "      <td>5</td>\n",
       "      <td>PA. Karet</td>\n",
       "      <td>250</td>\n",
       "      <td>10:00</td>\n",
       "      <td>2021-11-17</td>\n",
       "    </tr>\n",
       "    <tr>\n",
       "      <th>126</th>\n",
       "      <td>5</td>\n",
       "      <td>PA. Karet</td>\n",
       "      <td>250</td>\n",
       "      <td>11:00</td>\n",
       "      <td>2021-11-17</td>\n",
       "    </tr>\n",
       "  </tbody>\n",
       "</table>\n",
       "</div>"
      ],
      "text/plain": [
       "     pintu_air_id nama_pintu_air ketinggian jam_laporan     tanggal\n",
       "6               5      PA. Karet        250       03:00  2021-11-16\n",
       "25              5      PA. Karet        250       04:00  2021-11-16\n",
       "36              5      PA. Karet        250       05:00  2021-11-16\n",
       "58              5      PA. Karet        250       06:00  2021-11-16\n",
       "71              5      PA. Karet        250       07:00  2021-11-16\n",
       "72              5      PA. Karet        250       07:00  2021-11-16\n",
       "93              5      PA. Karet        250       08:00  2021-11-17\n",
       "102             5      PA. Karet        250       09:00  2021-11-17\n",
       "120             5      PA. Karet        250       10:00  2021-11-17\n",
       "126             5      PA. Karet        250       11:00  2021-11-17"
      ]
     },
     "execution_count": 11,
     "metadata": {},
     "output_type": "execute_result"
    }
   ],
   "source": [
    "df_tma_kar = df_tma_jakpus.loc[(df_tma['pintu_air_id'] == 5)]\n",
    "df_tma_kar.head(10)"
   ]
  },
  {
   "cell_type": "code",
   "execution_count": 12,
   "metadata": {
    "execution": {
     "iopub.execute_input": "2022-03-30T17:28:08.514008Z",
     "iopub.status.busy": "2022-03-30T17:28:08.513485Z",
     "iopub.status.idle": "2022-03-30T17:28:08.523778Z",
     "shell.execute_reply": "2022-03-30T17:28:08.522808Z",
     "shell.execute_reply.started": "2022-03-30T17:28:08.513963Z"
    }
   },
   "outputs": [
    {
     "name": "stderr",
     "output_type": "stream",
     "text": [
      "/tmp/wsuser/ipykernel_823/2856004157.py:1: SettingWithCopyWarning: \n",
      "A value is trying to be set on a copy of a slice from a DataFrame.\n",
      "Try using .loc[row_indexer,col_indexer] = value instead\n",
      "\n",
      "See the caveats in the documentation: https://pandas.pydata.org/pandas-docs/stable/user_guide/indexing.html#returning-a-view-versus-a-copy\n",
      "  df_tma_kar['tanggal'] = df_tma_kar['tanggal'].astype(str)\n"
     ]
    }
   ],
   "source": [
    "df_tma_kar['tanggal'] = df_tma_kar['tanggal'].astype(str)"
   ]
  },
  {
   "cell_type": "code",
   "execution_count": 13,
   "metadata": {
    "execution": {
     "iopub.execute_input": "2022-03-30T17:28:08.526037Z",
     "iopub.status.busy": "2022-03-30T17:28:08.525181Z",
     "iopub.status.idle": "2022-03-30T17:28:08.53983Z",
     "shell.execute_reply": "2022-03-30T17:28:08.538821Z",
     "shell.execute_reply.started": "2022-03-30T17:28:08.525986Z"
    }
   },
   "outputs": [
    {
     "name": "stderr",
     "output_type": "stream",
     "text": [
      "/tmp/wsuser/ipykernel_823/2898601504.py:1: SettingWithCopyWarning: \n",
      "A value is trying to be set on a copy of a slice from a DataFrame.\n",
      "Try using .loc[row_indexer,col_indexer] = value instead\n",
      "\n",
      "See the caveats in the documentation: https://pandas.pydata.org/pandas-docs/stable/user_guide/indexing.html#returning-a-view-versus-a-copy\n",
      "  df_tma_kar['ketinggian'] = df_tma_kar['ketinggian'].astype(int)\n"
     ]
    }
   ],
   "source": [
    "df_tma_kar['ketinggian'] = df_tma_kar['ketinggian'].astype(int)"
   ]
  },
  {
   "cell_type": "code",
   "execution_count": 14,
   "metadata": {
    "execution": {
     "iopub.execute_input": "2022-03-30T17:28:08.542466Z",
     "iopub.status.busy": "2022-03-30T17:28:08.541861Z",
     "iopub.status.idle": "2022-03-30T17:28:08.665057Z",
     "shell.execute_reply": "2022-03-30T17:28:08.66413Z",
     "shell.execute_reply.started": "2022-03-30T17:28:08.542417Z"
    }
   },
   "outputs": [
    {
     "name": "stderr",
     "output_type": "stream",
     "text": [
      "/tmp/wsuser/ipykernel_823/3439665280.py:1: SettingWithCopyWarning: \n",
      "A value is trying to be set on a copy of a slice from a DataFrame.\n",
      "Try using .loc[row_indexer,col_indexer] = value instead\n",
      "\n",
      "See the caveats in the documentation: https://pandas.pydata.org/pandas-docs/stable/user_guide/indexing.html#returning-a-view-versus-a-copy\n",
      "  df_tma_kar['waktu'] = df_tma_kar[['tanggal','jam_laporan']].agg(' '.join,axis=1)\n"
     ]
    },
    {
     "data": {
      "text/html": [
       "<div>\n",
       "<style scoped>\n",
       "    .dataframe tbody tr th:only-of-type {\n",
       "        vertical-align: middle;\n",
       "    }\n",
       "\n",
       "    .dataframe tbody tr th {\n",
       "        vertical-align: top;\n",
       "    }\n",
       "\n",
       "    .dataframe thead th {\n",
       "        text-align: right;\n",
       "    }\n",
       "</style>\n",
       "<table border=\"1\" class=\"dataframe\">\n",
       "  <thead>\n",
       "    <tr style=\"text-align: right;\">\n",
       "      <th></th>\n",
       "      <th>pintu_air_id</th>\n",
       "      <th>nama_pintu_air</th>\n",
       "      <th>ketinggian</th>\n",
       "      <th>jam_laporan</th>\n",
       "      <th>tanggal</th>\n",
       "      <th>waktu</th>\n",
       "    </tr>\n",
       "  </thead>\n",
       "  <tbody>\n",
       "    <tr>\n",
       "      <th>6</th>\n",
       "      <td>5</td>\n",
       "      <td>PA. Karet</td>\n",
       "      <td>250</td>\n",
       "      <td>03:00</td>\n",
       "      <td>2021-11-16</td>\n",
       "      <td>2021-11-16 03:00</td>\n",
       "    </tr>\n",
       "    <tr>\n",
       "      <th>25</th>\n",
       "      <td>5</td>\n",
       "      <td>PA. Karet</td>\n",
       "      <td>250</td>\n",
       "      <td>04:00</td>\n",
       "      <td>2021-11-16</td>\n",
       "      <td>2021-11-16 04:00</td>\n",
       "    </tr>\n",
       "    <tr>\n",
       "      <th>36</th>\n",
       "      <td>5</td>\n",
       "      <td>PA. Karet</td>\n",
       "      <td>250</td>\n",
       "      <td>05:00</td>\n",
       "      <td>2021-11-16</td>\n",
       "      <td>2021-11-16 05:00</td>\n",
       "    </tr>\n",
       "    <tr>\n",
       "      <th>58</th>\n",
       "      <td>5</td>\n",
       "      <td>PA. Karet</td>\n",
       "      <td>250</td>\n",
       "      <td>06:00</td>\n",
       "      <td>2021-11-16</td>\n",
       "      <td>2021-11-16 06:00</td>\n",
       "    </tr>\n",
       "    <tr>\n",
       "      <th>71</th>\n",
       "      <td>5</td>\n",
       "      <td>PA. Karet</td>\n",
       "      <td>250</td>\n",
       "      <td>07:00</td>\n",
       "      <td>2021-11-16</td>\n",
       "      <td>2021-11-16 07:00</td>\n",
       "    </tr>\n",
       "    <tr>\n",
       "      <th>72</th>\n",
       "      <td>5</td>\n",
       "      <td>PA. Karet</td>\n",
       "      <td>250</td>\n",
       "      <td>07:00</td>\n",
       "      <td>2021-11-16</td>\n",
       "      <td>2021-11-16 07:00</td>\n",
       "    </tr>\n",
       "    <tr>\n",
       "      <th>93</th>\n",
       "      <td>5</td>\n",
       "      <td>PA. Karet</td>\n",
       "      <td>250</td>\n",
       "      <td>08:00</td>\n",
       "      <td>2021-11-17</td>\n",
       "      <td>2021-11-17 08:00</td>\n",
       "    </tr>\n",
       "    <tr>\n",
       "      <th>102</th>\n",
       "      <td>5</td>\n",
       "      <td>PA. Karet</td>\n",
       "      <td>250</td>\n",
       "      <td>09:00</td>\n",
       "      <td>2021-11-17</td>\n",
       "      <td>2021-11-17 09:00</td>\n",
       "    </tr>\n",
       "    <tr>\n",
       "      <th>120</th>\n",
       "      <td>5</td>\n",
       "      <td>PA. Karet</td>\n",
       "      <td>250</td>\n",
       "      <td>10:00</td>\n",
       "      <td>2021-11-17</td>\n",
       "      <td>2021-11-17 10:00</td>\n",
       "    </tr>\n",
       "    <tr>\n",
       "      <th>126</th>\n",
       "      <td>5</td>\n",
       "      <td>PA. Karet</td>\n",
       "      <td>250</td>\n",
       "      <td>11:00</td>\n",
       "      <td>2021-11-17</td>\n",
       "      <td>2021-11-17 11:00</td>\n",
       "    </tr>\n",
       "  </tbody>\n",
       "</table>\n",
       "</div>"
      ],
      "text/plain": [
       "     pintu_air_id nama_pintu_air  ketinggian jam_laporan     tanggal  \\\n",
       "6               5      PA. Karet         250       03:00  2021-11-16   \n",
       "25              5      PA. Karet         250       04:00  2021-11-16   \n",
       "36              5      PA. Karet         250       05:00  2021-11-16   \n",
       "58              5      PA. Karet         250       06:00  2021-11-16   \n",
       "71              5      PA. Karet         250       07:00  2021-11-16   \n",
       "72              5      PA. Karet         250       07:00  2021-11-16   \n",
       "93              5      PA. Karet         250       08:00  2021-11-17   \n",
       "102             5      PA. Karet         250       09:00  2021-11-17   \n",
       "120             5      PA. Karet         250       10:00  2021-11-17   \n",
       "126             5      PA. Karet         250       11:00  2021-11-17   \n",
       "\n",
       "                waktu  \n",
       "6    2021-11-16 03:00  \n",
       "25   2021-11-16 04:00  \n",
       "36   2021-11-16 05:00  \n",
       "58   2021-11-16 06:00  \n",
       "71   2021-11-16 07:00  \n",
       "72   2021-11-16 07:00  \n",
       "93   2021-11-17 08:00  \n",
       "102  2021-11-17 09:00  \n",
       "120  2021-11-17 10:00  \n",
       "126  2021-11-17 11:00  "
      ]
     },
     "execution_count": 14,
     "metadata": {},
     "output_type": "execute_result"
    }
   ],
   "source": [
    "df_tma_kar['waktu'] = df_tma_kar[['tanggal','jam_laporan']].agg(' '.join,axis=1)\n",
    "df_tma_kar.head(10)"
   ]
  },
  {
   "cell_type": "code",
   "execution_count": 15,
   "metadata": {
    "execution": {
     "iopub.execute_input": "2022-03-30T17:28:08.667078Z",
     "iopub.status.busy": "2022-03-30T17:28:08.666414Z",
     "iopub.status.idle": "2022-03-30T17:28:08.679994Z",
     "shell.execute_reply": "2022-03-30T17:28:08.678911Z",
     "shell.execute_reply.started": "2022-03-30T17:28:08.66703Z"
    }
   },
   "outputs": [
    {
     "data": {
      "text/html": [
       "<div>\n",
       "<style scoped>\n",
       "    .dataframe tbody tr th:only-of-type {\n",
       "        vertical-align: middle;\n",
       "    }\n",
       "\n",
       "    .dataframe tbody tr th {\n",
       "        vertical-align: top;\n",
       "    }\n",
       "\n",
       "    .dataframe thead th {\n",
       "        text-align: right;\n",
       "    }\n",
       "</style>\n",
       "<table border=\"1\" class=\"dataframe\">\n",
       "  <thead>\n",
       "    <tr style=\"text-align: right;\">\n",
       "      <th></th>\n",
       "      <th>waktu</th>\n",
       "      <th>ketinggian</th>\n",
       "    </tr>\n",
       "  </thead>\n",
       "  <tbody>\n",
       "    <tr>\n",
       "      <th>6</th>\n",
       "      <td>2021-11-16 03:00</td>\n",
       "      <td>250</td>\n",
       "    </tr>\n",
       "    <tr>\n",
       "      <th>25</th>\n",
       "      <td>2021-11-16 04:00</td>\n",
       "      <td>250</td>\n",
       "    </tr>\n",
       "    <tr>\n",
       "      <th>36</th>\n",
       "      <td>2021-11-16 05:00</td>\n",
       "      <td>250</td>\n",
       "    </tr>\n",
       "    <tr>\n",
       "      <th>58</th>\n",
       "      <td>2021-11-16 06:00</td>\n",
       "      <td>250</td>\n",
       "    </tr>\n",
       "    <tr>\n",
       "      <th>71</th>\n",
       "      <td>2021-11-16 07:00</td>\n",
       "      <td>250</td>\n",
       "    </tr>\n",
       "    <tr>\n",
       "      <th>72</th>\n",
       "      <td>2021-11-16 07:00</td>\n",
       "      <td>250</td>\n",
       "    </tr>\n",
       "    <tr>\n",
       "      <th>93</th>\n",
       "      <td>2021-11-17 08:00</td>\n",
       "      <td>250</td>\n",
       "    </tr>\n",
       "    <tr>\n",
       "      <th>102</th>\n",
       "      <td>2021-11-17 09:00</td>\n",
       "      <td>250</td>\n",
       "    </tr>\n",
       "    <tr>\n",
       "      <th>120</th>\n",
       "      <td>2021-11-17 10:00</td>\n",
       "      <td>250</td>\n",
       "    </tr>\n",
       "    <tr>\n",
       "      <th>126</th>\n",
       "      <td>2021-11-17 11:00</td>\n",
       "      <td>250</td>\n",
       "    </tr>\n",
       "  </tbody>\n",
       "</table>\n",
       "</div>"
      ],
      "text/plain": [
       "                waktu  ketinggian\n",
       "6    2021-11-16 03:00         250\n",
       "25   2021-11-16 04:00         250\n",
       "36   2021-11-16 05:00         250\n",
       "58   2021-11-16 06:00         250\n",
       "71   2021-11-16 07:00         250\n",
       "72   2021-11-16 07:00         250\n",
       "93   2021-11-17 08:00         250\n",
       "102  2021-11-17 09:00         250\n",
       "120  2021-11-17 10:00         250\n",
       "126  2021-11-17 11:00         250"
      ]
     },
     "execution_count": 15,
     "metadata": {},
     "output_type": "execute_result"
    }
   ],
   "source": [
    "df_tma_kar = df_tma_kar[['waktu','ketinggian']]\n",
    "df_tma_kar.head(10)"
   ]
  },
  {
   "cell_type": "code",
   "execution_count": 16,
   "metadata": {
    "execution": {
     "iopub.execute_input": "2022-03-30T17:28:08.681983Z",
     "iopub.status.busy": "2022-03-30T17:28:08.681468Z",
     "iopub.status.idle": "2022-03-30T17:28:08.695463Z",
     "shell.execute_reply": "2022-03-30T17:28:08.694697Z",
     "shell.execute_reply.started": "2022-03-30T17:28:08.681934Z"
    }
   },
   "outputs": [
    {
     "data": {
      "text/html": [
       "<div>\n",
       "<style scoped>\n",
       "    .dataframe tbody tr th:only-of-type {\n",
       "        vertical-align: middle;\n",
       "    }\n",
       "\n",
       "    .dataframe tbody tr th {\n",
       "        vertical-align: top;\n",
       "    }\n",
       "\n",
       "    .dataframe thead th {\n",
       "        text-align: right;\n",
       "    }\n",
       "</style>\n",
       "<table border=\"1\" class=\"dataframe\">\n",
       "  <thead>\n",
       "    <tr style=\"text-align: right;\">\n",
       "      <th></th>\n",
       "      <th>waktu</th>\n",
       "      <th>ketinggian</th>\n",
       "    </tr>\n",
       "  </thead>\n",
       "  <tbody>\n",
       "    <tr>\n",
       "      <th>6</th>\n",
       "      <td>2021-11-16 03:00</td>\n",
       "      <td>250</td>\n",
       "    </tr>\n",
       "    <tr>\n",
       "      <th>25</th>\n",
       "      <td>2021-11-16 04:00</td>\n",
       "      <td>250</td>\n",
       "    </tr>\n",
       "    <tr>\n",
       "      <th>36</th>\n",
       "      <td>2021-11-16 05:00</td>\n",
       "      <td>250</td>\n",
       "    </tr>\n",
       "    <tr>\n",
       "      <th>58</th>\n",
       "      <td>2021-11-16 06:00</td>\n",
       "      <td>250</td>\n",
       "    </tr>\n",
       "    <tr>\n",
       "      <th>71</th>\n",
       "      <td>2021-11-16 07:00</td>\n",
       "      <td>250</td>\n",
       "    </tr>\n",
       "  </tbody>\n",
       "</table>\n",
       "</div>"
      ],
      "text/plain": [
       "               waktu  ketinggian\n",
       "6   2021-11-16 03:00         250\n",
       "25  2021-11-16 04:00         250\n",
       "36  2021-11-16 05:00         250\n",
       "58  2021-11-16 06:00         250\n",
       "71  2021-11-16 07:00         250"
      ]
     },
     "execution_count": 16,
     "metadata": {},
     "output_type": "execute_result"
    }
   ],
   "source": [
    "df_tma_kar.drop_duplicates(subset='waktu',keep='first',inplace=True)\n",
    "df_tma_kar.head()"
   ]
  },
  {
   "cell_type": "code",
   "execution_count": 17,
   "metadata": {
    "execution": {
     "iopub.execute_input": "2022-03-30T17:28:08.699506Z",
     "iopub.status.busy": "2022-03-30T17:28:08.69865Z",
     "iopub.status.idle": "2022-03-30T17:28:08.714433Z",
     "shell.execute_reply": "2022-03-30T17:28:08.713802Z",
     "shell.execute_reply.started": "2022-03-30T17:28:08.699464Z"
    }
   },
   "outputs": [
    {
     "data": {
      "text/html": [
       "<div>\n",
       "<style scoped>\n",
       "    .dataframe tbody tr th:only-of-type {\n",
       "        vertical-align: middle;\n",
       "    }\n",
       "\n",
       "    .dataframe tbody tr th {\n",
       "        vertical-align: top;\n",
       "    }\n",
       "\n",
       "    .dataframe thead th {\n",
       "        text-align: right;\n",
       "    }\n",
       "</style>\n",
       "<table border=\"1\" class=\"dataframe\">\n",
       "  <thead>\n",
       "    <tr style=\"text-align: right;\">\n",
       "      <th></th>\n",
       "      <th>ds</th>\n",
       "      <th>y</th>\n",
       "    </tr>\n",
       "  </thead>\n",
       "  <tbody>\n",
       "    <tr>\n",
       "      <th>6</th>\n",
       "      <td>2021-11-16 03:00</td>\n",
       "      <td>250</td>\n",
       "    </tr>\n",
       "    <tr>\n",
       "      <th>25</th>\n",
       "      <td>2021-11-16 04:00</td>\n",
       "      <td>250</td>\n",
       "    </tr>\n",
       "    <tr>\n",
       "      <th>36</th>\n",
       "      <td>2021-11-16 05:00</td>\n",
       "      <td>250</td>\n",
       "    </tr>\n",
       "    <tr>\n",
       "      <th>58</th>\n",
       "      <td>2021-11-16 06:00</td>\n",
       "      <td>250</td>\n",
       "    </tr>\n",
       "    <tr>\n",
       "      <th>71</th>\n",
       "      <td>2021-11-16 07:00</td>\n",
       "      <td>250</td>\n",
       "    </tr>\n",
       "  </tbody>\n",
       "</table>\n",
       "</div>"
      ],
      "text/plain": [
       "                  ds    y\n",
       "6   2021-11-16 03:00  250\n",
       "25  2021-11-16 04:00  250\n",
       "36  2021-11-16 05:00  250\n",
       "58  2021-11-16 06:00  250\n",
       "71  2021-11-16 07:00  250"
      ]
     },
     "execution_count": 17,
     "metadata": {},
     "output_type": "execute_result"
    }
   ],
   "source": [
    "# Renaming columns\n",
    "df_tma_kar.rename(columns = {'waktu':'ds', 'ketinggian':'y'}, inplace = True)\n",
    "df_tma_kar.head()"
   ]
  },
  {
   "cell_type": "code",
   "execution_count": 18,
   "metadata": {},
   "outputs": [
    {
     "data": {
      "text/html": [
       "<div>\n",
       "<style scoped>\n",
       "    .dataframe tbody tr th:only-of-type {\n",
       "        vertical-align: middle;\n",
       "    }\n",
       "\n",
       "    .dataframe tbody tr th {\n",
       "        vertical-align: top;\n",
       "    }\n",
       "\n",
       "    .dataframe thead th {\n",
       "        text-align: right;\n",
       "    }\n",
       "</style>\n",
       "<table border=\"1\" class=\"dataframe\">\n",
       "  <thead>\n",
       "    <tr style=\"text-align: right;\">\n",
       "      <th></th>\n",
       "      <th>y</th>\n",
       "    </tr>\n",
       "    <tr>\n",
       "      <th>ds</th>\n",
       "      <th></th>\n",
       "    </tr>\n",
       "  </thead>\n",
       "  <tbody>\n",
       "    <tr>\n",
       "      <th>2021-11-16 03:00</th>\n",
       "      <td>250</td>\n",
       "    </tr>\n",
       "    <tr>\n",
       "      <th>2021-11-16 04:00</th>\n",
       "      <td>250</td>\n",
       "    </tr>\n",
       "    <tr>\n",
       "      <th>2021-11-16 05:00</th>\n",
       "      <td>250</td>\n",
       "    </tr>\n",
       "    <tr>\n",
       "      <th>2021-11-16 06:00</th>\n",
       "      <td>250</td>\n",
       "    </tr>\n",
       "    <tr>\n",
       "      <th>2021-11-16 07:00</th>\n",
       "      <td>250</td>\n",
       "    </tr>\n",
       "  </tbody>\n",
       "</table>\n",
       "</div>"
      ],
      "text/plain": [
       "                    y\n",
       "ds                   \n",
       "2021-11-16 03:00  250\n",
       "2021-11-16 04:00  250\n",
       "2021-11-16 05:00  250\n",
       "2021-11-16 06:00  250\n",
       "2021-11-16 07:00  250"
      ]
     },
     "execution_count": 18,
     "metadata": {},
     "output_type": "execute_result"
    }
   ],
   "source": [
    "df_tma_kar_time = df_tma_kar.set_index('ds')\n",
    "df_tma_kar_time.head()"
   ]
  },
  {
   "cell_type": "code",
   "execution_count": 19,
   "metadata": {},
   "outputs": [
    {
     "data": {
      "image/png": "[encoded data removed]",
      "text/plain": [
       "<Figure size 792x648 with 4 Axes>"
      ]
     },
     "metadata": {},
     "output_type": "display_data"
    }
   ],
   "source": [
    "#Plot of decompotition\n",
    "import statsmodels.api as sm\n",
    "from pylab import rcParams\n",
    "rcParams['figure.figsize'] = 11, 9\n",
    "decomposition = sm.tsa.seasonal_decompose(df_tma_kar_time, \n",
    "                                         model = 'additive',\n",
    "                                         period=60) \n",
    "fig = decomposition.plot()\n",
    "plt.show()"
   ]
  },
  {
   "cell_type": "code",
   "execution_count": 20,
   "metadata": {
    "execution": {
     "iopub.execute_input": "2022-03-30T17:28:08.716139Z",
     "iopub.status.busy": "2022-03-30T17:28:08.715569Z",
     "iopub.status.idle": "2022-03-30T17:28:08.731671Z",
     "shell.execute_reply": "2022-03-30T17:28:08.730917Z",
     "shell.execute_reply.started": "2022-03-30T17:28:08.716105Z"
    }
   },
   "outputs": [
    {
     "name": "stdout",
     "output_type": "stream",
     "text": [
      "<class 'pandas.core.frame.DataFrame'>\n",
      "Int64Index: 2170 entries, 6 to 30542\n",
      "Data columns (total 2 columns):\n",
      " #   Column  Non-Null Count  Dtype         \n",
      "---  ------  --------------  -----         \n",
      " 0   ds      2170 non-null   datetime64[ns]\n",
      " 1   y       2170 non-null   int64         \n",
      "dtypes: datetime64[ns](1), int64(1)\n",
      "memory usage: 50.9 KB\n"
     ]
    }
   ],
   "source": [
    "df_tma_kar['ds'] = pd.DatetimeIndex(df_tma_kar['ds'])\n",
    "df_tma_kar.info()"
   ]
  },
  {
   "cell_type": "code",
   "execution_count": 21,
   "metadata": {
    "execution": {
     "iopub.execute_input": "2022-03-30T17:28:08.733338Z",
     "iopub.status.busy": "2022-03-30T17:28:08.732735Z",
     "iopub.status.idle": "2022-03-30T17:28:08.743645Z",
     "shell.execute_reply": "2022-03-30T17:28:08.742809Z",
     "shell.execute_reply.started": "2022-03-30T17:28:08.733305Z"
    }
   },
   "outputs": [
    {
     "data": {
      "text/html": [
       "<div>\n",
       "<style scoped>\n",
       "    .dataframe tbody tr th:only-of-type {\n",
       "        vertical-align: middle;\n",
       "    }\n",
       "\n",
       "    .dataframe tbody tr th {\n",
       "        vertical-align: top;\n",
       "    }\n",
       "\n",
       "    .dataframe thead th {\n",
       "        text-align: right;\n",
       "    }\n",
       "</style>\n",
       "<table border=\"1\" class=\"dataframe\">\n",
       "  <thead>\n",
       "    <tr style=\"text-align: right;\">\n",
       "      <th></th>\n",
       "      <th>ds</th>\n",
       "      <th>y</th>\n",
       "    </tr>\n",
       "  </thead>\n",
       "  <tbody>\n",
       "    <tr>\n",
       "      <th>6</th>\n",
       "      <td>2021-11-16 03:00:00</td>\n",
       "      <td>250</td>\n",
       "    </tr>\n",
       "    <tr>\n",
       "      <th>25</th>\n",
       "      <td>2021-11-16 04:00:00</td>\n",
       "      <td>250</td>\n",
       "    </tr>\n",
       "    <tr>\n",
       "      <th>36</th>\n",
       "      <td>2021-11-16 05:00:00</td>\n",
       "      <td>250</td>\n",
       "    </tr>\n",
       "    <tr>\n",
       "      <th>58</th>\n",
       "      <td>2021-11-16 06:00:00</td>\n",
       "      <td>250</td>\n",
       "    </tr>\n",
       "    <tr>\n",
       "      <th>71</th>\n",
       "      <td>2021-11-16 07:00:00</td>\n",
       "      <td>250</td>\n",
       "    </tr>\n",
       "    <tr>\n",
       "      <th>93</th>\n",
       "      <td>2021-11-17 08:00:00</td>\n",
       "      <td>250</td>\n",
       "    </tr>\n",
       "    <tr>\n",
       "      <th>102</th>\n",
       "      <td>2021-11-17 09:00:00</td>\n",
       "      <td>250</td>\n",
       "    </tr>\n",
       "    <tr>\n",
       "      <th>120</th>\n",
       "      <td>2021-11-17 10:00:00</td>\n",
       "      <td>250</td>\n",
       "    </tr>\n",
       "    <tr>\n",
       "      <th>126</th>\n",
       "      <td>2021-11-17 11:00:00</td>\n",
       "      <td>250</td>\n",
       "    </tr>\n",
       "    <tr>\n",
       "      <th>139</th>\n",
       "      <td>2021-11-17 12:00:00</td>\n",
       "      <td>270</td>\n",
       "    </tr>\n",
       "  </tbody>\n",
       "</table>\n",
       "</div>"
      ],
      "text/plain": [
       "                     ds    y\n",
       "6   2021-11-16 03:00:00  250\n",
       "25  2021-11-16 04:00:00  250\n",
       "36  2021-11-16 05:00:00  250\n",
       "58  2021-11-16 06:00:00  250\n",
       "71  2021-11-16 07:00:00  250\n",
       "93  2021-11-17 08:00:00  250\n",
       "102 2021-11-17 09:00:00  250\n",
       "120 2021-11-17 10:00:00  250\n",
       "126 2021-11-17 11:00:00  250\n",
       "139 2021-11-17 12:00:00  270"
      ]
     },
     "execution_count": 21,
     "metadata": {},
     "output_type": "execute_result"
    }
   ],
   "source": [
    "df_tma_kar.head(10)"
   ]
  },
  {
   "cell_type": "code",
   "execution_count": 22,
   "metadata": {
    "execution": {
     "iopub.execute_input": "2022-03-30T17:28:08.745134Z",
     "iopub.status.busy": "2022-03-30T17:28:08.744695Z",
     "iopub.status.idle": "2022-03-30T17:28:08.760545Z",
     "shell.execute_reply": "2022-03-30T17:28:08.759939Z",
     "shell.execute_reply.started": "2022-03-30T17:28:08.745097Z"
    }
   },
   "outputs": [
    {
     "data": {
      "text/html": [
       "<div>\n",
       "<style scoped>\n",
       "    .dataframe tbody tr th:only-of-type {\n",
       "        vertical-align: middle;\n",
       "    }\n",
       "\n",
       "    .dataframe tbody tr th {\n",
       "        vertical-align: top;\n",
       "    }\n",
       "\n",
       "    .dataframe thead th {\n",
       "        text-align: right;\n",
       "    }\n",
       "</style>\n",
       "<table border=\"1\" class=\"dataframe\">\n",
       "  <thead>\n",
       "    <tr style=\"text-align: right;\">\n",
       "      <th></th>\n",
       "      <th>ds</th>\n",
       "      <th>y</th>\n",
       "    </tr>\n",
       "  </thead>\n",
       "  <tbody>\n",
       "    <tr>\n",
       "      <th>30428</th>\n",
       "      <td>2022-02-18 07:00:00</td>\n",
       "      <td>320</td>\n",
       "    </tr>\n",
       "    <tr>\n",
       "      <th>30433</th>\n",
       "      <td>2022-02-18 08:00:00</td>\n",
       "      <td>330</td>\n",
       "    </tr>\n",
       "    <tr>\n",
       "      <th>30444</th>\n",
       "      <td>2022-02-18 09:00:00</td>\n",
       "      <td>340</td>\n",
       "    </tr>\n",
       "    <tr>\n",
       "      <th>30456</th>\n",
       "      <td>2022-02-18 10:00:00</td>\n",
       "      <td>340</td>\n",
       "    </tr>\n",
       "    <tr>\n",
       "      <th>30472</th>\n",
       "      <td>2022-02-18 11:00:00</td>\n",
       "      <td>340</td>\n",
       "    </tr>\n",
       "    <tr>\n",
       "      <th>30488</th>\n",
       "      <td>2022-02-18 12:00:00</td>\n",
       "      <td>350</td>\n",
       "    </tr>\n",
       "    <tr>\n",
       "      <th>30499</th>\n",
       "      <td>2022-02-18 13:00:00</td>\n",
       "      <td>360</td>\n",
       "    </tr>\n",
       "    <tr>\n",
       "      <th>30518</th>\n",
       "      <td>2022-02-18 14:00:00</td>\n",
       "      <td>350</td>\n",
       "    </tr>\n",
       "    <tr>\n",
       "      <th>30530</th>\n",
       "      <td>2022-02-18 15:00:00</td>\n",
       "      <td>330</td>\n",
       "    </tr>\n",
       "    <tr>\n",
       "      <th>30542</th>\n",
       "      <td>2022-02-18 16:00:00</td>\n",
       "      <td>310</td>\n",
       "    </tr>\n",
       "  </tbody>\n",
       "</table>\n",
       "</div>"
      ],
      "text/plain": [
       "                       ds    y\n",
       "30428 2022-02-18 07:00:00  320\n",
       "30433 2022-02-18 08:00:00  330\n",
       "30444 2022-02-18 09:00:00  340\n",
       "30456 2022-02-18 10:00:00  340\n",
       "30472 2022-02-18 11:00:00  340\n",
       "30488 2022-02-18 12:00:00  350\n",
       "30499 2022-02-18 13:00:00  360\n",
       "30518 2022-02-18 14:00:00  350\n",
       "30530 2022-02-18 15:00:00  330\n",
       "30542 2022-02-18 16:00:00  310"
      ]
     },
     "execution_count": 22,
     "metadata": {},
     "output_type": "execute_result"
    }
   ],
   "source": [
    "df_tma_kar.tail(10)"
   ]
  },
  {
   "cell_type": "code",
   "execution_count": 23,
   "metadata": {
    "execution": {
     "iopub.execute_input": "2022-03-30T17:28:08.762118Z",
     "iopub.status.busy": "2022-03-30T17:28:08.761709Z",
     "iopub.status.idle": "2022-03-30T17:28:09.134116Z",
     "shell.execute_reply": "2022-03-30T17:28:09.133103Z",
     "shell.execute_reply.started": "2022-03-30T17:28:08.762087Z"
    },
    "id": "vDiPYmpK58jC",
    "outputId": "fd851d04-e739-4b2f-86e7-0dde71e1db57"
   },
   "outputs": [
    {
     "data": {
      "text/plain": [
       "Text(0.5, 1.0, 'Time Series Plot')"
      ]
     },
     "execution_count": 23,
     "metadata": {},
     "output_type": "execute_result"
    },
    {
     "data": {
      "image/png": "[encoded data removed]",
      "text/plain": [
       "<Figure size 864x432 with 1 Axes>"
      ]
     },
     "metadata": {},
     "output_type": "display_data"
    }
   ],
   "source": [
    "df_tma_kar.set_index('ds').plot(figsize=(12,6))\n",
    "plt.title('Time Series Plot')"
   ]
  },
  {
   "cell_type": "markdown",
   "metadata": {
    "id": "KS5j2phf7qCa"
   },
   "source": [
    "## Prophet Model"
   ]
  },
  {
   "cell_type": "code",
   "execution_count": 24,
   "metadata": {
    "execution": {
     "iopub.execute_input": "2022-03-30T17:28:09.135492Z",
     "iopub.status.busy": "2022-03-30T17:28:09.135238Z",
     "iopub.status.idle": "2022-03-30T17:30:16.834399Z",
     "shell.execute_reply": "2022-03-30T17:30:16.832868Z",
     "shell.execute_reply.started": "2022-03-30T17:28:09.135463Z"
    },
    "id": "PsCA_oCp7yYV"
   },
   "outputs": [],
   "source": [
    "!pip install prophet -q"
   ]
  },
  {
   "cell_type": "code",
   "execution_count": 25,
   "metadata": {
    "execution": {
     "iopub.execute_input": "2022-03-30T17:30:16.836912Z",
     "iopub.status.busy": "2022-03-30T17:30:16.836609Z",
     "iopub.status.idle": "2022-03-30T17:30:17.072709Z",
     "shell.execute_reply": "2022-03-30T17:30:17.071686Z",
     "shell.execute_reply.started": "2022-03-30T17:30:16.836876Z"
    },
    "id": "lFac0jli58e3"
   },
   "outputs": [],
   "source": [
    "from prophet import Prophet"
   ]
  },
  {
   "cell_type": "code",
   "execution_count": 26,
   "metadata": {
    "execution": {
     "iopub.execute_input": "2022-03-30T17:30:17.074706Z",
     "iopub.status.busy": "2022-03-30T17:30:17.074346Z",
     "iopub.status.idle": "2022-03-30T17:30:18.104047Z",
     "shell.execute_reply": "2022-03-30T17:30:18.103166Z",
     "shell.execute_reply.started": "2022-03-30T17:30:17.074659Z"
    },
    "id": "3_6QOV_258bJ"
   },
   "outputs": [],
   "source": [
    "m = Prophet(seasonality_mode='additive')"
   ]
  },
  {
   "cell_type": "markdown",
   "metadata": {
    "id": "n_TgzjgP9pki"
   },
   "source": [
    "Using default settings, only the seasonality mode is set to *Additive*\n",
    "\n"
   ]
  },
  {
   "cell_type": "code",
   "execution_count": 27,
   "metadata": {
    "execution": {
     "iopub.execute_input": "2022-03-30T17:30:18.105377Z",
     "iopub.status.busy": "2022-03-30T17:30:18.105156Z",
     "iopub.status.idle": "2022-03-30T17:30:19.068546Z",
     "shell.execute_reply": "2022-03-30T17:30:19.067722Z",
     "shell.execute_reply.started": "2022-03-30T17:30:18.105349Z"
    },
    "id": "9AcZ5Kga58XQ",
    "outputId": "cc2a687c-4507-4114-ce8a-b52d1ab04906"
   },
   "outputs": [
    {
     "name": "stderr",
     "output_type": "stream",
     "text": [
      "INFO:prophet:Disabling yearly seasonality. Run prophet with yearly_seasonality=True to override this.\n"
     ]
    },
    {
     "name": "stdout",
     "output_type": "stream",
     "text": [
      "Initial log joint probability = -9.90551\n"
     ]
    },
    {
     "data": {
      "text/plain": [
       "<prophet.forecaster.Prophet at 0x7fad20b279a0>"
      ]
     },
     "execution_count": 27,
     "metadata": {},
     "output_type": "execute_result"
    },
    {
     "name": "stdout",
     "output_type": "stream",
     "text": [
      "    Iter      log prob        ||dx||      ||grad||       alpha      alpha0  # evals  Notes \n",
      "      99       4914.11    0.00294338       333.935      0.2357      0.2357      122   \n",
      "    Iter      log prob        ||dx||      ||grad||       alpha      alpha0  # evals  Notes \n",
      "     143       4919.08   0.000128917       91.8997   5.868e-07       0.001      218  LS failed, Hessian reset \n",
      "     199       4922.83    0.00201423       76.4065           1           1      288   \n",
      "    Iter      log prob        ||dx||      ||grad||       alpha      alpha0  # evals  Notes \n",
      "     221       4923.85    0.00011659       113.663   1.149e-06       0.001      362  LS failed, Hessian reset \n",
      "     299       4925.12    0.00430167       375.222           1           1      455   \n",
      "    Iter      log prob        ||dx||      ||grad||       alpha      alpha0  # evals  Notes \n",
      "     399       4925.69    3.2394e-05       83.6823           1           1      594   \n",
      "    Iter      log prob        ||dx||      ||grad||       alpha      alpha0  # evals  Notes \n",
      "     499       4926.89   0.000172497        95.782   2.762e-06       0.001      758  LS failed, Hessian reset \n",
      "    Iter      log prob        ||dx||      ||grad||       alpha      alpha0  # evals  Notes \n",
      "     599       4927.25   0.000567562       49.3524           1           1      894   \n",
      "    Iter      log prob        ||dx||      ||grad||       alpha      alpha0  # evals  Notes \n",
      "     657       4927.48   2.04778e-05       66.3953   2.491e-07       0.001     1008  LS failed, Hessian reset \n",
      "     685       4927.48   1.06208e-07       60.2299       0.309           1     1047   \n",
      "Optimization terminated normally: \n",
      "  Convergence detected: relative gradient magnitude is below tolerance\n"
     ]
    }
   ],
   "source": [
    "m.fit(df_tma_kar)"
   ]
  },
  {
   "cell_type": "code",
   "execution_count": 28,
   "metadata": {
    "execution": {
     "iopub.execute_input": "2022-03-30T17:30:19.070334Z",
     "iopub.status.busy": "2022-03-30T17:30:19.06985Z",
     "iopub.status.idle": "2022-03-30T17:30:19.078299Z",
     "shell.execute_reply": "2022-03-30T17:30:19.077245Z",
     "shell.execute_reply.started": "2022-03-30T17:30:19.070298Z"
    },
    "id": "Iq-KLct058TY"
   },
   "outputs": [],
   "source": [
    "future = m.make_future_dataframe(periods=1440, freq='H')"
   ]
  },
  {
   "cell_type": "code",
   "execution_count": 29,
   "metadata": {
    "execution": {
     "iopub.execute_input": "2022-03-30T17:30:19.079943Z",
     "iopub.status.busy": "2022-03-30T17:30:19.079668Z",
     "iopub.status.idle": "2022-03-30T17:30:19.095612Z",
     "shell.execute_reply": "2022-03-30T17:30:19.094607Z",
     "shell.execute_reply.started": "2022-03-30T17:30:19.079911Z"
    },
    "id": "6dGM0yvo58Pd",
    "outputId": "e21a8994-6a46-4c43-9138-54e0d313d057"
   },
   "outputs": [
    {
     "data": {
      "text/html": [
       "<div>\n",
       "<style scoped>\n",
       "    .dataframe tbody tr th:only-of-type {\n",
       "        vertical-align: middle;\n",
       "    }\n",
       "\n",
       "    .dataframe tbody tr th {\n",
       "        vertical-align: top;\n",
       "    }\n",
       "\n",
       "    .dataframe thead th {\n",
       "        text-align: right;\n",
       "    }\n",
       "</style>\n",
       "<table border=\"1\" class=\"dataframe\">\n",
       "  <thead>\n",
       "    <tr style=\"text-align: right;\">\n",
       "      <th></th>\n",
       "      <th>ds</th>\n",
       "    </tr>\n",
       "  </thead>\n",
       "  <tbody>\n",
       "    <tr>\n",
       "      <th>3605</th>\n",
       "      <td>2022-04-19 12:00:00</td>\n",
       "    </tr>\n",
       "    <tr>\n",
       "      <th>3606</th>\n",
       "      <td>2022-04-19 13:00:00</td>\n",
       "    </tr>\n",
       "    <tr>\n",
       "      <th>3607</th>\n",
       "      <td>2022-04-19 14:00:00</td>\n",
       "    </tr>\n",
       "    <tr>\n",
       "      <th>3608</th>\n",
       "      <td>2022-04-19 15:00:00</td>\n",
       "    </tr>\n",
       "    <tr>\n",
       "      <th>3609</th>\n",
       "      <td>2022-04-19 16:00:00</td>\n",
       "    </tr>\n",
       "  </tbody>\n",
       "</table>\n",
       "</div>"
      ],
      "text/plain": [
       "                      ds\n",
       "3605 2022-04-19 12:00:00\n",
       "3606 2022-04-19 13:00:00\n",
       "3607 2022-04-19 14:00:00\n",
       "3608 2022-04-19 15:00:00\n",
       "3609 2022-04-19 16:00:00"
      ]
     },
     "execution_count": 29,
     "metadata": {},
     "output_type": "execute_result"
    }
   ],
   "source": [
    "future.tail(5)"
   ]
  },
  {
   "cell_type": "code",
   "execution_count": 30,
   "metadata": {
    "execution": {
     "iopub.execute_input": "2022-03-30T17:30:19.097261Z",
     "iopub.status.busy": "2022-03-30T17:30:19.096698Z",
     "iopub.status.idle": "2022-03-30T17:30:24.731715Z",
     "shell.execute_reply": "2022-03-30T17:30:24.73073Z",
     "shell.execute_reply.started": "2022-03-30T17:30:19.097218Z"
    },
    "id": "OCdhcLtp58LY"
   },
   "outputs": [],
   "source": [
    "forecast = m.predict(future)"
   ]
  },
  {
   "cell_type": "code",
   "execution_count": 31,
   "metadata": {
    "execution": {
     "iopub.execute_input": "2022-03-30T17:30:24.733189Z",
     "iopub.status.busy": "2022-03-30T17:30:24.732929Z",
     "iopub.status.idle": "2022-03-30T17:30:24.759477Z",
     "shell.execute_reply": "2022-03-30T17:30:24.758558Z",
     "shell.execute_reply.started": "2022-03-30T17:30:24.733154Z"
    },
    "id": "0sfWkS3U58Hv",
    "outputId": "716da66a-95ee-4cc4-9752-8a8f78e2d1cf"
   },
   "outputs": [
    {
     "data": {
      "text/html": [
       "<div>\n",
       "<style scoped>\n",
       "    .dataframe tbody tr th:only-of-type {\n",
       "        vertical-align: middle;\n",
       "    }\n",
       "\n",
       "    .dataframe tbody tr th {\n",
       "        vertical-align: top;\n",
       "    }\n",
       "\n",
       "    .dataframe thead th {\n",
       "        text-align: right;\n",
       "    }\n",
       "</style>\n",
       "<table border=\"1\" class=\"dataframe\">\n",
       "  <thead>\n",
       "    <tr style=\"text-align: right;\">\n",
       "      <th></th>\n",
       "      <th>ds</th>\n",
       "      <th>trend</th>\n",
       "      <th>yhat_lower</th>\n",
       "      <th>yhat_upper</th>\n",
       "      <th>trend_lower</th>\n",
       "      <th>trend_upper</th>\n",
       "      <th>additive_terms</th>\n",
       "      <th>additive_terms_lower</th>\n",
       "      <th>additive_terms_upper</th>\n",
       "      <th>daily</th>\n",
       "      <th>daily_lower</th>\n",
       "      <th>daily_upper</th>\n",
       "      <th>weekly</th>\n",
       "      <th>weekly_lower</th>\n",
       "      <th>weekly_upper</th>\n",
       "      <th>multiplicative_terms</th>\n",
       "      <th>multiplicative_terms_lower</th>\n",
       "      <th>multiplicative_terms_upper</th>\n",
       "      <th>yhat</th>\n",
       "    </tr>\n",
       "  </thead>\n",
       "  <tbody>\n",
       "    <tr>\n",
       "      <th>3605</th>\n",
       "      <td>2022-04-19 12:00:00</td>\n",
       "      <td>385.423391</td>\n",
       "      <td>248.830640</td>\n",
       "      <td>545.531102</td>\n",
       "      <td>243.362051</td>\n",
       "      <td>531.872322</td>\n",
       "      <td>7.977353</td>\n",
       "      <td>7.977353</td>\n",
       "      <td>7.977353</td>\n",
       "      <td>4.515829</td>\n",
       "      <td>4.515829</td>\n",
       "      <td>4.515829</td>\n",
       "      <td>3.461524</td>\n",
       "      <td>3.461524</td>\n",
       "      <td>3.461524</td>\n",
       "      <td>0.0</td>\n",
       "      <td>0.0</td>\n",
       "      <td>0.0</td>\n",
       "      <td>393.400744</td>\n",
       "    </tr>\n",
       "    <tr>\n",
       "      <th>3606</th>\n",
       "      <td>2022-04-19 13:00:00</td>\n",
       "      <td>385.487952</td>\n",
       "      <td>247.384666</td>\n",
       "      <td>542.681256</td>\n",
       "      <td>243.280208</td>\n",
       "      <td>531.971471</td>\n",
       "      <td>8.089133</td>\n",
       "      <td>8.089133</td>\n",
       "      <td>8.089133</td>\n",
       "      <td>4.520535</td>\n",
       "      <td>4.520535</td>\n",
       "      <td>4.520535</td>\n",
       "      <td>3.568597</td>\n",
       "      <td>3.568597</td>\n",
       "      <td>3.568597</td>\n",
       "      <td>0.0</td>\n",
       "      <td>0.0</td>\n",
       "      <td>0.0</td>\n",
       "      <td>393.577085</td>\n",
       "    </tr>\n",
       "    <tr>\n",
       "      <th>3607</th>\n",
       "      <td>2022-04-19 14:00:00</td>\n",
       "      <td>385.552513</td>\n",
       "      <td>250.451763</td>\n",
       "      <td>540.362333</td>\n",
       "      <td>243.230856</td>\n",
       "      <td>532.094256</td>\n",
       "      <td>7.713093</td>\n",
       "      <td>7.713093</td>\n",
       "      <td>7.713093</td>\n",
       "      <td>4.059754</td>\n",
       "      <td>4.059754</td>\n",
       "      <td>4.059754</td>\n",
       "      <td>3.653339</td>\n",
       "      <td>3.653339</td>\n",
       "      <td>3.653339</td>\n",
       "      <td>0.0</td>\n",
       "      <td>0.0</td>\n",
       "      <td>0.0</td>\n",
       "      <td>393.265606</td>\n",
       "    </tr>\n",
       "    <tr>\n",
       "      <th>3608</th>\n",
       "      <td>2022-04-19 15:00:00</td>\n",
       "      <td>385.617074</td>\n",
       "      <td>244.860339</td>\n",
       "      <td>545.893540</td>\n",
       "      <td>243.181504</td>\n",
       "      <td>532.239993</td>\n",
       "      <td>6.975080</td>\n",
       "      <td>6.975080</td>\n",
       "      <td>6.975080</td>\n",
       "      <td>3.256947</td>\n",
       "      <td>3.256947</td>\n",
       "      <td>3.256947</td>\n",
       "      <td>3.718133</td>\n",
       "      <td>3.718133</td>\n",
       "      <td>3.718133</td>\n",
       "      <td>0.0</td>\n",
       "      <td>0.0</td>\n",
       "      <td>0.0</td>\n",
       "      <td>392.592154</td>\n",
       "    </tr>\n",
       "    <tr>\n",
       "      <th>3609</th>\n",
       "      <td>2022-04-19 16:00:00</td>\n",
       "      <td>385.681635</td>\n",
       "      <td>252.095013</td>\n",
       "      <td>544.460485</td>\n",
       "      <td>243.132863</td>\n",
       "      <td>532.385730</td>\n",
       "      <td>6.097988</td>\n",
       "      <td>6.097988</td>\n",
       "      <td>6.097988</td>\n",
       "      <td>2.332452</td>\n",
       "      <td>2.332452</td>\n",
       "      <td>2.332452</td>\n",
       "      <td>3.765536</td>\n",
       "      <td>3.765536</td>\n",
       "      <td>3.765536</td>\n",
       "      <td>0.0</td>\n",
       "      <td>0.0</td>\n",
       "      <td>0.0</td>\n",
       "      <td>391.779623</td>\n",
       "    </tr>\n",
       "  </tbody>\n",
       "</table>\n",
       "</div>"
      ],
      "text/plain": [
       "                      ds       trend  yhat_lower  yhat_upper  trend_lower  \\\n",
       "3605 2022-04-19 12:00:00  385.423391  248.830640  545.531102   243.362051   \n",
       "3606 2022-04-19 13:00:00  385.487952  247.384666  542.681256   243.280208   \n",
       "3607 2022-04-19 14:00:00  385.552513  250.451763  540.362333   243.230856   \n",
       "3608 2022-04-19 15:00:00  385.617074  244.860339  545.893540   243.181504   \n",
       "3609 2022-04-19 16:00:00  385.681635  252.095013  544.460485   243.132863   \n",
       "\n",
       "      trend_upper  additive_terms  additive_terms_lower  additive_terms_upper  \\\n",
       "3605   531.872322        7.977353              7.977353              7.977353   \n",
       "3606   531.971471        8.089133              8.089133              8.089133   \n",
       "3607   532.094256        7.713093              7.713093              7.713093   \n",
       "3608   532.239993        6.975080              6.975080              6.975080   \n",
       "3609   532.385730        6.097988              6.097988              6.097988   \n",
       "\n",
       "         daily  daily_lower  daily_upper    weekly  weekly_lower  \\\n",
       "3605  4.515829     4.515829     4.515829  3.461524      3.461524   \n",
       "3606  4.520535     4.520535     4.520535  3.568597      3.568597   \n",
       "3607  4.059754     4.059754     4.059754  3.653339      3.653339   \n",
       "3608  3.256947     3.256947     3.256947  3.718133      3.718133   \n",
       "3609  2.332452     2.332452     2.332452  3.765536      3.765536   \n",
       "\n",
       "      weekly_upper  multiplicative_terms  multiplicative_terms_lower  \\\n",
       "3605      3.461524                   0.0                         0.0   \n",
       "3606      3.568597                   0.0                         0.0   \n",
       "3607      3.653339                   0.0                         0.0   \n",
       "3608      3.718133                   0.0                         0.0   \n",
       "3609      3.765536                   0.0                         0.0   \n",
       "\n",
       "      multiplicative_terms_upper        yhat  \n",
       "3605                         0.0  393.400744  \n",
       "3606                         0.0  393.577085  \n",
       "3607                         0.0  393.265606  \n",
       "3608                         0.0  392.592154  \n",
       "3609                         0.0  391.779623  "
      ]
     },
     "execution_count": 31,
     "metadata": {},
     "output_type": "execute_result"
    }
   ],
   "source": [
    "forecast.tail()"
   ]
  },
  {
   "cell_type": "code",
   "execution_count": 32,
   "metadata": {
    "execution": {
     "iopub.execute_input": "2022-03-30T17:30:24.762033Z",
     "iopub.status.busy": "2022-03-30T17:30:24.761381Z",
     "iopub.status.idle": "2022-03-30T17:30:25.14264Z",
     "shell.execute_reply": "2022-03-30T17:30:25.141634Z",
     "shell.execute_reply.started": "2022-03-30T17:30:24.761985Z"
    },
    "id": "DF2s22fk58Em",
    "outputId": "a651a350-57d6-4d42-b3d8-589fd8622a65"
   },
   "outputs": [
    {
     "data": {
      "text/plain": [
       "Text(59.875, 0.5, 'Water Level (cm)')"
      ]
     },
     "execution_count": 32,
     "metadata": {},
     "output_type": "execute_result"
    },
    {
     "data": {
      "image/png": "[encoded data removed]",
      "text/plain": [
       "<Figure size 720x432 with 1 Axes>"
      ]
     },
     "metadata": {},
     "output_type": "display_data"
    }
   ],
   "source": [
    "m.plot(forecast);\n",
    "plt.title(\"Forecast of the Time Series in the next 60 days (1440 hours)\")\n",
    "plt.xlabel(\"Dates\")\n",
    "plt.ylabel(\"Water Level (cm)\")"
   ]
  },
  {
   "cell_type": "code",
   "execution_count": 33,
   "metadata": {
    "execution": {
     "iopub.execute_input": "2022-03-30T17:30:25.144734Z",
     "iopub.status.busy": "2022-03-30T17:30:25.144423Z",
     "iopub.status.idle": "2022-03-30T17:30:25.82065Z",
     "shell.execute_reply": "2022-03-30T17:30:25.819654Z",
     "shell.execute_reply.started": "2022-03-30T17:30:25.14469Z"
    },
    "id": "RWsL_f4eB5B2",
    "outputId": "2a22ed8d-354c-4bdf-c1f1-a94c22e44423"
   },
   "outputs": [
    {
     "name": "stdout",
     "output_type": "stream",
     "text": [
      "Components of the time series:\n"
     ]
    },
    {
     "data": {
      "image/png": "[encoded data removed]",
      "text/plain": [
       "<Figure size 648x648 with 3 Axes>"
      ]
     },
     "metadata": {},
     "output_type": "display_data"
    }
   ],
   "source": [
    "m.plot_components(forecast);\n",
    "print(\"Components of the time series:\")"
   ]
  },
  {
   "cell_type": "code",
   "execution_count": 34,
   "metadata": {
    "execution": {
     "iopub.execute_input": "2022-03-30T17:30:25.822658Z",
     "iopub.status.busy": "2022-03-30T17:30:25.822425Z",
     "iopub.status.idle": "2022-03-30T17:30:25.838136Z",
     "shell.execute_reply": "2022-03-30T17:30:25.836933Z",
     "shell.execute_reply.started": "2022-03-30T17:30:25.822629Z"
    },
    "id": "jzO55k-q-xqy"
   },
   "outputs": [
    {
     "name": "stdout",
     "output_type": "stream",
     "text": [
      "<class 'pandas.core.frame.DataFrame'>\n",
      "RangeIndex: 3610 entries, 0 to 3609\n",
      "Data columns (total 4 columns):\n",
      " #   Column      Non-Null Count  Dtype         \n",
      "---  ------      --------------  -----         \n",
      " 0   ds          3610 non-null   datetime64[ns]\n",
      " 1   yhat_lower  3610 non-null   float64       \n",
      " 2   yhat        3610 non-null   float64       \n",
      " 3   yhat_upper  3610 non-null   float64       \n",
      "dtypes: datetime64[ns](1), float64(3)\n",
      "memory usage: 112.9 KB\n"
     ]
    }
   ],
   "source": [
    "#p_forecast = forecast[forecast['ds']>'2022-02-18 16:00:00'][['ds','yhat_lower','yhat','yhat_upper']]\n",
    "p_forecast = forecast[['ds','yhat_lower','yhat','yhat_upper']]\n",
    "p_forecast.info()"
   ]
  },
  {
   "cell_type": "code",
   "execution_count": 35,
   "metadata": {
    "execution": {
     "iopub.execute_input": "2022-03-30T17:30:25.840159Z",
     "iopub.status.busy": "2022-03-30T17:30:25.839492Z",
     "iopub.status.idle": "2022-03-30T17:30:26.140105Z",
     "shell.execute_reply": "2022-03-30T17:30:26.139225Z",
     "shell.execute_reply.started": "2022-03-30T17:30:25.84012Z"
    },
    "id": "D3luqYmd-xjx",
    "outputId": "27964f81-f5d6-473f-bf14-465c982d7cef"
   },
   "outputs": [
    {
     "data": {
      "text/plain": [
       "Text(0, 0.5, 'Water Level (cm)')"
      ]
     },
     "execution_count": 35,
     "metadata": {},
     "output_type": "execute_result"
    },
    {
     "data": {
      "image/png": "[encoded data removed]",
      "text/plain": [
       "<Figure size 864x432 with 1 Axes>"
      ]
     },
     "metadata": {},
     "output_type": "display_data"
    }
   ],
   "source": [
    "plt.figure(figsize=(12,6))\n",
    "plt.xticks(rotation=45)\n",
    "plt.title(\"Detail of Forecast using Prophet\")\n",
    "plt.plot(p_forecast['ds'], p_forecast['yhat'], marker='.', c='navy')\n",
    "plt.fill_between(p_forecast['ds'],p_forecast['yhat_lower'], p_forecast['yhat_upper'], alpha=0.1, color='cyan')\n",
    "plt.xlabel(\"Dates\")\n",
    "plt.ylabel(\"Water Level (cm)\")"
   ]
  },
  {
   "cell_type": "markdown",
   "metadata": {
    "id": "gdCVB2iaLqmS"
   },
   "source": [
    "### Performance Metrics"
   ]
  },
  {
   "cell_type": "code",
   "execution_count": 36,
   "metadata": {
    "execution": {
     "iopub.execute_input": "2022-03-30T17:30:26.141979Z",
     "iopub.status.busy": "2022-03-30T17:30:26.141692Z",
     "iopub.status.idle": "2022-03-30T17:30:26.338528Z",
     "shell.execute_reply": "2022-03-30T17:30:26.337703Z",
     "shell.execute_reply.started": "2022-03-30T17:30:26.141948Z"
    },
    "id": "tPJQi-dm-wrf"
   },
   "outputs": [],
   "source": [
    "from sklearn.metrics import mean_squared_error"
   ]
  },
  {
   "cell_type": "code",
   "execution_count": 37,
   "metadata": {
    "execution": {
     "iopub.execute_input": "2022-03-30T17:30:26.340146Z",
     "iopub.status.busy": "2022-03-30T17:30:26.339948Z",
     "iopub.status.idle": "2022-03-30T17:30:26.351931Z",
     "shell.execute_reply": "2022-03-30T17:30:26.351034Z",
     "shell.execute_reply.started": "2022-03-30T17:30:26.340121Z"
    }
   },
   "outputs": [
    {
     "name": "stdout",
     "output_type": "stream",
     "text": [
      "<class 'pandas.core.frame.DataFrame'>\n",
      "Int64Index: 2170 entries, 6 to 30542\n",
      "Data columns (total 2 columns):\n",
      " #   Column  Non-Null Count  Dtype         \n",
      "---  ------  --------------  -----         \n",
      " 0   ds      2170 non-null   datetime64[ns]\n",
      " 1   y       2170 non-null   int64         \n",
      "dtypes: datetime64[ns](1), int64(1)\n",
      "memory usage: 50.9 KB\n"
     ]
    }
   ],
   "source": [
    "df_tma_kar.info()"
   ]
  },
  {
   "cell_type": "code",
   "execution_count": 38,
   "metadata": {
    "execution": {
     "iopub.execute_input": "2022-03-30T17:30:26.35464Z",
     "iopub.status.busy": "2022-03-30T17:30:26.353529Z",
     "iopub.status.idle": "2022-03-30T17:30:26.381566Z",
     "shell.execute_reply": "2022-03-30T17:30:26.38033Z",
     "shell.execute_reply.started": "2022-03-30T17:30:26.354592Z"
    }
   },
   "outputs": [
    {
     "data": {
      "text/html": [
       "<div>\n",
       "<style scoped>\n",
       "    .dataframe tbody tr th:only-of-type {\n",
       "        vertical-align: middle;\n",
       "    }\n",
       "\n",
       "    .dataframe tbody tr th {\n",
       "        vertical-align: top;\n",
       "    }\n",
       "\n",
       "    .dataframe thead th {\n",
       "        text-align: right;\n",
       "    }\n",
       "</style>\n",
       "<table border=\"1\" class=\"dataframe\">\n",
       "  <thead>\n",
       "    <tr style=\"text-align: right;\">\n",
       "      <th></th>\n",
       "      <th>ds</th>\n",
       "      <th>yhat_lower</th>\n",
       "      <th>yhat_upper</th>\n",
       "      <th>yhat</th>\n",
       "      <th>y</th>\n",
       "    </tr>\n",
       "  </thead>\n",
       "  <tbody>\n",
       "    <tr>\n",
       "      <th>0</th>\n",
       "      <td>2021-11-16 03:00:00</td>\n",
       "      <td>220.276098</td>\n",
       "      <td>287.347792</td>\n",
       "      <td>253.392183</td>\n",
       "      <td>250</td>\n",
       "    </tr>\n",
       "    <tr>\n",
       "      <th>1</th>\n",
       "      <td>2021-11-16 04:00:00</td>\n",
       "      <td>223.095113</td>\n",
       "      <td>289.046904</td>\n",
       "      <td>255.155551</td>\n",
       "      <td>250</td>\n",
       "    </tr>\n",
       "    <tr>\n",
       "      <th>2</th>\n",
       "      <td>2021-11-16 05:00:00</td>\n",
       "      <td>221.170202</td>\n",
       "      <td>292.654430</td>\n",
       "      <td>257.212928</td>\n",
       "      <td>250</td>\n",
       "    </tr>\n",
       "    <tr>\n",
       "      <th>3</th>\n",
       "      <td>2021-11-16 06:00:00</td>\n",
       "      <td>226.932777</td>\n",
       "      <td>291.280205</td>\n",
       "      <td>259.168977</td>\n",
       "      <td>250</td>\n",
       "    </tr>\n",
       "    <tr>\n",
       "      <th>4</th>\n",
       "      <td>2021-11-16 07:00:00</td>\n",
       "      <td>227.203855</td>\n",
       "      <td>292.697226</td>\n",
       "      <td>260.783971</td>\n",
       "      <td>250</td>\n",
       "    </tr>\n",
       "  </tbody>\n",
       "</table>\n",
       "</div>"
      ],
      "text/plain": [
       "                   ds  yhat_lower  yhat_upper        yhat    y\n",
       "0 2021-11-16 03:00:00  220.276098  287.347792  253.392183  250\n",
       "1 2021-11-16 04:00:00  223.095113  289.046904  255.155551  250\n",
       "2 2021-11-16 05:00:00  221.170202  292.654430  257.212928  250\n",
       "3 2021-11-16 06:00:00  226.932777  291.280205  259.168977  250\n",
       "4 2021-11-16 07:00:00  227.203855  292.697226  260.783971  250"
      ]
     },
     "execution_count": 38,
     "metadata": {},
     "output_type": "execute_result"
    }
   ],
   "source": [
    "df_tma_kar_merge = pd.merge(df_tma_kar, forecast[['ds','yhat_lower','yhat_upper','yhat']],on='ds')\n",
    "df_tma_kar_merge = df_tma_kar_merge[['ds','yhat_lower','yhat_upper','yhat','y']]\n",
    "df_tma_kar_merge.head()"
   ]
  },
  {
   "cell_type": "code",
   "execution_count": 39,
   "metadata": {
    "execution": {
     "iopub.execute_input": "2022-03-30T17:30:26.383324Z",
     "iopub.status.busy": "2022-03-30T17:30:26.383047Z",
     "iopub.status.idle": "2022-03-30T17:30:26.395734Z",
     "shell.execute_reply": "2022-03-30T17:30:26.394699Z",
     "shell.execute_reply.started": "2022-03-30T17:30:26.383292Z"
    }
   },
   "outputs": [
    {
     "data": {
      "text/html": [
       "<div>\n",
       "<style scoped>\n",
       "    .dataframe tbody tr th:only-of-type {\n",
       "        vertical-align: middle;\n",
       "    }\n",
       "\n",
       "    .dataframe tbody tr th {\n",
       "        vertical-align: top;\n",
       "    }\n",
       "\n",
       "    .dataframe thead th {\n",
       "        text-align: right;\n",
       "    }\n",
       "</style>\n",
       "<table border=\"1\" class=\"dataframe\">\n",
       "  <thead>\n",
       "    <tr style=\"text-align: right;\">\n",
       "      <th></th>\n",
       "      <th>ds</th>\n",
       "      <th>yhat_lower</th>\n",
       "      <th>yhat_upper</th>\n",
       "      <th>yhat</th>\n",
       "      <th>y</th>\n",
       "    </tr>\n",
       "  </thead>\n",
       "  <tbody>\n",
       "    <tr>\n",
       "      <th>2165</th>\n",
       "      <td>2022-02-18 12:00:00</td>\n",
       "      <td>263.659057</td>\n",
       "      <td>331.188609</td>\n",
       "      <td>296.987255</td>\n",
       "      <td>350</td>\n",
       "    </tr>\n",
       "    <tr>\n",
       "      <th>2166</th>\n",
       "      <td>2022-02-18 13:00:00</td>\n",
       "      <td>264.439373</td>\n",
       "      <td>327.565654</td>\n",
       "      <td>296.850147</td>\n",
       "      <td>360</td>\n",
       "    </tr>\n",
       "    <tr>\n",
       "      <th>2167</th>\n",
       "      <td>2022-02-18 14:00:00</td>\n",
       "      <td>263.806977</td>\n",
       "      <td>330.233630</td>\n",
       "      <td>296.273610</td>\n",
       "      <td>350</td>\n",
       "    </tr>\n",
       "    <tr>\n",
       "      <th>2168</th>\n",
       "      <td>2022-02-18 15:00:00</td>\n",
       "      <td>262.341556</td>\n",
       "      <td>329.243089</td>\n",
       "      <td>295.381332</td>\n",
       "      <td>330</td>\n",
       "    </tr>\n",
       "    <tr>\n",
       "      <th>2169</th>\n",
       "      <td>2022-02-18 16:00:00</td>\n",
       "      <td>261.269007</td>\n",
       "      <td>325.404825</td>\n",
       "      <td>294.393507</td>\n",
       "      <td>310</td>\n",
       "    </tr>\n",
       "  </tbody>\n",
       "</table>\n",
       "</div>"
      ],
      "text/plain": [
       "                      ds  yhat_lower  yhat_upper        yhat    y\n",
       "2165 2022-02-18 12:00:00  263.659057  331.188609  296.987255  350\n",
       "2166 2022-02-18 13:00:00  264.439373  327.565654  296.850147  360\n",
       "2167 2022-02-18 14:00:00  263.806977  330.233630  296.273610  350\n",
       "2168 2022-02-18 15:00:00  262.341556  329.243089  295.381332  330\n",
       "2169 2022-02-18 16:00:00  261.269007  325.404825  294.393507  310"
      ]
     },
     "execution_count": 39,
     "metadata": {},
     "output_type": "execute_result"
    }
   ],
   "source": [
    "df_tma_kar_merge.tail()"
   ]
  },
  {
   "cell_type": "code",
   "execution_count": 40,
   "metadata": {
    "execution": {
     "iopub.execute_input": "2022-03-30T17:30:26.3975Z",
     "iopub.status.busy": "2022-03-30T17:30:26.397258Z",
     "iopub.status.idle": "2022-03-30T17:30:26.414218Z",
     "shell.execute_reply": "2022-03-30T17:30:26.413232Z",
     "shell.execute_reply.started": "2022-03-30T17:30:26.397463Z"
    },
    "id": "h3g-k2Bd-wlT"
   },
   "outputs": [],
   "source": [
    "prophet_mse = mean_squared_error(df_tma_kar_merge['y'], df_tma_kar_merge['yhat'])\n",
    "prophet_rmse = np.sqrt(mean_squared_error(df_tma_kar_merge['y'], df_tma_kar_merge['yhat']))"
   ]
  },
  {
   "cell_type": "code",
   "execution_count": 41,
   "metadata": {
    "execution": {
     "iopub.execute_input": "2022-03-30T17:30:26.41597Z",
     "iopub.status.busy": "2022-03-30T17:30:26.415695Z",
     "iopub.status.idle": "2022-03-30T17:30:26.428972Z",
     "shell.execute_reply": "2022-03-30T17:30:26.428162Z",
     "shell.execute_reply.started": "2022-03-30T17:30:26.415939Z"
    },
    "id": "shJVx922-wh5",
    "outputId": "8362eca7-9488-45b3-c55d-b5553b8ab96c"
   },
   "outputs": [
    {
     "name": "stdout",
     "output_type": "stream",
     "text": [
      "Prophet MSE: 683.2334\n",
      "Prophet RMSE: 26.1387\n"
     ]
    }
   ],
   "source": [
    "print(\"Prophet MSE: {:.4f}\".format(prophet_mse))\n",
    "print(\"Prophet RMSE: {:.4f}\".format(prophet_rmse))"
   ]
  },
  {
   "cell_type": "markdown",
   "metadata": {
    "id": "Ut0bqOp6NKXB"
   },
   "source": [
    "## NeuralProphet"
   ]
  },
  {
   "cell_type": "code",
   "execution_count": 42,
   "metadata": {
    "execution": {
     "iopub.execute_input": "2022-03-30T17:30:26.431105Z",
     "iopub.status.busy": "2022-03-30T17:30:26.43087Z",
     "iopub.status.idle": "2022-03-30T17:30:38.087799Z",
     "shell.execute_reply": "2022-03-30T17:30:38.086937Z",
     "shell.execute_reply.started": "2022-03-30T17:30:26.431074Z"
    },
    "id": "_MmLi72YQUzB"
   },
   "outputs": [],
   "source": [
    "!pip install neuralprophet -q"
   ]
  },
  {
   "cell_type": "code",
   "execution_count": 43,
   "metadata": {
    "execution": {
     "iopub.execute_input": "2022-03-30T17:30:38.089756Z",
     "iopub.status.busy": "2022-03-30T17:30:38.089438Z",
     "iopub.status.idle": "2022-03-30T17:30:39.338981Z",
     "shell.execute_reply": "2022-03-30T17:30:39.33804Z",
     "shell.execute_reply.started": "2022-03-30T17:30:38.089704Z"
    },
    "id": "z8ZOYrkOQ5A_"
   },
   "outputs": [],
   "source": [
    "from neuralprophet import NeuralProphet, set_random_seed"
   ]
  },
  {
   "cell_type": "code",
   "execution_count": 44,
   "metadata": {
    "execution": {
     "iopub.execute_input": "2022-03-30T17:30:39.342378Z",
     "iopub.status.busy": "2022-03-30T17:30:39.342081Z",
     "iopub.status.idle": "2022-03-30T17:30:39.348486Z",
     "shell.execute_reply": "2022-03-30T17:30:39.34783Z",
     "shell.execute_reply.started": "2022-03-30T17:30:39.342334Z"
    },
    "id": "jzVA9PzwVDWF"
   },
   "outputs": [],
   "source": [
    "set_random_seed(42)"
   ]
  },
  {
   "cell_type": "code",
   "execution_count": 45,
   "metadata": {
    "execution": {
     "iopub.execute_input": "2022-03-30T17:30:39.350243Z",
     "iopub.status.busy": "2022-03-30T17:30:39.349946Z",
     "iopub.status.idle": "2022-03-30T17:30:39.389058Z",
     "shell.execute_reply": "2022-03-30T17:30:39.388073Z",
     "shell.execute_reply.started": "2022-03-30T17:30:39.350202Z"
    },
    "id": "j1etU6abQU2_"
   },
   "outputs": [],
   "source": [
    "nm = NeuralProphet(seasonality_mode='additive')"
   ]
  },
  {
   "cell_type": "code",
   "execution_count": 46,
   "metadata": {
    "execution": {
     "iopub.execute_input": "2022-03-30T17:30:39.396328Z",
     "iopub.status.busy": "2022-03-30T17:30:39.395712Z",
     "iopub.status.idle": "2022-03-30T17:31:00.728805Z",
     "shell.execute_reply": "2022-03-30T17:31:00.72779Z",
     "shell.execute_reply.started": "2022-03-30T17:30:39.396288Z"
    },
    "id": "94DWQAlRQU6l",
    "outputId": "e119abca-ba94-48f8-cf50-60a76f8bbce8"
   },
   "outputs": [
    {
     "name": "stderr",
     "output_type": "stream",
     "text": [
      "INFO - (NP.df_utils._infer_frequency) - Major frequency H corresponds to 97.005% of the data.\n",
      "INFO:NP.df_utils:Major frequency H corresponds to 97.005% of the data.\n",
      "INFO - (NP.df_utils._infer_frequency) - Defined frequency is equal to major frequency - H\n",
      "INFO:NP.df_utils:Defined frequency is equal to major frequency - H\n",
      "INFO - (NP.config.init_data_params) - Setting normalization to global as only one dataframe provided for training.\n",
      "INFO:NP.config:Setting normalization to global as only one dataframe provided for training.\n",
      "INFO - (NP.utils.set_auto_seasonalities) - Disabling yearly seasonality. Run NeuralProphet with yearly_seasonality=True to override this.\n",
      "INFO:NP.utils:Disabling yearly seasonality. Run NeuralProphet with yearly_seasonality=True to override this.\n",
      "INFO - (NP.config.set_auto_batch_epoch) - Auto-set batch_size to 32\n",
      "INFO:NP.config:Auto-set batch_size to 32\n",
      "INFO - (NP.config.set_auto_batch_epoch) - Auto-set epochs to 154\n",
      "INFO:NP.config:Auto-set epochs to 154\n"
     ]
    },
    {
     "data": {
      "application/vnd.jupyter.widget-view+json": {
       "model_id": "8c9e47c3a6a84ab4aa9be9a2b175781e",
       "version_major": 2,
       "version_minor": 0
      },
      "text/plain": [
       "  0%|          | 0/133 [00:00<?, ?it/s]"
      ]
     },
     "metadata": {},
     "output_type": "display_data"
    },
    {
     "name": "stderr",
     "output_type": "stream",
     "text": [
      "INFO - (NP.utils_torch.lr_range_test) - lr-range-test results: steep: 1.00E-01, min: 1.69E+00\n",
      "INFO:NP.utils_torch:lr-range-test results: steep: 1.00E-01, min: 1.69E+00\n"
     ]
    },
    {
     "data": {
      "application/vnd.jupyter.widget-view+json": {
       "model_id": "c6464cc8bbb840368d269a8bcbd8a655",
       "version_major": 2,
       "version_minor": 0
      },
      "text/plain": [
       "  0%|          | 0/133 [00:00<?, ?it/s]"
      ]
     },
     "metadata": {},
     "output_type": "display_data"
    },
    {
     "name": "stderr",
     "output_type": "stream",
     "text": [
      "INFO - (NP.utils_torch.lr_range_test) - lr-range-test results: steep: 1.17E-01, min: 4.11E-01\n",
      "INFO:NP.utils_torch:lr-range-test results: steep: 1.17E-01, min: 4.11E-01\n",
      "INFO - (NP.forecaster._init_train_loader) - lr-range-test selected learning rate: 1.05E-01\n",
      "INFO:NP.forecaster:lr-range-test selected learning rate: 1.05E-01\n",
      "Epoch[154/154]: 100%|██████████| 154/154 [00:16<00:00,  9.32it/s, SmoothL1Loss=0.0409, MAE=18.1, RMSE=25.4, RegLoss=0]\n"
     ]
    },
    {
     "data": {
      "text/html": [
       "<div>\n",
       "<style scoped>\n",
       "    .dataframe tbody tr th:only-of-type {\n",
       "        vertical-align: middle;\n",
       "    }\n",
       "\n",
       "    .dataframe tbody tr th {\n",
       "        vertical-align: top;\n",
       "    }\n",
       "\n",
       "    .dataframe thead th {\n",
       "        text-align: right;\n",
       "    }\n",
       "</style>\n",
       "<table border=\"1\" class=\"dataframe\">\n",
       "  <thead>\n",
       "    <tr style=\"text-align: right;\">\n",
       "      <th></th>\n",
       "      <th>SmoothL1Loss</th>\n",
       "      <th>MAE</th>\n",
       "      <th>RMSE</th>\n",
       "      <th>RegLoss</th>\n",
       "    </tr>\n",
       "  </thead>\n",
       "  <tbody>\n",
       "    <tr>\n",
       "      <th>0</th>\n",
       "      <td>0.686973</td>\n",
       "      <td>98.882760</td>\n",
       "      <td>121.420684</td>\n",
       "      <td>0.0</td>\n",
       "    </tr>\n",
       "    <tr>\n",
       "      <th>1</th>\n",
       "      <td>0.604844</td>\n",
       "      <td>90.613181</td>\n",
       "      <td>111.481861</td>\n",
       "      <td>0.0</td>\n",
       "    </tr>\n",
       "    <tr>\n",
       "      <th>2</th>\n",
       "      <td>0.508131</td>\n",
       "      <td>80.785626</td>\n",
       "      <td>99.448126</td>\n",
       "      <td>0.0</td>\n",
       "    </tr>\n",
       "    <tr>\n",
       "      <th>3</th>\n",
       "      <td>0.392218</td>\n",
       "      <td>68.700415</td>\n",
       "      <td>84.369630</td>\n",
       "      <td>0.0</td>\n",
       "    </tr>\n",
       "    <tr>\n",
       "      <th>4</th>\n",
       "      <td>0.267132</td>\n",
       "      <td>55.288298</td>\n",
       "      <td>67.081895</td>\n",
       "      <td>0.0</td>\n",
       "    </tr>\n",
       "    <tr>\n",
       "      <th>...</th>\n",
       "      <td>...</td>\n",
       "      <td>...</td>\n",
       "      <td>...</td>\n",
       "      <td>...</td>\n",
       "    </tr>\n",
       "    <tr>\n",
       "      <th>149</th>\n",
       "      <td>0.040955</td>\n",
       "      <td>18.110523</td>\n",
       "      <td>25.275603</td>\n",
       "      <td>0.0</td>\n",
       "    </tr>\n",
       "    <tr>\n",
       "      <th>150</th>\n",
       "      <td>0.040927</td>\n",
       "      <td>18.129206</td>\n",
       "      <td>25.320336</td>\n",
       "      <td>0.0</td>\n",
       "    </tr>\n",
       "    <tr>\n",
       "      <th>151</th>\n",
       "      <td>0.040903</td>\n",
       "      <td>18.113696</td>\n",
       "      <td>25.310696</td>\n",
       "      <td>0.0</td>\n",
       "    </tr>\n",
       "    <tr>\n",
       "      <th>152</th>\n",
       "      <td>0.040879</td>\n",
       "      <td>18.109159</td>\n",
       "      <td>25.073482</td>\n",
       "      <td>0.0</td>\n",
       "    </tr>\n",
       "    <tr>\n",
       "      <th>153</th>\n",
       "      <td>0.040871</td>\n",
       "      <td>18.109743</td>\n",
       "      <td>25.400560</td>\n",
       "      <td>0.0</td>\n",
       "    </tr>\n",
       "  </tbody>\n",
       "</table>\n",
       "<p>154 rows × 4 columns</p>\n",
       "</div>"
      ],
      "text/plain": [
       "     SmoothL1Loss        MAE        RMSE  RegLoss\n",
       "0        0.686973  98.882760  121.420684      0.0\n",
       "1        0.604844  90.613181  111.481861      0.0\n",
       "2        0.508131  80.785626   99.448126      0.0\n",
       "3        0.392218  68.700415   84.369630      0.0\n",
       "4        0.267132  55.288298   67.081895      0.0\n",
       "..            ...        ...         ...      ...\n",
       "149      0.040955  18.110523   25.275603      0.0\n",
       "150      0.040927  18.129206   25.320336      0.0\n",
       "151      0.040903  18.113696   25.310696      0.0\n",
       "152      0.040879  18.109159   25.073482      0.0\n",
       "153      0.040871  18.109743   25.400560      0.0\n",
       "\n",
       "[154 rows x 4 columns]"
      ]
     },
     "execution_count": 46,
     "metadata": {},
     "output_type": "execute_result"
    }
   ],
   "source": [
    "nm.fit(df_tma_kar, freq='H')"
   ]
  },
  {
   "cell_type": "code",
   "execution_count": 47,
   "metadata": {
    "execution": {
     "iopub.execute_input": "2022-03-30T17:31:00.730514Z",
     "iopub.status.busy": "2022-03-30T17:31:00.730084Z",
     "iopub.status.idle": "2022-03-30T17:31:00.770386Z",
     "shell.execute_reply": "2022-03-30T17:31:00.769613Z",
     "shell.execute_reply.started": "2022-03-30T17:31:00.730413Z"
    },
    "id": "2712r-y6QU_J"
   },
   "outputs": [
    {
     "name": "stderr",
     "output_type": "stream",
     "text": [
      "INFO - (NP.df_utils._infer_frequency) - Major frequency H corresponds to 90.461% of the data.\n",
      "INFO:NP.df_utils:Major frequency H corresponds to 90.461% of the data.\n",
      "INFO - (NP.df_utils._infer_frequency) - Defined frequency is equal to major frequency - H\n",
      "INFO:NP.df_utils:Defined frequency is equal to major frequency - H\n"
     ]
    },
    {
     "data": {
      "text/html": [
       "<div>\n",
       "<style scoped>\n",
       "    .dataframe tbody tr th:only-of-type {\n",
       "        vertical-align: middle;\n",
       "    }\n",
       "\n",
       "    .dataframe tbody tr th {\n",
       "        vertical-align: top;\n",
       "    }\n",
       "\n",
       "    .dataframe thead th {\n",
       "        text-align: right;\n",
       "    }\n",
       "</style>\n",
       "<table border=\"1\" class=\"dataframe\">\n",
       "  <thead>\n",
       "    <tr style=\"text-align: right;\">\n",
       "      <th></th>\n",
       "      <th>ds</th>\n",
       "      <th>y</th>\n",
       "    </tr>\n",
       "  </thead>\n",
       "  <tbody>\n",
       "    <tr>\n",
       "      <th>0</th>\n",
       "      <td>2021-11-16 03:00:00</td>\n",
       "      <td>250</td>\n",
       "    </tr>\n",
       "    <tr>\n",
       "      <th>1</th>\n",
       "      <td>2021-11-16 04:00:00</td>\n",
       "      <td>250</td>\n",
       "    </tr>\n",
       "    <tr>\n",
       "      <th>2</th>\n",
       "      <td>2021-11-16 05:00:00</td>\n",
       "      <td>250</td>\n",
       "    </tr>\n",
       "    <tr>\n",
       "      <th>3</th>\n",
       "      <td>2021-11-16 06:00:00</td>\n",
       "      <td>250</td>\n",
       "    </tr>\n",
       "    <tr>\n",
       "      <th>4</th>\n",
       "      <td>2021-11-16 07:00:00</td>\n",
       "      <td>250</td>\n",
       "    </tr>\n",
       "    <tr>\n",
       "      <th>...</th>\n",
       "      <td>...</td>\n",
       "      <td>...</td>\n",
       "    </tr>\n",
       "    <tr>\n",
       "      <th>3605</th>\n",
       "      <td>2022-04-19 12:00:00</td>\n",
       "      <td>None</td>\n",
       "    </tr>\n",
       "    <tr>\n",
       "      <th>3606</th>\n",
       "      <td>2022-04-19 13:00:00</td>\n",
       "      <td>None</td>\n",
       "    </tr>\n",
       "    <tr>\n",
       "      <th>3607</th>\n",
       "      <td>2022-04-19 14:00:00</td>\n",
       "      <td>None</td>\n",
       "    </tr>\n",
       "    <tr>\n",
       "      <th>3608</th>\n",
       "      <td>2022-04-19 15:00:00</td>\n",
       "      <td>None</td>\n",
       "    </tr>\n",
       "    <tr>\n",
       "      <th>3609</th>\n",
       "      <td>2022-04-19 16:00:00</td>\n",
       "      <td>None</td>\n",
       "    </tr>\n",
       "  </tbody>\n",
       "</table>\n",
       "<p>3610 rows × 2 columns</p>\n",
       "</div>"
      ],
      "text/plain": [
       "                      ds     y\n",
       "0    2021-11-16 03:00:00   250\n",
       "1    2021-11-16 04:00:00   250\n",
       "2    2021-11-16 05:00:00   250\n",
       "3    2021-11-16 06:00:00   250\n",
       "4    2021-11-16 07:00:00   250\n",
       "...                  ...   ...\n",
       "3605 2022-04-19 12:00:00  None\n",
       "3606 2022-04-19 13:00:00  None\n",
       "3607 2022-04-19 14:00:00  None\n",
       "3608 2022-04-19 15:00:00  None\n",
       "3609 2022-04-19 16:00:00  None\n",
       "\n",
       "[3610 rows x 2 columns]"
      ]
     },
     "execution_count": 47,
     "metadata": {},
     "output_type": "execute_result"
    }
   ],
   "source": [
    "n_future = nm.make_future_dataframe(df_tma_kar, periods=1440, n_historic_predictions=len(df_tma_kar))\n",
    "n_future"
   ]
  },
  {
   "cell_type": "code",
   "execution_count": 48,
   "metadata": {
    "execution": {
     "iopub.execute_input": "2022-03-30T17:31:00.772189Z",
     "iopub.status.busy": "2022-03-30T17:31:00.771618Z",
     "iopub.status.idle": "2022-03-30T17:31:00.784288Z",
     "shell.execute_reply": "2022-03-30T17:31:00.78344Z",
     "shell.execute_reply.started": "2022-03-30T17:31:00.772147Z"
    },
    "id": "YEDwelt4QVEC",
    "outputId": "05320861-f7fa-4dd1-d08e-146d658bb393"
   },
   "outputs": [
    {
     "data": {
      "text/html": [
       "<div>\n",
       "<style scoped>\n",
       "    .dataframe tbody tr th:only-of-type {\n",
       "        vertical-align: middle;\n",
       "    }\n",
       "\n",
       "    .dataframe tbody tr th {\n",
       "        vertical-align: top;\n",
       "    }\n",
       "\n",
       "    .dataframe thead th {\n",
       "        text-align: right;\n",
       "    }\n",
       "</style>\n",
       "<table border=\"1\" class=\"dataframe\">\n",
       "  <thead>\n",
       "    <tr style=\"text-align: right;\">\n",
       "      <th></th>\n",
       "      <th>ds</th>\n",
       "      <th>y</th>\n",
       "    </tr>\n",
       "  </thead>\n",
       "  <tbody>\n",
       "    <tr>\n",
       "      <th>3605</th>\n",
       "      <td>2022-04-19 12:00:00</td>\n",
       "      <td>None</td>\n",
       "    </tr>\n",
       "    <tr>\n",
       "      <th>3606</th>\n",
       "      <td>2022-04-19 13:00:00</td>\n",
       "      <td>None</td>\n",
       "    </tr>\n",
       "    <tr>\n",
       "      <th>3607</th>\n",
       "      <td>2022-04-19 14:00:00</td>\n",
       "      <td>None</td>\n",
       "    </tr>\n",
       "    <tr>\n",
       "      <th>3608</th>\n",
       "      <td>2022-04-19 15:00:00</td>\n",
       "      <td>None</td>\n",
       "    </tr>\n",
       "    <tr>\n",
       "      <th>3609</th>\n",
       "      <td>2022-04-19 16:00:00</td>\n",
       "      <td>None</td>\n",
       "    </tr>\n",
       "  </tbody>\n",
       "</table>\n",
       "</div>"
      ],
      "text/plain": [
       "                      ds     y\n",
       "3605 2022-04-19 12:00:00  None\n",
       "3606 2022-04-19 13:00:00  None\n",
       "3607 2022-04-19 14:00:00  None\n",
       "3608 2022-04-19 15:00:00  None\n",
       "3609 2022-04-19 16:00:00  None"
      ]
     },
     "execution_count": 48,
     "metadata": {},
     "output_type": "execute_result"
    }
   ],
   "source": [
    "n_future.tail()"
   ]
  },
  {
   "cell_type": "code",
   "execution_count": 49,
   "metadata": {
    "execution": {
     "iopub.execute_input": "2022-03-30T17:31:00.786066Z",
     "iopub.status.busy": "2022-03-30T17:31:00.785807Z",
     "iopub.status.idle": "2022-03-30T17:31:01.96183Z",
     "shell.execute_reply": "2022-03-30T17:31:01.960813Z",
     "shell.execute_reply.started": "2022-03-30T17:31:00.786034Z"
    },
    "id": "9itH7Z1sQVIM"
   },
   "outputs": [
    {
     "name": "stderr",
     "output_type": "stream",
     "text": [
      "INFO - (NP.df_utils._infer_frequency) - Major frequency H corresponds to 98.199% of the data.\n",
      "INFO:NP.df_utils:Major frequency H corresponds to 98.199% of the data.\n",
      "INFO - (NP.df_utils._infer_frequency) - Defined frequency is equal to major frequency - H\n",
      "INFO:NP.df_utils:Defined frequency is equal to major frequency - H\n",
      "INFO - (NP.df_utils._infer_frequency) - Major frequency H corresponds to 98.199% of the data.\n",
      "INFO:NP.df_utils:Major frequency H corresponds to 98.199% of the data.\n",
      "INFO - (NP.df_utils._infer_frequency) - Defined frequency is equal to major frequency - H\n",
      "INFO:NP.df_utils:Defined frequency is equal to major frequency - H\n"
     ]
    }
   ],
   "source": [
    "n_forecast = nm.predict(n_future)"
   ]
  },
  {
   "cell_type": "code",
   "execution_count": 50,
   "metadata": {
    "execution": {
     "iopub.execute_input": "2022-03-30T17:31:01.963978Z",
     "iopub.status.busy": "2022-03-30T17:31:01.963494Z",
     "iopub.status.idle": "2022-03-30T17:31:01.978961Z",
     "shell.execute_reply": "2022-03-30T17:31:01.978064Z",
     "shell.execute_reply.started": "2022-03-30T17:31:01.96394Z"
    }
   },
   "outputs": [
    {
     "name": "stdout",
     "output_type": "stream",
     "text": [
      "<class 'pandas.core.frame.DataFrame'>\n",
      "RangeIndex: 3610 entries, 0 to 3609\n",
      "Data columns (total 7 columns):\n",
      " #   Column         Non-Null Count  Dtype         \n",
      "---  ------         --------------  -----         \n",
      " 0   ds             3610 non-null   datetime64[ns]\n",
      " 1   y              2170 non-null   object        \n",
      " 2   yhat1          3610 non-null   float64       \n",
      " 3   residual1      2170 non-null   object        \n",
      " 4   trend          3610 non-null   float64       \n",
      " 5   season_weekly  3610 non-null   float64       \n",
      " 6   season_daily   3610 non-null   float64       \n",
      "dtypes: datetime64[ns](1), float64(4), object(2)\n",
      "memory usage: 197.5+ KB\n"
     ]
    }
   ],
   "source": [
    "n_forecast.info()"
   ]
  },
  {
   "cell_type": "code",
   "execution_count": 51,
   "metadata": {
    "execution": {
     "iopub.execute_input": "2022-03-30T17:31:01.980904Z",
     "iopub.status.busy": "2022-03-30T17:31:01.980259Z",
     "iopub.status.idle": "2022-03-30T17:31:02.004568Z",
     "shell.execute_reply": "2022-03-30T17:31:02.003677Z",
     "shell.execute_reply.started": "2022-03-30T17:31:01.980855Z"
    },
    "id": "pAxbeCwCQVMu",
    "outputId": "93e7f551-74ca-4717-f0a5-0a97d05ef94f"
   },
   "outputs": [
    {
     "data": {
      "text/html": [
       "<div>\n",
       "<style scoped>\n",
       "    .dataframe tbody tr th:only-of-type {\n",
       "        vertical-align: middle;\n",
       "    }\n",
       "\n",
       "    .dataframe tbody tr th {\n",
       "        vertical-align: top;\n",
       "    }\n",
       "\n",
       "    .dataframe thead th {\n",
       "        text-align: right;\n",
       "    }\n",
       "</style>\n",
       "<table border=\"1\" class=\"dataframe\">\n",
       "  <thead>\n",
       "    <tr style=\"text-align: right;\">\n",
       "      <th></th>\n",
       "      <th>ds</th>\n",
       "      <th>y</th>\n",
       "      <th>yhat1</th>\n",
       "      <th>residual1</th>\n",
       "      <th>trend</th>\n",
       "      <th>season_weekly</th>\n",
       "      <th>season_daily</th>\n",
       "    </tr>\n",
       "  </thead>\n",
       "  <tbody>\n",
       "    <tr>\n",
       "      <th>3605</th>\n",
       "      <td>2022-04-19 12:00:00</td>\n",
       "      <td>None</td>\n",
       "      <td>402.824829</td>\n",
       "      <td>NaN</td>\n",
       "      <td>395.022949</td>\n",
       "      <td>3.212819</td>\n",
       "      <td>4.589077</td>\n",
       "    </tr>\n",
       "    <tr>\n",
       "      <th>3606</th>\n",
       "      <td>2022-04-19 13:00:00</td>\n",
       "      <td>None</td>\n",
       "      <td>403.037292</td>\n",
       "      <td>NaN</td>\n",
       "      <td>395.094238</td>\n",
       "      <td>3.383793</td>\n",
       "      <td>4.559243</td>\n",
       "    </tr>\n",
       "    <tr>\n",
       "      <th>3607</th>\n",
       "      <td>2022-04-19 14:00:00</td>\n",
       "      <td>None</td>\n",
       "      <td>403.703217</td>\n",
       "      <td>NaN</td>\n",
       "      <td>395.165527</td>\n",
       "      <td>3.537634</td>\n",
       "      <td>5.000043</td>\n",
       "    </tr>\n",
       "    <tr>\n",
       "      <th>3608</th>\n",
       "      <td>2022-04-19 15:00:00</td>\n",
       "      <td>None</td>\n",
       "      <td>403.307648</td>\n",
       "      <td>NaN</td>\n",
       "      <td>395.236816</td>\n",
       "      <td>3.676065</td>\n",
       "      <td>4.394771</td>\n",
       "    </tr>\n",
       "    <tr>\n",
       "      <th>3609</th>\n",
       "      <td>2022-04-19 16:00:00</td>\n",
       "      <td>None</td>\n",
       "      <td>401.201843</td>\n",
       "      <td>NaN</td>\n",
       "      <td>395.308105</td>\n",
       "      <td>3.800933</td>\n",
       "      <td>2.092803</td>\n",
       "    </tr>\n",
       "  </tbody>\n",
       "</table>\n",
       "</div>"
      ],
      "text/plain": [
       "                      ds     y       yhat1 residual1       trend  \\\n",
       "3605 2022-04-19 12:00:00  None  402.824829       NaN  395.022949   \n",
       "3606 2022-04-19 13:00:00  None  403.037292       NaN  395.094238   \n",
       "3607 2022-04-19 14:00:00  None  403.703217       NaN  395.165527   \n",
       "3608 2022-04-19 15:00:00  None  403.307648       NaN  395.236816   \n",
       "3609 2022-04-19 16:00:00  None  401.201843       NaN  395.308105   \n",
       "\n",
       "      season_weekly  season_daily  \n",
       "3605       3.212819      4.589077  \n",
       "3606       3.383793      4.559243  \n",
       "3607       3.537634      5.000043  \n",
       "3608       3.676065      4.394771  \n",
       "3609       3.800933      2.092803  "
      ]
     },
     "execution_count": 51,
     "metadata": {},
     "output_type": "execute_result"
    }
   ],
   "source": [
    "n_forecast.tail()"
   ]
  },
  {
   "cell_type": "code",
   "execution_count": 52,
   "metadata": {
    "execution": {
     "iopub.execute_input": "2022-03-30T17:31:02.006215Z",
     "iopub.status.busy": "2022-03-30T17:31:02.005956Z",
     "iopub.status.idle": "2022-03-30T17:31:02.30001Z",
     "shell.execute_reply": "2022-03-30T17:31:02.299136Z",
     "shell.execute_reply.started": "2022-03-30T17:31:02.006186Z"
    },
    "id": "BDfgTxJgQVRz",
    "outputId": "bbf586f8-beb6-4467-d367-d86b362c7e7f"
   },
   "outputs": [
    {
     "name": "stderr",
     "output_type": "stream",
     "text": [
      "WARNING:matplotlib.legend:No artists with labels found to put in legend.  Note that artists whose label start with an underscore are ignored when legend() is called with no argument.\n"
     ]
    },
    {
     "data": {
      "text/plain": [
       "Text(0, 0.5, 'Water Level (cm)')"
      ]
     },
     "execution_count": 52,
     "metadata": {},
     "output_type": "execute_result"
    },
    {
     "data": {
      "image/png": "[encoded data removed]",
      "text/plain": [
       "<Figure size 864x432 with 1 Axes>"
      ]
     },
     "metadata": {},
     "output_type": "display_data"
    }
   ],
   "source": [
    "plt.figure(figsize=(12,6))\n",
    "plt.xticks(rotation=45)\n",
    "plt.title(\"Detail of Forecast using NeuralProphet\")\n",
    "plt.plot(n_forecast['ds'], n_forecast['yhat1'], marker='.', c='red')\n",
    "plt.legend()\n",
    "plt.xlabel(\"Dates\")\n",
    "plt.ylabel(\"Water Level (cm)\")"
   ]
  },
  {
   "cell_type": "code",
   "execution_count": 53,
   "metadata": {
    "execution": {
     "iopub.execute_input": "2022-03-30T17:31:02.301509Z",
     "iopub.status.busy": "2022-03-30T17:31:02.30126Z",
     "iopub.status.idle": "2022-03-30T17:31:02.839342Z",
     "shell.execute_reply": "2022-03-30T17:31:02.838415Z",
     "shell.execute_reply.started": "2022-03-30T17:31:02.301479Z"
    },
    "id": "RlRTtEIOQVXh",
    "outputId": "a4807c9c-183b-4251-bc24-05ae03933b03"
   },
   "outputs": [
    {
     "data": {
      "text/plain": [
       "Text(59.875, 0.5, 'Water Level (cm)')"
      ]
     },
     "execution_count": 53,
     "metadata": {},
     "output_type": "execute_result"
    },
    {
     "data": {
      "image/png": "[encoded data removed]",
      "text/plain": [
       "<Figure size 720x432 with 1 Axes>"
      ]
     },
     "metadata": {},
     "output_type": "display_data"
    }
   ],
   "source": [
    "nm.plot(pd.concat([df_tma_kar, n_forecast], ignore_index=True));\n",
    "plt.title(\"Forecast of the Time Series in the next 60 days (1440 hours)\")\n",
    "plt.xlabel(\"Dates\")\n",
    "plt.ylabel(\"Water Level (cm)\")"
   ]
  },
  {
   "cell_type": "code",
   "execution_count": 54,
   "metadata": {
    "execution": {
     "iopub.execute_input": "2022-03-30T17:31:02.841094Z",
     "iopub.status.busy": "2022-03-30T17:31:02.840823Z",
     "iopub.status.idle": "2022-03-30T17:31:03.655858Z",
     "shell.execute_reply": "2022-03-30T17:31:03.654823Z",
     "shell.execute_reply.started": "2022-03-30T17:31:02.841063Z"
    }
   },
   "outputs": [
    {
     "data": {
      "image/png": "[encoded data removed]",
      "text/plain": [
       "<Figure size 720x648 with 3 Axes>"
      ]
     },
     "metadata": {},
     "output_type": "display_data"
    }
   ],
   "source": [
    "nm.plot_components(pd.concat([df_tma_kar, n_forecast], ignore_index=True));"
   ]
  },
  {
   "cell_type": "markdown",
   "metadata": {
    "id": "PxQPboiBTGk6"
   },
   "source": [
    "### Performance Metrics"
   ]
  },
  {
   "cell_type": "code",
   "execution_count": 55,
   "metadata": {
    "execution": {
     "iopub.execute_input": "2022-03-30T17:31:03.657704Z",
     "iopub.status.busy": "2022-03-30T17:31:03.65738Z",
     "iopub.status.idle": "2022-03-30T17:31:03.680125Z",
     "shell.execute_reply": "2022-03-30T17:31:03.679267Z",
     "shell.execute_reply.started": "2022-03-30T17:31:03.657649Z"
    }
   },
   "outputs": [
    {
     "data": {
      "text/html": [
       "<div>\n",
       "<style scoped>\n",
       "    .dataframe tbody tr th:only-of-type {\n",
       "        vertical-align: middle;\n",
       "    }\n",
       "\n",
       "    .dataframe tbody tr th {\n",
       "        vertical-align: top;\n",
       "    }\n",
       "\n",
       "    .dataframe thead th {\n",
       "        text-align: right;\n",
       "    }\n",
       "</style>\n",
       "<table border=\"1\" class=\"dataframe\">\n",
       "  <thead>\n",
       "    <tr style=\"text-align: right;\">\n",
       "      <th></th>\n",
       "      <th>ds</th>\n",
       "      <th>y</th>\n",
       "      <th>yhat1</th>\n",
       "      <th>residual1</th>\n",
       "      <th>trend</th>\n",
       "      <th>season_weekly</th>\n",
       "      <th>season_daily</th>\n",
       "    </tr>\n",
       "  </thead>\n",
       "  <tbody>\n",
       "    <tr>\n",
       "      <th>0</th>\n",
       "      <td>2021-11-16 03:00:00</td>\n",
       "      <td>250</td>\n",
       "      <td>256.245300</td>\n",
       "      <td>6.2453</td>\n",
       "      <td>258.998962</td>\n",
       "      <td>0.711712</td>\n",
       "      <td>-3.465375</td>\n",
       "    </tr>\n",
       "    <tr>\n",
       "      <th>1</th>\n",
       "      <td>2021-11-16 04:00:00</td>\n",
       "      <td>250</td>\n",
       "      <td>257.978271</td>\n",
       "      <td>7.978271</td>\n",
       "      <td>259.050812</td>\n",
       "      <td>1.082007</td>\n",
       "      <td>-2.154555</td>\n",
       "    </tr>\n",
       "    <tr>\n",
       "      <th>2</th>\n",
       "      <td>2021-11-16 05:00:00</td>\n",
       "      <td>250</td>\n",
       "      <td>259.234558</td>\n",
       "      <td>9.234558</td>\n",
       "      <td>259.102692</td>\n",
       "      <td>1.429109</td>\n",
       "      <td>-1.297255</td>\n",
       "    </tr>\n",
       "    <tr>\n",
       "      <th>3</th>\n",
       "      <td>2021-11-16 06:00:00</td>\n",
       "      <td>250</td>\n",
       "      <td>260.709595</td>\n",
       "      <td>10.709595</td>\n",
       "      <td>259.154572</td>\n",
       "      <td>1.752634</td>\n",
       "      <td>-0.197599</td>\n",
       "    </tr>\n",
       "    <tr>\n",
       "      <th>4</th>\n",
       "      <td>2021-11-16 07:00:00</td>\n",
       "      <td>250</td>\n",
       "      <td>261.988770</td>\n",
       "      <td>11.98877</td>\n",
       "      <td>259.206451</td>\n",
       "      <td>2.052490</td>\n",
       "      <td>0.729824</td>\n",
       "    </tr>\n",
       "    <tr>\n",
       "      <th>...</th>\n",
       "      <td>...</td>\n",
       "      <td>...</td>\n",
       "      <td>...</td>\n",
       "      <td>...</td>\n",
       "      <td>...</td>\n",
       "      <td>...</td>\n",
       "      <td>...</td>\n",
       "    </tr>\n",
       "    <tr>\n",
       "      <th>3605</th>\n",
       "      <td>2022-04-19 12:00:00</td>\n",
       "      <td>None</td>\n",
       "      <td>402.824829</td>\n",
       "      <td>NaN</td>\n",
       "      <td>395.022949</td>\n",
       "      <td>3.212819</td>\n",
       "      <td>4.589077</td>\n",
       "    </tr>\n",
       "    <tr>\n",
       "      <th>3606</th>\n",
       "      <td>2022-04-19 13:00:00</td>\n",
       "      <td>None</td>\n",
       "      <td>403.037292</td>\n",
       "      <td>NaN</td>\n",
       "      <td>395.094238</td>\n",
       "      <td>3.383793</td>\n",
       "      <td>4.559243</td>\n",
       "    </tr>\n",
       "    <tr>\n",
       "      <th>3607</th>\n",
       "      <td>2022-04-19 14:00:00</td>\n",
       "      <td>None</td>\n",
       "      <td>403.703217</td>\n",
       "      <td>NaN</td>\n",
       "      <td>395.165527</td>\n",
       "      <td>3.537634</td>\n",
       "      <td>5.000043</td>\n",
       "    </tr>\n",
       "    <tr>\n",
       "      <th>3608</th>\n",
       "      <td>2022-04-19 15:00:00</td>\n",
       "      <td>None</td>\n",
       "      <td>403.307648</td>\n",
       "      <td>NaN</td>\n",
       "      <td>395.236816</td>\n",
       "      <td>3.676065</td>\n",
       "      <td>4.394771</td>\n",
       "    </tr>\n",
       "    <tr>\n",
       "      <th>3609</th>\n",
       "      <td>2022-04-19 16:00:00</td>\n",
       "      <td>None</td>\n",
       "      <td>401.201843</td>\n",
       "      <td>NaN</td>\n",
       "      <td>395.308105</td>\n",
       "      <td>3.800933</td>\n",
       "      <td>2.092803</td>\n",
       "    </tr>\n",
       "  </tbody>\n",
       "</table>\n",
       "<p>3610 rows × 7 columns</p>\n",
       "</div>"
      ],
      "text/plain": [
       "                      ds     y       yhat1  residual1       trend  \\\n",
       "0    2021-11-16 03:00:00   250  256.245300     6.2453  258.998962   \n",
       "1    2021-11-16 04:00:00   250  257.978271   7.978271  259.050812   \n",
       "2    2021-11-16 05:00:00   250  259.234558   9.234558  259.102692   \n",
       "3    2021-11-16 06:00:00   250  260.709595  10.709595  259.154572   \n",
       "4    2021-11-16 07:00:00   250  261.988770   11.98877  259.206451   \n",
       "...                  ...   ...         ...        ...         ...   \n",
       "3605 2022-04-19 12:00:00  None  402.824829        NaN  395.022949   \n",
       "3606 2022-04-19 13:00:00  None  403.037292        NaN  395.094238   \n",
       "3607 2022-04-19 14:00:00  None  403.703217        NaN  395.165527   \n",
       "3608 2022-04-19 15:00:00  None  403.307648        NaN  395.236816   \n",
       "3609 2022-04-19 16:00:00  None  401.201843        NaN  395.308105   \n",
       "\n",
       "      season_weekly  season_daily  \n",
       "0          0.711712     -3.465375  \n",
       "1          1.082007     -2.154555  \n",
       "2          1.429109     -1.297255  \n",
       "3          1.752634     -0.197599  \n",
       "4          2.052490      0.729824  \n",
       "...             ...           ...  \n",
       "3605       3.212819      4.589077  \n",
       "3606       3.383793      4.559243  \n",
       "3607       3.537634      5.000043  \n",
       "3608       3.676065      4.394771  \n",
       "3609       3.800933      2.092803  \n",
       "\n",
       "[3610 rows x 7 columns]"
      ]
     },
     "execution_count": 55,
     "metadata": {},
     "output_type": "execute_result"
    }
   ],
   "source": [
    "n_forecast"
   ]
  },
  {
   "cell_type": "code",
   "execution_count": 56,
   "metadata": {
    "execution": {
     "iopub.execute_input": "2022-03-30T17:31:03.682227Z",
     "iopub.status.busy": "2022-03-30T17:31:03.681901Z",
     "iopub.status.idle": "2022-03-30T17:31:03.706319Z",
     "shell.execute_reply": "2022-03-30T17:31:03.705174Z",
     "shell.execute_reply.started": "2022-03-30T17:31:03.68218Z"
    }
   },
   "outputs": [
    {
     "data": {
      "text/html": [
       "<div>\n",
       "<style scoped>\n",
       "    .dataframe tbody tr th:only-of-type {\n",
       "        vertical-align: middle;\n",
       "    }\n",
       "\n",
       "    .dataframe tbody tr th {\n",
       "        vertical-align: top;\n",
       "    }\n",
       "\n",
       "    .dataframe thead th {\n",
       "        text-align: right;\n",
       "    }\n",
       "</style>\n",
       "<table border=\"1\" class=\"dataframe\">\n",
       "  <thead>\n",
       "    <tr style=\"text-align: right;\">\n",
       "      <th></th>\n",
       "      <th>ds</th>\n",
       "      <th>yhat1</th>\n",
       "      <th>residual1</th>\n",
       "      <th>y</th>\n",
       "    </tr>\n",
       "  </thead>\n",
       "  <tbody>\n",
       "    <tr>\n",
       "      <th>0</th>\n",
       "      <td>2021-11-16 03:00:00</td>\n",
       "      <td>256.245300</td>\n",
       "      <td>6.2453</td>\n",
       "      <td>250</td>\n",
       "    </tr>\n",
       "    <tr>\n",
       "      <th>1</th>\n",
       "      <td>2021-11-16 04:00:00</td>\n",
       "      <td>257.978271</td>\n",
       "      <td>7.978271</td>\n",
       "      <td>250</td>\n",
       "    </tr>\n",
       "    <tr>\n",
       "      <th>2</th>\n",
       "      <td>2021-11-16 05:00:00</td>\n",
       "      <td>259.234558</td>\n",
       "      <td>9.234558</td>\n",
       "      <td>250</td>\n",
       "    </tr>\n",
       "    <tr>\n",
       "      <th>3</th>\n",
       "      <td>2021-11-16 06:00:00</td>\n",
       "      <td>260.709595</td>\n",
       "      <td>10.709595</td>\n",
       "      <td>250</td>\n",
       "    </tr>\n",
       "    <tr>\n",
       "      <th>4</th>\n",
       "      <td>2021-11-16 07:00:00</td>\n",
       "      <td>261.988770</td>\n",
       "      <td>11.98877</td>\n",
       "      <td>250</td>\n",
       "    </tr>\n",
       "  </tbody>\n",
       "</table>\n",
       "</div>"
      ],
      "text/plain": [
       "                   ds       yhat1  residual1    y\n",
       "0 2021-11-16 03:00:00  256.245300     6.2453  250\n",
       "1 2021-11-16 04:00:00  257.978271   7.978271  250\n",
       "2 2021-11-16 05:00:00  259.234558   9.234558  250\n",
       "3 2021-11-16 06:00:00  260.709595  10.709595  250\n",
       "4 2021-11-16 07:00:00  261.988770   11.98877  250"
      ]
     },
     "execution_count": 56,
     "metadata": {},
     "output_type": "execute_result"
    }
   ],
   "source": [
    "n_forecast_merge = pd.merge(df_tma_kar, n_forecast[['ds','yhat1','residual1']],on='ds')\n",
    "n_forecast_merge = n_forecast_merge[['ds','yhat1','residual1','y']]\n",
    "n_forecast_merge.head()"
   ]
  },
  {
   "cell_type": "code",
   "execution_count": 57,
   "metadata": {
    "execution": {
     "iopub.execute_input": "2022-03-30T17:31:03.708127Z",
     "iopub.status.busy": "2022-03-30T17:31:03.707595Z",
     "iopub.status.idle": "2022-03-30T17:31:03.714051Z",
     "shell.execute_reply": "2022-03-30T17:31:03.713467Z",
     "shell.execute_reply.started": "2022-03-30T17:31:03.708087Z"
    },
    "id": "NYjhoFjzQVcz"
   },
   "outputs": [],
   "source": [
    "n_prophet_mse = mean_squared_error(n_forecast_merge['y'], n_forecast_merge['yhat1'])\n",
    "n_prophet_rmse = np.sqrt(mean_squared_error(n_forecast_merge['y'], n_forecast_merge['yhat1']))"
   ]
  },
  {
   "cell_type": "code",
   "execution_count": 58,
   "metadata": {
    "execution": {
     "iopub.execute_input": "2022-03-30T17:31:03.715602Z",
     "iopub.status.busy": "2022-03-30T17:31:03.715266Z",
     "iopub.status.idle": "2022-03-30T17:31:03.728586Z",
     "shell.execute_reply": "2022-03-30T17:31:03.727675Z",
     "shell.execute_reply.started": "2022-03-30T17:31:03.715563Z"
    },
    "id": "qGMxH51hQVih",
    "outputId": "889ecefd-b6be-4fc1-e30a-65029a40f9dd"
   },
   "outputs": [
    {
     "name": "stdout",
     "output_type": "stream",
     "text": [
      "Neural Prophet MSE: 672.7839\n",
      "Neural Prophet RMSE: 25.9381\n"
     ]
    }
   ],
   "source": [
    "print(\"Neural Prophet MSE: {:.4f}\".format(n_prophet_mse))\n",
    "print(\"Neural Prophet RMSE: {:.4f}\".format(n_prophet_rmse))"
   ]
  },
  {
   "cell_type": "code",
   "execution_count": 59,
   "metadata": {
    "execution": {
     "iopub.execute_input": "2022-03-30T17:31:03.731375Z",
     "iopub.status.busy": "2022-03-30T17:31:03.730474Z",
     "iopub.status.idle": "2022-03-30T17:31:03.742509Z",
     "shell.execute_reply": "2022-03-30T17:31:03.741591Z",
     "shell.execute_reply.started": "2022-03-30T17:31:03.731337Z"
    },
    "id": "PQf5WbhgTwiS",
    "outputId": "4e50d70e-3812-41d9-901d-e66fc4ccf595"
   },
   "outputs": [
    {
     "name": "stdout",
     "output_type": "stream",
     "text": [
      "Prophet MSE: 683.2334\n",
      "Prophet RMSE: 26.1387\n"
     ]
    }
   ],
   "source": [
    "print(\"Prophet MSE: {:.4f}\".format(prophet_mse))\n",
    "print(\"Prophet RMSE: {:.4f}\".format(prophet_rmse))"
   ]
  },
  {
   "cell_type": "code",
   "execution_count": 60,
   "metadata": {
    "execution": {
     "iopub.execute_input": "2022-03-30T17:31:03.74429Z",
     "iopub.status.busy": "2022-03-30T17:31:03.743711Z",
     "iopub.status.idle": "2022-03-30T17:31:03.756555Z",
     "shell.execute_reply": "2022-03-30T17:31:03.755579Z",
     "shell.execute_reply.started": "2022-03-30T17:31:03.744255Z"
    }
   },
   "outputs": [
    {
     "data": {
      "text/plain": [
       "-10.449510050300546"
      ]
     },
     "execution_count": 60,
     "metadata": {},
     "output_type": "execute_result"
    }
   ],
   "source": [
    "n_prophet_mse - prophet_mse"
   ]
  },
  {
   "cell_type": "code",
   "execution_count": 61,
   "metadata": {
    "execution": {
     "iopub.execute_input": "2022-03-30T17:31:03.758513Z",
     "iopub.status.busy": "2022-03-30T17:31:03.757848Z",
     "iopub.status.idle": "2022-03-30T17:31:03.769499Z",
     "shell.execute_reply": "2022-03-30T17:31:03.76877Z",
     "shell.execute_reply.started": "2022-03-30T17:31:03.758476Z"
    },
    "id": "2uYHMulJYpiq",
    "outputId": "5e2facbf-0e3b-4a72-d2fa-6b401edc2b36"
   },
   "outputs": [
    {
     "data": {
      "text/plain": [
       "-0.20065571766378199"
      ]
     },
     "execution_count": 61,
     "metadata": {},
     "output_type": "execute_result"
    }
   ],
   "source": [
    "n_prophet_rmse - prophet_rmse"
   ]
  },
  {
   "cell_type": "code",
   "execution_count": 62,
   "metadata": {
    "execution": {
     "iopub.execute_input": "2022-03-30T17:31:03.771488Z",
     "iopub.status.busy": "2022-03-30T17:31:03.770837Z",
     "iopub.status.idle": "2022-03-30T17:31:04.051667Z",
     "shell.execute_reply": "2022-03-30T17:31:04.050661Z",
     "shell.execute_reply.started": "2022-03-30T17:31:03.771446Z"
    }
   },
   "outputs": [
    {
     "data": {
      "text/plain": [
       "Text(0, 0.5, 'Water Level (cm)')"
      ]
     },
     "execution_count": 62,
     "metadata": {},
     "output_type": "execute_result"
    },
    {
     "data": {
      "image/png": "[encoded data removed]",
      "text/plain": [
       "<Figure size 864x432 with 1 Axes>"
      ]
     },
     "metadata": {},
     "output_type": "display_data"
    }
   ],
   "source": [
    "plt.figure(figsize=(12,6))\n",
    "plt.xticks(rotation=45)\n",
    "plt.title(\"Models Comparison\")\n",
    "plt.plot(p_forecast['ds'], p_forecast['yhat'], marker='.', c='navy', label='Prophet')\n",
    "plt.plot(n_forecast['ds'], n_forecast['yhat1'], marker='.', c='red', label='NeuralProphet')\n",
    "plt.legend()\n",
    "plt.xlabel(\"Dates\")\n",
    "plt.ylabel(\"Water Level (cm)\")"
   ]
  },
  {
   "cell_type": "code",
   "execution_count": 63,
   "metadata": {
    "execution": {
     "iopub.execute_input": "2022-03-30T17:31:04.053055Z",
     "iopub.status.busy": "2022-03-30T17:31:04.052834Z",
     "iopub.status.idle": "2022-03-30T17:31:04.065407Z",
     "shell.execute_reply": "2022-03-30T17:31:04.064335Z",
     "shell.execute_reply.started": "2022-03-30T17:31:04.053027Z"
    }
   },
   "outputs": [
    {
     "data": {
      "text/html": [
       "<div>\n",
       "<style scoped>\n",
       "    .dataframe tbody tr th:only-of-type {\n",
       "        vertical-align: middle;\n",
       "    }\n",
       "\n",
       "    .dataframe tbody tr th {\n",
       "        vertical-align: top;\n",
       "    }\n",
       "\n",
       "    .dataframe thead th {\n",
       "        text-align: right;\n",
       "    }\n",
       "</style>\n",
       "<table border=\"1\" class=\"dataframe\">\n",
       "  <thead>\n",
       "    <tr style=\"text-align: right;\">\n",
       "      <th></th>\n",
       "      <th>metrics</th>\n",
       "      <th>Prophet</th>\n",
       "      <th>Neural Prophet</th>\n",
       "    </tr>\n",
       "  </thead>\n",
       "  <tbody>\n",
       "    <tr>\n",
       "      <th>0</th>\n",
       "      <td>MSE</td>\n",
       "      <td>683.233403</td>\n",
       "      <td>672.783893</td>\n",
       "    </tr>\n",
       "    <tr>\n",
       "      <th>1</th>\n",
       "      <td>RMSE</td>\n",
       "      <td>26.138734</td>\n",
       "      <td>25.938078</td>\n",
       "    </tr>\n",
       "  </tbody>\n",
       "</table>\n",
       "</div>"
      ],
      "text/plain": [
       "  metrics    Prophet   Neural Prophet\n",
       "0     MSE  683.233403      672.783893\n",
       "1    RMSE   26.138734       25.938078"
      ]
     },
     "execution_count": 63,
     "metadata": {},
     "output_type": "execute_result"
    }
   ],
   "source": [
    "pd.DataFrame({'metrics':['MSE','RMSE'],\n",
    "              'Prophet ':[prophet_mse, prophet_rmse],\n",
    "              'Neural Prophet':[n_prophet_mse, n_prophet_rmse]\n",
    "             })"
   ]
  },
  {
   "cell_type": "markdown",
   "metadata": {
    "id": "Aq80C1pRYTvd"
   },
   "source": [
    "## Final Comments"
   ]
  },
  {
   "cell_type": "markdown",
   "metadata": {
    "id": "Z9gvnBfLYcbP"
   },
   "source": [
    "*   At least for this particular dataset and using the default arguments,  the **NeuralProphet** model scored a **MSE** of **672.783893** and **RMSE** of **25.938078** whereas the **Prophet** model scored a **MSE** of **683.233403** and **RMSE** of **26.138734**, a **10.449510050300546 and 0.20065571766378199 difference of MSE and RMSE respectively** compared against the first model."
   ]
  }
 ],
 "metadata": {
  "kernelspec": {
   "display_name": "Python 3.9",
   "language": "python",
   "name": "python3"
  },
  "language_info": {
   "codemirror_mode": {
    "name": "ipython",
    "version": 3
   },
   "file_extension": ".py",
   "mimetype": "text/x-python",
   "name": "python",
   "nbconvert_exporter": "python",
   "pygments_lexer": "ipython3",
   "version": "3.9.7"
  }
 },
 "nbformat": 4,
 "nbformat_minor": 4
}
