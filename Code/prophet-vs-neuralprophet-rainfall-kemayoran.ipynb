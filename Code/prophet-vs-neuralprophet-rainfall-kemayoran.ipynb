{
 "cells": [
  {
   "cell_type": "markdown",
   "metadata": {
    "id": "VMPDxYyw5d6h"
   },
   "source": [
    "# [Facebook Prophet](https://github.com/facebook/prophet) and [NeuralProphet](https://github.com/ourownstory/neural_prophet) Comparison\n",
    "By: Rayhan Ozzy Ertarto\n",
    "\n",
    "The goal of this notebook is to compare the *expected values* forecasted by these two models and compare them against the actuals in order to calculate the performance metrics and define which model performs better using this time series dataset (Rainfall in Kemayoran BMKG Station, Central Jakarta)"
   ]
  },
  {
   "cell_type": "markdown",
   "metadata": {
    "id": "00MQ79C35ueh"
   },
   "source": [
    "Importing basic libraries"
   ]
  },
  {
   "cell_type": "code",
   "execution_count": 1,
   "metadata": {
    "execution": {
     "iopub.execute_input": "2022-04-01T08:53:32.435485Z",
     "iopub.status.busy": "2022-04-01T08:53:32.435121Z",
     "iopub.status.idle": "2022-04-01T08:53:33.618505Z",
     "shell.execute_reply": "2022-04-01T08:53:33.617388Z",
     "shell.execute_reply.started": "2022-04-01T08:53:32.435386Z"
    },
    "id": "0Ricp40n5W3h"
   },
   "outputs": [],
   "source": [
    "import pandas as pd\n",
    "import numpy as np\n",
    "import matplotlib.pyplot as plt\n",
    "import seaborn as sns"
   ]
  },
  {
   "cell_type": "code",
   "execution_count": 2,
   "metadata": {
    "execution": {
     "iopub.execute_input": "2022-04-01T08:53:33.620803Z",
     "iopub.status.busy": "2022-04-01T08:53:33.620513Z",
     "iopub.status.idle": "2022-04-01T08:53:33.625865Z",
     "shell.execute_reply": "2022-04-01T08:53:33.624721Z",
     "shell.execute_reply.started": "2022-04-01T08:53:33.620771Z"
    },
    "id": "I85geYiv55Tc"
   },
   "outputs": [],
   "source": [
    "np.random.seed(1234)"
   ]
  },
  {
   "cell_type": "code",
   "execution_count": 3,
   "metadata": {
    "execution": {
     "iopub.execute_input": "2022-04-01T08:53:33.628368Z",
     "iopub.status.busy": "2022-04-01T08:53:33.627571Z",
     "iopub.status.idle": "2022-04-01T08:53:33.638287Z",
     "shell.execute_reply": "2022-04-01T08:53:33.637563Z",
     "shell.execute_reply.started": "2022-04-01T08:53:33.628326Z"
    },
    "id": "ngJzMaV17JSb"
   },
   "outputs": [],
   "source": [
    "plt.style.use('ggplot')"
   ]
  },
  {
   "cell_type": "markdown",
   "metadata": {
    "_kg_hide-input": true,
    "_kg_hide-output": true,
    "id": "Ixo5-LLZ6Dlq"
   },
   "source": [
    "Reading the time series"
   ]
  },
  {
   "cell_type": "code",
   "execution_count": 4,
   "metadata": {
    "execution": {
     "iopub.execute_input": "2022-04-01T08:53:33.642739Z",
     "iopub.status.busy": "2022-04-01T08:53:33.641118Z",
     "iopub.status.idle": "2022-04-01T08:53:34.727037Z",
     "shell.execute_reply": "2022-04-01T08:53:34.725798Z",
     "shell.execute_reply.started": "2022-04-01T08:53:33.642686Z"
    }
   },
   "outputs": [
    {
     "data": {
      "text/html": [
       "<div>\n",
       "<style scoped>\n",
       "    .dataframe tbody tr th:only-of-type {\n",
       "        vertical-align: middle;\n",
       "    }\n",
       "\n",
       "    .dataframe tbody tr th {\n",
       "        vertical-align: top;\n",
       "    }\n",
       "\n",
       "    .dataframe thead th {\n",
       "        text-align: right;\n",
       "    }\n",
       "</style>\n",
       "<table border=\"1\" class=\"dataframe\">\n",
       "  <thead>\n",
       "    <tr style=\"text-align: right;\">\n",
       "      <th></th>\n",
       "      <th>Tanggal</th>\n",
       "      <th>RR</th>\n",
       "    </tr>\n",
       "  </thead>\n",
       "  <tbody>\n",
       "    <tr>\n",
       "      <th>0</th>\n",
       "      <td>01-01-2021</td>\n",
       "      <td>13.8</td>\n",
       "    </tr>\n",
       "    <tr>\n",
       "      <th>1</th>\n",
       "      <td>02-01-2021</td>\n",
       "      <td>8888.0</td>\n",
       "    </tr>\n",
       "    <tr>\n",
       "      <th>2</th>\n",
       "      <td>03-01-2021</td>\n",
       "      <td>NaN</td>\n",
       "    </tr>\n",
       "    <tr>\n",
       "      <th>3</th>\n",
       "      <td>04-01-2021</td>\n",
       "      <td>9.4</td>\n",
       "    </tr>\n",
       "    <tr>\n",
       "      <th>4</th>\n",
       "      <td>05-01-2021</td>\n",
       "      <td>0.0</td>\n",
       "    </tr>\n",
       "    <tr>\n",
       "      <th>5</th>\n",
       "      <td>06-01-2021</td>\n",
       "      <td>8.2</td>\n",
       "    </tr>\n",
       "    <tr>\n",
       "      <th>6</th>\n",
       "      <td>07-01-2021</td>\n",
       "      <td>40.5</td>\n",
       "    </tr>\n",
       "    <tr>\n",
       "      <th>7</th>\n",
       "      <td>08-01-2021</td>\n",
       "      <td>2.0</td>\n",
       "    </tr>\n",
       "    <tr>\n",
       "      <th>8</th>\n",
       "      <td>09-01-2021</td>\n",
       "      <td>14.4</td>\n",
       "    </tr>\n",
       "    <tr>\n",
       "      <th>9</th>\n",
       "      <td>10-01-2021</td>\n",
       "      <td>34.3</td>\n",
       "    </tr>\n",
       "  </tbody>\n",
       "</table>\n",
       "</div>"
      ],
      "text/plain": [
       "      Tanggal      RR\n",
       "0  01-01-2021    13.8\n",
       "1  02-01-2021  8888.0\n",
       "2  03-01-2021     NaN\n",
       "3  04-01-2021     9.4\n",
       "4  05-01-2021     0.0\n",
       "5  06-01-2021     8.2\n",
       "6  07-01-2021    40.5\n",
       "7  08-01-2021     2.0\n",
       "8  09-01-2021    14.4\n",
       "9  10-01-2021    34.3"
      ]
     },
     "execution_count": 4,
     "metadata": {},
     "output_type": "execute_result"
    }
   ],
   "source": [
    "gsheetkey = \"1QUan4wVK8yNaIDvLvQEXocTWch8xkjy8kvS53PAKt_U\"\n",
    "\n",
    "url=f'https://docs.google.com/spreadsheet/ccc?key={gsheetkey}&output=csv'\n",
    "df_km = pd.read_csv(url)\n",
    "df_km.head(10)"
   ]
  },
  {
   "cell_type": "code",
   "execution_count": 5,
   "metadata": {
    "execution": {
     "iopub.execute_input": "2022-04-01T08:53:34.728779Z",
     "iopub.status.busy": "2022-04-01T08:53:34.728197Z",
     "iopub.status.idle": "2022-04-01T08:53:34.758980Z",
     "shell.execute_reply": "2022-04-01T08:53:34.757718Z",
     "shell.execute_reply.started": "2022-04-01T08:53:34.728744Z"
    }
   },
   "outputs": [
    {
     "name": "stdout",
     "output_type": "stream",
     "text": [
      "<class 'pandas.core.frame.DataFrame'>\n",
      "RangeIndex: 424 entries, 0 to 423\n",
      "Data columns (total 2 columns):\n",
      " #   Column   Non-Null Count  Dtype  \n",
      "---  ------   --------------  -----  \n",
      " 0   Tanggal  424 non-null    object \n",
      " 1   RR       319 non-null    float64\n",
      "dtypes: float64(1), object(1)\n",
      "memory usage: 6.8+ KB\n"
     ]
    }
   ],
   "source": [
    "df_km.info()"
   ]
  },
  {
   "cell_type": "code",
   "execution_count": 6,
   "metadata": {
    "execution": {
     "iopub.execute_input": "2022-04-01T08:53:34.760547Z",
     "iopub.status.busy": "2022-04-01T08:53:34.760282Z",
     "iopub.status.idle": "2022-04-01T08:53:34.772559Z",
     "shell.execute_reply": "2022-04-01T08:53:34.771463Z",
     "shell.execute_reply.started": "2022-04-01T08:53:34.760506Z"
    }
   },
   "outputs": [],
   "source": [
    "df_km['RR'] = df_km['RR'].replace([8888.0],['NaN'])"
   ]
  },
  {
   "cell_type": "code",
   "execution_count": 7,
   "metadata": {
    "execution": {
     "iopub.execute_input": "2022-04-01T08:53:34.776217Z",
     "iopub.status.busy": "2022-04-01T08:53:34.775930Z",
     "iopub.status.idle": "2022-04-01T08:53:34.784367Z",
     "shell.execute_reply": "2022-04-01T08:53:34.783512Z",
     "shell.execute_reply.started": "2022-04-01T08:53:34.776188Z"
    }
   },
   "outputs": [],
   "source": [
    "df_km['RR'] = df_km['RR'].replace([9999.0],['NaN'])"
   ]
  },
  {
   "cell_type": "code",
   "execution_count": 8,
   "metadata": {
    "execution": {
     "iopub.execute_input": "2022-04-01T08:53:34.786887Z",
     "iopub.status.busy": "2022-04-01T08:53:34.785828Z",
     "iopub.status.idle": "2022-04-01T08:53:34.803197Z",
     "shell.execute_reply": "2022-04-01T08:53:34.802046Z",
     "shell.execute_reply.started": "2022-04-01T08:53:34.786837Z"
    }
   },
   "outputs": [
    {
     "data": {
      "text/html": [
       "<div>\n",
       "<style scoped>\n",
       "    .dataframe tbody tr th:only-of-type {\n",
       "        vertical-align: middle;\n",
       "    }\n",
       "\n",
       "    .dataframe tbody tr th {\n",
       "        vertical-align: top;\n",
       "    }\n",
       "\n",
       "    .dataframe thead th {\n",
       "        text-align: right;\n",
       "    }\n",
       "</style>\n",
       "<table border=\"1\" class=\"dataframe\">\n",
       "  <thead>\n",
       "    <tr style=\"text-align: right;\">\n",
       "      <th></th>\n",
       "      <th>Tanggal</th>\n",
       "      <th>RR</th>\n",
       "    </tr>\n",
       "  </thead>\n",
       "  <tbody>\n",
       "    <tr>\n",
       "      <th>0</th>\n",
       "      <td>01-01-2021</td>\n",
       "      <td>13.8</td>\n",
       "    </tr>\n",
       "    <tr>\n",
       "      <th>1</th>\n",
       "      <td>02-01-2021</td>\n",
       "      <td>NaN</td>\n",
       "    </tr>\n",
       "    <tr>\n",
       "      <th>2</th>\n",
       "      <td>03-01-2021</td>\n",
       "      <td>NaN</td>\n",
       "    </tr>\n",
       "    <tr>\n",
       "      <th>3</th>\n",
       "      <td>04-01-2021</td>\n",
       "      <td>9.4</td>\n",
       "    </tr>\n",
       "    <tr>\n",
       "      <th>4</th>\n",
       "      <td>05-01-2021</td>\n",
       "      <td>0.0</td>\n",
       "    </tr>\n",
       "    <tr>\n",
       "      <th>5</th>\n",
       "      <td>06-01-2021</td>\n",
       "      <td>8.2</td>\n",
       "    </tr>\n",
       "    <tr>\n",
       "      <th>6</th>\n",
       "      <td>07-01-2021</td>\n",
       "      <td>40.5</td>\n",
       "    </tr>\n",
       "    <tr>\n",
       "      <th>7</th>\n",
       "      <td>08-01-2021</td>\n",
       "      <td>2.0</td>\n",
       "    </tr>\n",
       "    <tr>\n",
       "      <th>8</th>\n",
       "      <td>09-01-2021</td>\n",
       "      <td>14.4</td>\n",
       "    </tr>\n",
       "    <tr>\n",
       "      <th>9</th>\n",
       "      <td>10-01-2021</td>\n",
       "      <td>34.3</td>\n",
       "    </tr>\n",
       "  </tbody>\n",
       "</table>\n",
       "</div>"
      ],
      "text/plain": [
       "      Tanggal    RR\n",
       "0  01-01-2021  13.8\n",
       "1  02-01-2021   NaN\n",
       "2  03-01-2021   NaN\n",
       "3  04-01-2021   9.4\n",
       "4  05-01-2021   0.0\n",
       "5  06-01-2021   8.2\n",
       "6  07-01-2021  40.5\n",
       "7  08-01-2021   2.0\n",
       "8  09-01-2021  14.4\n",
       "9  10-01-2021  34.3"
      ]
     },
     "execution_count": 8,
     "metadata": {},
     "output_type": "execute_result"
    }
   ],
   "source": [
    "df_km.head(10)"
   ]
  },
  {
   "cell_type": "code",
   "execution_count": 9,
   "metadata": {
    "execution": {
     "iopub.execute_input": "2022-04-01T08:53:34.805898Z",
     "iopub.status.busy": "2022-04-01T08:53:34.805022Z",
     "iopub.status.idle": "2022-04-01T08:53:34.819762Z",
     "shell.execute_reply": "2022-04-01T08:53:34.818760Z",
     "shell.execute_reply.started": "2022-04-01T08:53:34.805843Z"
    }
   },
   "outputs": [
    {
     "name": "stdout",
     "output_type": "stream",
     "text": [
      "<class 'pandas.core.frame.DataFrame'>\n",
      "RangeIndex: 424 entries, 0 to 423\n",
      "Data columns (total 2 columns):\n",
      " #   Column   Non-Null Count  Dtype \n",
      "---  ------   --------------  ----- \n",
      " 0   Tanggal  424 non-null    object\n",
      " 1   RR       319 non-null    object\n",
      "dtypes: object(2)\n",
      "memory usage: 6.8+ KB\n"
     ]
    }
   ],
   "source": [
    "df_km.info()"
   ]
  },
  {
   "cell_type": "code",
   "execution_count": 10,
   "metadata": {
    "execution": {
     "iopub.execute_input": "2022-04-01T08:53:34.822006Z",
     "iopub.status.busy": "2022-04-01T08:53:34.821126Z",
     "iopub.status.idle": "2022-04-01T08:53:34.836402Z",
     "shell.execute_reply": "2022-04-01T08:53:34.834752Z",
     "shell.execute_reply.started": "2022-04-01T08:53:34.821964Z"
    }
   },
   "outputs": [
    {
     "name": "stdout",
     "output_type": "stream",
     "text": [
      "<class 'pandas.core.frame.DataFrame'>\n",
      "RangeIndex: 424 entries, 0 to 423\n",
      "Data columns (total 2 columns):\n",
      " #   Column   Non-Null Count  Dtype  \n",
      "---  ------   --------------  -----  \n",
      " 0   Tanggal  424 non-null    object \n",
      " 1   RR       289 non-null    float64\n",
      "dtypes: float64(1), object(1)\n",
      "memory usage: 6.8+ KB\n"
     ]
    }
   ],
   "source": [
    "df_km['RR'] = df_km['RR'].astype(float)\n",
    "df_km.info()"
   ]
  },
  {
   "cell_type": "code",
   "execution_count": 11,
   "metadata": {
    "execution": {
     "iopub.execute_input": "2022-04-01T08:53:34.838860Z",
     "iopub.status.busy": "2022-04-01T08:53:34.838091Z",
     "iopub.status.idle": "2022-04-01T08:53:34.852683Z",
     "shell.execute_reply": "2022-04-01T08:53:34.851456Z",
     "shell.execute_reply.started": "2022-04-01T08:53:34.838807Z"
    }
   },
   "outputs": [
    {
     "data": {
      "text/html": [
       "<div>\n",
       "<style scoped>\n",
       "    .dataframe tbody tr th:only-of-type {\n",
       "        vertical-align: middle;\n",
       "    }\n",
       "\n",
       "    .dataframe tbody tr th {\n",
       "        vertical-align: top;\n",
       "    }\n",
       "\n",
       "    .dataframe thead th {\n",
       "        text-align: right;\n",
       "    }\n",
       "</style>\n",
       "<table border=\"1\" class=\"dataframe\">\n",
       "  <thead>\n",
       "    <tr style=\"text-align: right;\">\n",
       "      <th></th>\n",
       "      <th>Tanggal</th>\n",
       "      <th>RR</th>\n",
       "    </tr>\n",
       "  </thead>\n",
       "  <tbody>\n",
       "    <tr>\n",
       "      <th>0</th>\n",
       "      <td>01-01-2021</td>\n",
       "      <td>13.8</td>\n",
       "    </tr>\n",
       "    <tr>\n",
       "      <th>1</th>\n",
       "      <td>02-01-2021</td>\n",
       "      <td>NaN</td>\n",
       "    </tr>\n",
       "    <tr>\n",
       "      <th>2</th>\n",
       "      <td>03-01-2021</td>\n",
       "      <td>NaN</td>\n",
       "    </tr>\n",
       "    <tr>\n",
       "      <th>3</th>\n",
       "      <td>04-01-2021</td>\n",
       "      <td>9.4</td>\n",
       "    </tr>\n",
       "    <tr>\n",
       "      <th>4</th>\n",
       "      <td>05-01-2021</td>\n",
       "      <td>0.0</td>\n",
       "    </tr>\n",
       "  </tbody>\n",
       "</table>\n",
       "</div>"
      ],
      "text/plain": [
       "      Tanggal    RR\n",
       "0  01-01-2021  13.8\n",
       "1  02-01-2021   NaN\n",
       "2  03-01-2021   NaN\n",
       "3  04-01-2021   9.4\n",
       "4  05-01-2021   0.0"
      ]
     },
     "execution_count": 11,
     "metadata": {},
     "output_type": "execute_result"
    }
   ],
   "source": [
    "df_km.head()"
   ]
  },
  {
   "cell_type": "markdown",
   "metadata": {},
   "source": [
    "Check for Missing Values"
   ]
  },
  {
   "cell_type": "code",
   "execution_count": 12,
   "metadata": {
    "execution": {
     "iopub.execute_input": "2022-04-01T08:53:34.866396Z",
     "iopub.status.busy": "2022-04-01T08:53:34.865160Z",
     "iopub.status.idle": "2022-04-01T08:53:34.877494Z",
     "shell.execute_reply": "2022-04-01T08:53:34.876697Z",
     "shell.execute_reply.started": "2022-04-01T08:53:34.866330Z"
    }
   },
   "outputs": [
    {
     "data": {
      "text/plain": [
       "Tanggal      0\n",
       "RR         135\n",
       "dtype: int64"
      ]
     },
     "execution_count": 12,
     "metadata": {},
     "output_type": "execute_result"
    }
   ],
   "source": [
    "df_km.isna().sum()"
   ]
  },
  {
   "cell_type": "markdown",
   "metadata": {},
   "source": [
    "Fill Missing Values by Interpolation"
   ]
  },
  {
   "cell_type": "code",
   "execution_count": 13,
   "metadata": {
    "execution": {
     "iopub.execute_input": "2022-04-01T08:53:35.015969Z",
     "iopub.status.busy": "2022-04-01T08:53:35.015381Z",
     "iopub.status.idle": "2022-04-01T08:53:35.025650Z",
     "shell.execute_reply": "2022-04-01T08:53:35.024353Z",
     "shell.execute_reply.started": "2022-04-01T08:53:35.015931Z"
    }
   },
   "outputs": [],
   "source": [
    "df_km = df_km.interpolate()"
   ]
  },
  {
   "cell_type": "code",
   "execution_count": 14,
   "metadata": {
    "execution": {
     "iopub.execute_input": "2022-04-01T08:53:35.232605Z",
     "iopub.status.busy": "2022-04-01T08:53:35.232142Z",
     "iopub.status.idle": "2022-04-01T08:53:35.242999Z",
     "shell.execute_reply": "2022-04-01T08:53:35.242005Z",
     "shell.execute_reply.started": "2022-04-01T08:53:35.232572Z"
    }
   },
   "outputs": [
    {
     "data": {
      "text/plain": [
       "Tanggal    0\n",
       "RR         0\n",
       "dtype: int64"
      ]
     },
     "execution_count": 14,
     "metadata": {},
     "output_type": "execute_result"
    }
   ],
   "source": [
    "df_km.isna().sum()"
   ]
  },
  {
   "cell_type": "code",
   "execution_count": 15,
   "metadata": {
    "execution": {
     "iopub.execute_input": "2022-04-01T08:53:35.518517Z",
     "iopub.status.busy": "2022-04-01T08:53:35.518005Z",
     "iopub.status.idle": "2022-04-01T08:53:35.531386Z",
     "shell.execute_reply": "2022-04-01T08:53:35.530478Z",
     "shell.execute_reply.started": "2022-04-01T08:53:35.518482Z"
    }
   },
   "outputs": [
    {
     "data": {
      "text/html": [
       "<div>\n",
       "<style scoped>\n",
       "    .dataframe tbody tr th:only-of-type {\n",
       "        vertical-align: middle;\n",
       "    }\n",
       "\n",
       "    .dataframe tbody tr th {\n",
       "        vertical-align: top;\n",
       "    }\n",
       "\n",
       "    .dataframe thead th {\n",
       "        text-align: right;\n",
       "    }\n",
       "</style>\n",
       "<table border=\"1\" class=\"dataframe\">\n",
       "  <thead>\n",
       "    <tr style=\"text-align: right;\">\n",
       "      <th></th>\n",
       "      <th>Tanggal</th>\n",
       "      <th>RR</th>\n",
       "    </tr>\n",
       "  </thead>\n",
       "  <tbody>\n",
       "    <tr>\n",
       "      <th>0</th>\n",
       "      <td>01-01-2021</td>\n",
       "      <td>13.800000</td>\n",
       "    </tr>\n",
       "    <tr>\n",
       "      <th>1</th>\n",
       "      <td>02-01-2021</td>\n",
       "      <td>12.333333</td>\n",
       "    </tr>\n",
       "    <tr>\n",
       "      <th>2</th>\n",
       "      <td>03-01-2021</td>\n",
       "      <td>10.866667</td>\n",
       "    </tr>\n",
       "    <tr>\n",
       "      <th>3</th>\n",
       "      <td>04-01-2021</td>\n",
       "      <td>9.400000</td>\n",
       "    </tr>\n",
       "    <tr>\n",
       "      <th>4</th>\n",
       "      <td>05-01-2021</td>\n",
       "      <td>0.000000</td>\n",
       "    </tr>\n",
       "    <tr>\n",
       "      <th>5</th>\n",
       "      <td>06-01-2021</td>\n",
       "      <td>8.200000</td>\n",
       "    </tr>\n",
       "    <tr>\n",
       "      <th>6</th>\n",
       "      <td>07-01-2021</td>\n",
       "      <td>40.500000</td>\n",
       "    </tr>\n",
       "    <tr>\n",
       "      <th>7</th>\n",
       "      <td>08-01-2021</td>\n",
       "      <td>2.000000</td>\n",
       "    </tr>\n",
       "    <tr>\n",
       "      <th>8</th>\n",
       "      <td>09-01-2021</td>\n",
       "      <td>14.400000</td>\n",
       "    </tr>\n",
       "    <tr>\n",
       "      <th>9</th>\n",
       "      <td>10-01-2021</td>\n",
       "      <td>34.300000</td>\n",
       "    </tr>\n",
       "  </tbody>\n",
       "</table>\n",
       "</div>"
      ],
      "text/plain": [
       "      Tanggal         RR\n",
       "0  01-01-2021  13.800000\n",
       "1  02-01-2021  12.333333\n",
       "2  03-01-2021  10.866667\n",
       "3  04-01-2021   9.400000\n",
       "4  05-01-2021   0.000000\n",
       "5  06-01-2021   8.200000\n",
       "6  07-01-2021  40.500000\n",
       "7  08-01-2021   2.000000\n",
       "8  09-01-2021  14.400000\n",
       "9  10-01-2021  34.300000"
      ]
     },
     "execution_count": 15,
     "metadata": {},
     "output_type": "execute_result"
    }
   ],
   "source": [
    "df_km.head(10)"
   ]
  },
  {
   "cell_type": "code",
   "execution_count": 16,
   "metadata": {
    "execution": {
     "iopub.execute_input": "2022-04-01T08:53:35.534083Z",
     "iopub.status.busy": "2022-04-01T08:53:35.533524Z",
     "iopub.status.idle": "2022-04-01T08:53:35.556180Z",
     "shell.execute_reply": "2022-04-01T08:53:35.555301Z",
     "shell.execute_reply.started": "2022-04-01T08:53:35.534037Z"
    }
   },
   "outputs": [
    {
     "name": "stdout",
     "output_type": "stream",
     "text": [
      "<class 'pandas.core.frame.DataFrame'>\n",
      "RangeIndex: 424 entries, 0 to 423\n",
      "Data columns (total 2 columns):\n",
      " #   Column   Non-Null Count  Dtype         \n",
      "---  ------   --------------  -----         \n",
      " 0   Tanggal  424 non-null    datetime64[ns]\n",
      " 1   RR       424 non-null    float64       \n",
      "dtypes: datetime64[ns](1), float64(1)\n",
      "memory usage: 6.8 KB\n"
     ]
    }
   ],
   "source": [
    "df_km['Tanggal'] = pd.to_datetime(df_km['Tanggal'])\n",
    "df_km.info()"
   ]
  },
  {
   "cell_type": "code",
   "execution_count": 17,
   "metadata": {
    "execution": {
     "iopub.execute_input": "2022-04-01T08:53:35.558304Z",
     "iopub.status.busy": "2022-04-01T08:53:35.557563Z",
     "iopub.status.idle": "2022-04-01T08:53:35.578062Z",
     "shell.execute_reply": "2022-04-01T08:53:35.577260Z",
     "shell.execute_reply.started": "2022-04-01T08:53:35.558258Z"
    }
   },
   "outputs": [
    {
     "data": {
      "text/html": [
       "<div>\n",
       "<style scoped>\n",
       "    .dataframe tbody tr th:only-of-type {\n",
       "        vertical-align: middle;\n",
       "    }\n",
       "\n",
       "    .dataframe tbody tr th {\n",
       "        vertical-align: top;\n",
       "    }\n",
       "\n",
       "    .dataframe thead th {\n",
       "        text-align: right;\n",
       "    }\n",
       "</style>\n",
       "<table border=\"1\" class=\"dataframe\">\n",
       "  <thead>\n",
       "    <tr style=\"text-align: right;\">\n",
       "      <th></th>\n",
       "      <th>ds</th>\n",
       "      <th>y</th>\n",
       "    </tr>\n",
       "  </thead>\n",
       "  <tbody>\n",
       "    <tr>\n",
       "      <th>0</th>\n",
       "      <td>2021-01-01</td>\n",
       "      <td>13.800000</td>\n",
       "    </tr>\n",
       "    <tr>\n",
       "      <th>1</th>\n",
       "      <td>2021-02-01</td>\n",
       "      <td>12.333333</td>\n",
       "    </tr>\n",
       "    <tr>\n",
       "      <th>2</th>\n",
       "      <td>2021-03-01</td>\n",
       "      <td>10.866667</td>\n",
       "    </tr>\n",
       "    <tr>\n",
       "      <th>3</th>\n",
       "      <td>2021-04-01</td>\n",
       "      <td>9.400000</td>\n",
       "    </tr>\n",
       "    <tr>\n",
       "      <th>4</th>\n",
       "      <td>2021-05-01</td>\n",
       "      <td>0.000000</td>\n",
       "    </tr>\n",
       "  </tbody>\n",
       "</table>\n",
       "</div>"
      ],
      "text/plain": [
       "          ds          y\n",
       "0 2021-01-01  13.800000\n",
       "1 2021-02-01  12.333333\n",
       "2 2021-03-01  10.866667\n",
       "3 2021-04-01   9.400000\n",
       "4 2021-05-01   0.000000"
      ]
     },
     "execution_count": 17,
     "metadata": {},
     "output_type": "execute_result"
    }
   ],
   "source": [
    "# Renaming columns\n",
    "df_km.rename(columns = {'Tanggal':'ds', 'RR':'y'}, inplace = True)\n",
    "df_km.head()"
   ]
  },
  {
   "cell_type": "code",
   "execution_count": 18,
   "metadata": {
    "execution": {
     "iopub.execute_input": "2022-04-01T08:53:35.735133Z",
     "iopub.status.busy": "2022-04-01T08:53:35.734620Z",
     "iopub.status.idle": "2022-04-01T08:53:35.747778Z",
     "shell.execute_reply": "2022-04-01T08:53:35.746860Z",
     "shell.execute_reply.started": "2022-04-01T08:53:35.735094Z"
    }
   },
   "outputs": [
    {
     "data": {
      "text/html": [
       "<div>\n",
       "<style scoped>\n",
       "    .dataframe tbody tr th:only-of-type {\n",
       "        vertical-align: middle;\n",
       "    }\n",
       "\n",
       "    .dataframe tbody tr th {\n",
       "        vertical-align: top;\n",
       "    }\n",
       "\n",
       "    .dataframe thead th {\n",
       "        text-align: right;\n",
       "    }\n",
       "</style>\n",
       "<table border=\"1\" class=\"dataframe\">\n",
       "  <thead>\n",
       "    <tr style=\"text-align: right;\">\n",
       "      <th></th>\n",
       "      <th>ds</th>\n",
       "      <th>y</th>\n",
       "    </tr>\n",
       "  </thead>\n",
       "  <tbody>\n",
       "    <tr>\n",
       "      <th>419</th>\n",
       "      <td>2022-02-24</td>\n",
       "      <td>17.80</td>\n",
       "    </tr>\n",
       "    <tr>\n",
       "      <th>420</th>\n",
       "      <td>2022-02-25</td>\n",
       "      <td>0.00</td>\n",
       "    </tr>\n",
       "    <tr>\n",
       "      <th>421</th>\n",
       "      <td>2022-02-26</td>\n",
       "      <td>2.50</td>\n",
       "    </tr>\n",
       "    <tr>\n",
       "      <th>422</th>\n",
       "      <td>2022-02-27</td>\n",
       "      <td>1.75</td>\n",
       "    </tr>\n",
       "    <tr>\n",
       "      <th>423</th>\n",
       "      <td>2022-02-28</td>\n",
       "      <td>1.00</td>\n",
       "    </tr>\n",
       "  </tbody>\n",
       "</table>\n",
       "</div>"
      ],
      "text/plain": [
       "            ds      y\n",
       "419 2022-02-24  17.80\n",
       "420 2022-02-25   0.00\n",
       "421 2022-02-26   2.50\n",
       "422 2022-02-27   1.75\n",
       "423 2022-02-28   1.00"
      ]
     },
     "execution_count": 18,
     "metadata": {},
     "output_type": "execute_result"
    }
   ],
   "source": [
    "df_km.tail()"
   ]
  },
  {
   "cell_type": "code",
   "execution_count": 19,
   "metadata": {
    "execution": {
     "iopub.execute_input": "2022-04-01T08:53:35.844612Z",
     "iopub.status.busy": "2022-04-01T08:53:35.844324Z",
     "iopub.status.idle": "2022-04-01T08:53:36.263066Z",
     "shell.execute_reply": "2022-04-01T08:53:36.262251Z",
     "shell.execute_reply.started": "2022-04-01T08:53:35.844580Z"
    },
    "id": "vDiPYmpK58jC",
    "outputId": "fd851d04-e739-4b2f-86e7-0dde71e1db57"
   },
   "outputs": [
    {
     "data": {
      "text/plain": [
       "Text(0.5, 1.0, 'Time Series Plot')"
      ]
     },
     "execution_count": 19,
     "metadata": {},
     "output_type": "execute_result"
    },
    {
     "data": {
      "image/png": "[encoded data removed]",
      "text/plain": [
       "<Figure size 864x432 with 1 Axes>"
      ]
     },
     "metadata": {},
     "output_type": "display_data"
    }
   ],
   "source": [
    "df_km.set_index('ds').plot(figsize=(12,6))\n",
    "plt.title('Time Series Plot')"
   ]
  },
  {
   "cell_type": "markdown",
   "metadata": {
    "id": "KS5j2phf7qCa"
   },
   "source": [
    "## Prophet Model"
   ]
  },
  {
   "cell_type": "code",
   "execution_count": 20,
   "metadata": {
    "execution": {
     "iopub.execute_input": "2022-04-01T08:53:36.265001Z",
     "iopub.status.busy": "2022-04-01T08:53:36.264764Z",
     "iopub.status.idle": "2022-04-01T08:55:48.062110Z",
     "shell.execute_reply": "2022-04-01T08:55:48.060958Z",
     "shell.execute_reply.started": "2022-04-01T08:53:36.264972Z"
    },
    "id": "PsCA_oCp7yYV"
   },
   "outputs": [
    {
     "name": "stdout",
     "output_type": "stream",
     "text": [
      "\u001b[31m  ERROR: Command errored out with exit status 1:\n",
      "   command: /opt/conda/envs/Python-3.9/bin/python -u -c 'import io, os, sys, setuptools, tokenize; sys.argv[0] = '\"'\"'/tmp/wsuser/pip-install-7fq3vksi/prophet_dfbeb1c32aac47e5824e0a837dcbb808/setup.py'\"'\"'; __file__='\"'\"'/tmp/wsuser/pip-install-7fq3vksi/prophet_dfbeb1c32aac47e5824e0a837dcbb808/setup.py'\"'\"';f = getattr(tokenize, '\"'\"'open'\"'\"', open)(__file__) if os.path.exists(__file__) else io.StringIO('\"'\"'from setuptools import setup; setup()'\"'\"');code = f.read().replace('\"'\"'\\r\\n'\"'\"', '\"'\"'\\n'\"'\"');f.close();exec(compile(code, __file__, '\"'\"'exec'\"'\"'))' bdist_wheel -d /tmp/wsuser/pip-wheel-fpkodjdm\n",
      "       cwd: /tmp/wsuser/pip-install-7fq3vksi/prophet_dfbeb1c32aac47e5824e0a837dcbb808/\n",
      "  Complete output (44 lines):\n",
      "  running bdist_wheel\n",
      "  running build\n",
      "  running build_py\n",
      "  creating build\n",
      "  creating build/lib\n",
      "  creating build/lib/prophet\n",
      "  creating build/lib/prophet/stan_model\n",
      "  Traceback (most recent call last):\n",
      "    File \"<string>\", line 1, in <module>\n",
      "    File \"/tmp/wsuser/pip-install-7fq3vksi/prophet_dfbeb1c32aac47e5824e0a837dcbb808/setup.py\", line 123, in <module>\n",
      "      setup(\n",
      "    File \"/opt/conda/envs/Python-3.9/lib/python3.9/site-packages/setuptools/__init__.py\", line 153, in setup\n",
      "      return distutils.core.setup(**attrs)\n",
      "    File \"/opt/conda/envs/Python-3.9/lib/python3.9/distutils/core.py\", line 148, in setup\n",
      "      dist.run_commands()\n",
      "    File \"/opt/conda/envs/Python-3.9/lib/python3.9/distutils/dist.py\", line 966, in run_commands\n",
      "      self.run_command(cmd)\n",
      "    File \"/opt/conda/envs/Python-3.9/lib/python3.9/distutils/dist.py\", line 985, in run_command\n",
      "      cmd_obj.run()\n",
      "    File \"/opt/conda/envs/Python-3.9/lib/python3.9/site-packages/wheel/bdist_wheel.py\", line 299, in run\n",
      "      self.run_command('build')\n",
      "    File \"/opt/conda/envs/Python-3.9/lib/python3.9/distutils/cmd.py\", line 313, in run_command\n",
      "      self.distribution.run_command(command)\n",
      "    File \"/opt/conda/envs/Python-3.9/lib/python3.9/distutils/dist.py\", line 985, in run_command\n",
      "      cmd_obj.run()\n",
      "    File \"/opt/conda/envs/Python-3.9/lib/python3.9/distutils/command/build.py\", line 135, in run\n",
      "      self.run_command(cmd_name)\n",
      "    File \"/opt/conda/envs/Python-3.9/lib/python3.9/distutils/cmd.py\", line 313, in run_command\n",
      "      self.distribution.run_command(command)\n",
      "    File \"/opt/conda/envs/Python-3.9/lib/python3.9/distutils/dist.py\", line 985, in run_command\n",
      "      cmd_obj.run()\n",
      "    File \"/tmp/wsuser/pip-install-7fq3vksi/prophet_dfbeb1c32aac47e5824e0a837dcbb808/setup.py\", line 48, in run\n",
      "      build_models(target_dir)\n",
      "    File \"/tmp/wsuser/pip-install-7fq3vksi/prophet_dfbeb1c32aac47e5824e0a837dcbb808/setup.py\", line 36, in build_models\n",
      "      from prophet.models import StanBackendEnum\n",
      "    File \"/tmp/wsuser/pip-install-7fq3vksi/prophet_dfbeb1c32aac47e5824e0a837dcbb808/prophet/__init__.py\", line 8, in <module>\n",
      "      from prophet.forecaster import Prophet\n",
      "    File \"/tmp/wsuser/pip-install-7fq3vksi/prophet_dfbeb1c32aac47e5824e0a837dcbb808/prophet/forecaster.py\", line 17, in <module>\n",
      "      from prophet.make_holidays import get_holiday_names, make_holidays_df\n",
      "    File \"/tmp/wsuser/pip-install-7fq3vksi/prophet_dfbeb1c32aac47e5824e0a837dcbb808/prophet/make_holidays.py\", line 14, in <module>\n",
      "      import prophet.hdays as hdays_part2\n",
      "    File \"/tmp/wsuser/pip-install-7fq3vksi/prophet_dfbeb1c32aac47e5824e0a837dcbb808/prophet/hdays.py\", line 14, in <module>\n",
      "      from lunarcalendar import Lunar, Converter\n",
      "  ModuleNotFoundError: No module named 'lunarcalendar'\n",
      "  ----------------------------------------\u001b[0m\n",
      "\u001b[31m  ERROR: Failed building wheel for prophet\u001b[0m\n",
      "\u001b[33m  DEPRECATION: prophet was installed using the legacy 'setup.py install' method, because a wheel could not be built for it. A possible replacement is to fix the wheel build issue reported above. You can find discussion regarding this at https://github.com/pypa/pip/issues/8368.\u001b[0m\n"
     ]
    }
   ],
   "source": [
    "!pip install prophet -q"
   ]
  },
  {
   "cell_type": "code",
   "execution_count": 21,
   "metadata": {
    "execution": {
     "iopub.execute_input": "2022-04-01T08:55:48.064060Z",
     "iopub.status.busy": "2022-04-01T08:55:48.063791Z",
     "iopub.status.idle": "2022-04-01T08:55:48.127918Z",
     "shell.execute_reply": "2022-04-01T08:55:48.127112Z",
     "shell.execute_reply.started": "2022-04-01T08:55:48.064027Z"
    },
    "id": "lFac0jli58e3"
   },
   "outputs": [],
   "source": [
    "from prophet import Prophet"
   ]
  },
  {
   "cell_type": "code",
   "execution_count": 22,
   "metadata": {
    "execution": {
     "iopub.execute_input": "2022-04-01T08:55:48.130521Z",
     "iopub.status.busy": "2022-04-01T08:55:48.129896Z",
     "iopub.status.idle": "2022-04-01T08:55:49.258286Z",
     "shell.execute_reply": "2022-04-01T08:55:49.257479Z",
     "shell.execute_reply.started": "2022-04-01T08:55:48.130475Z"
    },
    "id": "3_6QOV_258bJ"
   },
   "outputs": [],
   "source": [
    "m = Prophet(seasonality_mode='additive')"
   ]
  },
  {
   "cell_type": "markdown",
   "metadata": {
    "id": "n_TgzjgP9pki"
   },
   "source": [
    "Using default settings, only the seasonality mode is set to *Additive*\n",
    "\n"
   ]
  },
  {
   "cell_type": "code",
   "execution_count": 23,
   "metadata": {
    "execution": {
     "iopub.execute_input": "2022-04-01T08:55:49.279853Z",
     "iopub.status.busy": "2022-04-01T08:55:49.279459Z",
     "iopub.status.idle": "2022-04-01T08:55:49.416241Z",
     "shell.execute_reply": "2022-04-01T08:55:49.415324Z",
     "shell.execute_reply.started": "2022-04-01T08:55:49.279817Z"
    },
    "id": "9AcZ5Kga58XQ",
    "outputId": "cc2a687c-4507-4114-ce8a-b52d1ab04906"
   },
   "outputs": [
    {
     "name": "stderr",
     "output_type": "stream",
     "text": [
      "INFO:prophet:Disabling yearly seasonality. Run prophet with yearly_seasonality=True to override this.\n",
      "INFO:prophet:Disabling daily seasonality. Run prophet with daily_seasonality=True to override this.\n"
     ]
    },
    {
     "name": "stdout",
     "output_type": "stream",
     "text": [
      "Initial log joint probability = -3.76271\n"
     ]
    },
    {
     "data": {
      "text/plain": [
       "<prophet.forecaster.Prophet at 0x7fb198f3a850>"
      ]
     },
     "execution_count": 23,
     "metadata": {},
     "output_type": "execute_result"
    },
    {
     "name": "stdout",
     "output_type": "stream",
     "text": [
      "    Iter      log prob        ||dx||      ||grad||       alpha      alpha0  # evals  Notes \n",
      "      65        811.43   0.000834223       92.6072   1.299e-05       0.001      129  LS failed, Hessian reset \n",
      "      99       811.461   6.25905e-06       77.1441     0.02701           1      177   \n",
      "    Iter      log prob        ||dx||      ||grad||       alpha      alpha0  # evals  Notes \n",
      "     199       811.468   4.66848e-06       59.3264      0.3613           1      314   \n",
      "    Iter      log prob        ||dx||      ||grad||       alpha      alpha0  # evals  Notes \n",
      "     273        811.47   2.12311e-08       61.9847     0.02129           1      406   \n",
      "Optimization terminated normally: \n",
      "  Convergence detected: relative gradient magnitude is below tolerance\n"
     ]
    }
   ],
   "source": [
    "m.fit(df_km)"
   ]
  },
  {
   "cell_type": "code",
   "execution_count": 24,
   "metadata": {
    "execution": {
     "iopub.execute_input": "2022-04-01T08:55:49.417866Z",
     "iopub.status.busy": "2022-04-01T08:55:49.417570Z",
     "iopub.status.idle": "2022-04-01T08:55:49.427068Z",
     "shell.execute_reply": "2022-04-01T08:55:49.426041Z",
     "shell.execute_reply.started": "2022-04-01T08:55:49.417835Z"
    },
    "id": "Iq-KLct058TY"
   },
   "outputs": [],
   "source": [
    "future = m.make_future_dataframe(periods=60, freq='D')"
   ]
  },
  {
   "cell_type": "code",
   "execution_count": 25,
   "metadata": {
    "execution": {
     "iopub.execute_input": "2022-04-01T08:55:49.429615Z",
     "iopub.status.busy": "2022-04-01T08:55:49.428605Z",
     "iopub.status.idle": "2022-04-01T08:55:49.447433Z",
     "shell.execute_reply": "2022-04-01T08:55:49.446508Z",
     "shell.execute_reply.started": "2022-04-01T08:55:49.429574Z"
    },
    "id": "6dGM0yvo58Pd",
    "outputId": "e21a8994-6a46-4c43-9138-54e0d313d057"
   },
   "outputs": [
    {
     "data": {
      "text/html": [
       "<div>\n",
       "<style scoped>\n",
       "    .dataframe tbody tr th:only-of-type {\n",
       "        vertical-align: middle;\n",
       "    }\n",
       "\n",
       "    .dataframe tbody tr th {\n",
       "        vertical-align: top;\n",
       "    }\n",
       "\n",
       "    .dataframe thead th {\n",
       "        text-align: right;\n",
       "    }\n",
       "</style>\n",
       "<table border=\"1\" class=\"dataframe\">\n",
       "  <thead>\n",
       "    <tr style=\"text-align: right;\">\n",
       "      <th></th>\n",
       "      <th>ds</th>\n",
       "    </tr>\n",
       "  </thead>\n",
       "  <tbody>\n",
       "    <tr>\n",
       "      <th>479</th>\n",
       "      <td>2023-01-27</td>\n",
       "    </tr>\n",
       "    <tr>\n",
       "      <th>480</th>\n",
       "      <td>2023-01-28</td>\n",
       "    </tr>\n",
       "    <tr>\n",
       "      <th>481</th>\n",
       "      <td>2023-01-29</td>\n",
       "    </tr>\n",
       "    <tr>\n",
       "      <th>482</th>\n",
       "      <td>2023-01-30</td>\n",
       "    </tr>\n",
       "    <tr>\n",
       "      <th>483</th>\n",
       "      <td>2023-01-31</td>\n",
       "    </tr>\n",
       "  </tbody>\n",
       "</table>\n",
       "</div>"
      ],
      "text/plain": [
       "            ds\n",
       "479 2023-01-27\n",
       "480 2023-01-28\n",
       "481 2023-01-29\n",
       "482 2023-01-30\n",
       "483 2023-01-31"
      ]
     },
     "execution_count": 25,
     "metadata": {},
     "output_type": "execute_result"
    }
   ],
   "source": [
    "future.tail(5)"
   ]
  },
  {
   "cell_type": "code",
   "execution_count": 26,
   "metadata": {
    "execution": {
     "iopub.execute_input": "2022-04-01T08:55:49.449584Z",
     "iopub.status.busy": "2022-04-01T08:55:49.448787Z",
     "iopub.status.idle": "2022-04-01T08:55:51.478995Z",
     "shell.execute_reply": "2022-04-01T08:55:51.478354Z",
     "shell.execute_reply.started": "2022-04-01T08:55:49.449540Z"
    },
    "id": "OCdhcLtp58LY"
   },
   "outputs": [],
   "source": [
    "forecast = m.predict(future)"
   ]
  },
  {
   "cell_type": "code",
   "execution_count": 27,
   "metadata": {
    "execution": {
     "iopub.execute_input": "2022-04-01T08:55:51.481508Z",
     "iopub.status.busy": "2022-04-01T08:55:51.480647Z",
     "iopub.status.idle": "2022-04-01T08:55:51.504827Z",
     "shell.execute_reply": "2022-04-01T08:55:51.504010Z",
     "shell.execute_reply.started": "2022-04-01T08:55:51.481475Z"
    },
    "id": "0sfWkS3U58Hv",
    "outputId": "716da66a-95ee-4cc4-9752-8a8f78e2d1cf"
   },
   "outputs": [
    {
     "data": {
      "text/html": [
       "<div>\n",
       "<style scoped>\n",
       "    .dataframe tbody tr th:only-of-type {\n",
       "        vertical-align: middle;\n",
       "    }\n",
       "\n",
       "    .dataframe tbody tr th {\n",
       "        vertical-align: top;\n",
       "    }\n",
       "\n",
       "    .dataframe thead th {\n",
       "        text-align: right;\n",
       "    }\n",
       "</style>\n",
       "<table border=\"1\" class=\"dataframe\">\n",
       "  <thead>\n",
       "    <tr style=\"text-align: right;\">\n",
       "      <th></th>\n",
       "      <th>ds</th>\n",
       "      <th>trend</th>\n",
       "      <th>yhat_lower</th>\n",
       "      <th>yhat_upper</th>\n",
       "      <th>trend_lower</th>\n",
       "      <th>trend_upper</th>\n",
       "      <th>additive_terms</th>\n",
       "      <th>additive_terms_lower</th>\n",
       "      <th>additive_terms_upper</th>\n",
       "      <th>weekly</th>\n",
       "      <th>weekly_lower</th>\n",
       "      <th>weekly_upper</th>\n",
       "      <th>multiplicative_terms</th>\n",
       "      <th>multiplicative_terms_lower</th>\n",
       "      <th>multiplicative_terms_upper</th>\n",
       "      <th>yhat</th>\n",
       "    </tr>\n",
       "  </thead>\n",
       "  <tbody>\n",
       "    <tr>\n",
       "      <th>479</th>\n",
       "      <td>2023-01-27</td>\n",
       "      <td>12.626045</td>\n",
       "      <td>-10.455716</td>\n",
       "      <td>34.623597</td>\n",
       "      <td>12.599801</td>\n",
       "      <td>12.650974</td>\n",
       "      <td>0.455848</td>\n",
       "      <td>0.455848</td>\n",
       "      <td>0.455848</td>\n",
       "      <td>0.455848</td>\n",
       "      <td>0.455848</td>\n",
       "      <td>0.455848</td>\n",
       "      <td>0.0</td>\n",
       "      <td>0.0</td>\n",
       "      <td>0.0</td>\n",
       "      <td>13.081893</td>\n",
       "    </tr>\n",
       "    <tr>\n",
       "      <th>480</th>\n",
       "      <td>2023-01-28</td>\n",
       "      <td>12.633848</td>\n",
       "      <td>-13.425113</td>\n",
       "      <td>35.414873</td>\n",
       "      <td>12.606549</td>\n",
       "      <td>12.659467</td>\n",
       "      <td>-1.282108</td>\n",
       "      <td>-1.282108</td>\n",
       "      <td>-1.282108</td>\n",
       "      <td>-1.282108</td>\n",
       "      <td>-1.282108</td>\n",
       "      <td>-1.282108</td>\n",
       "      <td>0.0</td>\n",
       "      <td>0.0</td>\n",
       "      <td>0.0</td>\n",
       "      <td>11.351741</td>\n",
       "    </tr>\n",
       "    <tr>\n",
       "      <th>481</th>\n",
       "      <td>2023-01-29</td>\n",
       "      <td>12.641652</td>\n",
       "      <td>-12.848378</td>\n",
       "      <td>34.350772</td>\n",
       "      <td>12.613404</td>\n",
       "      <td>12.668151</td>\n",
       "      <td>-1.881820</td>\n",
       "      <td>-1.881820</td>\n",
       "      <td>-1.881820</td>\n",
       "      <td>-1.881820</td>\n",
       "      <td>-1.881820</td>\n",
       "      <td>-1.881820</td>\n",
       "      <td>0.0</td>\n",
       "      <td>0.0</td>\n",
       "      <td>0.0</td>\n",
       "      <td>10.759831</td>\n",
       "    </tr>\n",
       "    <tr>\n",
       "      <th>482</th>\n",
       "      <td>2023-01-30</td>\n",
       "      <td>12.649455</td>\n",
       "      <td>-14.793096</td>\n",
       "      <td>35.282641</td>\n",
       "      <td>12.620629</td>\n",
       "      <td>12.676822</td>\n",
       "      <td>-0.884262</td>\n",
       "      <td>-0.884262</td>\n",
       "      <td>-0.884262</td>\n",
       "      <td>-0.884262</td>\n",
       "      <td>-0.884262</td>\n",
       "      <td>-0.884262</td>\n",
       "      <td>0.0</td>\n",
       "      <td>0.0</td>\n",
       "      <td>0.0</td>\n",
       "      <td>11.765193</td>\n",
       "    </tr>\n",
       "    <tr>\n",
       "      <th>483</th>\n",
       "      <td>2023-01-31</td>\n",
       "      <td>12.657259</td>\n",
       "      <td>-10.963324</td>\n",
       "      <td>34.523319</td>\n",
       "      <td>12.627875</td>\n",
       "      <td>12.685390</td>\n",
       "      <td>-0.056703</td>\n",
       "      <td>-0.056703</td>\n",
       "      <td>-0.056703</td>\n",
       "      <td>-0.056703</td>\n",
       "      <td>-0.056703</td>\n",
       "      <td>-0.056703</td>\n",
       "      <td>0.0</td>\n",
       "      <td>0.0</td>\n",
       "      <td>0.0</td>\n",
       "      <td>12.600555</td>\n",
       "    </tr>\n",
       "  </tbody>\n",
       "</table>\n",
       "</div>"
      ],
      "text/plain": [
       "            ds      trend  yhat_lower  yhat_upper  trend_lower  trend_upper  \\\n",
       "479 2023-01-27  12.626045  -10.455716   34.623597    12.599801    12.650974   \n",
       "480 2023-01-28  12.633848  -13.425113   35.414873    12.606549    12.659467   \n",
       "481 2023-01-29  12.641652  -12.848378   34.350772    12.613404    12.668151   \n",
       "482 2023-01-30  12.649455  -14.793096   35.282641    12.620629    12.676822   \n",
       "483 2023-01-31  12.657259  -10.963324   34.523319    12.627875    12.685390   \n",
       "\n",
       "     additive_terms  additive_terms_lower  additive_terms_upper    weekly  \\\n",
       "479        0.455848              0.455848              0.455848  0.455848   \n",
       "480       -1.282108             -1.282108             -1.282108 -1.282108   \n",
       "481       -1.881820             -1.881820             -1.881820 -1.881820   \n",
       "482       -0.884262             -0.884262             -0.884262 -0.884262   \n",
       "483       -0.056703             -0.056703             -0.056703 -0.056703   \n",
       "\n",
       "     weekly_lower  weekly_upper  multiplicative_terms  \\\n",
       "479      0.455848      0.455848                   0.0   \n",
       "480     -1.282108     -1.282108                   0.0   \n",
       "481     -1.881820     -1.881820                   0.0   \n",
       "482     -0.884262     -0.884262                   0.0   \n",
       "483     -0.056703     -0.056703                   0.0   \n",
       "\n",
       "     multiplicative_terms_lower  multiplicative_terms_upper       yhat  \n",
       "479                         0.0                         0.0  13.081893  \n",
       "480                         0.0                         0.0  11.351741  \n",
       "481                         0.0                         0.0  10.759831  \n",
       "482                         0.0                         0.0  11.765193  \n",
       "483                         0.0                         0.0  12.600555  "
      ]
     },
     "execution_count": 27,
     "metadata": {},
     "output_type": "execute_result"
    }
   ],
   "source": [
    "forecast.tail()"
   ]
  },
  {
   "cell_type": "code",
   "execution_count": 28,
   "metadata": {
    "execution": {
     "iopub.execute_input": "2022-04-01T08:55:51.506502Z",
     "iopub.status.busy": "2022-04-01T08:55:51.506138Z",
     "iopub.status.idle": "2022-04-01T08:55:51.865603Z",
     "shell.execute_reply": "2022-04-01T08:55:51.864755Z",
     "shell.execute_reply.started": "2022-04-01T08:55:51.506468Z"
    },
    "id": "DF2s22fk58Em",
    "outputId": "a651a350-57d6-4d42-b3d8-589fd8622a65"
   },
   "outputs": [
    {
     "data": {
      "text/plain": [
       "Text(0.5, 1.0, 'Forecast of the Time Series in the next 60 days')"
      ]
     },
     "execution_count": 28,
     "metadata": {},
     "output_type": "execute_result"
    },
    {
     "data": {
      "image/png": "[encoded data removed]",
      "text/plain": [
       "<Figure size 720x432 with 1 Axes>"
      ]
     },
     "metadata": {},
     "output_type": "display_data"
    }
   ],
   "source": [
    "m.plot(forecast);\n",
    "plt.title(\"Forecast of the Time Series in the next 60 days\")"
   ]
  },
  {
   "cell_type": "code",
   "execution_count": 29,
   "metadata": {
    "execution": {
     "iopub.execute_input": "2022-04-01T08:55:51.868469Z",
     "iopub.status.busy": "2022-04-01T08:55:51.867540Z",
     "iopub.status.idle": "2022-04-01T08:55:52.339821Z",
     "shell.execute_reply": "2022-04-01T08:55:52.338925Z",
     "shell.execute_reply.started": "2022-04-01T08:55:51.868420Z"
    },
    "id": "RWsL_f4eB5B2",
    "outputId": "2a22ed8d-354c-4bdf-c1f1-a94c22e44423"
   },
   "outputs": [
    {
     "name": "stdout",
     "output_type": "stream",
     "text": [
      "Components of the time series:\n"
     ]
    },
    {
     "data": {
      "image/png": "[encoded data removed]",
      "text/plain": [
       "<Figure size 648x432 with 2 Axes>"
      ]
     },
     "metadata": {},
     "output_type": "display_data"
    }
   ],
   "source": [
    "m.plot_components(forecast);\n",
    "print(\"Components of the time series:\")"
   ]
  },
  {
   "cell_type": "code",
   "execution_count": 30,
   "metadata": {
    "execution": {
     "iopub.execute_input": "2022-04-01T08:55:52.341379Z",
     "iopub.status.busy": "2022-04-01T08:55:52.341111Z",
     "iopub.status.idle": "2022-04-01T08:55:52.359934Z",
     "shell.execute_reply": "2022-04-01T08:55:52.359013Z",
     "shell.execute_reply.started": "2022-04-01T08:55:52.341343Z"
    },
    "id": "jzO55k-q-xqy"
   },
   "outputs": [
    {
     "name": "stdout",
     "output_type": "stream",
     "text": [
      "<class 'pandas.core.frame.DataFrame'>\n",
      "RangeIndex: 484 entries, 0 to 483\n",
      "Data columns (total 4 columns):\n",
      " #   Column      Non-Null Count  Dtype         \n",
      "---  ------      --------------  -----         \n",
      " 0   ds          484 non-null    datetime64[ns]\n",
      " 1   yhat_lower  484 non-null    float64       \n",
      " 2   yhat        484 non-null    float64       \n",
      " 3   yhat_upper  484 non-null    float64       \n",
      "dtypes: datetime64[ns](1), float64(3)\n",
      "memory usage: 15.2 KB\n"
     ]
    }
   ],
   "source": [
    "#p_forecast = forecast[forecast['ds']>'2022-02-18'][['ds','yhat_lower','yhat','yhat_upper']]\n",
    "p_forecast = forecast[['ds','yhat_lower','yhat','yhat_upper']]\n",
    "p_forecast.info()"
   ]
  },
  {
   "cell_type": "code",
   "execution_count": 31,
   "metadata": {
    "execution": {
     "iopub.execute_input": "2022-04-01T08:55:52.361760Z",
     "iopub.status.busy": "2022-04-01T08:55:52.361425Z",
     "iopub.status.idle": "2022-04-01T08:55:52.700614Z",
     "shell.execute_reply": "2022-04-01T08:55:52.699741Z",
     "shell.execute_reply.started": "2022-04-01T08:55:52.361718Z"
    },
    "id": "D3luqYmd-xjx",
    "outputId": "27964f81-f5d6-473f-bf14-465c982d7cef"
   },
   "outputs": [
    {
     "data": {
      "text/plain": [
       "<matplotlib.collections.PolyCollection at 0x7fb197145fd0>"
      ]
     },
     "execution_count": 31,
     "metadata": {},
     "output_type": "execute_result"
    },
    {
     "data": {
      "image/png": "[encoded data removed]",
      "text/plain": [
       "<Figure size 864x432 with 1 Axes>"
      ]
     },
     "metadata": {},
     "output_type": "display_data"
    }
   ],
   "source": [
    "plt.figure(figsize=(12,6))\n",
    "plt.xticks(rotation=45)\n",
    "plt.title(\"Detail of Forecast using Prophet\")\n",
    "plt.plot(p_forecast['ds'], p_forecast['yhat'], marker='.', c='navy')\n",
    "plt.fill_between(p_forecast['ds'],p_forecast['yhat_lower'], p_forecast['yhat_upper'], alpha=0.1, color='cyan')"
   ]
  },
  {
   "cell_type": "markdown",
   "metadata": {
    "id": "gdCVB2iaLqmS"
   },
   "source": [
    "### Performance Metrics"
   ]
  },
  {
   "cell_type": "code",
   "execution_count": 32,
   "metadata": {
    "execution": {
     "iopub.execute_input": "2022-04-01T08:55:52.702624Z",
     "iopub.status.busy": "2022-04-01T08:55:52.702038Z",
     "iopub.status.idle": "2022-04-01T08:55:52.886220Z",
     "shell.execute_reply": "2022-04-01T08:55:52.885368Z",
     "shell.execute_reply.started": "2022-04-01T08:55:52.702579Z"
    },
    "id": "tPJQi-dm-wrf"
   },
   "outputs": [],
   "source": [
    "from sklearn.metrics import mean_squared_error"
   ]
  },
  {
   "cell_type": "code",
   "execution_count": 33,
   "metadata": {
    "execution": {
     "iopub.execute_input": "2022-04-01T08:55:52.888722Z",
     "iopub.status.busy": "2022-04-01T08:55:52.888452Z",
     "iopub.status.idle": "2022-04-01T08:55:52.903675Z",
     "shell.execute_reply": "2022-04-01T08:55:52.902692Z",
     "shell.execute_reply.started": "2022-04-01T08:55:52.888688Z"
    }
   },
   "outputs": [
    {
     "name": "stdout",
     "output_type": "stream",
     "text": [
      "<class 'pandas.core.frame.DataFrame'>\n",
      "RangeIndex: 424 entries, 0 to 423\n",
      "Data columns (total 2 columns):\n",
      " #   Column  Non-Null Count  Dtype         \n",
      "---  ------  --------------  -----         \n",
      " 0   ds      424 non-null    datetime64[ns]\n",
      " 1   y       424 non-null    float64       \n",
      "dtypes: datetime64[ns](1), float64(1)\n",
      "memory usage: 6.8 KB\n"
     ]
    }
   ],
   "source": [
    "df_km.info()"
   ]
  },
  {
   "cell_type": "code",
   "execution_count": 34,
   "metadata": {
    "execution": {
     "iopub.execute_input": "2022-04-01T08:55:52.906037Z",
     "iopub.status.busy": "2022-04-01T08:55:52.905647Z",
     "iopub.status.idle": "2022-04-01T08:55:52.938615Z",
     "shell.execute_reply": "2022-04-01T08:55:52.937683Z",
     "shell.execute_reply.started": "2022-04-01T08:55:52.905989Z"
    }
   },
   "outputs": [
    {
     "data": {
      "text/html": [
       "<div>\n",
       "<style scoped>\n",
       "    .dataframe tbody tr th:only-of-type {\n",
       "        vertical-align: middle;\n",
       "    }\n",
       "\n",
       "    .dataframe tbody tr th {\n",
       "        vertical-align: top;\n",
       "    }\n",
       "\n",
       "    .dataframe thead th {\n",
       "        text-align: right;\n",
       "    }\n",
       "</style>\n",
       "<table border=\"1\" class=\"dataframe\">\n",
       "  <thead>\n",
       "    <tr style=\"text-align: right;\">\n",
       "      <th></th>\n",
       "      <th>ds</th>\n",
       "      <th>yhat_lower</th>\n",
       "      <th>yhat_upper</th>\n",
       "      <th>yhat</th>\n",
       "      <th>y</th>\n",
       "    </tr>\n",
       "  </thead>\n",
       "  <tbody>\n",
       "    <tr>\n",
       "      <th>0</th>\n",
       "      <td>2021-01-01</td>\n",
       "      <td>-13.424537</td>\n",
       "      <td>32.033533</td>\n",
       "      <td>9.427249</td>\n",
       "      <td>13.800000</td>\n",
       "    </tr>\n",
       "    <tr>\n",
       "      <th>1</th>\n",
       "      <td>2021-02-01</td>\n",
       "      <td>-14.883335</td>\n",
       "      <td>30.647319</td>\n",
       "      <td>8.024432</td>\n",
       "      <td>12.333333</td>\n",
       "    </tr>\n",
       "    <tr>\n",
       "      <th>2</th>\n",
       "      <td>2021-03-01</td>\n",
       "      <td>-15.326314</td>\n",
       "      <td>31.267976</td>\n",
       "      <td>7.967793</td>\n",
       "      <td>10.866667</td>\n",
       "    </tr>\n",
       "    <tr>\n",
       "      <th>3</th>\n",
       "      <td>2021-04-01</td>\n",
       "      <td>-14.102800</td>\n",
       "      <td>32.561629</td>\n",
       "      <td>9.694964</td>\n",
       "      <td>9.400000</td>\n",
       "    </tr>\n",
       "    <tr>\n",
       "      <th>4</th>\n",
       "      <td>2021-05-01</td>\n",
       "      <td>-17.269289</td>\n",
       "      <td>28.303762</td>\n",
       "      <td>7.446556</td>\n",
       "      <td>0.000000</td>\n",
       "    </tr>\n",
       "  </tbody>\n",
       "</table>\n",
       "</div>"
      ],
      "text/plain": [
       "          ds  yhat_lower  yhat_upper      yhat          y\n",
       "0 2021-01-01  -13.424537   32.033533  9.427249  13.800000\n",
       "1 2021-02-01  -14.883335   30.647319  8.024432  12.333333\n",
       "2 2021-03-01  -15.326314   31.267976  7.967793  10.866667\n",
       "3 2021-04-01  -14.102800   32.561629  9.694964   9.400000\n",
       "4 2021-05-01  -17.269289   28.303762  7.446556   0.000000"
      ]
     },
     "execution_count": 34,
     "metadata": {},
     "output_type": "execute_result"
    }
   ],
   "source": [
    "df_km_merge = pd.merge(df_km, forecast[['ds','yhat_lower','yhat_upper','yhat']],on='ds')\n",
    "df_km_merge = df_km_merge[['ds','yhat_lower','yhat_upper','yhat','y']]\n",
    "df_km_merge.head()"
   ]
  },
  {
   "cell_type": "code",
   "execution_count": 35,
   "metadata": {
    "execution": {
     "iopub.execute_input": "2022-04-01T08:55:52.940120Z",
     "iopub.status.busy": "2022-04-01T08:55:52.939859Z",
     "iopub.status.idle": "2022-04-01T08:55:52.954442Z",
     "shell.execute_reply": "2022-04-01T08:55:52.953778Z",
     "shell.execute_reply.started": "2022-04-01T08:55:52.940075Z"
    }
   },
   "outputs": [
    {
     "data": {
      "text/html": [
       "<div>\n",
       "<style scoped>\n",
       "    .dataframe tbody tr th:only-of-type {\n",
       "        vertical-align: middle;\n",
       "    }\n",
       "\n",
       "    .dataframe tbody tr th {\n",
       "        vertical-align: top;\n",
       "    }\n",
       "\n",
       "    .dataframe thead th {\n",
       "        text-align: right;\n",
       "    }\n",
       "</style>\n",
       "<table border=\"1\" class=\"dataframe\">\n",
       "  <thead>\n",
       "    <tr style=\"text-align: right;\">\n",
       "      <th></th>\n",
       "      <th>ds</th>\n",
       "      <th>yhat_lower</th>\n",
       "      <th>yhat_upper</th>\n",
       "      <th>yhat</th>\n",
       "      <th>y</th>\n",
       "    </tr>\n",
       "  </thead>\n",
       "  <tbody>\n",
       "    <tr>\n",
       "      <th>419</th>\n",
       "      <td>2022-02-24</td>\n",
       "      <td>-11.195812</td>\n",
       "      <td>32.922483</td>\n",
       "      <td>10.901895</td>\n",
       "      <td>17.80</td>\n",
       "    </tr>\n",
       "    <tr>\n",
       "      <th>420</th>\n",
       "      <td>2022-02-25</td>\n",
       "      <td>-13.959302</td>\n",
       "      <td>33.328192</td>\n",
       "      <td>10.459930</td>\n",
       "      <td>0.00</td>\n",
       "    </tr>\n",
       "    <tr>\n",
       "      <th>421</th>\n",
       "      <td>2022-02-26</td>\n",
       "      <td>-16.367382</td>\n",
       "      <td>31.253870</td>\n",
       "      <td>8.729778</td>\n",
       "      <td>2.50</td>\n",
       "    </tr>\n",
       "    <tr>\n",
       "      <th>422</th>\n",
       "      <td>2022-02-27</td>\n",
       "      <td>-17.034003</td>\n",
       "      <td>32.002615</td>\n",
       "      <td>8.137869</td>\n",
       "      <td>1.75</td>\n",
       "    </tr>\n",
       "    <tr>\n",
       "      <th>423</th>\n",
       "      <td>2022-02-28</td>\n",
       "      <td>-14.669013</td>\n",
       "      <td>31.729278</td>\n",
       "      <td>9.143230</td>\n",
       "      <td>1.00</td>\n",
       "    </tr>\n",
       "  </tbody>\n",
       "</table>\n",
       "</div>"
      ],
      "text/plain": [
       "            ds  yhat_lower  yhat_upper       yhat      y\n",
       "419 2022-02-24  -11.195812   32.922483  10.901895  17.80\n",
       "420 2022-02-25  -13.959302   33.328192  10.459930   0.00\n",
       "421 2022-02-26  -16.367382   31.253870   8.729778   2.50\n",
       "422 2022-02-27  -17.034003   32.002615   8.137869   1.75\n",
       "423 2022-02-28  -14.669013   31.729278   9.143230   1.00"
      ]
     },
     "execution_count": 35,
     "metadata": {},
     "output_type": "execute_result"
    }
   ],
   "source": [
    "df_km_merge.tail()"
   ]
  },
  {
   "cell_type": "code",
   "execution_count": 36,
   "metadata": {
    "execution": {
     "iopub.execute_input": "2022-04-01T08:55:52.959333Z",
     "iopub.status.busy": "2022-04-01T08:55:52.958405Z",
     "iopub.status.idle": "2022-04-01T08:55:52.965826Z",
     "shell.execute_reply": "2022-04-01T08:55:52.964917Z",
     "shell.execute_reply.started": "2022-04-01T08:55:52.959296Z"
    },
    "id": "h3g-k2Bd-wlT"
   },
   "outputs": [],
   "source": [
    "prophet_mse = mean_squared_error(df_km_merge['y'], df_km_merge['yhat'])\n",
    "prophet_rmse = np.sqrt(mean_squared_error(df_km_merge['y'], df_km_merge['yhat']))"
   ]
  },
  {
   "cell_type": "code",
   "execution_count": 37,
   "metadata": {
    "execution": {
     "iopub.execute_input": "2022-04-01T08:55:52.968175Z",
     "iopub.status.busy": "2022-04-01T08:55:52.967538Z",
     "iopub.status.idle": "2022-04-01T08:55:52.977251Z",
     "shell.execute_reply": "2022-04-01T08:55:52.976387Z",
     "shell.execute_reply.started": "2022-04-01T08:55:52.968139Z"
    },
    "id": "shJVx922-wh5",
    "outputId": "8362eca7-9488-45b3-c55d-b5553b8ab96c"
   },
   "outputs": [
    {
     "name": "stdout",
     "output_type": "stream",
     "text": [
      "Prophet MSE: 332.0514\n",
      "Prophet RMSE: 18.2223\n"
     ]
    }
   ],
   "source": [
    "print(\"Prophet MSE: {:.4f}\".format(prophet_mse))\n",
    "print(\"Prophet RMSE: {:.4f}\".format(prophet_rmse))"
   ]
  },
  {
   "cell_type": "markdown",
   "metadata": {
    "id": "Ut0bqOp6NKXB"
   },
   "source": [
    "## NeuralProphet"
   ]
  },
  {
   "cell_type": "code",
   "execution_count": 38,
   "metadata": {
    "execution": {
     "iopub.execute_input": "2022-04-01T08:55:52.979421Z",
     "iopub.status.busy": "2022-04-01T08:55:52.978527Z",
     "iopub.status.idle": "2022-04-01T08:56:03.519604Z",
     "shell.execute_reply": "2022-04-01T08:56:03.518620Z",
     "shell.execute_reply.started": "2022-04-01T08:55:52.979388Z"
    },
    "id": "_MmLi72YQUzB"
   },
   "outputs": [],
   "source": [
    "!pip install neuralprophet -q"
   ]
  },
  {
   "cell_type": "code",
   "execution_count": 39,
   "metadata": {
    "execution": {
     "iopub.execute_input": "2022-04-01T08:56:03.521716Z",
     "iopub.status.busy": "2022-04-01T08:56:03.521358Z",
     "iopub.status.idle": "2022-04-01T08:56:04.602615Z",
     "shell.execute_reply": "2022-04-01T08:56:04.601634Z",
     "shell.execute_reply.started": "2022-04-01T08:56:03.521651Z"
    },
    "id": "z8ZOYrkOQ5A_"
   },
   "outputs": [],
   "source": [
    "from neuralprophet import NeuralProphet, set_random_seed"
   ]
  },
  {
   "cell_type": "code",
   "execution_count": 40,
   "metadata": {
    "execution": {
     "iopub.execute_input": "2022-04-01T08:56:04.604140Z",
     "iopub.status.busy": "2022-04-01T08:56:04.603893Z",
     "iopub.status.idle": "2022-04-01T08:56:04.611601Z",
     "shell.execute_reply": "2022-04-01T08:56:04.610747Z",
     "shell.execute_reply.started": "2022-04-01T08:56:04.604109Z"
    },
    "id": "jzVA9PzwVDWF"
   },
   "outputs": [],
   "source": [
    "set_random_seed(42)"
   ]
  },
  {
   "cell_type": "code",
   "execution_count": 41,
   "metadata": {
    "execution": {
     "iopub.execute_input": "2022-04-01T08:56:04.614763Z",
     "iopub.status.busy": "2022-04-01T08:56:04.613763Z",
     "iopub.status.idle": "2022-04-01T08:56:04.632477Z",
     "shell.execute_reply": "2022-04-01T08:56:04.631533Z",
     "shell.execute_reply.started": "2022-04-01T08:56:04.614716Z"
    },
    "id": "j1etU6abQU2_"
   },
   "outputs": [],
   "source": [
    "nm = NeuralProphet(seasonality_mode='additive')"
   ]
  },
  {
   "cell_type": "code",
   "execution_count": 42,
   "metadata": {
    "execution": {
     "iopub.execute_input": "2022-04-01T08:56:04.635708Z",
     "iopub.status.busy": "2022-04-01T08:56:04.634902Z",
     "iopub.status.idle": "2022-04-01T08:56:17.584915Z",
     "shell.execute_reply": "2022-04-01T08:56:17.583810Z",
     "shell.execute_reply.started": "2022-04-01T08:56:04.635641Z"
    },
    "id": "94DWQAlRQU6l",
    "outputId": "e119abca-ba94-48f8-cf50-60a76f8bbce8"
   },
   "outputs": [
    {
     "name": "stderr",
     "output_type": "stream",
     "text": [
      "INFO - (NP.df_utils._infer_frequency) - Major frequency D corresponds to 97.17% of the data.\n",
      "INFO:NP.df_utils:Major frequency D corresponds to 97.17% of the data.\n",
      "INFO - (NP.df_utils._infer_frequency) - Defined frequency is equal to major frequency - D\n",
      "INFO:NP.df_utils:Defined frequency is equal to major frequency - D\n",
      "INFO - (NP.config.init_data_params) - Setting normalization to global as only one dataframe provided for training.\n",
      "INFO:NP.config:Setting normalization to global as only one dataframe provided for training.\n",
      "INFO - (NP.utils.set_auto_seasonalities) - Disabling yearly seasonality. Run NeuralProphet with yearly_seasonality=True to override this.\n",
      "INFO:NP.utils:Disabling yearly seasonality. Run NeuralProphet with yearly_seasonality=True to override this.\n",
      "INFO - (NP.utils.set_auto_seasonalities) - Disabling daily seasonality. Run NeuralProphet with daily_seasonality=True to override this.\n",
      "INFO:NP.utils:Disabling daily seasonality. Run NeuralProphet with daily_seasonality=True to override this.\n",
      "INFO - (NP.config.set_auto_batch_epoch) - Auto-set batch_size to 16\n",
      "INFO:NP.config:Auto-set batch_size to 16\n",
      "INFO - (NP.config.set_auto_batch_epoch) - Auto-set epochs to 262\n",
      "INFO:NP.config:Auto-set epochs to 262\n"
     ]
    },
    {
     "data": {
      "application/vnd.jupyter.widget-view+json": {
       "model_id": "684dd486427c4ae4904e99f96195056b",
       "version_major": 2,
       "version_minor": 0
      },
      "text/plain": [
       "  0%|          | 0/117 [00:00<?, ?it/s]"
      ]
     },
     "metadata": {},
     "output_type": "display_data"
    },
    {
     "name": "stderr",
     "output_type": "stream",
     "text": [
      "INFO - (NP.utils_torch.lr_range_test) - lr-range-test results: steep: 5.51E-02, min: 2.30E-01\n",
      "INFO:NP.utils_torch:lr-range-test results: steep: 5.51E-02, min: 2.30E-01\n"
     ]
    },
    {
     "data": {
      "application/vnd.jupyter.widget-view+json": {
       "model_id": "9001d95a7b884f3884ea4f6fdacd48ee",
       "version_major": 2,
       "version_minor": 0
      },
      "text/plain": [
       "  0%|          | 0/117 [00:00<?, ?it/s]"
      ]
     },
     "metadata": {},
     "output_type": "display_data"
    },
    {
     "name": "stderr",
     "output_type": "stream",
     "text": [
      "INFO - (NP.utils_torch.lr_range_test) - lr-range-test results: steep: 6.59E-02, min: 1.15E+00\n",
      "INFO:NP.utils_torch:lr-range-test results: steep: 6.59E-02, min: 1.15E+00\n",
      "INFO - (NP.forecaster._init_train_loader) - lr-range-test selected learning rate: 7.14E-02\n",
      "INFO:NP.forecaster:lr-range-test selected learning rate: 7.14E-02\n",
      "Epoch[262/262]: 100%|██████████| 262/262 [00:11<00:00, 23.46it/s, SmoothL1Loss=0.0727, MAE=10.2, RMSE=15.7, RegLoss=0]\n"
     ]
    },
    {
     "data": {
      "text/html": [
       "<div>\n",
       "<style scoped>\n",
       "    .dataframe tbody tr th:only-of-type {\n",
       "        vertical-align: middle;\n",
       "    }\n",
       "\n",
       "    .dataframe tbody tr th {\n",
       "        vertical-align: top;\n",
       "    }\n",
       "\n",
       "    .dataframe thead th {\n",
       "        text-align: right;\n",
       "    }\n",
       "</style>\n",
       "<table border=\"1\" class=\"dataframe\">\n",
       "  <thead>\n",
       "    <tr style=\"text-align: right;\">\n",
       "      <th></th>\n",
       "      <th>SmoothL1Loss</th>\n",
       "      <th>MAE</th>\n",
       "      <th>RMSE</th>\n",
       "      <th>RegLoss</th>\n",
       "    </tr>\n",
       "  </thead>\n",
       "  <tbody>\n",
       "    <tr>\n",
       "      <th>0</th>\n",
       "      <td>0.249249</td>\n",
       "      <td>23.246185</td>\n",
       "      <td>29.706783</td>\n",
       "      <td>0.0</td>\n",
       "    </tr>\n",
       "    <tr>\n",
       "      <th>1</th>\n",
       "      <td>0.236532</td>\n",
       "      <td>22.474020</td>\n",
       "      <td>29.093736</td>\n",
       "      <td>0.0</td>\n",
       "    </tr>\n",
       "    <tr>\n",
       "      <th>2</th>\n",
       "      <td>0.222575</td>\n",
       "      <td>21.645250</td>\n",
       "      <td>28.443905</td>\n",
       "      <td>0.0</td>\n",
       "    </tr>\n",
       "    <tr>\n",
       "      <th>3</th>\n",
       "      <td>0.207505</td>\n",
       "      <td>20.710629</td>\n",
       "      <td>27.165560</td>\n",
       "      <td>0.0</td>\n",
       "    </tr>\n",
       "    <tr>\n",
       "      <th>4</th>\n",
       "      <td>0.191311</td>\n",
       "      <td>19.691129</td>\n",
       "      <td>26.199353</td>\n",
       "      <td>0.0</td>\n",
       "    </tr>\n",
       "    <tr>\n",
       "      <th>...</th>\n",
       "      <td>...</td>\n",
       "      <td>...</td>\n",
       "      <td>...</td>\n",
       "      <td>...</td>\n",
       "    </tr>\n",
       "    <tr>\n",
       "      <th>257</th>\n",
       "      <td>0.072672</td>\n",
       "      <td>10.192322</td>\n",
       "      <td>15.754848</td>\n",
       "      <td>0.0</td>\n",
       "    </tr>\n",
       "    <tr>\n",
       "      <th>258</th>\n",
       "      <td>0.072672</td>\n",
       "      <td>10.195400</td>\n",
       "      <td>15.610277</td>\n",
       "      <td>0.0</td>\n",
       "    </tr>\n",
       "    <tr>\n",
       "      <th>259</th>\n",
       "      <td>0.072670</td>\n",
       "      <td>10.195809</td>\n",
       "      <td>15.640295</td>\n",
       "      <td>0.0</td>\n",
       "    </tr>\n",
       "    <tr>\n",
       "      <th>260</th>\n",
       "      <td>0.072669</td>\n",
       "      <td>10.195219</td>\n",
       "      <td>15.730401</td>\n",
       "      <td>0.0</td>\n",
       "    </tr>\n",
       "    <tr>\n",
       "      <th>261</th>\n",
       "      <td>0.072668</td>\n",
       "      <td>10.195259</td>\n",
       "      <td>15.721136</td>\n",
       "      <td>0.0</td>\n",
       "    </tr>\n",
       "  </tbody>\n",
       "</table>\n",
       "<p>262 rows × 4 columns</p>\n",
       "</div>"
      ],
      "text/plain": [
       "     SmoothL1Loss        MAE       RMSE  RegLoss\n",
       "0        0.249249  23.246185  29.706783      0.0\n",
       "1        0.236532  22.474020  29.093736      0.0\n",
       "2        0.222575  21.645250  28.443905      0.0\n",
       "3        0.207505  20.710629  27.165560      0.0\n",
       "4        0.191311  19.691129  26.199353      0.0\n",
       "..            ...        ...        ...      ...\n",
       "257      0.072672  10.192322  15.754848      0.0\n",
       "258      0.072672  10.195400  15.610277      0.0\n",
       "259      0.072670  10.195809  15.640295      0.0\n",
       "260      0.072669  10.195219  15.730401      0.0\n",
       "261      0.072668  10.195259  15.721136      0.0\n",
       "\n",
       "[262 rows x 4 columns]"
      ]
     },
     "execution_count": 42,
     "metadata": {},
     "output_type": "execute_result"
    }
   ],
   "source": [
    "nm.fit(df_km, freq='D')"
   ]
  },
  {
   "cell_type": "code",
   "execution_count": 43,
   "metadata": {
    "execution": {
     "iopub.execute_input": "2022-04-01T08:56:17.586424Z",
     "iopub.status.busy": "2022-04-01T08:56:17.586202Z",
     "iopub.status.idle": "2022-04-01T08:56:17.615993Z",
     "shell.execute_reply": "2022-04-01T08:56:17.615267Z",
     "shell.execute_reply.started": "2022-04-01T08:56:17.586398Z"
    },
    "id": "2712r-y6QU_J"
   },
   "outputs": [
    {
     "name": "stderr",
     "output_type": "stream",
     "text": [
      "INFO - (NP.df_utils._infer_frequency) - Major frequency D corresponds to 57.547% of the data.\n",
      "INFO:NP.df_utils:Major frequency D corresponds to 57.547% of the data.\n",
      "WARNING - (NP.df_utils._infer_frequency) - Dataframe has multiple frequencies. It will be resampled according to given freq D. Ignore message if actual frequency is any of the following:  SM, BM, CBM, SMS, BMS, CBMS, BQ, BQS, BA, or, BAS.\n",
      "WARNING:NP.df_utils:Dataframe has multiple frequencies. It will be resampled according to given freq D. Ignore message if actual frequency is any of the following:  SM, BM, CBM, SMS, BMS, CBMS, BQ, BQS, BA, or, BAS.\n"
     ]
    },
    {
     "data": {
      "text/html": [
       "<div>\n",
       "<style scoped>\n",
       "    .dataframe tbody tr th:only-of-type {\n",
       "        vertical-align: middle;\n",
       "    }\n",
       "\n",
       "    .dataframe tbody tr th {\n",
       "        vertical-align: top;\n",
       "    }\n",
       "\n",
       "    .dataframe thead th {\n",
       "        text-align: right;\n",
       "    }\n",
       "</style>\n",
       "<table border=\"1\" class=\"dataframe\">\n",
       "  <thead>\n",
       "    <tr style=\"text-align: right;\">\n",
       "      <th></th>\n",
       "      <th>ds</th>\n",
       "      <th>y</th>\n",
       "    </tr>\n",
       "  </thead>\n",
       "  <tbody>\n",
       "    <tr>\n",
       "      <th>0</th>\n",
       "      <td>2021-01-01</td>\n",
       "      <td>13.8</td>\n",
       "    </tr>\n",
       "    <tr>\n",
       "      <th>1</th>\n",
       "      <td>2021-01-02</td>\n",
       "      <td>0.4</td>\n",
       "    </tr>\n",
       "    <tr>\n",
       "      <th>2</th>\n",
       "      <td>2021-01-03</td>\n",
       "      <td>0.2</td>\n",
       "    </tr>\n",
       "    <tr>\n",
       "      <th>3</th>\n",
       "      <td>2021-01-04</td>\n",
       "      <td>4.0</td>\n",
       "    </tr>\n",
       "    <tr>\n",
       "      <th>4</th>\n",
       "      <td>2021-01-05</td>\n",
       "      <td>0.0</td>\n",
       "    </tr>\n",
       "    <tr>\n",
       "      <th>...</th>\n",
       "      <td>...</td>\n",
       "      <td>...</td>\n",
       "    </tr>\n",
       "    <tr>\n",
       "      <th>479</th>\n",
       "      <td>2023-01-27</td>\n",
       "      <td>NaN</td>\n",
       "    </tr>\n",
       "    <tr>\n",
       "      <th>480</th>\n",
       "      <td>2023-01-28</td>\n",
       "      <td>NaN</td>\n",
       "    </tr>\n",
       "    <tr>\n",
       "      <th>481</th>\n",
       "      <td>2023-01-29</td>\n",
       "      <td>NaN</td>\n",
       "    </tr>\n",
       "    <tr>\n",
       "      <th>482</th>\n",
       "      <td>2023-01-30</td>\n",
       "      <td>NaN</td>\n",
       "    </tr>\n",
       "    <tr>\n",
       "      <th>483</th>\n",
       "      <td>2023-01-31</td>\n",
       "      <td>NaN</td>\n",
       "    </tr>\n",
       "  </tbody>\n",
       "</table>\n",
       "<p>484 rows × 2 columns</p>\n",
       "</div>"
      ],
      "text/plain": [
       "            ds     y\n",
       "0   2021-01-01  13.8\n",
       "1   2021-01-02   0.4\n",
       "2   2021-01-03   0.2\n",
       "3   2021-01-04   4.0\n",
       "4   2021-01-05   0.0\n",
       "..         ...   ...\n",
       "479 2023-01-27   NaN\n",
       "480 2023-01-28   NaN\n",
       "481 2023-01-29   NaN\n",
       "482 2023-01-30   NaN\n",
       "483 2023-01-31   NaN\n",
       "\n",
       "[484 rows x 2 columns]"
      ]
     },
     "execution_count": 43,
     "metadata": {},
     "output_type": "execute_result"
    }
   ],
   "source": [
    "n_future = nm.make_future_dataframe(df_km, periods=60, n_historic_predictions=len(df_km))\n",
    "n_future"
   ]
  },
  {
   "cell_type": "code",
   "execution_count": 44,
   "metadata": {
    "execution": {
     "iopub.execute_input": "2022-04-01T08:56:17.617222Z",
     "iopub.status.busy": "2022-04-01T08:56:17.617001Z",
     "iopub.status.idle": "2022-04-01T08:56:17.630883Z",
     "shell.execute_reply": "2022-04-01T08:56:17.629952Z",
     "shell.execute_reply.started": "2022-04-01T08:56:17.617194Z"
    },
    "id": "YEDwelt4QVEC",
    "outputId": "05320861-f7fa-4dd1-d08e-146d658bb393"
   },
   "outputs": [
    {
     "data": {
      "text/html": [
       "<div>\n",
       "<style scoped>\n",
       "    .dataframe tbody tr th:only-of-type {\n",
       "        vertical-align: middle;\n",
       "    }\n",
       "\n",
       "    .dataframe tbody tr th {\n",
       "        vertical-align: top;\n",
       "    }\n",
       "\n",
       "    .dataframe thead th {\n",
       "        text-align: right;\n",
       "    }\n",
       "</style>\n",
       "<table border=\"1\" class=\"dataframe\">\n",
       "  <thead>\n",
       "    <tr style=\"text-align: right;\">\n",
       "      <th></th>\n",
       "      <th>ds</th>\n",
       "      <th>y</th>\n",
       "    </tr>\n",
       "  </thead>\n",
       "  <tbody>\n",
       "    <tr>\n",
       "      <th>479</th>\n",
       "      <td>2023-01-27</td>\n",
       "      <td>NaN</td>\n",
       "    </tr>\n",
       "    <tr>\n",
       "      <th>480</th>\n",
       "      <td>2023-01-28</td>\n",
       "      <td>NaN</td>\n",
       "    </tr>\n",
       "    <tr>\n",
       "      <th>481</th>\n",
       "      <td>2023-01-29</td>\n",
       "      <td>NaN</td>\n",
       "    </tr>\n",
       "    <tr>\n",
       "      <th>482</th>\n",
       "      <td>2023-01-30</td>\n",
       "      <td>NaN</td>\n",
       "    </tr>\n",
       "    <tr>\n",
       "      <th>483</th>\n",
       "      <td>2023-01-31</td>\n",
       "      <td>NaN</td>\n",
       "    </tr>\n",
       "  </tbody>\n",
       "</table>\n",
       "</div>"
      ],
      "text/plain": [
       "            ds   y\n",
       "479 2023-01-27 NaN\n",
       "480 2023-01-28 NaN\n",
       "481 2023-01-29 NaN\n",
       "482 2023-01-30 NaN\n",
       "483 2023-01-31 NaN"
      ]
     },
     "execution_count": 44,
     "metadata": {},
     "output_type": "execute_result"
    }
   ],
   "source": [
    "n_future.tail()"
   ]
  },
  {
   "cell_type": "code",
   "execution_count": 45,
   "metadata": {
    "execution": {
     "iopub.execute_input": "2022-04-01T08:56:17.632493Z",
     "iopub.status.busy": "2022-04-01T08:56:17.632265Z",
     "iopub.status.idle": "2022-04-01T08:56:17.691328Z",
     "shell.execute_reply": "2022-04-01T08:56:17.690429Z",
     "shell.execute_reply.started": "2022-04-01T08:56:17.632467Z"
    },
    "id": "9itH7Z1sQVIM"
   },
   "outputs": [
    {
     "name": "stderr",
     "output_type": "stream",
     "text": [
      "INFO - (NP.df_utils._infer_frequency) - Major frequency D corresponds to 97.521% of the data.\n",
      "INFO:NP.df_utils:Major frequency D corresponds to 97.521% of the data.\n",
      "INFO - (NP.df_utils._infer_frequency) - Defined frequency is equal to major frequency - D\n",
      "INFO:NP.df_utils:Defined frequency is equal to major frequency - D\n",
      "INFO - (NP.df_utils._infer_frequency) - Major frequency D corresponds to 97.521% of the data.\n",
      "INFO:NP.df_utils:Major frequency D corresponds to 97.521% of the data.\n",
      "INFO - (NP.df_utils._infer_frequency) - Defined frequency is equal to major frequency - D\n",
      "INFO:NP.df_utils:Defined frequency is equal to major frequency - D\n"
     ]
    }
   ],
   "source": [
    "n_forecast = nm.predict(n_future)"
   ]
  },
  {
   "cell_type": "code",
   "execution_count": 46,
   "metadata": {
    "execution": {
     "iopub.execute_input": "2022-04-01T08:56:17.693071Z",
     "iopub.status.busy": "2022-04-01T08:56:17.692819Z",
     "iopub.status.idle": "2022-04-01T08:56:17.710462Z",
     "shell.execute_reply": "2022-04-01T08:56:17.709093Z",
     "shell.execute_reply.started": "2022-04-01T08:56:17.693042Z"
    }
   },
   "outputs": [
    {
     "name": "stdout",
     "output_type": "stream",
     "text": [
      "<class 'pandas.core.frame.DataFrame'>\n",
      "RangeIndex: 484 entries, 0 to 483\n",
      "Data columns (total 6 columns):\n",
      " #   Column         Non-Null Count  Dtype         \n",
      "---  ------         --------------  -----         \n",
      " 0   ds             484 non-null    datetime64[ns]\n",
      " 1   y              424 non-null    float64       \n",
      " 2   yhat1          484 non-null    float64       \n",
      " 3   residual1      424 non-null    float64       \n",
      " 4   trend          484 non-null    float64       \n",
      " 5   season_weekly  484 non-null    float64       \n",
      "dtypes: datetime64[ns](1), float64(5)\n",
      "memory usage: 22.8 KB\n"
     ]
    }
   ],
   "source": [
    "n_forecast.info()"
   ]
  },
  {
   "cell_type": "code",
   "execution_count": 47,
   "metadata": {
    "execution": {
     "iopub.execute_input": "2022-04-01T08:56:17.712901Z",
     "iopub.status.busy": "2022-04-01T08:56:17.711895Z",
     "iopub.status.idle": "2022-04-01T08:56:17.732175Z",
     "shell.execute_reply": "2022-04-01T08:56:17.731287Z",
     "shell.execute_reply.started": "2022-04-01T08:56:17.712845Z"
    },
    "id": "pAxbeCwCQVMu",
    "outputId": "93e7f551-74ca-4717-f0a5-0a97d05ef94f"
   },
   "outputs": [
    {
     "data": {
      "text/html": [
       "<div>\n",
       "<style scoped>\n",
       "    .dataframe tbody tr th:only-of-type {\n",
       "        vertical-align: middle;\n",
       "    }\n",
       "\n",
       "    .dataframe tbody tr th {\n",
       "        vertical-align: top;\n",
       "    }\n",
       "\n",
       "    .dataframe thead th {\n",
       "        text-align: right;\n",
       "    }\n",
       "</style>\n",
       "<table border=\"1\" class=\"dataframe\">\n",
       "  <thead>\n",
       "    <tr style=\"text-align: right;\">\n",
       "      <th></th>\n",
       "      <th>ds</th>\n",
       "      <th>y</th>\n",
       "      <th>yhat1</th>\n",
       "      <th>residual1</th>\n",
       "      <th>trend</th>\n",
       "      <th>season_weekly</th>\n",
       "    </tr>\n",
       "  </thead>\n",
       "  <tbody>\n",
       "    <tr>\n",
       "      <th>479</th>\n",
       "      <td>2023-01-27</td>\n",
       "      <td>NaN</td>\n",
       "      <td>17.037827</td>\n",
       "      <td>NaN</td>\n",
       "      <td>16.948917</td>\n",
       "      <td>0.088908</td>\n",
       "    </tr>\n",
       "    <tr>\n",
       "      <th>480</th>\n",
       "      <td>2023-01-28</td>\n",
       "      <td>NaN</td>\n",
       "      <td>16.152885</td>\n",
       "      <td>NaN</td>\n",
       "      <td>16.992327</td>\n",
       "      <td>-0.839441</td>\n",
       "    </tr>\n",
       "    <tr>\n",
       "      <th>481</th>\n",
       "      <td>2023-01-29</td>\n",
       "      <td>NaN</td>\n",
       "      <td>15.983237</td>\n",
       "      <td>NaN</td>\n",
       "      <td>17.035738</td>\n",
       "      <td>-1.052501</td>\n",
       "    </tr>\n",
       "    <tr>\n",
       "      <th>482</th>\n",
       "      <td>2023-01-30</td>\n",
       "      <td>NaN</td>\n",
       "      <td>17.035583</td>\n",
       "      <td>NaN</td>\n",
       "      <td>17.079153</td>\n",
       "      <td>-0.043569</td>\n",
       "    </tr>\n",
       "    <tr>\n",
       "      <th>483</th>\n",
       "      <td>2023-01-31</td>\n",
       "      <td>NaN</td>\n",
       "      <td>16.844770</td>\n",
       "      <td>NaN</td>\n",
       "      <td>17.122564</td>\n",
       "      <td>-0.277794</td>\n",
       "    </tr>\n",
       "  </tbody>\n",
       "</table>\n",
       "</div>"
      ],
      "text/plain": [
       "            ds   y      yhat1  residual1      trend  season_weekly\n",
       "479 2023-01-27 NaN  17.037827        NaN  16.948917       0.088908\n",
       "480 2023-01-28 NaN  16.152885        NaN  16.992327      -0.839441\n",
       "481 2023-01-29 NaN  15.983237        NaN  17.035738      -1.052501\n",
       "482 2023-01-30 NaN  17.035583        NaN  17.079153      -0.043569\n",
       "483 2023-01-31 NaN  16.844770        NaN  17.122564      -0.277794"
      ]
     },
     "execution_count": 47,
     "metadata": {},
     "output_type": "execute_result"
    }
   ],
   "source": [
    "n_forecast.tail()"
   ]
  },
  {
   "cell_type": "code",
   "execution_count": 48,
   "metadata": {
    "execution": {
     "iopub.execute_input": "2022-04-01T08:56:17.734080Z",
     "iopub.status.busy": "2022-04-01T08:56:17.733492Z",
     "iopub.status.idle": "2022-04-01T08:56:18.232675Z",
     "shell.execute_reply": "2022-04-01T08:56:18.231743Z",
     "shell.execute_reply.started": "2022-04-01T08:56:17.734035Z"
    },
    "id": "BDfgTxJgQVRz",
    "outputId": "bbf586f8-beb6-4467-d367-d86b362c7e7f"
   },
   "outputs": [
    {
     "name": "stderr",
     "output_type": "stream",
     "text": [
      "WARNING:matplotlib.legend:No artists with labels found to put in legend.  Note that artists whose label start with an underscore are ignored when legend() is called with no argument.\n"
     ]
    },
    {
     "data": {
      "text/plain": [
       "<matplotlib.legend.Legend at 0x7fb18990ce80>"
      ]
     },
     "execution_count": 48,
     "metadata": {},
     "output_type": "execute_result"
    },
    {
     "data": {
      "image/png": "[encoded data removed]",
      "text/plain": [
       "<Figure size 864x432 with 1 Axes>"
      ]
     },
     "metadata": {},
     "output_type": "display_data"
    }
   ],
   "source": [
    "plt.figure(figsize=(12,6))\n",
    "plt.xticks(rotation=45)\n",
    "plt.title(\"Detail of Forecast using NeuralProphet\")\n",
    "plt.plot(n_forecast['ds'], n_forecast['yhat1'], marker='.', c='red')\n",
    "plt.legend()"
   ]
  },
  {
   "cell_type": "code",
   "execution_count": 49,
   "metadata": {
    "execution": {
     "iopub.execute_input": "2022-04-01T08:56:18.234280Z",
     "iopub.status.busy": "2022-04-01T08:56:18.234036Z",
     "iopub.status.idle": "2022-04-01T08:56:18.645581Z",
     "shell.execute_reply": "2022-04-01T08:56:18.644645Z",
     "shell.execute_reply.started": "2022-04-01T08:56:18.234250Z"
    },
    "id": "RlRTtEIOQVXh",
    "outputId": "a4807c9c-183b-4251-bc24-05ae03933b03"
   },
   "outputs": [
    {
     "data": {
      "text/plain": [
       "Text(0.5, 1.0, 'Forecast of the Time Series in the next 60 days')"
      ]
     },
     "execution_count": 49,
     "metadata": {},
     "output_type": "execute_result"
    },
    {
     "data": {
      "image/png": "[encoded data removed]",
      "text/plain": [
       "<Figure size 720x432 with 1 Axes>"
      ]
     },
     "metadata": {},
     "output_type": "display_data"
    }
   ],
   "source": [
    "nm.plot(pd.concat([df_km, n_forecast], ignore_index=True));\n",
    "plt.title(\"Forecast of the Time Series in the next 60 days\")"
   ]
  },
  {
   "cell_type": "code",
   "execution_count": 50,
   "metadata": {
    "execution": {
     "iopub.execute_input": "2022-04-01T08:56:18.647908Z",
     "iopub.status.busy": "2022-04-01T08:56:18.647092Z",
     "iopub.status.idle": "2022-04-01T08:56:19.113624Z",
     "shell.execute_reply": "2022-04-01T08:56:19.112757Z",
     "shell.execute_reply.started": "2022-04-01T08:56:18.647873Z"
    }
   },
   "outputs": [
    {
     "data": {
      "image/png": "[encoded data removed]",
      "text/plain": [
       "<Figure size 720x432 with 2 Axes>"
      ]
     },
     "metadata": {},
     "output_type": "display_data"
    }
   ],
   "source": [
    "nm.plot_components(pd.concat([df_km, n_forecast], ignore_index=True));"
   ]
  },
  {
   "cell_type": "markdown",
   "metadata": {
    "id": "PxQPboiBTGk6"
   },
   "source": [
    "### Performance Metrics"
   ]
  },
  {
   "cell_type": "code",
   "execution_count": 51,
   "metadata": {
    "execution": {
     "iopub.execute_input": "2022-04-01T08:56:19.115319Z",
     "iopub.status.busy": "2022-04-01T08:56:19.115064Z",
     "iopub.status.idle": "2022-04-01T08:56:19.135191Z",
     "shell.execute_reply": "2022-04-01T08:56:19.134302Z",
     "shell.execute_reply.started": "2022-04-01T08:56:19.115281Z"
    }
   },
   "outputs": [
    {
     "data": {
      "text/html": [
       "<div>\n",
       "<style scoped>\n",
       "    .dataframe tbody tr th:only-of-type {\n",
       "        vertical-align: middle;\n",
       "    }\n",
       "\n",
       "    .dataframe tbody tr th {\n",
       "        vertical-align: top;\n",
       "    }\n",
       "\n",
       "    .dataframe thead th {\n",
       "        text-align: right;\n",
       "    }\n",
       "</style>\n",
       "<table border=\"1\" class=\"dataframe\">\n",
       "  <thead>\n",
       "    <tr style=\"text-align: right;\">\n",
       "      <th></th>\n",
       "      <th>ds</th>\n",
       "      <th>y</th>\n",
       "      <th>yhat1</th>\n",
       "      <th>residual1</th>\n",
       "      <th>trend</th>\n",
       "      <th>season_weekly</th>\n",
       "    </tr>\n",
       "  </thead>\n",
       "  <tbody>\n",
       "    <tr>\n",
       "      <th>0</th>\n",
       "      <td>2021-01-01</td>\n",
       "      <td>13.8</td>\n",
       "      <td>6.493575</td>\n",
       "      <td>-7.306425</td>\n",
       "      <td>6.404667</td>\n",
       "      <td>0.088908</td>\n",
       "    </tr>\n",
       "    <tr>\n",
       "      <th>1</th>\n",
       "      <td>2021-01-02</td>\n",
       "      <td>0.4</td>\n",
       "      <td>5.661465</td>\n",
       "      <td>5.261465</td>\n",
       "      <td>6.500906</td>\n",
       "      <td>-0.839441</td>\n",
       "    </tr>\n",
       "    <tr>\n",
       "      <th>2</th>\n",
       "      <td>2021-01-03</td>\n",
       "      <td>0.2</td>\n",
       "      <td>5.544643</td>\n",
       "      <td>5.344643</td>\n",
       "      <td>6.597144</td>\n",
       "      <td>-1.052501</td>\n",
       "    </tr>\n",
       "    <tr>\n",
       "      <th>3</th>\n",
       "      <td>2021-01-04</td>\n",
       "      <td>4.0</td>\n",
       "      <td>6.649814</td>\n",
       "      <td>2.649814</td>\n",
       "      <td>6.693382</td>\n",
       "      <td>-0.043569</td>\n",
       "    </tr>\n",
       "    <tr>\n",
       "      <th>4</th>\n",
       "      <td>2021-01-05</td>\n",
       "      <td>0.0</td>\n",
       "      <td>6.511827</td>\n",
       "      <td>6.511827</td>\n",
       "      <td>6.789621</td>\n",
       "      <td>-0.277794</td>\n",
       "    </tr>\n",
       "    <tr>\n",
       "      <th>...</th>\n",
       "      <td>...</td>\n",
       "      <td>...</td>\n",
       "      <td>...</td>\n",
       "      <td>...</td>\n",
       "      <td>...</td>\n",
       "      <td>...</td>\n",
       "    </tr>\n",
       "    <tr>\n",
       "      <th>479</th>\n",
       "      <td>2023-01-27</td>\n",
       "      <td>NaN</td>\n",
       "      <td>17.037827</td>\n",
       "      <td>NaN</td>\n",
       "      <td>16.948917</td>\n",
       "      <td>0.088908</td>\n",
       "    </tr>\n",
       "    <tr>\n",
       "      <th>480</th>\n",
       "      <td>2023-01-28</td>\n",
       "      <td>NaN</td>\n",
       "      <td>16.152885</td>\n",
       "      <td>NaN</td>\n",
       "      <td>16.992327</td>\n",
       "      <td>-0.839441</td>\n",
       "    </tr>\n",
       "    <tr>\n",
       "      <th>481</th>\n",
       "      <td>2023-01-29</td>\n",
       "      <td>NaN</td>\n",
       "      <td>15.983237</td>\n",
       "      <td>NaN</td>\n",
       "      <td>17.035738</td>\n",
       "      <td>-1.052501</td>\n",
       "    </tr>\n",
       "    <tr>\n",
       "      <th>482</th>\n",
       "      <td>2023-01-30</td>\n",
       "      <td>NaN</td>\n",
       "      <td>17.035583</td>\n",
       "      <td>NaN</td>\n",
       "      <td>17.079153</td>\n",
       "      <td>-0.043569</td>\n",
       "    </tr>\n",
       "    <tr>\n",
       "      <th>483</th>\n",
       "      <td>2023-01-31</td>\n",
       "      <td>NaN</td>\n",
       "      <td>16.844770</td>\n",
       "      <td>NaN</td>\n",
       "      <td>17.122564</td>\n",
       "      <td>-0.277794</td>\n",
       "    </tr>\n",
       "  </tbody>\n",
       "</table>\n",
       "<p>484 rows × 6 columns</p>\n",
       "</div>"
      ],
      "text/plain": [
       "            ds     y      yhat1  residual1      trend  season_weekly\n",
       "0   2021-01-01  13.8   6.493575  -7.306425   6.404667       0.088908\n",
       "1   2021-01-02   0.4   5.661465   5.261465   6.500906      -0.839441\n",
       "2   2021-01-03   0.2   5.544643   5.344643   6.597144      -1.052501\n",
       "3   2021-01-04   4.0   6.649814   2.649814   6.693382      -0.043569\n",
       "4   2021-01-05   0.0   6.511827   6.511827   6.789621      -0.277794\n",
       "..         ...   ...        ...        ...        ...            ...\n",
       "479 2023-01-27   NaN  17.037827        NaN  16.948917       0.088908\n",
       "480 2023-01-28   NaN  16.152885        NaN  16.992327      -0.839441\n",
       "481 2023-01-29   NaN  15.983237        NaN  17.035738      -1.052501\n",
       "482 2023-01-30   NaN  17.035583        NaN  17.079153      -0.043569\n",
       "483 2023-01-31   NaN  16.844770        NaN  17.122564      -0.277794\n",
       "\n",
       "[484 rows x 6 columns]"
      ]
     },
     "execution_count": 51,
     "metadata": {},
     "output_type": "execute_result"
    }
   ],
   "source": [
    "n_forecast"
   ]
  },
  {
   "cell_type": "code",
   "execution_count": 52,
   "metadata": {
    "execution": {
     "iopub.execute_input": "2022-04-01T08:56:19.137074Z",
     "iopub.status.busy": "2022-04-01T08:56:19.136632Z",
     "iopub.status.idle": "2022-04-01T08:56:19.159589Z",
     "shell.execute_reply": "2022-04-01T08:56:19.158957Z",
     "shell.execute_reply.started": "2022-04-01T08:56:19.137024Z"
    }
   },
   "outputs": [
    {
     "data": {
      "text/html": [
       "<div>\n",
       "<style scoped>\n",
       "    .dataframe tbody tr th:only-of-type {\n",
       "        vertical-align: middle;\n",
       "    }\n",
       "\n",
       "    .dataframe tbody tr th {\n",
       "        vertical-align: top;\n",
       "    }\n",
       "\n",
       "    .dataframe thead th {\n",
       "        text-align: right;\n",
       "    }\n",
       "</style>\n",
       "<table border=\"1\" class=\"dataframe\">\n",
       "  <thead>\n",
       "    <tr style=\"text-align: right;\">\n",
       "      <th></th>\n",
       "      <th>ds</th>\n",
       "      <th>yhat1</th>\n",
       "      <th>residual1</th>\n",
       "      <th>y</th>\n",
       "    </tr>\n",
       "  </thead>\n",
       "  <tbody>\n",
       "    <tr>\n",
       "      <th>0</th>\n",
       "      <td>2021-01-01</td>\n",
       "      <td>6.493575</td>\n",
       "      <td>-7.306425</td>\n",
       "      <td>13.800000</td>\n",
       "    </tr>\n",
       "    <tr>\n",
       "      <th>1</th>\n",
       "      <td>2021-02-01</td>\n",
       "      <td>9.344487</td>\n",
       "      <td>-2.988846</td>\n",
       "      <td>12.333333</td>\n",
       "    </tr>\n",
       "    <tr>\n",
       "      <th>2</th>\n",
       "      <td>2021-03-01</td>\n",
       "      <td>11.678425</td>\n",
       "      <td>0.811758</td>\n",
       "      <td>10.866667</td>\n",
       "    </tr>\n",
       "    <tr>\n",
       "      <th>3</th>\n",
       "      <td>2021-04-01</td>\n",
       "      <td>9.907958</td>\n",
       "      <td>0.507958</td>\n",
       "      <td>9.400000</td>\n",
       "    </tr>\n",
       "    <tr>\n",
       "      <th>4</th>\n",
       "      <td>2021-05-01</td>\n",
       "      <td>4.907139</td>\n",
       "      <td>4.907139</td>\n",
       "      <td>0.000000</td>\n",
       "    </tr>\n",
       "  </tbody>\n",
       "</table>\n",
       "</div>"
      ],
      "text/plain": [
       "          ds      yhat1  residual1          y\n",
       "0 2021-01-01   6.493575  -7.306425  13.800000\n",
       "1 2021-02-01   9.344487  -2.988846  12.333333\n",
       "2 2021-03-01  11.678425   0.811758  10.866667\n",
       "3 2021-04-01   9.907958   0.507958   9.400000\n",
       "4 2021-05-01   4.907139   4.907139   0.000000"
      ]
     },
     "execution_count": 52,
     "metadata": {},
     "output_type": "execute_result"
    }
   ],
   "source": [
    "n_forecast_merge = pd.merge(df_km, n_forecast[['ds','yhat1','residual1']],on='ds')\n",
    "n_forecast_merge = n_forecast_merge[['ds','yhat1','residual1','y']]\n",
    "n_forecast_merge.head()"
   ]
  },
  {
   "cell_type": "code",
   "execution_count": 53,
   "metadata": {
    "execution": {
     "iopub.execute_input": "2022-04-01T08:56:19.161254Z",
     "iopub.status.busy": "2022-04-01T08:56:19.160858Z",
     "iopub.status.idle": "2022-04-01T08:56:19.167079Z",
     "shell.execute_reply": "2022-04-01T08:56:19.166409Z",
     "shell.execute_reply.started": "2022-04-01T08:56:19.161208Z"
    },
    "id": "NYjhoFjzQVcz"
   },
   "outputs": [],
   "source": [
    "n_prophet_mse = mean_squared_error(n_forecast_merge['y'], n_forecast_merge['yhat1'])\n",
    "n_prophet_rmse = np.sqrt(mean_squared_error(n_forecast_merge['y'], n_forecast_merge['yhat1']))"
   ]
  },
  {
   "cell_type": "code",
   "execution_count": 54,
   "metadata": {
    "execution": {
     "iopub.execute_input": "2022-04-01T08:56:19.169020Z",
     "iopub.status.busy": "2022-04-01T08:56:19.168583Z",
     "iopub.status.idle": "2022-04-01T08:56:19.182857Z",
     "shell.execute_reply": "2022-04-01T08:56:19.182194Z",
     "shell.execute_reply.started": "2022-04-01T08:56:19.168976Z"
    },
    "id": "qGMxH51hQVih",
    "outputId": "889ecefd-b6be-4fc1-e30a-65029a40f9dd"
   },
   "outputs": [
    {
     "name": "stdout",
     "output_type": "stream",
     "text": [
      "Neural Prophet MSE: 326.2231\n",
      "Neural Prophet RMSE: 18.0616\n"
     ]
    }
   ],
   "source": [
    "print(\"Neural Prophet MSE: {:.4f}\".format(n_prophet_mse))\n",
    "print(\"Neural Prophet RMSE: {:.4f}\".format(n_prophet_rmse))"
   ]
  },
  {
   "cell_type": "code",
   "execution_count": 55,
   "metadata": {
    "execution": {
     "iopub.execute_input": "2022-04-01T08:56:19.184584Z",
     "iopub.status.busy": "2022-04-01T08:56:19.184119Z",
     "iopub.status.idle": "2022-04-01T08:56:19.196475Z",
     "shell.execute_reply": "2022-04-01T08:56:19.195747Z",
     "shell.execute_reply.started": "2022-04-01T08:56:19.184535Z"
    },
    "id": "PQf5WbhgTwiS",
    "outputId": "4e50d70e-3812-41d9-901d-e66fc4ccf595"
   },
   "outputs": [
    {
     "name": "stdout",
     "output_type": "stream",
     "text": [
      "Prophet MSE: 332.0514\n",
      "Prophet RMSE: 18.2223\n"
     ]
    }
   ],
   "source": [
    "print(\"Prophet MSE: {:.4f}\".format(prophet_mse))\n",
    "print(\"Prophet RMSE: {:.4f}\".format(prophet_rmse))"
   ]
  },
  {
   "cell_type": "code",
   "execution_count": 56,
   "metadata": {
    "execution": {
     "iopub.execute_input": "2022-04-01T08:56:19.197957Z",
     "iopub.status.busy": "2022-04-01T08:56:19.197564Z",
     "iopub.status.idle": "2022-04-01T08:56:19.210737Z",
     "shell.execute_reply": "2022-04-01T08:56:19.209550Z",
     "shell.execute_reply.started": "2022-04-01T08:56:19.197921Z"
    }
   },
   "outputs": [
    {
     "data": {
      "text/plain": [
       "-5.828303990666825"
      ]
     },
     "execution_count": 56,
     "metadata": {},
     "output_type": "execute_result"
    }
   ],
   "source": [
    "n_prophet_mse - prophet_mse"
   ]
  },
  {
   "cell_type": "code",
   "execution_count": 57,
   "metadata": {
    "execution": {
     "iopub.execute_input": "2022-04-01T08:56:19.213179Z",
     "iopub.status.busy": "2022-04-01T08:56:19.212600Z",
     "iopub.status.idle": "2022-04-01T08:56:19.225341Z",
     "shell.execute_reply": "2022-04-01T08:56:19.224595Z",
     "shell.execute_reply.started": "2022-04-01T08:56:19.213131Z"
    },
    "id": "2uYHMulJYpiq",
    "outputId": "5e2facbf-0e3b-4a72-d2fa-6b401edc2b36"
   },
   "outputs": [
    {
     "data": {
      "text/plain": [
       "-0.16063046496710953"
      ]
     },
     "execution_count": 57,
     "metadata": {},
     "output_type": "execute_result"
    }
   ],
   "source": [
    "n_prophet_rmse - prophet_rmse"
   ]
  },
  {
   "cell_type": "code",
   "execution_count": 58,
   "metadata": {
    "execution": {
     "iopub.execute_input": "2022-04-01T08:56:19.226829Z",
     "iopub.status.busy": "2022-04-01T08:56:19.226543Z",
     "iopub.status.idle": "2022-04-01T08:56:19.575550Z",
     "shell.execute_reply": "2022-04-01T08:56:19.574655Z",
     "shell.execute_reply.started": "2022-04-01T08:56:19.226798Z"
    }
   },
   "outputs": [
    {
     "data": {
      "text/plain": [
       "<matplotlib.legend.Legend at 0x7fb1886793a0>"
      ]
     },
     "execution_count": 58,
     "metadata": {},
     "output_type": "execute_result"
    },
    {
     "data": {
      "image/png": "[encoded data removed]",
      "text/plain": [
       "<Figure size 864x432 with 1 Axes>"
      ]
     },
     "metadata": {},
     "output_type": "display_data"
    }
   ],
   "source": [
    "plt.figure(figsize=(12,6))\n",
    "plt.xticks(rotation=45)\n",
    "plt.title(\"Models Comparison\")\n",
    "plt.plot(p_forecast['ds'], p_forecast['yhat'], marker='.', c='navy', label='Prophet')\n",
    "plt.plot(n_forecast['ds'], n_forecast['yhat1'], marker='.', c='red', label='NeuralProphet')\n",
    "plt.legend()"
   ]
  },
  {
   "cell_type": "code",
   "execution_count": 59,
   "metadata": {
    "execution": {
     "iopub.execute_input": "2022-04-01T08:56:19.577252Z",
     "iopub.status.busy": "2022-04-01T08:56:19.577021Z",
     "iopub.status.idle": "2022-04-01T08:56:19.588880Z",
     "shell.execute_reply": "2022-04-01T08:56:19.587971Z",
     "shell.execute_reply.started": "2022-04-01T08:56:19.577218Z"
    }
   },
   "outputs": [
    {
     "data": {
      "text/html": [
       "<div>\n",
       "<style scoped>\n",
       "    .dataframe tbody tr th:only-of-type {\n",
       "        vertical-align: middle;\n",
       "    }\n",
       "\n",
       "    .dataframe tbody tr th {\n",
       "        vertical-align: top;\n",
       "    }\n",
       "\n",
       "    .dataframe thead th {\n",
       "        text-align: right;\n",
       "    }\n",
       "</style>\n",
       "<table border=\"1\" class=\"dataframe\">\n",
       "  <thead>\n",
       "    <tr style=\"text-align: right;\">\n",
       "      <th></th>\n",
       "      <th>metrics</th>\n",
       "      <th>Prophet</th>\n",
       "      <th>Neural Prophet</th>\n",
       "    </tr>\n",
       "  </thead>\n",
       "  <tbody>\n",
       "    <tr>\n",
       "      <th>0</th>\n",
       "      <td>MSE</td>\n",
       "      <td>332.051434</td>\n",
       "      <td>326.223130</td>\n",
       "    </tr>\n",
       "    <tr>\n",
       "      <th>1</th>\n",
       "      <td>RMSE</td>\n",
       "      <td>18.222279</td>\n",
       "      <td>18.061648</td>\n",
       "    </tr>\n",
       "  </tbody>\n",
       "</table>\n",
       "</div>"
      ],
      "text/plain": [
       "  metrics    Prophet   Neural Prophet\n",
       "0     MSE  332.051434      326.223130\n",
       "1    RMSE   18.222279       18.061648"
      ]
     },
     "execution_count": 59,
     "metadata": {},
     "output_type": "execute_result"
    }
   ],
   "source": [
    "pd.DataFrame({'metrics':['MSE','RMSE'],\n",
    "              'Prophet ':[prophet_mse, prophet_rmse],\n",
    "              'Neural Prophet':[n_prophet_mse, n_prophet_rmse]\n",
    "             })"
   ]
  },
  {
   "cell_type": "markdown",
   "metadata": {
    "id": "Aq80C1pRYTvd"
   },
   "source": [
    "## Final Comments"
   ]
  },
  {
   "cell_type": "markdown",
   "metadata": {
    "id": "Z9gvnBfLYcbP"
   },
   "source": [
    "*   At least for this particular dataset and using the default arguments,  the **NeuralProphet** model scored a **MSE** of **326.223130** and **RMSE** of **18.061648** whereas the **Prophet** model scored a **MSE** of **332.051434** and **RMSE** of **18.222279**, a **5.828303990666825 and 0.16063046496710953 difference of MSE and RMSE respectively** compared against the first model."
   ]
  }
 ],
 "metadata": {
  "kernelspec": {
   "display_name": "Python 3.9",
   "language": "python",
   "name": "python3"
  },
  "language_info": {
   "codemirror_mode": {
    "name": "ipython",
    "version": 3
   },
   "file_extension": ".py",
   "mimetype": "text/x-python",
   "name": "python",
   "nbconvert_exporter": "python",
   "pygments_lexer": "ipython3",
   "version": "3.9.7"
  }
 },
 "nbformat": 4,
 "nbformat_minor": 4
}
