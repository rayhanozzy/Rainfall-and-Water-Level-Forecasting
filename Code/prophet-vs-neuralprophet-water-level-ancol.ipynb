{
 "cells": [
  {
   "cell_type": "markdown",
   "metadata": {
    "id": "VMPDxYyw5d6h"
   },
   "source": [
    "# [Facebook Prophet](https://github.com/facebook/prophet) and [NeuralProphet](https://github.com/ourownstory/neural_prophet) Comparison\n",
    "By: Rayhan Ozzy Ertarto\n",
    "\n",
    "The goal of this notebook is to compare the *expected values* forecasted by these two models and compare them against the actuals in order to calculate the performance metrics and define which model performs better using this time series dataset (Water Level in Ancol Flushing Floodgate, Central Jakarta)"
   ]
  },
  {
   "cell_type": "markdown",
   "metadata": {
    "id": "00MQ79C35ueh"
   },
   "source": [
    "Importing basic libraries"
   ]
  },
  {
   "cell_type": "code",
   "execution_count": 1,
   "metadata": {
    "execution": {
     "iopub.execute_input": "2022-03-30T17:01:48.706045Z",
     "iopub.status.busy": "2022-03-30T17:01:48.705428Z",
     "iopub.status.idle": "2022-03-30T17:01:48.714523Z",
     "shell.execute_reply": "2022-03-30T17:01:48.71363Z",
     "shell.execute_reply.started": "2022-03-30T17:01:48.706004Z"
    },
    "id": "0Ricp40n5W3h"
   },
   "outputs": [],
   "source": [
    "import pandas as pd\n",
    "import numpy as np\n",
    "import matplotlib.pyplot as plt\n",
    "import seaborn as sns"
   ]
  },
  {
   "cell_type": "code",
   "execution_count": 2,
   "metadata": {
    "execution": {
     "iopub.execute_input": "2022-03-30T17:01:48.716696Z",
     "iopub.status.busy": "2022-03-30T17:01:48.715858Z",
     "iopub.status.idle": "2022-03-30T17:01:48.725676Z",
     "shell.execute_reply": "2022-03-30T17:01:48.724948Z",
     "shell.execute_reply.started": "2022-03-30T17:01:48.716645Z"
    },
    "id": "I85geYiv55Tc"
   },
   "outputs": [],
   "source": [
    "np.random.seed(1234)"
   ]
  },
  {
   "cell_type": "code",
   "execution_count": 3,
   "metadata": {
    "execution": {
     "iopub.execute_input": "2022-03-30T17:01:48.727633Z",
     "iopub.status.busy": "2022-03-30T17:01:48.726776Z",
     "iopub.status.idle": "2022-03-30T17:01:48.738611Z",
     "shell.execute_reply": "2022-03-30T17:01:48.737483Z",
     "shell.execute_reply.started": "2022-03-30T17:01:48.727577Z"
    },
    "id": "ngJzMaV17JSb"
   },
   "outputs": [],
   "source": [
    "plt.style.use('ggplot')"
   ]
  },
  {
   "cell_type": "markdown",
   "metadata": {
    "_kg_hide-input": true,
    "_kg_hide-output": true,
    "id": "Ixo5-LLZ6Dlq"
   },
   "source": [
    "Reading the time series"
   ]
  },
  {
   "cell_type": "code",
   "execution_count": 4,
   "metadata": {
    "execution": {
     "iopub.execute_input": "2022-03-30T17:01:48.740434Z",
     "iopub.status.busy": "2022-03-30T17:01:48.740122Z",
     "iopub.status.idle": "2022-03-30T17:01:51.087545Z",
     "shell.execute_reply": "2022-03-30T17:01:51.086659Z",
     "shell.execute_reply.started": "2022-03-30T17:01:48.740397Z"
    }
   },
   "outputs": [
    {
     "data": {
      "text/html": [
       "<div>\n",
       "<style scoped>\n",
       "    .dataframe tbody tr th:only-of-type {\n",
       "        vertical-align: middle;\n",
       "    }\n",
       "\n",
       "    .dataframe tbody tr th {\n",
       "        vertical-align: top;\n",
       "    }\n",
       "\n",
       "    .dataframe thead th {\n",
       "        text-align: right;\n",
       "    }\n",
       "</style>\n",
       "<table border=\"1\" class=\"dataframe\">\n",
       "  <thead>\n",
       "    <tr style=\"text-align: right;\">\n",
       "      <th></th>\n",
       "      <th>id</th>\n",
       "      <th>pintu_air_id</th>\n",
       "      <th>nama_pintu_air</th>\n",
       "      <th>ketinggian</th>\n",
       "      <th>status_siaga</th>\n",
       "      <th>cuaca</th>\n",
       "      <th>tanggal_laporan</th>\n",
       "      <th>jam_laporan</th>\n",
       "      <th>status_bukaan</th>\n",
       "      <th>tinggi_bukaan</th>\n",
       "      <th>keterangan</th>\n",
       "      <th>delete_at</th>\n",
       "      <th>created_at</th>\n",
       "      <th>updated_at</th>\n",
       "    </tr>\n",
       "  </thead>\n",
       "  <tbody>\n",
       "    <tr>\n",
       "      <th>0</th>\n",
       "      <td>1</td>\n",
       "      <td>4</td>\n",
       "      <td>Cideng Tarakan</td>\n",
       "      <td>0</td>\n",
       "      <td>4</td>\n",
       "      <td>Terang</td>\n",
       "      <td>11/17/2021</td>\n",
       "      <td>3:00:00</td>\n",
       "      <td>[\"T\",\"T\",\"T\"]</td>\n",
       "      <td>[\"1\",\"1\",\"1\"]</td>\n",
       "      <td>NaN</td>\n",
       "      <td>NaN</td>\n",
       "      <td>11/16/2021 20:37</td>\n",
       "      <td>11/16/2021 20:37</td>\n",
       "    </tr>\n",
       "    <tr>\n",
       "      <th>1</th>\n",
       "      <td>2</td>\n",
       "      <td>12</td>\n",
       "      <td>Pasar Ikan - Laut</td>\n",
       "      <td>190</td>\n",
       "      <td>3</td>\n",
       "      <td>Terang</td>\n",
       "      <td>11/17/2021</td>\n",
       "      <td>3:00:00</td>\n",
       "      <td>[\"T\",\"T\",\"T\",\"T\"]</td>\n",
       "      <td>[null,null,null,null]</td>\n",
       "      <td>NaN</td>\n",
       "      <td>NaN</td>\n",
       "      <td>11/16/2021 20:43</td>\n",
       "      <td>11/16/2021 20:43</td>\n",
       "    </tr>\n",
       "    <tr>\n",
       "      <th>2</th>\n",
       "      <td>3</td>\n",
       "      <td>4</td>\n",
       "      <td>Cideng Tarakan</td>\n",
       "      <td>0</td>\n",
       "      <td>4</td>\n",
       "      <td>Terang</td>\n",
       "      <td>11/17/2021</td>\n",
       "      <td>4:00:00</td>\n",
       "      <td>[\"T\",\"T\",\"T\"]</td>\n",
       "      <td>[\"1\",\"1\",\"1\"]</td>\n",
       "      <td>NaN</td>\n",
       "      <td>NaN</td>\n",
       "      <td>11/16/2021 20:43</td>\n",
       "      <td>11/16/2021 20:43</td>\n",
       "    </tr>\n",
       "    <tr>\n",
       "      <th>3</th>\n",
       "      <td>4</td>\n",
       "      <td>15</td>\n",
       "      <td>Istiqlal</td>\n",
       "      <td>160</td>\n",
       "      <td>4</td>\n",
       "      <td>Terang</td>\n",
       "      <td>11/17/2021</td>\n",
       "      <td>3:00:00</td>\n",
       "      <td>[\"F\",\"F\",\"F\"]</td>\n",
       "      <td>[\"400\",\"400\",\"400\"]</td>\n",
       "      <td>NaN</td>\n",
       "      <td>NaN</td>\n",
       "      <td>11/16/2021 20:44</td>\n",
       "      <td>11/16/2021 20:44</td>\n",
       "    </tr>\n",
       "    <tr>\n",
       "      <th>4</th>\n",
       "      <td>5</td>\n",
       "      <td>6</td>\n",
       "      <td>Manggarai BKB</td>\n",
       "      <td>580</td>\n",
       "      <td>4</td>\n",
       "      <td>Terang</td>\n",
       "      <td>11/17/2021</td>\n",
       "      <td>3:00:00</td>\n",
       "      <td>[\"F\",\"F\",\"F\"]</td>\n",
       "      <td>[\"800\",\"800\",\"800\"]</td>\n",
       "      <td>NaN</td>\n",
       "      <td>NaN</td>\n",
       "      <td>11/16/2021 20:45</td>\n",
       "      <td>11/16/2021 20:45</td>\n",
       "    </tr>\n",
       "    <tr>\n",
       "      <th>5</th>\n",
       "      <td>6</td>\n",
       "      <td>7</td>\n",
       "      <td>Manggarai KCL</td>\n",
       "      <td>550</td>\n",
       "      <td>4</td>\n",
       "      <td>Terang</td>\n",
       "      <td>11/17/2021</td>\n",
       "      <td>3:00:00</td>\n",
       "      <td>[\"B\"]</td>\n",
       "      <td>[\"100\"]</td>\n",
       "      <td>NaN</td>\n",
       "      <td>NaN</td>\n",
       "      <td>11/16/2021 20:46</td>\n",
       "      <td>11/16/2021 20:46</td>\n",
       "    </tr>\n",
       "    <tr>\n",
       "      <th>6</th>\n",
       "      <td>7</td>\n",
       "      <td>5</td>\n",
       "      <td>PA. Karet</td>\n",
       "      <td>250</td>\n",
       "      <td>4</td>\n",
       "      <td>Terang</td>\n",
       "      <td>11/17/2021</td>\n",
       "      <td>3:00:00</td>\n",
       "      <td>[\"F\",\"F\",\"F\",\"F\",\"F\"]</td>\n",
       "      <td>[\"700\",\"700\",\"700\",\"700\",\"700\"]</td>\n",
       "      <td>NaN</td>\n",
       "      <td>NaN</td>\n",
       "      <td>11/16/2021 20:49</td>\n",
       "      <td>11/16/2021 20:49</td>\n",
       "    </tr>\n",
       "    <tr>\n",
       "      <th>7</th>\n",
       "      <td>8</td>\n",
       "      <td>14</td>\n",
       "      <td>PA. Marina</td>\n",
       "      <td>187</td>\n",
       "      <td>3</td>\n",
       "      <td>Terang</td>\n",
       "      <td>11/17/2021</td>\n",
       "      <td>3:00:00</td>\n",
       "      <td>[\"F\",\"F\",\"T\",\"T\",\"T\"]</td>\n",
       "      <td>[\"300\",\"300\",null,null,null]</td>\n",
       "      <td>NaN</td>\n",
       "      <td>NaN</td>\n",
       "      <td>11/16/2021 20:49</td>\n",
       "      <td>11/16/2021 20:49</td>\n",
       "    </tr>\n",
       "    <tr>\n",
       "      <th>8</th>\n",
       "      <td>9</td>\n",
       "      <td>13</td>\n",
       "      <td>Ancol Flushing</td>\n",
       "      <td>188</td>\n",
       "      <td>3</td>\n",
       "      <td>Terang</td>\n",
       "      <td>11/17/2021</td>\n",
       "      <td>3:00:00</td>\n",
       "      <td>[\"T\",\"T\"]</td>\n",
       "      <td>[null,null]</td>\n",
       "      <td>NaN</td>\n",
       "      <td>NaN</td>\n",
       "      <td>11/16/2021 20:49</td>\n",
       "      <td>11/16/2021 20:49</td>\n",
       "    </tr>\n",
       "    <tr>\n",
       "      <th>9</th>\n",
       "      <td>10</td>\n",
       "      <td>16</td>\n",
       "      <td>Jembatan Merah arah Marina</td>\n",
       "      <td>130</td>\n",
       "      <td>4</td>\n",
       "      <td>Terang</td>\n",
       "      <td>11/17/2021</td>\n",
       "      <td>3:00:00</td>\n",
       "      <td>[\"F\",\"F\",\"F\",\"F\"]</td>\n",
       "      <td>[\"300\",\"300\",\"300\",\"300\"]</td>\n",
       "      <td>NaN</td>\n",
       "      <td>NaN</td>\n",
       "      <td>11/16/2021 20:52</td>\n",
       "      <td>11/16/2021 20:52</td>\n",
       "    </tr>\n",
       "  </tbody>\n",
       "</table>\n",
       "</div>"
      ],
      "text/plain": [
       "   id  pintu_air_id              nama_pintu_air ketinggian  status_siaga  \\\n",
       "0   1             4              Cideng Tarakan          0             4   \n",
       "1   2            12           Pasar Ikan - Laut        190             3   \n",
       "2   3             4              Cideng Tarakan          0             4   \n",
       "3   4            15                    Istiqlal        160             4   \n",
       "4   5             6               Manggarai BKB        580             4   \n",
       "5   6             7               Manggarai KCL        550             4   \n",
       "6   7             5                   PA. Karet        250             4   \n",
       "7   8            14                  PA. Marina        187             3   \n",
       "8   9            13              Ancol Flushing        188             3   \n",
       "9  10            16  Jembatan Merah arah Marina        130             4   \n",
       "\n",
       "    cuaca tanggal_laporan jam_laporan          status_bukaan  \\\n",
       "0  Terang      11/17/2021     3:00:00          [\"T\",\"T\",\"T\"]   \n",
       "1  Terang      11/17/2021     3:00:00      [\"T\",\"T\",\"T\",\"T\"]   \n",
       "2  Terang      11/17/2021     4:00:00          [\"T\",\"T\",\"T\"]   \n",
       "3  Terang      11/17/2021     3:00:00          [\"F\",\"F\",\"F\"]   \n",
       "4  Terang      11/17/2021     3:00:00          [\"F\",\"F\",\"F\"]   \n",
       "5  Terang      11/17/2021     3:00:00                  [\"B\"]   \n",
       "6  Terang      11/17/2021     3:00:00  [\"F\",\"F\",\"F\",\"F\",\"F\"]   \n",
       "7  Terang      11/17/2021     3:00:00  [\"F\",\"F\",\"T\",\"T\",\"T\"]   \n",
       "8  Terang      11/17/2021     3:00:00              [\"T\",\"T\"]   \n",
       "9  Terang      11/17/2021     3:00:00      [\"F\",\"F\",\"F\",\"F\"]   \n",
       "\n",
       "                     tinggi_bukaan keterangan  delete_at        created_at  \\\n",
       "0                    [\"1\",\"1\",\"1\"]        NaN        NaN  11/16/2021 20:37   \n",
       "1            [null,null,null,null]        NaN        NaN  11/16/2021 20:43   \n",
       "2                    [\"1\",\"1\",\"1\"]        NaN        NaN  11/16/2021 20:43   \n",
       "3              [\"400\",\"400\",\"400\"]        NaN        NaN  11/16/2021 20:44   \n",
       "4              [\"800\",\"800\",\"800\"]        NaN        NaN  11/16/2021 20:45   \n",
       "5                          [\"100\"]        NaN        NaN  11/16/2021 20:46   \n",
       "6  [\"700\",\"700\",\"700\",\"700\",\"700\"]        NaN        NaN  11/16/2021 20:49   \n",
       "7     [\"300\",\"300\",null,null,null]        NaN        NaN  11/16/2021 20:49   \n",
       "8                      [null,null]        NaN        NaN  11/16/2021 20:49   \n",
       "9        [\"300\",\"300\",\"300\",\"300\"]        NaN        NaN  11/16/2021 20:52   \n",
       "\n",
       "         updated_at  \n",
       "0  11/16/2021 20:37  \n",
       "1  11/16/2021 20:43  \n",
       "2  11/16/2021 20:43  \n",
       "3  11/16/2021 20:44  \n",
       "4  11/16/2021 20:45  \n",
       "5  11/16/2021 20:46  \n",
       "6  11/16/2021 20:49  \n",
       "7  11/16/2021 20:49  \n",
       "8  11/16/2021 20:49  \n",
       "9  11/16/2021 20:52  "
      ]
     },
     "execution_count": 4,
     "metadata": {},
     "output_type": "execute_result"
    }
   ],
   "source": [
    "gsheetkey = \"1d0g-fOczYG3WGt3CpmAQzTfT4S0q4MI5BCtHR2HvQoE\"\n",
    "\n",
    "url=f'https://docs.google.com/spreadsheet/ccc?key={gsheetkey}&output=csv'\n",
    "df_tma = pd.read_csv(url)\n",
    "df_tma.head(10)"
   ]
  },
  {
   "cell_type": "code",
   "execution_count": 5,
   "metadata": {
    "execution": {
     "iopub.execute_input": "2022-03-30T17:01:51.089797Z",
     "iopub.status.busy": "2022-03-30T17:01:51.089263Z",
     "iopub.status.idle": "2022-03-30T17:01:51.140017Z",
     "shell.execute_reply": "2022-03-30T17:01:51.138933Z",
     "shell.execute_reply.started": "2022-03-30T17:01:51.089748Z"
    }
   },
   "outputs": [
    {
     "name": "stdout",
     "output_type": "stream",
     "text": [
      "<class 'pandas.core.frame.DataFrame'>\n",
      "RangeIndex: 30556 entries, 0 to 30555\n",
      "Data columns (total 14 columns):\n",
      " #   Column           Non-Null Count  Dtype  \n",
      "---  ------           --------------  -----  \n",
      " 0   id               30556 non-null  object \n",
      " 1   pintu_air_id     30556 non-null  int64  \n",
      " 2   nama_pintu_air   30556 non-null  object \n",
      " 3   ketinggian       30556 non-null  object \n",
      " 4   status_siaga     30556 non-null  int64  \n",
      " 5   cuaca            30556 non-null  object \n",
      " 6   tanggal_laporan  30556 non-null  object \n",
      " 7   jam_laporan      30556 non-null  object \n",
      " 8   status_bukaan    30556 non-null  object \n",
      " 9   tinggi_bukaan    30556 non-null  object \n",
      " 10  keterangan       334 non-null    object \n",
      " 11  delete_at        0 non-null      float64\n",
      " 12  created_at       30556 non-null  object \n",
      " 13  updated_at       30556 non-null  object \n",
      "dtypes: float64(1), int64(2), object(11)\n",
      "memory usage: 3.3+ MB\n"
     ]
    }
   ],
   "source": [
    "df_tma.info()"
   ]
  },
  {
   "cell_type": "code",
   "execution_count": 6,
   "metadata": {
    "execution": {
     "iopub.execute_input": "2022-03-30T17:01:51.142124Z",
     "iopub.status.busy": "2022-03-30T17:01:51.141619Z",
     "iopub.status.idle": "2022-03-30T17:01:51.159217Z",
     "shell.execute_reply": "2022-03-30T17:01:51.158326Z",
     "shell.execute_reply.started": "2022-03-30T17:01:51.14207Z"
    }
   },
   "outputs": [
    {
     "data": {
      "text/html": [
       "<div>\n",
       "<style scoped>\n",
       "    .dataframe tbody tr th:only-of-type {\n",
       "        vertical-align: middle;\n",
       "    }\n",
       "\n",
       "    .dataframe tbody tr th {\n",
       "        vertical-align: top;\n",
       "    }\n",
       "\n",
       "    .dataframe thead th {\n",
       "        text-align: right;\n",
       "    }\n",
       "</style>\n",
       "<table border=\"1\" class=\"dataframe\">\n",
       "  <thead>\n",
       "    <tr style=\"text-align: right;\">\n",
       "      <th></th>\n",
       "      <th>pintu_air_id</th>\n",
       "      <th>nama_pintu_air</th>\n",
       "      <th>ketinggian</th>\n",
       "      <th>jam_laporan</th>\n",
       "      <th>updated_at</th>\n",
       "    </tr>\n",
       "  </thead>\n",
       "  <tbody>\n",
       "    <tr>\n",
       "      <th>0</th>\n",
       "      <td>4</td>\n",
       "      <td>Cideng Tarakan</td>\n",
       "      <td>0</td>\n",
       "      <td>3:00:00</td>\n",
       "      <td>11/16/2021 20:37</td>\n",
       "    </tr>\n",
       "    <tr>\n",
       "      <th>1</th>\n",
       "      <td>12</td>\n",
       "      <td>Pasar Ikan - Laut</td>\n",
       "      <td>190</td>\n",
       "      <td>3:00:00</td>\n",
       "      <td>11/16/2021 20:43</td>\n",
       "    </tr>\n",
       "    <tr>\n",
       "      <th>2</th>\n",
       "      <td>4</td>\n",
       "      <td>Cideng Tarakan</td>\n",
       "      <td>0</td>\n",
       "      <td>4:00:00</td>\n",
       "      <td>11/16/2021 20:43</td>\n",
       "    </tr>\n",
       "    <tr>\n",
       "      <th>3</th>\n",
       "      <td>15</td>\n",
       "      <td>Istiqlal</td>\n",
       "      <td>160</td>\n",
       "      <td>3:00:00</td>\n",
       "      <td>11/16/2021 20:44</td>\n",
       "    </tr>\n",
       "    <tr>\n",
       "      <th>4</th>\n",
       "      <td>6</td>\n",
       "      <td>Manggarai BKB</td>\n",
       "      <td>580</td>\n",
       "      <td>3:00:00</td>\n",
       "      <td>11/16/2021 20:45</td>\n",
       "    </tr>\n",
       "    <tr>\n",
       "      <th>5</th>\n",
       "      <td>7</td>\n",
       "      <td>Manggarai KCL</td>\n",
       "      <td>550</td>\n",
       "      <td>3:00:00</td>\n",
       "      <td>11/16/2021 20:46</td>\n",
       "    </tr>\n",
       "    <tr>\n",
       "      <th>6</th>\n",
       "      <td>5</td>\n",
       "      <td>PA. Karet</td>\n",
       "      <td>250</td>\n",
       "      <td>3:00:00</td>\n",
       "      <td>11/16/2021 20:49</td>\n",
       "    </tr>\n",
       "    <tr>\n",
       "      <th>7</th>\n",
       "      <td>14</td>\n",
       "      <td>PA. Marina</td>\n",
       "      <td>187</td>\n",
       "      <td>3:00:00</td>\n",
       "      <td>11/16/2021 20:49</td>\n",
       "    </tr>\n",
       "    <tr>\n",
       "      <th>8</th>\n",
       "      <td>13</td>\n",
       "      <td>Ancol Flushing</td>\n",
       "      <td>188</td>\n",
       "      <td>3:00:00</td>\n",
       "      <td>11/16/2021 20:49</td>\n",
       "    </tr>\n",
       "    <tr>\n",
       "      <th>9</th>\n",
       "      <td>16</td>\n",
       "      <td>Jembatan Merah arah Marina</td>\n",
       "      <td>130</td>\n",
       "      <td>3:00:00</td>\n",
       "      <td>11/16/2021 20:52</td>\n",
       "    </tr>\n",
       "  </tbody>\n",
       "</table>\n",
       "</div>"
      ],
      "text/plain": [
       "   pintu_air_id              nama_pintu_air ketinggian jam_laporan  \\\n",
       "0             4              Cideng Tarakan          0     3:00:00   \n",
       "1            12           Pasar Ikan - Laut        190     3:00:00   \n",
       "2             4              Cideng Tarakan          0     4:00:00   \n",
       "3            15                    Istiqlal        160     3:00:00   \n",
       "4             6               Manggarai BKB        580     3:00:00   \n",
       "5             7               Manggarai KCL        550     3:00:00   \n",
       "6             5                   PA. Karet        250     3:00:00   \n",
       "7            14                  PA. Marina        187     3:00:00   \n",
       "8            13              Ancol Flushing        188     3:00:00   \n",
       "9            16  Jembatan Merah arah Marina        130     3:00:00   \n",
       "\n",
       "         updated_at  \n",
       "0  11/16/2021 20:37  \n",
       "1  11/16/2021 20:43  \n",
       "2  11/16/2021 20:43  \n",
       "3  11/16/2021 20:44  \n",
       "4  11/16/2021 20:45  \n",
       "5  11/16/2021 20:46  \n",
       "6  11/16/2021 20:49  \n",
       "7  11/16/2021 20:49  \n",
       "8  11/16/2021 20:49  \n",
       "9  11/16/2021 20:52  "
      ]
     },
     "execution_count": 6,
     "metadata": {},
     "output_type": "execute_result"
    }
   ],
   "source": [
    "df_tma = df_tma[['pintu_air_id','nama_pintu_air','ketinggian','jam_laporan','updated_at']]\n",
    "df_tma.head(10)"
   ]
  },
  {
   "cell_type": "code",
   "execution_count": null,
   "metadata": {
    "execution": {
     "iopub.execute_input": "2022-03-30T17:01:51.161577Z",
     "iopub.status.busy": "2022-03-30T17:01:51.160822Z",
     "iopub.status.idle": "2022-03-30T17:01:54.185596Z",
     "shell.execute_reply": "2022-03-30T17:01:54.184619Z",
     "shell.execute_reply.started": "2022-03-30T17:01:51.161519Z"
    }
   },
   "outputs": [],
   "source": [
    "df_tma['updated_at'] = pd.to_datetime(df_tma['updated_at']).dt.date\n",
    "df_tma.head(10)"
   ]
  },
  {
   "cell_type": "code",
   "execution_count": null,
   "metadata": {
    "execution": {
     "iopub.execute_input": "2022-03-30T17:01:54.187479Z",
     "iopub.status.busy": "2022-03-30T17:01:54.187224Z",
     "iopub.status.idle": "2022-03-30T17:01:54.203215Z",
     "shell.execute_reply": "2022-03-30T17:01:54.202227Z",
     "shell.execute_reply.started": "2022-03-30T17:01:54.187448Z"
    }
   },
   "outputs": [],
   "source": [
    "df_tma = df_tma.rename(columns={'updated_at': 'tanggal'})\n",
    "df_tma.head(10)"
   ]
  },
  {
   "cell_type": "code",
   "execution_count": null,
   "metadata": {
    "execution": {
     "iopub.execute_input": "2022-03-30T17:01:54.205662Z",
     "iopub.status.busy": "2022-03-30T17:01:54.205302Z",
     "iopub.status.idle": "2022-03-30T17:01:54.463321Z",
     "shell.execute_reply": "2022-03-30T17:01:54.462226Z",
     "shell.execute_reply.started": "2022-03-30T17:01:54.205613Z"
    }
   },
   "outputs": [],
   "source": [
    "df_tma['jam_laporan'] = pd.to_datetime(df_tma.jam_laporan).dt.strftime('%H:%M')\n",
    "df_tma.head(10)"
   ]
  },
  {
   "cell_type": "code",
   "execution_count": null,
   "metadata": {
    "execution": {
     "iopub.execute_input": "2022-03-30T17:01:54.46536Z",
     "iopub.status.busy": "2022-03-30T17:01:54.464752Z",
     "iopub.status.idle": "2022-03-30T17:01:54.485916Z",
     "shell.execute_reply": "2022-03-30T17:01:54.48521Z",
     "shell.execute_reply.started": "2022-03-30T17:01:54.465301Z"
    }
   },
   "outputs": [],
   "source": [
    "df_tma_jakut = df_tma.loc[(df_tma['pintu_air_id'] == 12) | (df_tma['pintu_air_id'] == 13) |\n",
    "                           (df_tma['pintu_air_id'] == 17)]\n",
    "df_tma_jakut.head(20)"
   ]
  },
  {
   "cell_type": "code",
   "execution_count": null,
   "metadata": {
    "execution": {
     "iopub.execute_input": "2022-03-30T17:01:54.48793Z",
     "iopub.status.busy": "2022-03-30T17:01:54.486992Z",
     "iopub.status.idle": "2022-03-30T17:01:54.50512Z",
     "shell.execute_reply": "2022-03-30T17:01:54.504032Z",
     "shell.execute_reply.started": "2022-03-30T17:01:54.487878Z"
    }
   },
   "outputs": [],
   "source": [
    "df_tma_anc = df_tma_jakut.loc[(df_tma['pintu_air_id'] == 13)]\n",
    "df_tma_anc.head(10)"
   ]
  },
  {
   "cell_type": "code",
   "execution_count": null,
   "metadata": {
    "execution": {
     "iopub.execute_input": "2022-03-30T17:01:54.507218Z",
     "iopub.status.busy": "2022-03-30T17:01:54.506753Z",
     "iopub.status.idle": "2022-03-30T17:01:54.518052Z",
     "shell.execute_reply": "2022-03-30T17:01:54.517025Z",
     "shell.execute_reply.started": "2022-03-30T17:01:54.507125Z"
    }
   },
   "outputs": [],
   "source": [
    "df_tma_anc['tanggal'] = df_tma_anc['tanggal'].astype(str)"
   ]
  },
  {
   "cell_type": "code",
   "execution_count": null,
   "metadata": {
    "execution": {
     "iopub.execute_input": "2022-03-30T17:01:54.520015Z",
     "iopub.status.busy": "2022-03-30T17:01:54.519672Z",
     "iopub.status.idle": "2022-03-30T17:01:54.532558Z",
     "shell.execute_reply": "2022-03-30T17:01:54.53165Z",
     "shell.execute_reply.started": "2022-03-30T17:01:54.519966Z"
    }
   },
   "outputs": [],
   "source": [
    "df_tma_anc['ketinggian'] = df_tma_anc['ketinggian'].astype(int)"
   ]
  },
  {
   "cell_type": "code",
   "execution_count": null,
   "metadata": {
    "execution": {
     "iopub.execute_input": "2022-03-30T17:01:54.534852Z",
     "iopub.status.busy": "2022-03-30T17:01:54.533817Z",
     "iopub.status.idle": "2022-03-30T17:01:54.67632Z",
     "shell.execute_reply": "2022-03-30T17:01:54.675333Z",
     "shell.execute_reply.started": "2022-03-30T17:01:54.5348Z"
    }
   },
   "outputs": [],
   "source": [
    "df_tma_anc['waktu'] = df_tma_anc[['tanggal','jam_laporan']].agg(' '.join,axis=1)\n",
    "df_tma_anc.head(10)"
   ]
  },
  {
   "cell_type": "code",
   "execution_count": null,
   "metadata": {
    "execution": {
     "iopub.execute_input": "2022-03-30T17:01:54.678181Z",
     "iopub.status.busy": "2022-03-30T17:01:54.67784Z",
     "iopub.status.idle": "2022-03-30T17:01:54.699081Z",
     "shell.execute_reply": "2022-03-30T17:01:54.697945Z",
     "shell.execute_reply.started": "2022-03-30T17:01:54.678117Z"
    }
   },
   "outputs": [],
   "source": [
    "df_tma_anc = df_tma_anc[['waktu','ketinggian']]\n",
    "df_tma_anc.head(10)"
   ]
  },
  {
   "cell_type": "code",
   "execution_count": null,
   "metadata": {
    "execution": {
     "iopub.execute_input": "2022-03-30T17:01:54.701236Z",
     "iopub.status.busy": "2022-03-30T17:01:54.700858Z",
     "iopub.status.idle": "2022-03-30T17:01:54.710253Z",
     "shell.execute_reply": "2022-03-30T17:01:54.709516Z",
     "shell.execute_reply.started": "2022-03-30T17:01:54.701191Z"
    }
   },
   "outputs": [],
   "source": [
    "df_tma_anc.drop_duplicates(subset='waktu',keep='first',inplace=True)\n",
    "df_tma_anc.head()"
   ]
  },
  {
   "cell_type": "code",
   "execution_count": null,
   "metadata": {
    "execution": {
     "iopub.execute_input": "2022-03-30T17:01:54.714333Z",
     "iopub.status.busy": "2022-03-30T17:01:54.712219Z",
     "iopub.status.idle": "2022-03-30T17:01:54.731859Z",
     "shell.execute_reply": "2022-03-30T17:01:54.731052Z",
     "shell.execute_reply.started": "2022-03-30T17:01:54.714278Z"
    }
   },
   "outputs": [],
   "source": [
    "# Renaming columns\n",
    "df_tma_anc.rename(columns = {'waktu':'ds', 'ketinggian':'y'}, inplace = True)\n",
    "df_tma_anc.head()"
   ]
  },
  {
   "cell_type": "code",
   "execution_count": null,
   "metadata": {},
   "outputs": [],
   "source": [
    "df_tma_anc_time = df_tma_anc.set_index('ds')\n",
    "df_tma_anc_time.head()"
   ]
  },
  {
   "cell_type": "code",
   "execution_count": null,
   "metadata": {},
   "outputs": [],
   "source": [
    "#Plot of decompotition\n",
    "import statsmodels.api as sm\n",
    "from pylab import rcParams\n",
    "rcParams['figure.figsize'] = 11, 9\n",
    "decomposition = sm.tsa.seasonal_decompose(df_tma_anc_time, \n",
    "                                         model = 'additive',\n",
    "                                         period=60) \n",
    "fig = decomposition.plot()\n",
    "plt.show()"
   ]
  },
  {
   "cell_type": "code",
   "execution_count": null,
   "metadata": {
    "execution": {
     "iopub.execute_input": "2022-03-30T17:01:54.734302Z",
     "iopub.status.busy": "2022-03-30T17:01:54.734034Z",
     "iopub.status.idle": "2022-03-30T17:01:54.754255Z",
     "shell.execute_reply": "2022-03-30T17:01:54.753578Z",
     "shell.execute_reply.started": "2022-03-30T17:01:54.734272Z"
    }
   },
   "outputs": [],
   "source": [
    "df_tma_anc['ds'] = pd.DatetimeIndex(df_tma_anc['ds'])\n",
    "df_tma_anc.info()"
   ]
  },
  {
   "cell_type": "code",
   "execution_count": null,
   "metadata": {
    "execution": {
     "iopub.execute_input": "2022-03-30T17:01:54.755869Z",
     "iopub.status.busy": "2022-03-30T17:01:54.755308Z",
     "iopub.status.idle": "2022-03-30T17:01:54.767452Z",
     "shell.execute_reply": "2022-03-30T17:01:54.766576Z",
     "shell.execute_reply.started": "2022-03-30T17:01:54.755834Z"
    }
   },
   "outputs": [],
   "source": [
    "df_tma_anc.head(10)"
   ]
  },
  {
   "cell_type": "code",
   "execution_count": null,
   "metadata": {
    "execution": {
     "iopub.execute_input": "2022-03-30T17:01:54.769588Z",
     "iopub.status.busy": "2022-03-30T17:01:54.768884Z",
     "iopub.status.idle": "2022-03-30T17:01:54.783517Z",
     "shell.execute_reply": "2022-03-30T17:01:54.782491Z",
     "shell.execute_reply.started": "2022-03-30T17:01:54.769544Z"
    }
   },
   "outputs": [],
   "source": [
    "df_tma_anc.tail(10)"
   ]
  },
  {
   "cell_type": "code",
   "execution_count": null,
   "metadata": {
    "execution": {
     "iopub.execute_input": "2022-03-30T17:01:54.785957Z",
     "iopub.status.busy": "2022-03-30T17:01:54.784796Z",
     "iopub.status.idle": "2022-03-30T17:01:55.112975Z",
     "shell.execute_reply": "2022-03-30T17:01:55.112033Z",
     "shell.execute_reply.started": "2022-03-30T17:01:54.785902Z"
    },
    "id": "vDiPYmpK58jC",
    "outputId": "fd851d04-e739-4b2f-86e7-0dde71e1db57"
   },
   "outputs": [],
   "source": [
    "#df_tma_anc.set_index('ds').plot(figsize=(12,6))\n",
    "#plt.title('Time Series Plot')"
   ]
  },
  {
   "cell_type": "markdown",
   "metadata": {
    "id": "KS5j2phf7qCa"
   },
   "source": [
    "## Prophet Model"
   ]
  },
  {
   "cell_type": "code",
   "execution_count": null,
   "metadata": {
    "execution": {
     "iopub.execute_input": "2022-03-30T17:01:55.115443Z",
     "iopub.status.busy": "2022-03-30T17:01:55.114496Z",
     "iopub.status.idle": "2022-03-30T17:02:04.048587Z",
     "shell.execute_reply": "2022-03-30T17:02:04.04742Z",
     "shell.execute_reply.started": "2022-03-30T17:01:55.11539Z"
    },
    "id": "PsCA_oCp7yYV"
   },
   "outputs": [],
   "source": [
    "!pip install prophet -q"
   ]
  },
  {
   "cell_type": "code",
   "execution_count": null,
   "metadata": {
    "execution": {
     "iopub.execute_input": "2022-03-30T17:02:04.05095Z",
     "iopub.status.busy": "2022-03-30T17:02:04.050666Z",
     "iopub.status.idle": "2022-03-30T17:02:04.055926Z",
     "shell.execute_reply": "2022-03-30T17:02:04.054998Z",
     "shell.execute_reply.started": "2022-03-30T17:02:04.050916Z"
    },
    "id": "lFac0jli58e3"
   },
   "outputs": [],
   "source": [
    "from prophet import Prophet"
   ]
  },
  {
   "cell_type": "code",
   "execution_count": null,
   "metadata": {
    "execution": {
     "iopub.execute_input": "2022-03-30T17:02:04.071086Z",
     "iopub.status.busy": "2022-03-30T17:02:04.070252Z",
     "iopub.status.idle": "2022-03-30T17:02:04.212257Z",
     "shell.execute_reply": "2022-03-30T17:02:04.211224Z",
     "shell.execute_reply.started": "2022-03-30T17:02:04.071025Z"
    },
    "id": "3_6QOV_258bJ"
   },
   "outputs": [],
   "source": [
    "m = Prophet(seasonality_mode='additive')"
   ]
  },
  {
   "cell_type": "markdown",
   "metadata": {
    "id": "n_TgzjgP9pki"
   },
   "source": [
    "Using default settings, only the seasonality mode is set to *Additive*\n",
    "\n"
   ]
  },
  {
   "cell_type": "code",
   "execution_count": null,
   "metadata": {
    "execution": {
     "iopub.execute_input": "2022-03-30T17:02:04.214336Z",
     "iopub.status.busy": "2022-03-30T17:02:04.213504Z",
     "iopub.status.idle": "2022-03-30T17:02:04.796676Z",
     "shell.execute_reply": "2022-03-30T17:02:04.795214Z",
     "shell.execute_reply.started": "2022-03-30T17:02:04.214295Z"
    },
    "id": "9AcZ5Kga58XQ",
    "outputId": "cc2a687c-4507-4114-ce8a-b52d1ab04906"
   },
   "outputs": [],
   "source": [
    "m.fit(df_tma_anc)"
   ]
  },
  {
   "cell_type": "code",
   "execution_count": null,
   "metadata": {
    "execution": {
     "iopub.execute_input": "2022-03-30T17:02:04.799284Z",
     "iopub.status.busy": "2022-03-30T17:02:04.798636Z",
     "iopub.status.idle": "2022-03-30T17:02:04.807759Z",
     "shell.execute_reply": "2022-03-30T17:02:04.806943Z",
     "shell.execute_reply.started": "2022-03-30T17:02:04.799231Z"
    },
    "id": "Iq-KLct058TY"
   },
   "outputs": [],
   "source": [
    "future = m.make_future_dataframe(periods=1440, freq='H')"
   ]
  },
  {
   "cell_type": "code",
   "execution_count": null,
   "metadata": {
    "execution": {
     "iopub.execute_input": "2022-03-30T17:02:04.810621Z",
     "iopub.status.busy": "2022-03-30T17:02:04.809911Z",
     "iopub.status.idle": "2022-03-30T17:02:04.825245Z",
     "shell.execute_reply": "2022-03-30T17:02:04.824185Z",
     "shell.execute_reply.started": "2022-03-30T17:02:04.810569Z"
    },
    "id": "6dGM0yvo58Pd",
    "outputId": "e21a8994-6a46-4c43-9138-54e0d313d057"
   },
   "outputs": [],
   "source": [
    "future.tail(5)"
   ]
  },
  {
   "cell_type": "code",
   "execution_count": null,
   "metadata": {
    "execution": {
     "iopub.execute_input": "2022-03-30T17:02:04.827759Z",
     "iopub.status.busy": "2022-03-30T17:02:04.826879Z",
     "iopub.status.idle": "2022-03-30T17:02:11.031693Z",
     "shell.execute_reply": "2022-03-30T17:02:11.030733Z",
     "shell.execute_reply.started": "2022-03-30T17:02:04.827706Z"
    },
    "id": "OCdhcLtp58LY"
   },
   "outputs": [],
   "source": [
    "forecast = m.predict(future)"
   ]
  },
  {
   "cell_type": "code",
   "execution_count": null,
   "metadata": {
    "execution": {
     "iopub.execute_input": "2022-03-30T17:02:11.033335Z",
     "iopub.status.busy": "2022-03-30T17:02:11.033043Z",
     "iopub.status.idle": "2022-03-30T17:02:11.060494Z",
     "shell.execute_reply": "2022-03-30T17:02:11.059383Z",
     "shell.execute_reply.started": "2022-03-30T17:02:11.033301Z"
    },
    "id": "0sfWkS3U58Hv",
    "outputId": "716da66a-95ee-4cc4-9752-8a8f78e2d1cf"
   },
   "outputs": [],
   "source": [
    "forecast.tail()"
   ]
  },
  {
   "cell_type": "code",
   "execution_count": null,
   "metadata": {
    "execution": {
     "iopub.execute_input": "2022-03-30T17:02:11.062069Z",
     "iopub.status.busy": "2022-03-30T17:02:11.061811Z",
     "iopub.status.idle": "2022-03-30T17:02:11.371568Z",
     "shell.execute_reply": "2022-03-30T17:02:11.370635Z",
     "shell.execute_reply.started": "2022-03-30T17:02:11.062037Z"
    },
    "id": "DF2s22fk58Em",
    "outputId": "a651a350-57d6-4d42-b3d8-589fd8622a65"
   },
   "outputs": [],
   "source": [
    "m.plot(forecast);\n",
    "plt.title(\"Forecast of the Time Series in the next 60 days (1440 hours)\")\n",
    "plt.xlabel(\"Dates\")\n",
    "plt.ylabel(\"Water Level (cm)\")"
   ]
  },
  {
   "cell_type": "code",
   "execution_count": null,
   "metadata": {
    "execution": {
     "iopub.execute_input": "2022-03-30T17:02:11.373728Z",
     "iopub.status.busy": "2022-03-30T17:02:11.373412Z",
     "iopub.status.idle": "2022-03-30T17:02:12.021084Z",
     "shell.execute_reply": "2022-03-30T17:02:12.020024Z",
     "shell.execute_reply.started": "2022-03-30T17:02:11.373684Z"
    },
    "id": "RWsL_f4eB5B2",
    "outputId": "2a22ed8d-354c-4bdf-c1f1-a94c22e44423"
   },
   "outputs": [],
   "source": [
    "m.plot_components(forecast);\n",
    "print(\"Components of the time series:\")"
   ]
  },
  {
   "cell_type": "code",
   "execution_count": null,
   "metadata": {
    "execution": {
     "iopub.execute_input": "2022-03-30T17:02:12.022623Z",
     "iopub.status.busy": "2022-03-30T17:02:12.02239Z",
     "iopub.status.idle": "2022-03-30T17:02:12.039914Z",
     "shell.execute_reply": "2022-03-30T17:02:12.039014Z",
     "shell.execute_reply.started": "2022-03-30T17:02:12.022594Z"
    },
    "id": "jzO55k-q-xqy"
   },
   "outputs": [],
   "source": [
    "#p_forecast = forecast[forecast['ds']>'2022-02-18 16:00:00'][['ds','yhat_lower','yhat','yhat_upper']]\n",
    "p_forecast = forecast[['ds','yhat_lower','yhat','yhat_upper']]\n",
    "p_forecast.info()"
   ]
  },
  {
   "cell_type": "code",
   "execution_count": null,
   "metadata": {
    "execution": {
     "iopub.execute_input": "2022-03-30T17:02:12.041313Z",
     "iopub.status.busy": "2022-03-30T17:02:12.041068Z",
     "iopub.status.idle": "2022-03-30T17:02:12.369995Z",
     "shell.execute_reply": "2022-03-30T17:02:12.369093Z",
     "shell.execute_reply.started": "2022-03-30T17:02:12.041284Z"
    },
    "id": "D3luqYmd-xjx",
    "outputId": "27964f81-f5d6-473f-bf14-465c982d7cef"
   },
   "outputs": [],
   "source": [
    "plt.figure(figsize=(12,6))\n",
    "plt.xticks(rotation=45)\n",
    "plt.title(\"Detail of Forecast using Prophet\")\n",
    "plt.plot(p_forecast['ds'], p_forecast['yhat'], marker='.', c='navy')\n",
    "plt.fill_between(p_forecast['ds'],p_forecast['yhat_lower'], p_forecast['yhat_upper'], alpha=0.1, color='cyan')\n",
    "plt.xlabel(\"Dates\")\n",
    "plt.ylabel(\"Water Level (cm)\")"
   ]
  },
  {
   "cell_type": "markdown",
   "metadata": {
    "id": "gdCVB2iaLqmS"
   },
   "source": [
    "### Performance Metrics"
   ]
  },
  {
   "cell_type": "code",
   "execution_count": null,
   "metadata": {
    "execution": {
     "iopub.execute_input": "2022-03-30T17:02:12.371644Z",
     "iopub.status.busy": "2022-03-30T17:02:12.371392Z",
     "iopub.status.idle": "2022-03-30T17:02:12.376401Z",
     "shell.execute_reply": "2022-03-30T17:02:12.375426Z",
     "shell.execute_reply.started": "2022-03-30T17:02:12.371612Z"
    },
    "id": "tPJQi-dm-wrf"
   },
   "outputs": [],
   "source": [
    "from sklearn.metrics import mean_squared_error"
   ]
  },
  {
   "cell_type": "code",
   "execution_count": null,
   "metadata": {
    "execution": {
     "iopub.execute_input": "2022-03-30T17:02:12.378699Z",
     "iopub.status.busy": "2022-03-30T17:02:12.37838Z",
     "iopub.status.idle": "2022-03-30T17:02:12.398512Z",
     "shell.execute_reply": "2022-03-30T17:02:12.397428Z",
     "shell.execute_reply.started": "2022-03-30T17:02:12.378655Z"
    }
   },
   "outputs": [],
   "source": [
    "df_tma_anc.info()"
   ]
  },
  {
   "cell_type": "code",
   "execution_count": null,
   "metadata": {
    "execution": {
     "iopub.execute_input": "2022-03-30T17:02:12.400691Z",
     "iopub.status.busy": "2022-03-30T17:02:12.400053Z",
     "iopub.status.idle": "2022-03-30T17:02:12.427353Z",
     "shell.execute_reply": "2022-03-30T17:02:12.426363Z",
     "shell.execute_reply.started": "2022-03-30T17:02:12.400648Z"
    }
   },
   "outputs": [],
   "source": [
    "df_tma_anc_merge = pd.merge(df_tma_anc, forecast[['ds','yhat_lower','yhat_upper','yhat']],on='ds')\n",
    "df_tma_anc_merge = df_tma_anc_merge[['ds','yhat_lower','yhat_upper','yhat','y']]\n",
    "df_tma_anc_merge.head()"
   ]
  },
  {
   "cell_type": "code",
   "execution_count": null,
   "metadata": {
    "execution": {
     "iopub.execute_input": "2022-03-30T17:02:12.428925Z",
     "iopub.status.busy": "2022-03-30T17:02:12.428674Z",
     "iopub.status.idle": "2022-03-30T17:02:12.445087Z",
     "shell.execute_reply": "2022-03-30T17:02:12.443595Z",
     "shell.execute_reply.started": "2022-03-30T17:02:12.428895Z"
    }
   },
   "outputs": [],
   "source": [
    "df_tma_anc_merge.tail()"
   ]
  },
  {
   "cell_type": "code",
   "execution_count": null,
   "metadata": {
    "execution": {
     "iopub.execute_input": "2022-03-30T17:02:12.44772Z",
     "iopub.status.busy": "2022-03-30T17:02:12.446872Z",
     "iopub.status.idle": "2022-03-30T17:02:12.455506Z",
     "shell.execute_reply": "2022-03-30T17:02:12.454706Z",
     "shell.execute_reply.started": "2022-03-30T17:02:12.447665Z"
    },
    "id": "h3g-k2Bd-wlT"
   },
   "outputs": [],
   "source": [
    "prophet_mse = mean_squared_error(df_tma_anc_merge['y'], df_tma_anc_merge['yhat'])\n",
    "prophet_rmse = np.sqrt(mean_squared_error(df_tma_anc_merge['y'], df_tma_anc_merge['yhat']))"
   ]
  },
  {
   "cell_type": "code",
   "execution_count": null,
   "metadata": {
    "execution": {
     "iopub.execute_input": "2022-03-30T17:02:12.457118Z",
     "iopub.status.busy": "2022-03-30T17:02:12.456647Z",
     "iopub.status.idle": "2022-03-30T17:02:12.473775Z",
     "shell.execute_reply": "2022-03-30T17:02:12.473003Z",
     "shell.execute_reply.started": "2022-03-30T17:02:12.45708Z"
    },
    "id": "shJVx922-wh5",
    "outputId": "8362eca7-9488-45b3-c55d-b5553b8ab96c"
   },
   "outputs": [],
   "source": [
    "print(\"Prophet MSE: {:.4f}\".format(prophet_mse))\n",
    "print(\"Prophet RMSE: {:.4f}\".format(prophet_rmse))"
   ]
  },
  {
   "cell_type": "markdown",
   "metadata": {
    "id": "Ut0bqOp6NKXB"
   },
   "source": [
    "## NeuralProphet"
   ]
  },
  {
   "cell_type": "code",
   "execution_count": null,
   "metadata": {
    "execution": {
     "iopub.execute_input": "2022-03-30T17:02:12.475484Z",
     "iopub.status.busy": "2022-03-30T17:02:12.475082Z",
     "iopub.status.idle": "2022-03-30T17:02:21.811484Z",
     "shell.execute_reply": "2022-03-30T17:02:21.810411Z",
     "shell.execute_reply.started": "2022-03-30T17:02:12.47545Z"
    },
    "id": "_MmLi72YQUzB"
   },
   "outputs": [],
   "source": [
    "!pip install neuralprophet -q"
   ]
  },
  {
   "cell_type": "code",
   "execution_count": null,
   "metadata": {
    "execution": {
     "iopub.execute_input": "2022-03-30T17:02:21.813496Z",
     "iopub.status.busy": "2022-03-30T17:02:21.813185Z",
     "iopub.status.idle": "2022-03-30T17:02:21.819001Z",
     "shell.execute_reply": "2022-03-30T17:02:21.817958Z",
     "shell.execute_reply.started": "2022-03-30T17:02:21.813461Z"
    },
    "id": "z8ZOYrkOQ5A_"
   },
   "outputs": [],
   "source": [
    "from neuralprophet import NeuralProphet, set_random_seed"
   ]
  },
  {
   "cell_type": "code",
   "execution_count": null,
   "metadata": {
    "execution": {
     "iopub.execute_input": "2022-03-30T17:02:21.820614Z",
     "iopub.status.busy": "2022-03-30T17:02:21.820388Z",
     "iopub.status.idle": "2022-03-30T17:02:21.833023Z",
     "shell.execute_reply": "2022-03-30T17:02:21.832148Z",
     "shell.execute_reply.started": "2022-03-30T17:02:21.820586Z"
    },
    "id": "jzVA9PzwVDWF"
   },
   "outputs": [],
   "source": [
    "set_random_seed(42)"
   ]
  },
  {
   "cell_type": "code",
   "execution_count": null,
   "metadata": {
    "execution": {
     "iopub.execute_input": "2022-03-30T17:02:21.835053Z",
     "iopub.status.busy": "2022-03-30T17:02:21.834571Z",
     "iopub.status.idle": "2022-03-30T17:02:21.851987Z",
     "shell.execute_reply": "2022-03-30T17:02:21.851222Z",
     "shell.execute_reply.started": "2022-03-30T17:02:21.835018Z"
    },
    "id": "j1etU6abQU2_"
   },
   "outputs": [],
   "source": [
    "nm = NeuralProphet(seasonality_mode='additive')"
   ]
  },
  {
   "cell_type": "code",
   "execution_count": null,
   "metadata": {
    "execution": {
     "iopub.execute_input": "2022-03-30T17:02:21.854008Z",
     "iopub.status.busy": "2022-03-30T17:02:21.853598Z",
     "iopub.status.idle": "2022-03-30T17:02:42.778641Z",
     "shell.execute_reply": "2022-03-30T17:02:42.777587Z",
     "shell.execute_reply.started": "2022-03-30T17:02:21.853972Z"
    },
    "id": "94DWQAlRQU6l",
    "outputId": "e119abca-ba94-48f8-cf50-60a76f8bbce8"
   },
   "outputs": [],
   "source": [
    "nm.fit(df_tma_anc, freq='H')"
   ]
  },
  {
   "cell_type": "code",
   "execution_count": null,
   "metadata": {
    "execution": {
     "iopub.execute_input": "2022-03-30T17:02:42.781104Z",
     "iopub.status.busy": "2022-03-30T17:02:42.780764Z",
     "iopub.status.idle": "2022-03-30T17:02:42.823118Z",
     "shell.execute_reply": "2022-03-30T17:02:42.822219Z",
     "shell.execute_reply.started": "2022-03-30T17:02:42.781055Z"
    },
    "id": "2712r-y6QU_J"
   },
   "outputs": [],
   "source": [
    "n_future = nm.make_future_dataframe(df_tma_anc, periods=1440, n_historic_predictions=len(df_tma_anc))\n",
    "n_future"
   ]
  },
  {
   "cell_type": "code",
   "execution_count": null,
   "metadata": {
    "execution": {
     "iopub.execute_input": "2022-03-30T17:02:42.824723Z",
     "iopub.status.busy": "2022-03-30T17:02:42.824463Z",
     "iopub.status.idle": "2022-03-30T17:02:42.837215Z",
     "shell.execute_reply": "2022-03-30T17:02:42.836233Z",
     "shell.execute_reply.started": "2022-03-30T17:02:42.824689Z"
    },
    "id": "YEDwelt4QVEC",
    "outputId": "05320861-f7fa-4dd1-d08e-146d658bb393"
   },
   "outputs": [],
   "source": [
    "n_future.tail()"
   ]
  },
  {
   "cell_type": "code",
   "execution_count": null,
   "metadata": {
    "execution": {
     "iopub.execute_input": "2022-03-30T17:02:42.840629Z",
     "iopub.status.busy": "2022-03-30T17:02:42.839075Z",
     "iopub.status.idle": "2022-03-30T17:02:44.264632Z",
     "shell.execute_reply": "2022-03-30T17:02:44.263617Z",
     "shell.execute_reply.started": "2022-03-30T17:02:42.840566Z"
    },
    "id": "9itH7Z1sQVIM"
   },
   "outputs": [],
   "source": [
    "n_forecast = nm.predict(n_future)"
   ]
  },
  {
   "cell_type": "code",
   "execution_count": null,
   "metadata": {
    "execution": {
     "iopub.execute_input": "2022-03-30T17:02:44.266807Z",
     "iopub.status.busy": "2022-03-30T17:02:44.266448Z",
     "iopub.status.idle": "2022-03-30T17:02:44.284602Z",
     "shell.execute_reply": "2022-03-30T17:02:44.283315Z",
     "shell.execute_reply.started": "2022-03-30T17:02:44.266757Z"
    }
   },
   "outputs": [],
   "source": [
    "n_forecast.info()"
   ]
  },
  {
   "cell_type": "code",
   "execution_count": null,
   "metadata": {
    "execution": {
     "iopub.execute_input": "2022-03-30T17:02:44.286968Z",
     "iopub.status.busy": "2022-03-30T17:02:44.286518Z",
     "iopub.status.idle": "2022-03-30T17:02:44.304392Z",
     "shell.execute_reply": "2022-03-30T17:02:44.303224Z",
     "shell.execute_reply.started": "2022-03-30T17:02:44.286915Z"
    },
    "id": "pAxbeCwCQVMu",
    "outputId": "93e7f551-74ca-4717-f0a5-0a97d05ef94f"
   },
   "outputs": [],
   "source": [
    "n_forecast.tail()"
   ]
  },
  {
   "cell_type": "code",
   "execution_count": null,
   "metadata": {
    "execution": {
     "iopub.execute_input": "2022-03-30T17:02:44.307182Z",
     "iopub.status.busy": "2022-03-30T17:02:44.305958Z",
     "iopub.status.idle": "2022-03-30T17:02:44.620953Z",
     "shell.execute_reply": "2022-03-30T17:02:44.619921Z",
     "shell.execute_reply.started": "2022-03-30T17:02:44.307084Z"
    },
    "id": "BDfgTxJgQVRz",
    "outputId": "bbf586f8-beb6-4467-d367-d86b362c7e7f"
   },
   "outputs": [],
   "source": [
    "plt.figure(figsize=(12,6))\n",
    "plt.xticks(rotation=45)\n",
    "plt.title(\"Detail of Forecast using NeuralProphet\")\n",
    "plt.plot(n_forecast['ds'], n_forecast['yhat1'], marker='.', c='red')\n",
    "plt.legend()\n",
    "plt.xlabel(\"Dates\")\n",
    "plt.ylabel(\"Water Level (cm)\")"
   ]
  },
  {
   "cell_type": "code",
   "execution_count": null,
   "metadata": {
    "execution": {
     "iopub.execute_input": "2022-03-30T17:09:46.52695Z",
     "iopub.status.busy": "2022-03-30T17:09:46.526525Z",
     "iopub.status.idle": "2022-03-30T17:09:46.917367Z",
     "shell.execute_reply": "2022-03-30T17:09:46.916269Z",
     "shell.execute_reply.started": "2022-03-30T17:09:46.526911Z"
    },
    "id": "RlRTtEIOQVXh",
    "outputId": "a4807c9c-183b-4251-bc24-05ae03933b03"
   },
   "outputs": [],
   "source": [
    "nm.plot(pd.concat([df_tma_anc, n_forecast], ignore_index=True));\n",
    "plt.title(\"Forecast of the Time Series in the next 60 days (1440 hours)\")\n",
    "plt.xlabel(\"Dates\")\n",
    "plt.ylabel(\"Water Level (cm)\")"
   ]
  },
  {
   "cell_type": "code",
   "execution_count": null,
   "metadata": {
    "execution": {
     "iopub.execute_input": "2022-03-30T17:02:45.006237Z",
     "iopub.status.busy": "2022-03-30T17:02:45.005428Z",
     "iopub.status.idle": "2022-03-30T17:02:45.894081Z",
     "shell.execute_reply": "2022-03-30T17:02:45.893072Z",
     "shell.execute_reply.started": "2022-03-30T17:02:45.006183Z"
    }
   },
   "outputs": [],
   "source": [
    "nm.plot_components(pd.concat([df_tma_anc, n_forecast], ignore_index=True));"
   ]
  },
  {
   "cell_type": "markdown",
   "metadata": {
    "id": "PxQPboiBTGk6"
   },
   "source": [
    "### Performance Metrics"
   ]
  },
  {
   "cell_type": "code",
   "execution_count": null,
   "metadata": {
    "execution": {
     "iopub.execute_input": "2022-03-30T17:02:45.8961Z",
     "iopub.status.busy": "2022-03-30T17:02:45.895741Z",
     "iopub.status.idle": "2022-03-30T17:02:45.919223Z",
     "shell.execute_reply": "2022-03-30T17:02:45.918366Z",
     "shell.execute_reply.started": "2022-03-30T17:02:45.896052Z"
    }
   },
   "outputs": [],
   "source": [
    "n_forecast"
   ]
  },
  {
   "cell_type": "code",
   "execution_count": null,
   "metadata": {
    "execution": {
     "iopub.execute_input": "2022-03-30T17:02:45.920891Z",
     "iopub.status.busy": "2022-03-30T17:02:45.920619Z",
     "iopub.status.idle": "2022-03-30T17:02:45.944197Z",
     "shell.execute_reply": "2022-03-30T17:02:45.943179Z",
     "shell.execute_reply.started": "2022-03-30T17:02:45.92085Z"
    }
   },
   "outputs": [],
   "source": [
    "n_forecast_merge = pd.merge(df_tma_anc, n_forecast[['ds','yhat1','residual1']],on='ds')\n",
    "n_forecast_merge = n_forecast_merge[['ds','yhat1','residual1','y']]\n",
    "n_forecast_merge.head()"
   ]
  },
  {
   "cell_type": "code",
   "execution_count": null,
   "metadata": {
    "execution": {
     "iopub.execute_input": "2022-03-30T17:02:45.946012Z",
     "iopub.status.busy": "2022-03-30T17:02:45.945747Z",
     "iopub.status.idle": "2022-03-30T17:02:45.953746Z",
     "shell.execute_reply": "2022-03-30T17:02:45.952698Z",
     "shell.execute_reply.started": "2022-03-30T17:02:45.945981Z"
    },
    "id": "NYjhoFjzQVcz"
   },
   "outputs": [],
   "source": [
    "n_prophet_mse = mean_squared_error(n_forecast_merge['y'], n_forecast_merge['yhat1'])\n",
    "n_prophet_rmse = np.sqrt(mean_squared_error(n_forecast_merge['y'], n_forecast_merge['yhat1']))"
   ]
  },
  {
   "cell_type": "code",
   "execution_count": null,
   "metadata": {
    "execution": {
     "iopub.execute_input": "2022-03-30T17:02:45.955575Z",
     "iopub.status.busy": "2022-03-30T17:02:45.955035Z",
     "iopub.status.idle": "2022-03-30T17:02:45.966788Z",
     "shell.execute_reply": "2022-03-30T17:02:45.966064Z",
     "shell.execute_reply.started": "2022-03-30T17:02:45.955535Z"
    },
    "id": "qGMxH51hQVih",
    "outputId": "889ecefd-b6be-4fc1-e30a-65029a40f9dd"
   },
   "outputs": [],
   "source": [
    "print(\"Neural Prophet MSE: {:.4f}\".format(n_prophet_mse))\n",
    "print(\"Neural Prophet RMSE: {:.4f}\".format(n_prophet_rmse))"
   ]
  },
  {
   "cell_type": "code",
   "execution_count": null,
   "metadata": {
    "execution": {
     "iopub.execute_input": "2022-03-30T17:02:45.96855Z",
     "iopub.status.busy": "2022-03-30T17:02:45.968061Z",
     "iopub.status.idle": "2022-03-30T17:02:45.97867Z",
     "shell.execute_reply": "2022-03-30T17:02:45.977697Z",
     "shell.execute_reply.started": "2022-03-30T17:02:45.968502Z"
    },
    "id": "PQf5WbhgTwiS",
    "outputId": "4e50d70e-3812-41d9-901d-e66fc4ccf595"
   },
   "outputs": [],
   "source": [
    "print(\"Prophet MSE: {:.4f}\".format(prophet_mse))\n",
    "print(\"Prophet RMSE: {:.4f}\".format(prophet_rmse))"
   ]
  },
  {
   "cell_type": "code",
   "execution_count": null,
   "metadata": {
    "execution": {
     "iopub.execute_input": "2022-03-30T17:02:45.981187Z",
     "iopub.status.busy": "2022-03-30T17:02:45.98032Z",
     "iopub.status.idle": "2022-03-30T17:02:45.991738Z",
     "shell.execute_reply": "2022-03-30T17:02:45.990731Z",
     "shell.execute_reply.started": "2022-03-30T17:02:45.981129Z"
    }
   },
   "outputs": [],
   "source": [
    "n_prophet_mse - prophet_mse"
   ]
  },
  {
   "cell_type": "code",
   "execution_count": null,
   "metadata": {
    "execution": {
     "iopub.execute_input": "2022-03-30T17:02:45.993668Z",
     "iopub.status.busy": "2022-03-30T17:02:45.993155Z",
     "iopub.status.idle": "2022-03-30T17:02:46.00546Z",
     "shell.execute_reply": "2022-03-30T17:02:46.004488Z",
     "shell.execute_reply.started": "2022-03-30T17:02:45.993615Z"
    },
    "id": "2uYHMulJYpiq",
    "outputId": "5e2facbf-0e3b-4a72-d2fa-6b401edc2b36"
   },
   "outputs": [],
   "source": [
    "n_prophet_rmse - prophet_rmse"
   ]
  },
  {
   "cell_type": "code",
   "execution_count": null,
   "metadata": {
    "execution": {
     "iopub.execute_input": "2022-03-30T17:02:46.007784Z",
     "iopub.status.busy": "2022-03-30T17:02:46.006884Z",
     "iopub.status.idle": "2022-03-30T17:02:46.360987Z",
     "shell.execute_reply": "2022-03-30T17:02:46.359996Z",
     "shell.execute_reply.started": "2022-03-30T17:02:46.007742Z"
    }
   },
   "outputs": [],
   "source": [
    "plt.figure(figsize=(12,6))\n",
    "plt.xticks(rotation=45)\n",
    "plt.title(\"Models Comparison\")\n",
    "plt.plot(p_forecast['ds'], p_forecast['yhat'], marker='.', c='navy', label='Prophet')\n",
    "plt.plot(n_forecast['ds'], n_forecast['yhat1'], marker='.', c='red', label='NeuralProphet')\n",
    "plt.legend()\n",
    "plt.xlabel(\"Dates\")\n",
    "plt.ylabel(\"Water Level (cm)\")"
   ]
  },
  {
   "cell_type": "code",
   "execution_count": null,
   "metadata": {
    "execution": {
     "iopub.execute_input": "2022-03-30T17:02:46.363266Z",
     "iopub.status.busy": "2022-03-30T17:02:46.362756Z",
     "iopub.status.idle": "2022-03-30T17:02:46.375451Z",
     "shell.execute_reply": "2022-03-30T17:02:46.374593Z",
     "shell.execute_reply.started": "2022-03-30T17:02:46.363227Z"
    }
   },
   "outputs": [],
   "source": [
    "pd.DataFrame({'metrics':['MSE','RMSE'],\n",
    "              'Prophet ':[prophet_mse, prophet_rmse],\n",
    "              'Neural Prophet':[n_prophet_mse, n_prophet_rmse]\n",
    "             })"
   ]
  },
  {
   "cell_type": "markdown",
   "metadata": {
    "id": "Aq80C1pRYTvd"
   },
   "source": [
    "## Final Comments"
   ]
  },
  {
   "cell_type": "markdown",
   "metadata": {
    "id": "Z9gvnBfLYcbP"
   },
   "source": [
    "*   At least for this particular dataset and using the default arguments,  the **NeuralProphet** model scored a **MSE** of **264.679741** and **RMSE** of **16.268981** whereas the **Prophet** model scored a **MSE** of **269.443288** and **RMSE** of **16.414728**, a **4.763546237988635 and 0.14574680858210698 difference of MSE and RMSE respectively** compared against the first model."
   ]
  }
 ],
 "metadata": {
  "kernelspec": {
   "display_name": "Python 3.9",
   "language": "python",
   "name": "python3"
  },
  "language_info": {
   "codemirror_mode": {
    "name": "ipython",
    "version": 3
   },
   "file_extension": ".py",
   "mimetype": "text/x-python",
   "name": "python",
   "nbconvert_exporter": "python",
   "pygments_lexer": "ipython3",
   "version": "3.9.7"
  }
 },
 "nbformat": 4,
 "nbformat_minor": 4
}
