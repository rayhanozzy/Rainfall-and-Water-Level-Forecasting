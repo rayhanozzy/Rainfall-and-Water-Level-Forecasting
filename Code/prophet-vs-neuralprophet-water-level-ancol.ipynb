{
 "cells": [
  {
   "cell_type": "markdown",
   "metadata": {
    "id": "VMPDxYyw5d6h"
   },
   "source": [
    "# [Facebook Prophet](https://github.com/facebook/prophet) and [NeuralProphet](https://github.com/ourownstory/neural_prophet) Comparison\n",
    "By: Rayhan Ozzy Ertarto\n",
    "\n",
    "The goal of this notebook is to compare the *expected values* forecasted by these two models and compare them against the actuals in order to calculate the performance metrics and define which model performs better using this time series dataset (Water Level in Ancol Flushing Floodgate, Central Jakarta)"
   ]
  },
  {
   "cell_type": "markdown",
   "metadata": {
    "id": "00MQ79C35ueh"
   },
   "source": [
    "Importing basic libraries"
   ]
  },
  {
   "cell_type": "code",
   "execution_count": 1,
   "metadata": {
    "execution": {
     "iopub.execute_input": "2022-03-30T17:01:48.706045Z",
     "iopub.status.busy": "2022-03-30T17:01:48.705428Z",
     "iopub.status.idle": "2022-03-30T17:01:48.714523Z",
     "shell.execute_reply": "2022-03-30T17:01:48.71363Z",
     "shell.execute_reply.started": "2022-03-30T17:01:48.706004Z"
    },
    "id": "0Ricp40n5W3h"
   },
   "outputs": [],
   "source": [
    "import pandas as pd\n",
    "import numpy as np\n",
    "import matplotlib.pyplot as plt\n",
    "import seaborn as sns"
   ]
  },
  {
   "cell_type": "code",
   "execution_count": 2,
   "metadata": {
    "execution": {
     "iopub.execute_input": "2022-03-30T17:01:48.716696Z",
     "iopub.status.busy": "2022-03-30T17:01:48.715858Z",
     "iopub.status.idle": "2022-03-30T17:01:48.725676Z",
     "shell.execute_reply": "2022-03-30T17:01:48.724948Z",
     "shell.execute_reply.started": "2022-03-30T17:01:48.716645Z"
    },
    "id": "I85geYiv55Tc"
   },
   "outputs": [],
   "source": [
    "np.random.seed(1234)"
   ]
  },
  {
   "cell_type": "code",
   "execution_count": 3,
   "metadata": {
    "execution": {
     "iopub.execute_input": "2022-03-30T17:01:48.727633Z",
     "iopub.status.busy": "2022-03-30T17:01:48.726776Z",
     "iopub.status.idle": "2022-03-30T17:01:48.738611Z",
     "shell.execute_reply": "2022-03-30T17:01:48.737483Z",
     "shell.execute_reply.started": "2022-03-30T17:01:48.727577Z"
    },
    "id": "ngJzMaV17JSb"
   },
   "outputs": [],
   "source": [
    "plt.style.use('ggplot')"
   ]
  },
  {
   "cell_type": "markdown",
   "metadata": {
    "_kg_hide-input": true,
    "_kg_hide-output": true,
    "id": "Ixo5-LLZ6Dlq"
   },
   "source": [
    "Reading the time series"
   ]
  },
  {
   "cell_type": "code",
   "execution_count": 4,
   "metadata": {
    "execution": {
     "iopub.execute_input": "2022-03-30T17:01:48.740434Z",
     "iopub.status.busy": "2022-03-30T17:01:48.740122Z",
     "iopub.status.idle": "2022-03-30T17:01:51.087545Z",
     "shell.execute_reply": "2022-03-30T17:01:51.086659Z",
     "shell.execute_reply.started": "2022-03-30T17:01:48.740397Z"
    }
   },
   "outputs": [
    {
     "data": {
      "text/html": [
       "<div>\n",
       "<style scoped>\n",
       "    .dataframe tbody tr th:only-of-type {\n",
       "        vertical-align: middle;\n",
       "    }\n",
       "\n",
       "    .dataframe tbody tr th {\n",
       "        vertical-align: top;\n",
       "    }\n",
       "\n",
       "    .dataframe thead th {\n",
       "        text-align: right;\n",
       "    }\n",
       "</style>\n",
       "<table border=\"1\" class=\"dataframe\">\n",
       "  <thead>\n",
       "    <tr style=\"text-align: right;\">\n",
       "      <th></th>\n",
       "      <th>id</th>\n",
       "      <th>pintu_air_id</th>\n",
       "      <th>nama_pintu_air</th>\n",
       "      <th>ketinggian</th>\n",
       "      <th>status_siaga</th>\n",
       "      <th>cuaca</th>\n",
       "      <th>tanggal_laporan</th>\n",
       "      <th>jam_laporan</th>\n",
       "      <th>status_bukaan</th>\n",
       "      <th>tinggi_bukaan</th>\n",
       "      <th>keterangan</th>\n",
       "      <th>delete_at</th>\n",
       "      <th>created_at</th>\n",
       "      <th>updated_at</th>\n",
       "    </tr>\n",
       "  </thead>\n",
       "  <tbody>\n",
       "    <tr>\n",
       "      <th>0</th>\n",
       "      <td>1</td>\n",
       "      <td>4</td>\n",
       "      <td>Cideng Tarakan</td>\n",
       "      <td>0</td>\n",
       "      <td>4</td>\n",
       "      <td>Terang</td>\n",
       "      <td>11/17/2021</td>\n",
       "      <td>3:00:00</td>\n",
       "      <td>[\"T\",\"T\",\"T\"]</td>\n",
       "      <td>[\"1\",\"1\",\"1\"]</td>\n",
       "      <td>NaN</td>\n",
       "      <td>NaN</td>\n",
       "      <td>11/16/2021 20:37</td>\n",
       "      <td>11/16/2021 20:37</td>\n",
       "    </tr>\n",
       "    <tr>\n",
       "      <th>1</th>\n",
       "      <td>2</td>\n",
       "      <td>12</td>\n",
       "      <td>Pasar Ikan - Laut</td>\n",
       "      <td>190</td>\n",
       "      <td>3</td>\n",
       "      <td>Terang</td>\n",
       "      <td>11/17/2021</td>\n",
       "      <td>3:00:00</td>\n",
       "      <td>[\"T\",\"T\",\"T\",\"T\"]</td>\n",
       "      <td>[null,null,null,null]</td>\n",
       "      <td>NaN</td>\n",
       "      <td>NaN</td>\n",
       "      <td>11/16/2021 20:43</td>\n",
       "      <td>11/16/2021 20:43</td>\n",
       "    </tr>\n",
       "    <tr>\n",
       "      <th>2</th>\n",
       "      <td>3</td>\n",
       "      <td>4</td>\n",
       "      <td>Cideng Tarakan</td>\n",
       "      <td>0</td>\n",
       "      <td>4</td>\n",
       "      <td>Terang</td>\n",
       "      <td>11/17/2021</td>\n",
       "      <td>4:00:00</td>\n",
       "      <td>[\"T\",\"T\",\"T\"]</td>\n",
       "      <td>[\"1\",\"1\",\"1\"]</td>\n",
       "      <td>NaN</td>\n",
       "      <td>NaN</td>\n",
       "      <td>11/16/2021 20:43</td>\n",
       "      <td>11/16/2021 20:43</td>\n",
       "    </tr>\n",
       "    <tr>\n",
       "      <th>3</th>\n",
       "      <td>4</td>\n",
       "      <td>15</td>\n",
       "      <td>Istiqlal</td>\n",
       "      <td>160</td>\n",
       "      <td>4</td>\n",
       "      <td>Terang</td>\n",
       "      <td>11/17/2021</td>\n",
       "      <td>3:00:00</td>\n",
       "      <td>[\"F\",\"F\",\"F\"]</td>\n",
       "      <td>[\"400\",\"400\",\"400\"]</td>\n",
       "      <td>NaN</td>\n",
       "      <td>NaN</td>\n",
       "      <td>11/16/2021 20:44</td>\n",
       "      <td>11/16/2021 20:44</td>\n",
       "    </tr>\n",
       "    <tr>\n",
       "      <th>4</th>\n",
       "      <td>5</td>\n",
       "      <td>6</td>\n",
       "      <td>Manggarai BKB</td>\n",
       "      <td>580</td>\n",
       "      <td>4</td>\n",
       "      <td>Terang</td>\n",
       "      <td>11/17/2021</td>\n",
       "      <td>3:00:00</td>\n",
       "      <td>[\"F\",\"F\",\"F\"]</td>\n",
       "      <td>[\"800\",\"800\",\"800\"]</td>\n",
       "      <td>NaN</td>\n",
       "      <td>NaN</td>\n",
       "      <td>11/16/2021 20:45</td>\n",
       "      <td>11/16/2021 20:45</td>\n",
       "    </tr>\n",
       "    <tr>\n",
       "      <th>5</th>\n",
       "      <td>6</td>\n",
       "      <td>7</td>\n",
       "      <td>Manggarai KCL</td>\n",
       "      <td>550</td>\n",
       "      <td>4</td>\n",
       "      <td>Terang</td>\n",
       "      <td>11/17/2021</td>\n",
       "      <td>3:00:00</td>\n",
       "      <td>[\"B\"]</td>\n",
       "      <td>[\"100\"]</td>\n",
       "      <td>NaN</td>\n",
       "      <td>NaN</td>\n",
       "      <td>11/16/2021 20:46</td>\n",
       "      <td>11/16/2021 20:46</td>\n",
       "    </tr>\n",
       "    <tr>\n",
       "      <th>6</th>\n",
       "      <td>7</td>\n",
       "      <td>5</td>\n",
       "      <td>PA. Karet</td>\n",
       "      <td>250</td>\n",
       "      <td>4</td>\n",
       "      <td>Terang</td>\n",
       "      <td>11/17/2021</td>\n",
       "      <td>3:00:00</td>\n",
       "      <td>[\"F\",\"F\",\"F\",\"F\",\"F\"]</td>\n",
       "      <td>[\"700\",\"700\",\"700\",\"700\",\"700\"]</td>\n",
       "      <td>NaN</td>\n",
       "      <td>NaN</td>\n",
       "      <td>11/16/2021 20:49</td>\n",
       "      <td>11/16/2021 20:49</td>\n",
       "    </tr>\n",
       "    <tr>\n",
       "      <th>7</th>\n",
       "      <td>8</td>\n",
       "      <td>14</td>\n",
       "      <td>PA. Marina</td>\n",
       "      <td>187</td>\n",
       "      <td>3</td>\n",
       "      <td>Terang</td>\n",
       "      <td>11/17/2021</td>\n",
       "      <td>3:00:00</td>\n",
       "      <td>[\"F\",\"F\",\"T\",\"T\",\"T\"]</td>\n",
       "      <td>[\"300\",\"300\",null,null,null]</td>\n",
       "      <td>NaN</td>\n",
       "      <td>NaN</td>\n",
       "      <td>11/16/2021 20:49</td>\n",
       "      <td>11/16/2021 20:49</td>\n",
       "    </tr>\n",
       "    <tr>\n",
       "      <th>8</th>\n",
       "      <td>9</td>\n",
       "      <td>13</td>\n",
       "      <td>Ancol Flushing</td>\n",
       "      <td>188</td>\n",
       "      <td>3</td>\n",
       "      <td>Terang</td>\n",
       "      <td>11/17/2021</td>\n",
       "      <td>3:00:00</td>\n",
       "      <td>[\"T\",\"T\"]</td>\n",
       "      <td>[null,null]</td>\n",
       "      <td>NaN</td>\n",
       "      <td>NaN</td>\n",
       "      <td>11/16/2021 20:49</td>\n",
       "      <td>11/16/2021 20:49</td>\n",
       "    </tr>\n",
       "    <tr>\n",
       "      <th>9</th>\n",
       "      <td>10</td>\n",
       "      <td>16</td>\n",
       "      <td>Jembatan Merah arah Marina</td>\n",
       "      <td>130</td>\n",
       "      <td>4</td>\n",
       "      <td>Terang</td>\n",
       "      <td>11/17/2021</td>\n",
       "      <td>3:00:00</td>\n",
       "      <td>[\"F\",\"F\",\"F\",\"F\"]</td>\n",
       "      <td>[\"300\",\"300\",\"300\",\"300\"]</td>\n",
       "      <td>NaN</td>\n",
       "      <td>NaN</td>\n",
       "      <td>11/16/2021 20:52</td>\n",
       "      <td>11/16/2021 20:52</td>\n",
       "    </tr>\n",
       "  </tbody>\n",
       "</table>\n",
       "</div>"
      ],
      "text/plain": [
       "   id  pintu_air_id              nama_pintu_air ketinggian  status_siaga  \\\n",
       "0   1             4              Cideng Tarakan          0             4   \n",
       "1   2            12           Pasar Ikan - Laut        190             3   \n",
       "2   3             4              Cideng Tarakan          0             4   \n",
       "3   4            15                    Istiqlal        160             4   \n",
       "4   5             6               Manggarai BKB        580             4   \n",
       "5   6             7               Manggarai KCL        550             4   \n",
       "6   7             5                   PA. Karet        250             4   \n",
       "7   8            14                  PA. Marina        187             3   \n",
       "8   9            13              Ancol Flushing        188             3   \n",
       "9  10            16  Jembatan Merah arah Marina        130             4   \n",
       "\n",
       "    cuaca tanggal_laporan jam_laporan          status_bukaan  \\\n",
       "0  Terang      11/17/2021     3:00:00          [\"T\",\"T\",\"T\"]   \n",
       "1  Terang      11/17/2021     3:00:00      [\"T\",\"T\",\"T\",\"T\"]   \n",
       "2  Terang      11/17/2021     4:00:00          [\"T\",\"T\",\"T\"]   \n",
       "3  Terang      11/17/2021     3:00:00          [\"F\",\"F\",\"F\"]   \n",
       "4  Terang      11/17/2021     3:00:00          [\"F\",\"F\",\"F\"]   \n",
       "5  Terang      11/17/2021     3:00:00                  [\"B\"]   \n",
       "6  Terang      11/17/2021     3:00:00  [\"F\",\"F\",\"F\",\"F\",\"F\"]   \n",
       "7  Terang      11/17/2021     3:00:00  [\"F\",\"F\",\"T\",\"T\",\"T\"]   \n",
       "8  Terang      11/17/2021     3:00:00              [\"T\",\"T\"]   \n",
       "9  Terang      11/17/2021     3:00:00      [\"F\",\"F\",\"F\",\"F\"]   \n",
       "\n",
       "                     tinggi_bukaan keterangan  delete_at        created_at  \\\n",
       "0                    [\"1\",\"1\",\"1\"]        NaN        NaN  11/16/2021 20:37   \n",
       "1            [null,null,null,null]        NaN        NaN  11/16/2021 20:43   \n",
       "2                    [\"1\",\"1\",\"1\"]        NaN        NaN  11/16/2021 20:43   \n",
       "3              [\"400\",\"400\",\"400\"]        NaN        NaN  11/16/2021 20:44   \n",
       "4              [\"800\",\"800\",\"800\"]        NaN        NaN  11/16/2021 20:45   \n",
       "5                          [\"100\"]        NaN        NaN  11/16/2021 20:46   \n",
       "6  [\"700\",\"700\",\"700\",\"700\",\"700\"]        NaN        NaN  11/16/2021 20:49   \n",
       "7     [\"300\",\"300\",null,null,null]        NaN        NaN  11/16/2021 20:49   \n",
       "8                      [null,null]        NaN        NaN  11/16/2021 20:49   \n",
       "9        [\"300\",\"300\",\"300\",\"300\"]        NaN        NaN  11/16/2021 20:52   \n",
       "\n",
       "         updated_at  \n",
       "0  11/16/2021 20:37  \n",
       "1  11/16/2021 20:43  \n",
       "2  11/16/2021 20:43  \n",
       "3  11/16/2021 20:44  \n",
       "4  11/16/2021 20:45  \n",
       "5  11/16/2021 20:46  \n",
       "6  11/16/2021 20:49  \n",
       "7  11/16/2021 20:49  \n",
       "8  11/16/2021 20:49  \n",
       "9  11/16/2021 20:52  "
      ]
     },
     "execution_count": 4,
     "metadata": {},
     "output_type": "execute_result"
    }
   ],
   "source": [
    "gsheetkey = \"1d0g-fOczYG3WGt3CpmAQzTfT4S0q4MI5BCtHR2HvQoE\"\n",
    "\n",
    "url=f'https://docs.google.com/spreadsheet/ccc?key={gsheetkey}&output=csv'\n",
    "df_tma = pd.read_csv(url)\n",
    "df_tma.head(10)"
   ]
  },
  {
   "cell_type": "code",
   "execution_count": 5,
   "metadata": {
    "execution": {
     "iopub.execute_input": "2022-03-30T17:01:51.089797Z",
     "iopub.status.busy": "2022-03-30T17:01:51.089263Z",
     "iopub.status.idle": "2022-03-30T17:01:51.140017Z",
     "shell.execute_reply": "2022-03-30T17:01:51.138933Z",
     "shell.execute_reply.started": "2022-03-30T17:01:51.089748Z"
    }
   },
   "outputs": [
    {
     "name": "stdout",
     "output_type": "stream",
     "text": [
      "<class 'pandas.core.frame.DataFrame'>\n",
      "RangeIndex: 30556 entries, 0 to 30555\n",
      "Data columns (total 14 columns):\n",
      " #   Column           Non-Null Count  Dtype  \n",
      "---  ------           --------------  -----  \n",
      " 0   id               30556 non-null  object \n",
      " 1   pintu_air_id     30556 non-null  int64  \n",
      " 2   nama_pintu_air   30556 non-null  object \n",
      " 3   ketinggian       30556 non-null  object \n",
      " 4   status_siaga     30556 non-null  int64  \n",
      " 5   cuaca            30556 non-null  object \n",
      " 6   tanggal_laporan  30556 non-null  object \n",
      " 7   jam_laporan      30556 non-null  object \n",
      " 8   status_bukaan    30556 non-null  object \n",
      " 9   tinggi_bukaan    30556 non-null  object \n",
      " 10  keterangan       334 non-null    object \n",
      " 11  delete_at        0 non-null      float64\n",
      " 12  created_at       30556 non-null  object \n",
      " 13  updated_at       30556 non-null  object \n",
      "dtypes: float64(1), int64(2), object(11)\n",
      "memory usage: 3.3+ MB\n"
     ]
    }
   ],
   "source": [
    "df_tma.info()"
   ]
  },
  {
   "cell_type": "code",
   "execution_count": 6,
   "metadata": {
    "execution": {
     "iopub.execute_input": "2022-03-30T17:01:51.142124Z",
     "iopub.status.busy": "2022-03-30T17:01:51.141619Z",
     "iopub.status.idle": "2022-03-30T17:01:51.159217Z",
     "shell.execute_reply": "2022-03-30T17:01:51.158326Z",
     "shell.execute_reply.started": "2022-03-30T17:01:51.14207Z"
    }
   },
   "outputs": [
    {
     "data": {
      "text/html": [
       "<div>\n",
       "<style scoped>\n",
       "    .dataframe tbody tr th:only-of-type {\n",
       "        vertical-align: middle;\n",
       "    }\n",
       "\n",
       "    .dataframe tbody tr th {\n",
       "        vertical-align: top;\n",
       "    }\n",
       "\n",
       "    .dataframe thead th {\n",
       "        text-align: right;\n",
       "    }\n",
       "</style>\n",
       "<table border=\"1\" class=\"dataframe\">\n",
       "  <thead>\n",
       "    <tr style=\"text-align: right;\">\n",
       "      <th></th>\n",
       "      <th>pintu_air_id</th>\n",
       "      <th>nama_pintu_air</th>\n",
       "      <th>ketinggian</th>\n",
       "      <th>jam_laporan</th>\n",
       "      <th>updated_at</th>\n",
       "    </tr>\n",
       "  </thead>\n",
       "  <tbody>\n",
       "    <tr>\n",
       "      <th>0</th>\n",
       "      <td>4</td>\n",
       "      <td>Cideng Tarakan</td>\n",
       "      <td>0</td>\n",
       "      <td>3:00:00</td>\n",
       "      <td>11/16/2021 20:37</td>\n",
       "    </tr>\n",
       "    <tr>\n",
       "      <th>1</th>\n",
       "      <td>12</td>\n",
       "      <td>Pasar Ikan - Laut</td>\n",
       "      <td>190</td>\n",
       "      <td>3:00:00</td>\n",
       "      <td>11/16/2021 20:43</td>\n",
       "    </tr>\n",
       "    <tr>\n",
       "      <th>2</th>\n",
       "      <td>4</td>\n",
       "      <td>Cideng Tarakan</td>\n",
       "      <td>0</td>\n",
       "      <td>4:00:00</td>\n",
       "      <td>11/16/2021 20:43</td>\n",
       "    </tr>\n",
       "    <tr>\n",
       "      <th>3</th>\n",
       "      <td>15</td>\n",
       "      <td>Istiqlal</td>\n",
       "      <td>160</td>\n",
       "      <td>3:00:00</td>\n",
       "      <td>11/16/2021 20:44</td>\n",
       "    </tr>\n",
       "    <tr>\n",
       "      <th>4</th>\n",
       "      <td>6</td>\n",
       "      <td>Manggarai BKB</td>\n",
       "      <td>580</td>\n",
       "      <td>3:00:00</td>\n",
       "      <td>11/16/2021 20:45</td>\n",
       "    </tr>\n",
       "    <tr>\n",
       "      <th>5</th>\n",
       "      <td>7</td>\n",
       "      <td>Manggarai KCL</td>\n",
       "      <td>550</td>\n",
       "      <td>3:00:00</td>\n",
       "      <td>11/16/2021 20:46</td>\n",
       "    </tr>\n",
       "    <tr>\n",
       "      <th>6</th>\n",
       "      <td>5</td>\n",
       "      <td>PA. Karet</td>\n",
       "      <td>250</td>\n",
       "      <td>3:00:00</td>\n",
       "      <td>11/16/2021 20:49</td>\n",
       "    </tr>\n",
       "    <tr>\n",
       "      <th>7</th>\n",
       "      <td>14</td>\n",
       "      <td>PA. Marina</td>\n",
       "      <td>187</td>\n",
       "      <td>3:00:00</td>\n",
       "      <td>11/16/2021 20:49</td>\n",
       "    </tr>\n",
       "    <tr>\n",
       "      <th>8</th>\n",
       "      <td>13</td>\n",
       "      <td>Ancol Flushing</td>\n",
       "      <td>188</td>\n",
       "      <td>3:00:00</td>\n",
       "      <td>11/16/2021 20:49</td>\n",
       "    </tr>\n",
       "    <tr>\n",
       "      <th>9</th>\n",
       "      <td>16</td>\n",
       "      <td>Jembatan Merah arah Marina</td>\n",
       "      <td>130</td>\n",
       "      <td>3:00:00</td>\n",
       "      <td>11/16/2021 20:52</td>\n",
       "    </tr>\n",
       "  </tbody>\n",
       "</table>\n",
       "</div>"
      ],
      "text/plain": [
       "   pintu_air_id              nama_pintu_air ketinggian jam_laporan  \\\n",
       "0             4              Cideng Tarakan          0     3:00:00   \n",
       "1            12           Pasar Ikan - Laut        190     3:00:00   \n",
       "2             4              Cideng Tarakan          0     4:00:00   \n",
       "3            15                    Istiqlal        160     3:00:00   \n",
       "4             6               Manggarai BKB        580     3:00:00   \n",
       "5             7               Manggarai KCL        550     3:00:00   \n",
       "6             5                   PA. Karet        250     3:00:00   \n",
       "7            14                  PA. Marina        187     3:00:00   \n",
       "8            13              Ancol Flushing        188     3:00:00   \n",
       "9            16  Jembatan Merah arah Marina        130     3:00:00   \n",
       "\n",
       "         updated_at  \n",
       "0  11/16/2021 20:37  \n",
       "1  11/16/2021 20:43  \n",
       "2  11/16/2021 20:43  \n",
       "3  11/16/2021 20:44  \n",
       "4  11/16/2021 20:45  \n",
       "5  11/16/2021 20:46  \n",
       "6  11/16/2021 20:49  \n",
       "7  11/16/2021 20:49  \n",
       "8  11/16/2021 20:49  \n",
       "9  11/16/2021 20:52  "
      ]
     },
     "execution_count": 6,
     "metadata": {},
     "output_type": "execute_result"
    }
   ],
   "source": [
    "df_tma = df_tma[['pintu_air_id','nama_pintu_air','ketinggian','jam_laporan','updated_at']]\n",
    "df_tma.head(10)"
   ]
  },
  {
   "cell_type": "code",
   "execution_count": 7,
   "metadata": {
    "execution": {
     "iopub.execute_input": "2022-03-30T17:01:51.161577Z",
     "iopub.status.busy": "2022-03-30T17:01:51.160822Z",
     "iopub.status.idle": "2022-03-30T17:01:54.185596Z",
     "shell.execute_reply": "2022-03-30T17:01:54.184619Z",
     "shell.execute_reply.started": "2022-03-30T17:01:51.161519Z"
    }
   },
   "outputs": [
    {
     "data": {
      "text/html": [
       "<div>\n",
       "<style scoped>\n",
       "    .dataframe tbody tr th:only-of-type {\n",
       "        vertical-align: middle;\n",
       "    }\n",
       "\n",
       "    .dataframe tbody tr th {\n",
       "        vertical-align: top;\n",
       "    }\n",
       "\n",
       "    .dataframe thead th {\n",
       "        text-align: right;\n",
       "    }\n",
       "</style>\n",
       "<table border=\"1\" class=\"dataframe\">\n",
       "  <thead>\n",
       "    <tr style=\"text-align: right;\">\n",
       "      <th></th>\n",
       "      <th>pintu_air_id</th>\n",
       "      <th>nama_pintu_air</th>\n",
       "      <th>ketinggian</th>\n",
       "      <th>jam_laporan</th>\n",
       "      <th>updated_at</th>\n",
       "    </tr>\n",
       "  </thead>\n",
       "  <tbody>\n",
       "    <tr>\n",
       "      <th>0</th>\n",
       "      <td>4</td>\n",
       "      <td>Cideng Tarakan</td>\n",
       "      <td>0</td>\n",
       "      <td>3:00:00</td>\n",
       "      <td>2021-11-16</td>\n",
       "    </tr>\n",
       "    <tr>\n",
       "      <th>1</th>\n",
       "      <td>12</td>\n",
       "      <td>Pasar Ikan - Laut</td>\n",
       "      <td>190</td>\n",
       "      <td>3:00:00</td>\n",
       "      <td>2021-11-16</td>\n",
       "    </tr>\n",
       "    <tr>\n",
       "      <th>2</th>\n",
       "      <td>4</td>\n",
       "      <td>Cideng Tarakan</td>\n",
       "      <td>0</td>\n",
       "      <td>4:00:00</td>\n",
       "      <td>2021-11-16</td>\n",
       "    </tr>\n",
       "    <tr>\n",
       "      <th>3</th>\n",
       "      <td>15</td>\n",
       "      <td>Istiqlal</td>\n",
       "      <td>160</td>\n",
       "      <td>3:00:00</td>\n",
       "      <td>2021-11-16</td>\n",
       "    </tr>\n",
       "    <tr>\n",
       "      <th>4</th>\n",
       "      <td>6</td>\n",
       "      <td>Manggarai BKB</td>\n",
       "      <td>580</td>\n",
       "      <td>3:00:00</td>\n",
       "      <td>2021-11-16</td>\n",
       "    </tr>\n",
       "    <tr>\n",
       "      <th>5</th>\n",
       "      <td>7</td>\n",
       "      <td>Manggarai KCL</td>\n",
       "      <td>550</td>\n",
       "      <td>3:00:00</td>\n",
       "      <td>2021-11-16</td>\n",
       "    </tr>\n",
       "    <tr>\n",
       "      <th>6</th>\n",
       "      <td>5</td>\n",
       "      <td>PA. Karet</td>\n",
       "      <td>250</td>\n",
       "      <td>3:00:00</td>\n",
       "      <td>2021-11-16</td>\n",
       "    </tr>\n",
       "    <tr>\n",
       "      <th>7</th>\n",
       "      <td>14</td>\n",
       "      <td>PA. Marina</td>\n",
       "      <td>187</td>\n",
       "      <td>3:00:00</td>\n",
       "      <td>2021-11-16</td>\n",
       "    </tr>\n",
       "    <tr>\n",
       "      <th>8</th>\n",
       "      <td>13</td>\n",
       "      <td>Ancol Flushing</td>\n",
       "      <td>188</td>\n",
       "      <td>3:00:00</td>\n",
       "      <td>2021-11-16</td>\n",
       "    </tr>\n",
       "    <tr>\n",
       "      <th>9</th>\n",
       "      <td>16</td>\n",
       "      <td>Jembatan Merah arah Marina</td>\n",
       "      <td>130</td>\n",
       "      <td>3:00:00</td>\n",
       "      <td>2021-11-16</td>\n",
       "    </tr>\n",
       "  </tbody>\n",
       "</table>\n",
       "</div>"
      ],
      "text/plain": [
       "   pintu_air_id              nama_pintu_air ketinggian jam_laporan  updated_at\n",
       "0             4              Cideng Tarakan          0     3:00:00  2021-11-16\n",
       "1            12           Pasar Ikan - Laut        190     3:00:00  2021-11-16\n",
       "2             4              Cideng Tarakan          0     4:00:00  2021-11-16\n",
       "3            15                    Istiqlal        160     3:00:00  2021-11-16\n",
       "4             6               Manggarai BKB        580     3:00:00  2021-11-16\n",
       "5             7               Manggarai KCL        550     3:00:00  2021-11-16\n",
       "6             5                   PA. Karet        250     3:00:00  2021-11-16\n",
       "7            14                  PA. Marina        187     3:00:00  2021-11-16\n",
       "8            13              Ancol Flushing        188     3:00:00  2021-11-16\n",
       "9            16  Jembatan Merah arah Marina        130     3:00:00  2021-11-16"
      ]
     },
     "execution_count": 7,
     "metadata": {},
     "output_type": "execute_result"
    }
   ],
   "source": [
    "df_tma['updated_at'] = pd.to_datetime(df_tma['updated_at']).dt.date\n",
    "df_tma.head(10)"
   ]
  },
  {
   "cell_type": "code",
   "execution_count": 8,
   "metadata": {
    "execution": {
     "iopub.execute_input": "2022-03-30T17:01:54.187479Z",
     "iopub.status.busy": "2022-03-30T17:01:54.187224Z",
     "iopub.status.idle": "2022-03-30T17:01:54.203215Z",
     "shell.execute_reply": "2022-03-30T17:01:54.202227Z",
     "shell.execute_reply.started": "2022-03-30T17:01:54.187448Z"
    }
   },
   "outputs": [
    {
     "data": {
      "text/html": [
       "<div>\n",
       "<style scoped>\n",
       "    .dataframe tbody tr th:only-of-type {\n",
       "        vertical-align: middle;\n",
       "    }\n",
       "\n",
       "    .dataframe tbody tr th {\n",
       "        vertical-align: top;\n",
       "    }\n",
       "\n",
       "    .dataframe thead th {\n",
       "        text-align: right;\n",
       "    }\n",
       "</style>\n",
       "<table border=\"1\" class=\"dataframe\">\n",
       "  <thead>\n",
       "    <tr style=\"text-align: right;\">\n",
       "      <th></th>\n",
       "      <th>pintu_air_id</th>\n",
       "      <th>nama_pintu_air</th>\n",
       "      <th>ketinggian</th>\n",
       "      <th>jam_laporan</th>\n",
       "      <th>tanggal</th>\n",
       "    </tr>\n",
       "  </thead>\n",
       "  <tbody>\n",
       "    <tr>\n",
       "      <th>0</th>\n",
       "      <td>4</td>\n",
       "      <td>Cideng Tarakan</td>\n",
       "      <td>0</td>\n",
       "      <td>3:00:00</td>\n",
       "      <td>2021-11-16</td>\n",
       "    </tr>\n",
       "    <tr>\n",
       "      <th>1</th>\n",
       "      <td>12</td>\n",
       "      <td>Pasar Ikan - Laut</td>\n",
       "      <td>190</td>\n",
       "      <td>3:00:00</td>\n",
       "      <td>2021-11-16</td>\n",
       "    </tr>\n",
       "    <tr>\n",
       "      <th>2</th>\n",
       "      <td>4</td>\n",
       "      <td>Cideng Tarakan</td>\n",
       "      <td>0</td>\n",
       "      <td>4:00:00</td>\n",
       "      <td>2021-11-16</td>\n",
       "    </tr>\n",
       "    <tr>\n",
       "      <th>3</th>\n",
       "      <td>15</td>\n",
       "      <td>Istiqlal</td>\n",
       "      <td>160</td>\n",
       "      <td>3:00:00</td>\n",
       "      <td>2021-11-16</td>\n",
       "    </tr>\n",
       "    <tr>\n",
       "      <th>4</th>\n",
       "      <td>6</td>\n",
       "      <td>Manggarai BKB</td>\n",
       "      <td>580</td>\n",
       "      <td>3:00:00</td>\n",
       "      <td>2021-11-16</td>\n",
       "    </tr>\n",
       "    <tr>\n",
       "      <th>5</th>\n",
       "      <td>7</td>\n",
       "      <td>Manggarai KCL</td>\n",
       "      <td>550</td>\n",
       "      <td>3:00:00</td>\n",
       "      <td>2021-11-16</td>\n",
       "    </tr>\n",
       "    <tr>\n",
       "      <th>6</th>\n",
       "      <td>5</td>\n",
       "      <td>PA. Karet</td>\n",
       "      <td>250</td>\n",
       "      <td>3:00:00</td>\n",
       "      <td>2021-11-16</td>\n",
       "    </tr>\n",
       "    <tr>\n",
       "      <th>7</th>\n",
       "      <td>14</td>\n",
       "      <td>PA. Marina</td>\n",
       "      <td>187</td>\n",
       "      <td>3:00:00</td>\n",
       "      <td>2021-11-16</td>\n",
       "    </tr>\n",
       "    <tr>\n",
       "      <th>8</th>\n",
       "      <td>13</td>\n",
       "      <td>Ancol Flushing</td>\n",
       "      <td>188</td>\n",
       "      <td>3:00:00</td>\n",
       "      <td>2021-11-16</td>\n",
       "    </tr>\n",
       "    <tr>\n",
       "      <th>9</th>\n",
       "      <td>16</td>\n",
       "      <td>Jembatan Merah arah Marina</td>\n",
       "      <td>130</td>\n",
       "      <td>3:00:00</td>\n",
       "      <td>2021-11-16</td>\n",
       "    </tr>\n",
       "  </tbody>\n",
       "</table>\n",
       "</div>"
      ],
      "text/plain": [
       "   pintu_air_id              nama_pintu_air ketinggian jam_laporan     tanggal\n",
       "0             4              Cideng Tarakan          0     3:00:00  2021-11-16\n",
       "1            12           Pasar Ikan - Laut        190     3:00:00  2021-11-16\n",
       "2             4              Cideng Tarakan          0     4:00:00  2021-11-16\n",
       "3            15                    Istiqlal        160     3:00:00  2021-11-16\n",
       "4             6               Manggarai BKB        580     3:00:00  2021-11-16\n",
       "5             7               Manggarai KCL        550     3:00:00  2021-11-16\n",
       "6             5                   PA. Karet        250     3:00:00  2021-11-16\n",
       "7            14                  PA. Marina        187     3:00:00  2021-11-16\n",
       "8            13              Ancol Flushing        188     3:00:00  2021-11-16\n",
       "9            16  Jembatan Merah arah Marina        130     3:00:00  2021-11-16"
      ]
     },
     "execution_count": 8,
     "metadata": {},
     "output_type": "execute_result"
    }
   ],
   "source": [
    "df_tma = df_tma.rename(columns={'updated_at': 'tanggal'})\n",
    "df_tma.head(10)"
   ]
  },
  {
   "cell_type": "code",
   "execution_count": 9,
   "metadata": {
    "execution": {
     "iopub.execute_input": "2022-03-30T17:01:54.205662Z",
     "iopub.status.busy": "2022-03-30T17:01:54.205302Z",
     "iopub.status.idle": "2022-03-30T17:01:54.463321Z",
     "shell.execute_reply": "2022-03-30T17:01:54.462226Z",
     "shell.execute_reply.started": "2022-03-30T17:01:54.205613Z"
    }
   },
   "outputs": [
    {
     "data": {
      "text/html": [
       "<div>\n",
       "<style scoped>\n",
       "    .dataframe tbody tr th:only-of-type {\n",
       "        vertical-align: middle;\n",
       "    }\n",
       "\n",
       "    .dataframe tbody tr th {\n",
       "        vertical-align: top;\n",
       "    }\n",
       "\n",
       "    .dataframe thead th {\n",
       "        text-align: right;\n",
       "    }\n",
       "</style>\n",
       "<table border=\"1\" class=\"dataframe\">\n",
       "  <thead>\n",
       "    <tr style=\"text-align: right;\">\n",
       "      <th></th>\n",
       "      <th>pintu_air_id</th>\n",
       "      <th>nama_pintu_air</th>\n",
       "      <th>ketinggian</th>\n",
       "      <th>jam_laporan</th>\n",
       "      <th>tanggal</th>\n",
       "    </tr>\n",
       "  </thead>\n",
       "  <tbody>\n",
       "    <tr>\n",
       "      <th>0</th>\n",
       "      <td>4</td>\n",
       "      <td>Cideng Tarakan</td>\n",
       "      <td>0</td>\n",
       "      <td>03:00</td>\n",
       "      <td>2021-11-16</td>\n",
       "    </tr>\n",
       "    <tr>\n",
       "      <th>1</th>\n",
       "      <td>12</td>\n",
       "      <td>Pasar Ikan - Laut</td>\n",
       "      <td>190</td>\n",
       "      <td>03:00</td>\n",
       "      <td>2021-11-16</td>\n",
       "    </tr>\n",
       "    <tr>\n",
       "      <th>2</th>\n",
       "      <td>4</td>\n",
       "      <td>Cideng Tarakan</td>\n",
       "      <td>0</td>\n",
       "      <td>04:00</td>\n",
       "      <td>2021-11-16</td>\n",
       "    </tr>\n",
       "    <tr>\n",
       "      <th>3</th>\n",
       "      <td>15</td>\n",
       "      <td>Istiqlal</td>\n",
       "      <td>160</td>\n",
       "      <td>03:00</td>\n",
       "      <td>2021-11-16</td>\n",
       "    </tr>\n",
       "    <tr>\n",
       "      <th>4</th>\n",
       "      <td>6</td>\n",
       "      <td>Manggarai BKB</td>\n",
       "      <td>580</td>\n",
       "      <td>03:00</td>\n",
       "      <td>2021-11-16</td>\n",
       "    </tr>\n",
       "    <tr>\n",
       "      <th>5</th>\n",
       "      <td>7</td>\n",
       "      <td>Manggarai KCL</td>\n",
       "      <td>550</td>\n",
       "      <td>03:00</td>\n",
       "      <td>2021-11-16</td>\n",
       "    </tr>\n",
       "    <tr>\n",
       "      <th>6</th>\n",
       "      <td>5</td>\n",
       "      <td>PA. Karet</td>\n",
       "      <td>250</td>\n",
       "      <td>03:00</td>\n",
       "      <td>2021-11-16</td>\n",
       "    </tr>\n",
       "    <tr>\n",
       "      <th>7</th>\n",
       "      <td>14</td>\n",
       "      <td>PA. Marina</td>\n",
       "      <td>187</td>\n",
       "      <td>03:00</td>\n",
       "      <td>2021-11-16</td>\n",
       "    </tr>\n",
       "    <tr>\n",
       "      <th>8</th>\n",
       "      <td>13</td>\n",
       "      <td>Ancol Flushing</td>\n",
       "      <td>188</td>\n",
       "      <td>03:00</td>\n",
       "      <td>2021-11-16</td>\n",
       "    </tr>\n",
       "    <tr>\n",
       "      <th>9</th>\n",
       "      <td>16</td>\n",
       "      <td>Jembatan Merah arah Marina</td>\n",
       "      <td>130</td>\n",
       "      <td>03:00</td>\n",
       "      <td>2021-11-16</td>\n",
       "    </tr>\n",
       "  </tbody>\n",
       "</table>\n",
       "</div>"
      ],
      "text/plain": [
       "   pintu_air_id              nama_pintu_air ketinggian jam_laporan     tanggal\n",
       "0             4              Cideng Tarakan          0       03:00  2021-11-16\n",
       "1            12           Pasar Ikan - Laut        190       03:00  2021-11-16\n",
       "2             4              Cideng Tarakan          0       04:00  2021-11-16\n",
       "3            15                    Istiqlal        160       03:00  2021-11-16\n",
       "4             6               Manggarai BKB        580       03:00  2021-11-16\n",
       "5             7               Manggarai KCL        550       03:00  2021-11-16\n",
       "6             5                   PA. Karet        250       03:00  2021-11-16\n",
       "7            14                  PA. Marina        187       03:00  2021-11-16\n",
       "8            13              Ancol Flushing        188       03:00  2021-11-16\n",
       "9            16  Jembatan Merah arah Marina        130       03:00  2021-11-16"
      ]
     },
     "execution_count": 9,
     "metadata": {},
     "output_type": "execute_result"
    }
   ],
   "source": [
    "df_tma['jam_laporan'] = pd.to_datetime(df_tma.jam_laporan).dt.strftime('%H:%M')\n",
    "df_tma.head(10)"
   ]
  },
  {
   "cell_type": "code",
   "execution_count": 10,
   "metadata": {
    "execution": {
     "iopub.execute_input": "2022-03-30T17:01:54.46536Z",
     "iopub.status.busy": "2022-03-30T17:01:54.464752Z",
     "iopub.status.idle": "2022-03-30T17:01:54.485916Z",
     "shell.execute_reply": "2022-03-30T17:01:54.48521Z",
     "shell.execute_reply.started": "2022-03-30T17:01:54.465301Z"
    }
   },
   "outputs": [
    {
     "data": {
      "text/html": [
       "<div>\n",
       "<style scoped>\n",
       "    .dataframe tbody tr th:only-of-type {\n",
       "        vertical-align: middle;\n",
       "    }\n",
       "\n",
       "    .dataframe tbody tr th {\n",
       "        vertical-align: top;\n",
       "    }\n",
       "\n",
       "    .dataframe thead th {\n",
       "        text-align: right;\n",
       "    }\n",
       "</style>\n",
       "<table border=\"1\" class=\"dataframe\">\n",
       "  <thead>\n",
       "    <tr style=\"text-align: right;\">\n",
       "      <th></th>\n",
       "      <th>pintu_air_id</th>\n",
       "      <th>nama_pintu_air</th>\n",
       "      <th>ketinggian</th>\n",
       "      <th>jam_laporan</th>\n",
       "      <th>tanggal</th>\n",
       "    </tr>\n",
       "  </thead>\n",
       "  <tbody>\n",
       "    <tr>\n",
       "      <th>1</th>\n",
       "      <td>12</td>\n",
       "      <td>Pasar Ikan - Laut</td>\n",
       "      <td>190</td>\n",
       "      <td>03:00</td>\n",
       "      <td>2021-11-16</td>\n",
       "    </tr>\n",
       "    <tr>\n",
       "      <th>8</th>\n",
       "      <td>13</td>\n",
       "      <td>Ancol Flushing</td>\n",
       "      <td>188</td>\n",
       "      <td>03:00</td>\n",
       "      <td>2021-11-16</td>\n",
       "    </tr>\n",
       "    <tr>\n",
       "      <th>11</th>\n",
       "      <td>17</td>\n",
       "      <td>Tangki</td>\n",
       "      <td>180</td>\n",
       "      <td>03:00</td>\n",
       "      <td>2021-11-16</td>\n",
       "    </tr>\n",
       "    <tr>\n",
       "      <th>19</th>\n",
       "      <td>12</td>\n",
       "      <td>Pasar Ikan - Laut</td>\n",
       "      <td>195</td>\n",
       "      <td>04:00</td>\n",
       "      <td>2021-11-16</td>\n",
       "    </tr>\n",
       "    <tr>\n",
       "      <th>20</th>\n",
       "      <td>17</td>\n",
       "      <td>Tangki</td>\n",
       "      <td>150</td>\n",
       "      <td>04:00</td>\n",
       "      <td>2021-11-16</td>\n",
       "    </tr>\n",
       "    <tr>\n",
       "      <th>23</th>\n",
       "      <td>13</td>\n",
       "      <td>Ancol Flushing</td>\n",
       "      <td>194</td>\n",
       "      <td>04:00</td>\n",
       "      <td>2021-11-16</td>\n",
       "    </tr>\n",
       "    <tr>\n",
       "      <th>35</th>\n",
       "      <td>12</td>\n",
       "      <td>Pasar Ikan - Laut</td>\n",
       "      <td>205</td>\n",
       "      <td>05:00</td>\n",
       "      <td>2021-11-16</td>\n",
       "    </tr>\n",
       "    <tr>\n",
       "      <th>38</th>\n",
       "      <td>17</td>\n",
       "      <td>Tangki</td>\n",
       "      <td>150</td>\n",
       "      <td>05:00</td>\n",
       "      <td>2021-11-16</td>\n",
       "    </tr>\n",
       "    <tr>\n",
       "      <th>39</th>\n",
       "      <td>13</td>\n",
       "      <td>Ancol Flushing</td>\n",
       "      <td>200</td>\n",
       "      <td>05:00</td>\n",
       "      <td>2021-11-16</td>\n",
       "    </tr>\n",
       "    <tr>\n",
       "      <th>45</th>\n",
       "      <td>12</td>\n",
       "      <td>Pasar Ikan - Laut</td>\n",
       "      <td>218</td>\n",
       "      <td>06:00</td>\n",
       "      <td>2021-11-16</td>\n",
       "    </tr>\n",
       "    <tr>\n",
       "      <th>46</th>\n",
       "      <td>12</td>\n",
       "      <td>Pasar Ikan - Laut</td>\n",
       "      <td>218</td>\n",
       "      <td>06:00</td>\n",
       "      <td>2021-11-16</td>\n",
       "    </tr>\n",
       "    <tr>\n",
       "      <th>47</th>\n",
       "      <td>13</td>\n",
       "      <td>Ancol Flushing</td>\n",
       "      <td>212</td>\n",
       "      <td>07:00</td>\n",
       "      <td>2021-11-16</td>\n",
       "    </tr>\n",
       "    <tr>\n",
       "      <th>48</th>\n",
       "      <td>13</td>\n",
       "      <td>Ancol Flushing</td>\n",
       "      <td>212</td>\n",
       "      <td>07:00</td>\n",
       "      <td>2021-11-16</td>\n",
       "    </tr>\n",
       "    <tr>\n",
       "      <th>53</th>\n",
       "      <td>17</td>\n",
       "      <td>Tangki</td>\n",
       "      <td>150</td>\n",
       "      <td>06:00</td>\n",
       "      <td>2021-11-16</td>\n",
       "    </tr>\n",
       "    <tr>\n",
       "      <th>54</th>\n",
       "      <td>17</td>\n",
       "      <td>Tangki</td>\n",
       "      <td>150</td>\n",
       "      <td>06:00</td>\n",
       "      <td>2021-11-16</td>\n",
       "    </tr>\n",
       "    <tr>\n",
       "      <th>62</th>\n",
       "      <td>12</td>\n",
       "      <td>Pasar Ikan - Laut</td>\n",
       "      <td>228</td>\n",
       "      <td>07:00</td>\n",
       "      <td>2021-11-16</td>\n",
       "    </tr>\n",
       "    <tr>\n",
       "      <th>63</th>\n",
       "      <td>12</td>\n",
       "      <td>Pasar Ikan - Laut</td>\n",
       "      <td>228</td>\n",
       "      <td>07:00</td>\n",
       "      <td>2021-11-16</td>\n",
       "    </tr>\n",
       "    <tr>\n",
       "      <th>75</th>\n",
       "      <td>17</td>\n",
       "      <td>Tangki</td>\n",
       "      <td>150</td>\n",
       "      <td>07:00</td>\n",
       "      <td>2021-11-16</td>\n",
       "    </tr>\n",
       "    <tr>\n",
       "      <th>76</th>\n",
       "      <td>17</td>\n",
       "      <td>Tangki</td>\n",
       "      <td>150</td>\n",
       "      <td>07:00</td>\n",
       "      <td>2021-11-16</td>\n",
       "    </tr>\n",
       "    <tr>\n",
       "      <th>77</th>\n",
       "      <td>17</td>\n",
       "      <td>Tangki</td>\n",
       "      <td>150</td>\n",
       "      <td>07:00</td>\n",
       "      <td>2021-11-16</td>\n",
       "    </tr>\n",
       "  </tbody>\n",
       "</table>\n",
       "</div>"
      ],
      "text/plain": [
       "    pintu_air_id     nama_pintu_air ketinggian jam_laporan     tanggal\n",
       "1             12  Pasar Ikan - Laut        190       03:00  2021-11-16\n",
       "8             13     Ancol Flushing        188       03:00  2021-11-16\n",
       "11            17             Tangki        180       03:00  2021-11-16\n",
       "19            12  Pasar Ikan - Laut        195       04:00  2021-11-16\n",
       "20            17             Tangki        150       04:00  2021-11-16\n",
       "23            13     Ancol Flushing        194       04:00  2021-11-16\n",
       "35            12  Pasar Ikan - Laut        205       05:00  2021-11-16\n",
       "38            17             Tangki        150       05:00  2021-11-16\n",
       "39            13     Ancol Flushing        200       05:00  2021-11-16\n",
       "45            12  Pasar Ikan - Laut        218       06:00  2021-11-16\n",
       "46            12  Pasar Ikan - Laut        218       06:00  2021-11-16\n",
       "47            13     Ancol Flushing        212       07:00  2021-11-16\n",
       "48            13     Ancol Flushing        212       07:00  2021-11-16\n",
       "53            17             Tangki        150       06:00  2021-11-16\n",
       "54            17             Tangki        150       06:00  2021-11-16\n",
       "62            12  Pasar Ikan - Laut        228       07:00  2021-11-16\n",
       "63            12  Pasar Ikan - Laut        228       07:00  2021-11-16\n",
       "75            17             Tangki        150       07:00  2021-11-16\n",
       "76            17             Tangki        150       07:00  2021-11-16\n",
       "77            17             Tangki        150       07:00  2021-11-16"
      ]
     },
     "execution_count": 10,
     "metadata": {},
     "output_type": "execute_result"
    }
   ],
   "source": [
    "df_tma_jakut = df_tma.loc[(df_tma['pintu_air_id'] == 12) | (df_tma['pintu_air_id'] == 13) |\n",
    "                           (df_tma['pintu_air_id'] == 17)]\n",
    "df_tma_jakut.head(20)"
   ]
  },
  {
   "cell_type": "code",
   "execution_count": 11,
   "metadata": {
    "execution": {
     "iopub.execute_input": "2022-03-30T17:01:54.48793Z",
     "iopub.status.busy": "2022-03-30T17:01:54.486992Z",
     "iopub.status.idle": "2022-03-30T17:01:54.50512Z",
     "shell.execute_reply": "2022-03-30T17:01:54.504032Z",
     "shell.execute_reply.started": "2022-03-30T17:01:54.487878Z"
    }
   },
   "outputs": [
    {
     "data": {
      "text/html": [
       "<div>\n",
       "<style scoped>\n",
       "    .dataframe tbody tr th:only-of-type {\n",
       "        vertical-align: middle;\n",
       "    }\n",
       "\n",
       "    .dataframe tbody tr th {\n",
       "        vertical-align: top;\n",
       "    }\n",
       "\n",
       "    .dataframe thead th {\n",
       "        text-align: right;\n",
       "    }\n",
       "</style>\n",
       "<table border=\"1\" class=\"dataframe\">\n",
       "  <thead>\n",
       "    <tr style=\"text-align: right;\">\n",
       "      <th></th>\n",
       "      <th>pintu_air_id</th>\n",
       "      <th>nama_pintu_air</th>\n",
       "      <th>ketinggian</th>\n",
       "      <th>jam_laporan</th>\n",
       "      <th>tanggal</th>\n",
       "    </tr>\n",
       "  </thead>\n",
       "  <tbody>\n",
       "    <tr>\n",
       "      <th>8</th>\n",
       "      <td>13</td>\n",
       "      <td>Ancol Flushing</td>\n",
       "      <td>188</td>\n",
       "      <td>03:00</td>\n",
       "      <td>2021-11-16</td>\n",
       "    </tr>\n",
       "    <tr>\n",
       "      <th>23</th>\n",
       "      <td>13</td>\n",
       "      <td>Ancol Flushing</td>\n",
       "      <td>194</td>\n",
       "      <td>04:00</td>\n",
       "      <td>2021-11-16</td>\n",
       "    </tr>\n",
       "    <tr>\n",
       "      <th>39</th>\n",
       "      <td>13</td>\n",
       "      <td>Ancol Flushing</td>\n",
       "      <td>200</td>\n",
       "      <td>05:00</td>\n",
       "      <td>2021-11-16</td>\n",
       "    </tr>\n",
       "    <tr>\n",
       "      <th>47</th>\n",
       "      <td>13</td>\n",
       "      <td>Ancol Flushing</td>\n",
       "      <td>212</td>\n",
       "      <td>07:00</td>\n",
       "      <td>2021-11-16</td>\n",
       "    </tr>\n",
       "    <tr>\n",
       "      <th>48</th>\n",
       "      <td>13</td>\n",
       "      <td>Ancol Flushing</td>\n",
       "      <td>212</td>\n",
       "      <td>07:00</td>\n",
       "      <td>2021-11-16</td>\n",
       "    </tr>\n",
       "    <tr>\n",
       "      <th>89</th>\n",
       "      <td>13</td>\n",
       "      <td>Ancol Flushing</td>\n",
       "      <td>211</td>\n",
       "      <td>08:00</td>\n",
       "      <td>2021-11-17</td>\n",
       "    </tr>\n",
       "    <tr>\n",
       "      <th>110</th>\n",
       "      <td>13</td>\n",
       "      <td>Ancol Flushing</td>\n",
       "      <td>213</td>\n",
       "      <td>09:00</td>\n",
       "      <td>2021-11-17</td>\n",
       "    </tr>\n",
       "    <tr>\n",
       "      <th>119</th>\n",
       "      <td>13</td>\n",
       "      <td>Ancol Flushing</td>\n",
       "      <td>214</td>\n",
       "      <td>10:00</td>\n",
       "      <td>2021-11-17</td>\n",
       "    </tr>\n",
       "    <tr>\n",
       "      <th>148</th>\n",
       "      <td>13</td>\n",
       "      <td>Ancol Flushing</td>\n",
       "      <td>201</td>\n",
       "      <td>12:00</td>\n",
       "      <td>2021-11-17</td>\n",
       "    </tr>\n",
       "    <tr>\n",
       "      <th>149</th>\n",
       "      <td>13</td>\n",
       "      <td>Ancol Flushing</td>\n",
       "      <td>197</td>\n",
       "      <td>13:00</td>\n",
       "      <td>2021-11-17</td>\n",
       "    </tr>\n",
       "  </tbody>\n",
       "</table>\n",
       "</div>"
      ],
      "text/plain": [
       "     pintu_air_id  nama_pintu_air ketinggian jam_laporan     tanggal\n",
       "8              13  Ancol Flushing        188       03:00  2021-11-16\n",
       "23             13  Ancol Flushing        194       04:00  2021-11-16\n",
       "39             13  Ancol Flushing        200       05:00  2021-11-16\n",
       "47             13  Ancol Flushing        212       07:00  2021-11-16\n",
       "48             13  Ancol Flushing        212       07:00  2021-11-16\n",
       "89             13  Ancol Flushing        211       08:00  2021-11-17\n",
       "110            13  Ancol Flushing        213       09:00  2021-11-17\n",
       "119            13  Ancol Flushing        214       10:00  2021-11-17\n",
       "148            13  Ancol Flushing        201       12:00  2021-11-17\n",
       "149            13  Ancol Flushing        197       13:00  2021-11-17"
      ]
     },
     "execution_count": 11,
     "metadata": {},
     "output_type": "execute_result"
    }
   ],
   "source": [
    "df_tma_anc = df_tma_jakut.loc[(df_tma['pintu_air_id'] == 13)]\n",
    "df_tma_anc.head(10)"
   ]
  },
  {
   "cell_type": "code",
   "execution_count": 12,
   "metadata": {
    "execution": {
     "iopub.execute_input": "2022-03-30T17:01:54.507218Z",
     "iopub.status.busy": "2022-03-30T17:01:54.506753Z",
     "iopub.status.idle": "2022-03-30T17:01:54.518052Z",
     "shell.execute_reply": "2022-03-30T17:01:54.517025Z",
     "shell.execute_reply.started": "2022-03-30T17:01:54.507125Z"
    }
   },
   "outputs": [
    {
     "name": "stderr",
     "output_type": "stream",
     "text": [
      "/tmp/wsuser/ipykernel_1061/2653602243.py:1: SettingWithCopyWarning: \n",
      "A value is trying to be set on a copy of a slice from a DataFrame.\n",
      "Try using .loc[row_indexer,col_indexer] = value instead\n",
      "\n",
      "See the caveats in the documentation: https://pandas.pydata.org/pandas-docs/stable/user_guide/indexing.html#returning-a-view-versus-a-copy\n",
      "  df_tma_anc['tanggal'] = df_tma_anc['tanggal'].astype(str)\n"
     ]
    }
   ],
   "source": [
    "df_tma_anc['tanggal'] = df_tma_anc['tanggal'].astype(str)"
   ]
  },
  {
   "cell_type": "code",
   "execution_count": 13,
   "metadata": {
    "execution": {
     "iopub.execute_input": "2022-03-30T17:01:54.520015Z",
     "iopub.status.busy": "2022-03-30T17:01:54.519672Z",
     "iopub.status.idle": "2022-03-30T17:01:54.532558Z",
     "shell.execute_reply": "2022-03-30T17:01:54.53165Z",
     "shell.execute_reply.started": "2022-03-30T17:01:54.519966Z"
    }
   },
   "outputs": [
    {
     "name": "stderr",
     "output_type": "stream",
     "text": [
      "/tmp/wsuser/ipykernel_1061/2466894484.py:1: SettingWithCopyWarning: \n",
      "A value is trying to be set on a copy of a slice from a DataFrame.\n",
      "Try using .loc[row_indexer,col_indexer] = value instead\n",
      "\n",
      "See the caveats in the documentation: https://pandas.pydata.org/pandas-docs/stable/user_guide/indexing.html#returning-a-view-versus-a-copy\n",
      "  df_tma_anc['ketinggian'] = df_tma_anc['ketinggian'].astype(int)\n"
     ]
    }
   ],
   "source": [
    "df_tma_anc['ketinggian'] = df_tma_anc['ketinggian'].astype(int)"
   ]
  },
  {
   "cell_type": "code",
   "execution_count": 14,
   "metadata": {
    "execution": {
     "iopub.execute_input": "2022-03-30T17:01:54.534852Z",
     "iopub.status.busy": "2022-03-30T17:01:54.533817Z",
     "iopub.status.idle": "2022-03-30T17:01:54.67632Z",
     "shell.execute_reply": "2022-03-30T17:01:54.675333Z",
     "shell.execute_reply.started": "2022-03-30T17:01:54.5348Z"
    }
   },
   "outputs": [
    {
     "name": "stderr",
     "output_type": "stream",
     "text": [
      "/tmp/wsuser/ipykernel_1061/2790548632.py:1: SettingWithCopyWarning: \n",
      "A value is trying to be set on a copy of a slice from a DataFrame.\n",
      "Try using .loc[row_indexer,col_indexer] = value instead\n",
      "\n",
      "See the caveats in the documentation: https://pandas.pydata.org/pandas-docs/stable/user_guide/indexing.html#returning-a-view-versus-a-copy\n",
      "  df_tma_anc['waktu'] = df_tma_anc[['tanggal','jam_laporan']].agg(' '.join,axis=1)\n"
     ]
    },
    {
     "data": {
      "text/html": [
       "<div>\n",
       "<style scoped>\n",
       "    .dataframe tbody tr th:only-of-type {\n",
       "        vertical-align: middle;\n",
       "    }\n",
       "\n",
       "    .dataframe tbody tr th {\n",
       "        vertical-align: top;\n",
       "    }\n",
       "\n",
       "    .dataframe thead th {\n",
       "        text-align: right;\n",
       "    }\n",
       "</style>\n",
       "<table border=\"1\" class=\"dataframe\">\n",
       "  <thead>\n",
       "    <tr style=\"text-align: right;\">\n",
       "      <th></th>\n",
       "      <th>pintu_air_id</th>\n",
       "      <th>nama_pintu_air</th>\n",
       "      <th>ketinggian</th>\n",
       "      <th>jam_laporan</th>\n",
       "      <th>tanggal</th>\n",
       "      <th>waktu</th>\n",
       "    </tr>\n",
       "  </thead>\n",
       "  <tbody>\n",
       "    <tr>\n",
       "      <th>8</th>\n",
       "      <td>13</td>\n",
       "      <td>Ancol Flushing</td>\n",
       "      <td>188</td>\n",
       "      <td>03:00</td>\n",
       "      <td>2021-11-16</td>\n",
       "      <td>2021-11-16 03:00</td>\n",
       "    </tr>\n",
       "    <tr>\n",
       "      <th>23</th>\n",
       "      <td>13</td>\n",
       "      <td>Ancol Flushing</td>\n",
       "      <td>194</td>\n",
       "      <td>04:00</td>\n",
       "      <td>2021-11-16</td>\n",
       "      <td>2021-11-16 04:00</td>\n",
       "    </tr>\n",
       "    <tr>\n",
       "      <th>39</th>\n",
       "      <td>13</td>\n",
       "      <td>Ancol Flushing</td>\n",
       "      <td>200</td>\n",
       "      <td>05:00</td>\n",
       "      <td>2021-11-16</td>\n",
       "      <td>2021-11-16 05:00</td>\n",
       "    </tr>\n",
       "    <tr>\n",
       "      <th>47</th>\n",
       "      <td>13</td>\n",
       "      <td>Ancol Flushing</td>\n",
       "      <td>212</td>\n",
       "      <td>07:00</td>\n",
       "      <td>2021-11-16</td>\n",
       "      <td>2021-11-16 07:00</td>\n",
       "    </tr>\n",
       "    <tr>\n",
       "      <th>48</th>\n",
       "      <td>13</td>\n",
       "      <td>Ancol Flushing</td>\n",
       "      <td>212</td>\n",
       "      <td>07:00</td>\n",
       "      <td>2021-11-16</td>\n",
       "      <td>2021-11-16 07:00</td>\n",
       "    </tr>\n",
       "    <tr>\n",
       "      <th>89</th>\n",
       "      <td>13</td>\n",
       "      <td>Ancol Flushing</td>\n",
       "      <td>211</td>\n",
       "      <td>08:00</td>\n",
       "      <td>2021-11-17</td>\n",
       "      <td>2021-11-17 08:00</td>\n",
       "    </tr>\n",
       "    <tr>\n",
       "      <th>110</th>\n",
       "      <td>13</td>\n",
       "      <td>Ancol Flushing</td>\n",
       "      <td>213</td>\n",
       "      <td>09:00</td>\n",
       "      <td>2021-11-17</td>\n",
       "      <td>2021-11-17 09:00</td>\n",
       "    </tr>\n",
       "    <tr>\n",
       "      <th>119</th>\n",
       "      <td>13</td>\n",
       "      <td>Ancol Flushing</td>\n",
       "      <td>214</td>\n",
       "      <td>10:00</td>\n",
       "      <td>2021-11-17</td>\n",
       "      <td>2021-11-17 10:00</td>\n",
       "    </tr>\n",
       "    <tr>\n",
       "      <th>148</th>\n",
       "      <td>13</td>\n",
       "      <td>Ancol Flushing</td>\n",
       "      <td>201</td>\n",
       "      <td>12:00</td>\n",
       "      <td>2021-11-17</td>\n",
       "      <td>2021-11-17 12:00</td>\n",
       "    </tr>\n",
       "    <tr>\n",
       "      <th>149</th>\n",
       "      <td>13</td>\n",
       "      <td>Ancol Flushing</td>\n",
       "      <td>197</td>\n",
       "      <td>13:00</td>\n",
       "      <td>2021-11-17</td>\n",
       "      <td>2021-11-17 13:00</td>\n",
       "    </tr>\n",
       "  </tbody>\n",
       "</table>\n",
       "</div>"
      ],
      "text/plain": [
       "     pintu_air_id  nama_pintu_air  ketinggian jam_laporan     tanggal  \\\n",
       "8              13  Ancol Flushing         188       03:00  2021-11-16   \n",
       "23             13  Ancol Flushing         194       04:00  2021-11-16   \n",
       "39             13  Ancol Flushing         200       05:00  2021-11-16   \n",
       "47             13  Ancol Flushing         212       07:00  2021-11-16   \n",
       "48             13  Ancol Flushing         212       07:00  2021-11-16   \n",
       "89             13  Ancol Flushing         211       08:00  2021-11-17   \n",
       "110            13  Ancol Flushing         213       09:00  2021-11-17   \n",
       "119            13  Ancol Flushing         214       10:00  2021-11-17   \n",
       "148            13  Ancol Flushing         201       12:00  2021-11-17   \n",
       "149            13  Ancol Flushing         197       13:00  2021-11-17   \n",
       "\n",
       "                waktu  \n",
       "8    2021-11-16 03:00  \n",
       "23   2021-11-16 04:00  \n",
       "39   2021-11-16 05:00  \n",
       "47   2021-11-16 07:00  \n",
       "48   2021-11-16 07:00  \n",
       "89   2021-11-17 08:00  \n",
       "110  2021-11-17 09:00  \n",
       "119  2021-11-17 10:00  \n",
       "148  2021-11-17 12:00  \n",
       "149  2021-11-17 13:00  "
      ]
     },
     "execution_count": 14,
     "metadata": {},
     "output_type": "execute_result"
    }
   ],
   "source": [
    "df_tma_anc['waktu'] = df_tma_anc[['tanggal','jam_laporan']].agg(' '.join,axis=1)\n",
    "df_tma_anc.head(10)"
   ]
  },
  {
   "cell_type": "code",
   "execution_count": 15,
   "metadata": {
    "execution": {
     "iopub.execute_input": "2022-03-30T17:01:54.678181Z",
     "iopub.status.busy": "2022-03-30T17:01:54.67784Z",
     "iopub.status.idle": "2022-03-30T17:01:54.699081Z",
     "shell.execute_reply": "2022-03-30T17:01:54.697945Z",
     "shell.execute_reply.started": "2022-03-30T17:01:54.678117Z"
    }
   },
   "outputs": [
    {
     "data": {
      "text/html": [
       "<div>\n",
       "<style scoped>\n",
       "    .dataframe tbody tr th:only-of-type {\n",
       "        vertical-align: middle;\n",
       "    }\n",
       "\n",
       "    .dataframe tbody tr th {\n",
       "        vertical-align: top;\n",
       "    }\n",
       "\n",
       "    .dataframe thead th {\n",
       "        text-align: right;\n",
       "    }\n",
       "</style>\n",
       "<table border=\"1\" class=\"dataframe\">\n",
       "  <thead>\n",
       "    <tr style=\"text-align: right;\">\n",
       "      <th></th>\n",
       "      <th>waktu</th>\n",
       "      <th>ketinggian</th>\n",
       "    </tr>\n",
       "  </thead>\n",
       "  <tbody>\n",
       "    <tr>\n",
       "      <th>8</th>\n",
       "      <td>2021-11-16 03:00</td>\n",
       "      <td>188</td>\n",
       "    </tr>\n",
       "    <tr>\n",
       "      <th>23</th>\n",
       "      <td>2021-11-16 04:00</td>\n",
       "      <td>194</td>\n",
       "    </tr>\n",
       "    <tr>\n",
       "      <th>39</th>\n",
       "      <td>2021-11-16 05:00</td>\n",
       "      <td>200</td>\n",
       "    </tr>\n",
       "    <tr>\n",
       "      <th>47</th>\n",
       "      <td>2021-11-16 07:00</td>\n",
       "      <td>212</td>\n",
       "    </tr>\n",
       "    <tr>\n",
       "      <th>48</th>\n",
       "      <td>2021-11-16 07:00</td>\n",
       "      <td>212</td>\n",
       "    </tr>\n",
       "    <tr>\n",
       "      <th>89</th>\n",
       "      <td>2021-11-17 08:00</td>\n",
       "      <td>211</td>\n",
       "    </tr>\n",
       "    <tr>\n",
       "      <th>110</th>\n",
       "      <td>2021-11-17 09:00</td>\n",
       "      <td>213</td>\n",
       "    </tr>\n",
       "    <tr>\n",
       "      <th>119</th>\n",
       "      <td>2021-11-17 10:00</td>\n",
       "      <td>214</td>\n",
       "    </tr>\n",
       "    <tr>\n",
       "      <th>148</th>\n",
       "      <td>2021-11-17 12:00</td>\n",
       "      <td>201</td>\n",
       "    </tr>\n",
       "    <tr>\n",
       "      <th>149</th>\n",
       "      <td>2021-11-17 13:00</td>\n",
       "      <td>197</td>\n",
       "    </tr>\n",
       "  </tbody>\n",
       "</table>\n",
       "</div>"
      ],
      "text/plain": [
       "                waktu  ketinggian\n",
       "8    2021-11-16 03:00         188\n",
       "23   2021-11-16 04:00         194\n",
       "39   2021-11-16 05:00         200\n",
       "47   2021-11-16 07:00         212\n",
       "48   2021-11-16 07:00         212\n",
       "89   2021-11-17 08:00         211\n",
       "110  2021-11-17 09:00         213\n",
       "119  2021-11-17 10:00         214\n",
       "148  2021-11-17 12:00         201\n",
       "149  2021-11-17 13:00         197"
      ]
     },
     "execution_count": 15,
     "metadata": {},
     "output_type": "execute_result"
    }
   ],
   "source": [
    "df_tma_anc = df_tma_anc[['waktu','ketinggian']]\n",
    "df_tma_anc.head(10)"
   ]
  },
  {
   "cell_type": "code",
   "execution_count": 16,
   "metadata": {
    "execution": {
     "iopub.execute_input": "2022-03-30T17:01:54.701236Z",
     "iopub.status.busy": "2022-03-30T17:01:54.700858Z",
     "iopub.status.idle": "2022-03-30T17:01:54.710253Z",
     "shell.execute_reply": "2022-03-30T17:01:54.709516Z",
     "shell.execute_reply.started": "2022-03-30T17:01:54.701191Z"
    }
   },
   "outputs": [],
   "source": [
    "df_tma_anc.drop_duplicates(subset='waktu',keep='first',inplace=True)"
   ]
  },
  {
   "cell_type": "code",
   "execution_count": 17,
   "metadata": {
    "execution": {
     "iopub.execute_input": "2022-03-30T17:01:54.714333Z",
     "iopub.status.busy": "2022-03-30T17:01:54.712219Z",
     "iopub.status.idle": "2022-03-30T17:01:54.731859Z",
     "shell.execute_reply": "2022-03-30T17:01:54.731052Z",
     "shell.execute_reply.started": "2022-03-30T17:01:54.714278Z"
    }
   },
   "outputs": [
    {
     "data": {
      "text/html": [
       "<div>\n",
       "<style scoped>\n",
       "    .dataframe tbody tr th:only-of-type {\n",
       "        vertical-align: middle;\n",
       "    }\n",
       "\n",
       "    .dataframe tbody tr th {\n",
       "        vertical-align: top;\n",
       "    }\n",
       "\n",
       "    .dataframe thead th {\n",
       "        text-align: right;\n",
       "    }\n",
       "</style>\n",
       "<table border=\"1\" class=\"dataframe\">\n",
       "  <thead>\n",
       "    <tr style=\"text-align: right;\">\n",
       "      <th></th>\n",
       "      <th>ds</th>\n",
       "      <th>y</th>\n",
       "    </tr>\n",
       "  </thead>\n",
       "  <tbody>\n",
       "    <tr>\n",
       "      <th>8</th>\n",
       "      <td>2021-11-16 03:00</td>\n",
       "      <td>188</td>\n",
       "    </tr>\n",
       "    <tr>\n",
       "      <th>23</th>\n",
       "      <td>2021-11-16 04:00</td>\n",
       "      <td>194</td>\n",
       "    </tr>\n",
       "    <tr>\n",
       "      <th>39</th>\n",
       "      <td>2021-11-16 05:00</td>\n",
       "      <td>200</td>\n",
       "    </tr>\n",
       "    <tr>\n",
       "      <th>47</th>\n",
       "      <td>2021-11-16 07:00</td>\n",
       "      <td>212</td>\n",
       "    </tr>\n",
       "    <tr>\n",
       "      <th>89</th>\n",
       "      <td>2021-11-17 08:00</td>\n",
       "      <td>211</td>\n",
       "    </tr>\n",
       "  </tbody>\n",
       "</table>\n",
       "</div>"
      ],
      "text/plain": [
       "                  ds    y\n",
       "8   2021-11-16 03:00  188\n",
       "23  2021-11-16 04:00  194\n",
       "39  2021-11-16 05:00  200\n",
       "47  2021-11-16 07:00  212\n",
       "89  2021-11-17 08:00  211"
      ]
     },
     "execution_count": 17,
     "metadata": {},
     "output_type": "execute_result"
    }
   ],
   "source": [
    "# Renaming columns\n",
    "df_tma_anc.rename(columns = {'waktu':'ds', 'ketinggian':'y'}, inplace = True)\n",
    "df_tma_anc.head()"
   ]
  },
  {
   "cell_type": "code",
   "execution_count": 18,
   "metadata": {
    "execution": {
     "iopub.execute_input": "2022-03-30T17:01:54.734302Z",
     "iopub.status.busy": "2022-03-30T17:01:54.734034Z",
     "iopub.status.idle": "2022-03-30T17:01:54.754255Z",
     "shell.execute_reply": "2022-03-30T17:01:54.753578Z",
     "shell.execute_reply.started": "2022-03-30T17:01:54.734272Z"
    }
   },
   "outputs": [
    {
     "name": "stdout",
     "output_type": "stream",
     "text": [
      "<class 'pandas.core.frame.DataFrame'>\n",
      "Int64Index: 1993 entries, 8 to 30525\n",
      "Data columns (total 2 columns):\n",
      " #   Column  Non-Null Count  Dtype         \n",
      "---  ------  --------------  -----         \n",
      " 0   ds      1993 non-null   datetime64[ns]\n",
      " 1   y       1993 non-null   int64         \n",
      "dtypes: datetime64[ns](1), int64(1)\n",
      "memory usage: 46.7 KB\n"
     ]
    }
   ],
   "source": [
    "df_tma_anc['ds'] = pd.DatetimeIndex(df_tma_anc['ds'])\n",
    "df_tma_anc.info()"
   ]
  },
  {
   "cell_type": "code",
   "execution_count": 19,
   "metadata": {
    "execution": {
     "iopub.execute_input": "2022-03-30T17:01:54.755869Z",
     "iopub.status.busy": "2022-03-30T17:01:54.755308Z",
     "iopub.status.idle": "2022-03-30T17:01:54.767452Z",
     "shell.execute_reply": "2022-03-30T17:01:54.766576Z",
     "shell.execute_reply.started": "2022-03-30T17:01:54.755834Z"
    }
   },
   "outputs": [
    {
     "data": {
      "text/html": [
       "<div>\n",
       "<style scoped>\n",
       "    .dataframe tbody tr th:only-of-type {\n",
       "        vertical-align: middle;\n",
       "    }\n",
       "\n",
       "    .dataframe tbody tr th {\n",
       "        vertical-align: top;\n",
       "    }\n",
       "\n",
       "    .dataframe thead th {\n",
       "        text-align: right;\n",
       "    }\n",
       "</style>\n",
       "<table border=\"1\" class=\"dataframe\">\n",
       "  <thead>\n",
       "    <tr style=\"text-align: right;\">\n",
       "      <th></th>\n",
       "      <th>ds</th>\n",
       "      <th>y</th>\n",
       "    </tr>\n",
       "  </thead>\n",
       "  <tbody>\n",
       "    <tr>\n",
       "      <th>8</th>\n",
       "      <td>2021-11-16 03:00:00</td>\n",
       "      <td>188</td>\n",
       "    </tr>\n",
       "    <tr>\n",
       "      <th>23</th>\n",
       "      <td>2021-11-16 04:00:00</td>\n",
       "      <td>194</td>\n",
       "    </tr>\n",
       "    <tr>\n",
       "      <th>39</th>\n",
       "      <td>2021-11-16 05:00:00</td>\n",
       "      <td>200</td>\n",
       "    </tr>\n",
       "    <tr>\n",
       "      <th>47</th>\n",
       "      <td>2021-11-16 07:00:00</td>\n",
       "      <td>212</td>\n",
       "    </tr>\n",
       "    <tr>\n",
       "      <th>89</th>\n",
       "      <td>2021-11-17 08:00:00</td>\n",
       "      <td>211</td>\n",
       "    </tr>\n",
       "    <tr>\n",
       "      <th>110</th>\n",
       "      <td>2021-11-17 09:00:00</td>\n",
       "      <td>213</td>\n",
       "    </tr>\n",
       "    <tr>\n",
       "      <th>119</th>\n",
       "      <td>2021-11-17 10:00:00</td>\n",
       "      <td>214</td>\n",
       "    </tr>\n",
       "    <tr>\n",
       "      <th>148</th>\n",
       "      <td>2021-11-17 12:00:00</td>\n",
       "      <td>201</td>\n",
       "    </tr>\n",
       "    <tr>\n",
       "      <th>149</th>\n",
       "      <td>2021-11-17 13:00:00</td>\n",
       "      <td>197</td>\n",
       "    </tr>\n",
       "    <tr>\n",
       "      <th>159</th>\n",
       "      <td>2021-11-17 14:00:00</td>\n",
       "      <td>197</td>\n",
       "    </tr>\n",
       "  </tbody>\n",
       "</table>\n",
       "</div>"
      ],
      "text/plain": [
       "                     ds    y\n",
       "8   2021-11-16 03:00:00  188\n",
       "23  2021-11-16 04:00:00  194\n",
       "39  2021-11-16 05:00:00  200\n",
       "47  2021-11-16 07:00:00  212\n",
       "89  2021-11-17 08:00:00  211\n",
       "110 2021-11-17 09:00:00  213\n",
       "119 2021-11-17 10:00:00  214\n",
       "148 2021-11-17 12:00:00  201\n",
       "149 2021-11-17 13:00:00  197\n",
       "159 2021-11-17 14:00:00  197"
      ]
     },
     "execution_count": 19,
     "metadata": {},
     "output_type": "execute_result"
    }
   ],
   "source": [
    "df_tma_anc.head(10)"
   ]
  },
  {
   "cell_type": "code",
   "execution_count": 20,
   "metadata": {
    "execution": {
     "iopub.execute_input": "2022-03-30T17:01:54.769588Z",
     "iopub.status.busy": "2022-03-30T17:01:54.768884Z",
     "iopub.status.idle": "2022-03-30T17:01:54.783517Z",
     "shell.execute_reply": "2022-03-30T17:01:54.782491Z",
     "shell.execute_reply.started": "2022-03-30T17:01:54.769544Z"
    }
   },
   "outputs": [
    {
     "data": {
      "text/html": [
       "<div>\n",
       "<style scoped>\n",
       "    .dataframe tbody tr th:only-of-type {\n",
       "        vertical-align: middle;\n",
       "    }\n",
       "\n",
       "    .dataframe tbody tr th {\n",
       "        vertical-align: top;\n",
       "    }\n",
       "\n",
       "    .dataframe thead th {\n",
       "        text-align: right;\n",
       "    }\n",
       "</style>\n",
       "<table border=\"1\" class=\"dataframe\">\n",
       "  <thead>\n",
       "    <tr style=\"text-align: right;\">\n",
       "      <th></th>\n",
       "      <th>ds</th>\n",
       "      <th>y</th>\n",
       "    </tr>\n",
       "  </thead>\n",
       "  <tbody>\n",
       "    <tr>\n",
       "      <th>30384</th>\n",
       "      <td>2022-02-18 04:00:00</td>\n",
       "      <td>175</td>\n",
       "    </tr>\n",
       "    <tr>\n",
       "      <th>30397</th>\n",
       "      <td>2022-02-18 05:00:00</td>\n",
       "      <td>175</td>\n",
       "    </tr>\n",
       "    <tr>\n",
       "      <th>30410</th>\n",
       "      <td>2022-02-18 06:00:00</td>\n",
       "      <td>174</td>\n",
       "    </tr>\n",
       "    <tr>\n",
       "      <th>30441</th>\n",
       "      <td>2022-02-18 08:00:00</td>\n",
       "      <td>170</td>\n",
       "    </tr>\n",
       "    <tr>\n",
       "      <th>30455</th>\n",
       "      <td>2022-02-18 09:00:00</td>\n",
       "      <td>166</td>\n",
       "    </tr>\n",
       "    <tr>\n",
       "      <th>30467</th>\n",
       "      <td>2022-02-18 10:00:00</td>\n",
       "      <td>162</td>\n",
       "    </tr>\n",
       "    <tr>\n",
       "      <th>30482</th>\n",
       "      <td>2022-02-18 11:00:00</td>\n",
       "      <td>160</td>\n",
       "    </tr>\n",
       "    <tr>\n",
       "      <th>30496</th>\n",
       "      <td>2022-02-18 12:00:00</td>\n",
       "      <td>156</td>\n",
       "    </tr>\n",
       "    <tr>\n",
       "      <th>30500</th>\n",
       "      <td>2022-02-18 13:00:00</td>\n",
       "      <td>163</td>\n",
       "    </tr>\n",
       "    <tr>\n",
       "      <th>30525</th>\n",
       "      <td>2022-02-18 14:00:00</td>\n",
       "      <td>174</td>\n",
       "    </tr>\n",
       "  </tbody>\n",
       "</table>\n",
       "</div>"
      ],
      "text/plain": [
       "                       ds    y\n",
       "30384 2022-02-18 04:00:00  175\n",
       "30397 2022-02-18 05:00:00  175\n",
       "30410 2022-02-18 06:00:00  174\n",
       "30441 2022-02-18 08:00:00  170\n",
       "30455 2022-02-18 09:00:00  166\n",
       "30467 2022-02-18 10:00:00  162\n",
       "30482 2022-02-18 11:00:00  160\n",
       "30496 2022-02-18 12:00:00  156\n",
       "30500 2022-02-18 13:00:00  163\n",
       "30525 2022-02-18 14:00:00  174"
      ]
     },
     "execution_count": 20,
     "metadata": {},
     "output_type": "execute_result"
    }
   ],
   "source": [
    "df_tma_anc.tail(10)"
   ]
  },
  {
   "cell_type": "code",
   "execution_count": 21,
   "metadata": {
    "execution": {
     "iopub.execute_input": "2022-03-30T17:01:54.785957Z",
     "iopub.status.busy": "2022-03-30T17:01:54.784796Z",
     "iopub.status.idle": "2022-03-30T17:01:55.112975Z",
     "shell.execute_reply": "2022-03-30T17:01:55.112033Z",
     "shell.execute_reply.started": "2022-03-30T17:01:54.785902Z"
    },
    "id": "vDiPYmpK58jC",
    "outputId": "fd851d04-e739-4b2f-86e7-0dde71e1db57"
   },
   "outputs": [
    {
     "data": {
      "text/plain": [
       "Text(0.5, 1.0, 'Time Series Plot')"
      ]
     },
     "execution_count": 21,
     "metadata": {},
     "output_type": "execute_result"
    },
    {
     "data": {
      "image/png": "[encoded data removed]",
      "text/plain": [
       "<Figure size 864x432 with 1 Axes>"
      ]
     },
     "metadata": {},
     "output_type": "display_data"
    }
   ],
   "source": [
    "df_tma_anc.set_index('ds').plot(figsize=(12,6))\n",
    "plt.title('Time Series Plot')"
   ]
  },
  {
   "cell_type": "markdown",
   "metadata": {
    "id": "KS5j2phf7qCa"
   },
   "source": [
    "## Prophet Model"
   ]
  },
  {
   "cell_type": "code",
   "execution_count": 22,
   "metadata": {
    "execution": {
     "iopub.execute_input": "2022-03-30T17:01:55.115443Z",
     "iopub.status.busy": "2022-03-30T17:01:55.114496Z",
     "iopub.status.idle": "2022-03-30T17:02:04.048587Z",
     "shell.execute_reply": "2022-03-30T17:02:04.04742Z",
     "shell.execute_reply.started": "2022-03-30T17:01:55.11539Z"
    },
    "id": "PsCA_oCp7yYV"
   },
   "outputs": [],
   "source": [
    "!pip install prophet -q"
   ]
  },
  {
   "cell_type": "code",
   "execution_count": 23,
   "metadata": {
    "execution": {
     "iopub.execute_input": "2022-03-30T17:02:04.05095Z",
     "iopub.status.busy": "2022-03-30T17:02:04.050666Z",
     "iopub.status.idle": "2022-03-30T17:02:04.055926Z",
     "shell.execute_reply": "2022-03-30T17:02:04.054998Z",
     "shell.execute_reply.started": "2022-03-30T17:02:04.050916Z"
    },
    "id": "lFac0jli58e3"
   },
   "outputs": [],
   "source": [
    "from prophet import Prophet"
   ]
  },
  {
   "cell_type": "code",
   "execution_count": 24,
   "metadata": {
    "execution": {
     "iopub.execute_input": "2022-03-30T17:02:04.071086Z",
     "iopub.status.busy": "2022-03-30T17:02:04.070252Z",
     "iopub.status.idle": "2022-03-30T17:02:04.212257Z",
     "shell.execute_reply": "2022-03-30T17:02:04.211224Z",
     "shell.execute_reply.started": "2022-03-30T17:02:04.071025Z"
    },
    "id": "3_6QOV_258bJ"
   },
   "outputs": [],
   "source": [
    "m = Prophet(seasonality_mode='additive')"
   ]
  },
  {
   "cell_type": "markdown",
   "metadata": {
    "id": "n_TgzjgP9pki"
   },
   "source": [
    "Using default settings, only the seasonality mode is set to *Additive*\n",
    "\n"
   ]
  },
  {
   "cell_type": "code",
   "execution_count": 25,
   "metadata": {
    "execution": {
     "iopub.execute_input": "2022-03-30T17:02:04.214336Z",
     "iopub.status.busy": "2022-03-30T17:02:04.213504Z",
     "iopub.status.idle": "2022-03-30T17:02:04.796676Z",
     "shell.execute_reply": "2022-03-30T17:02:04.795214Z",
     "shell.execute_reply.started": "2022-03-30T17:02:04.214295Z"
    },
    "id": "9AcZ5Kga58XQ",
    "outputId": "cc2a687c-4507-4114-ce8a-b52d1ab04906"
   },
   "outputs": [
    {
     "name": "stderr",
     "output_type": "stream",
     "text": [
      "INFO:prophet:Disabling yearly seasonality. Run prophet with yearly_seasonality=True to override this.\n"
     ]
    },
    {
     "name": "stdout",
     "output_type": "stream",
     "text": [
      "Initial log joint probability = -8.57226\n"
     ]
    },
    {
     "data": {
      "text/plain": [
       "<prophet.forecaster.Prophet at 0x7f97910ace20>"
      ]
     },
     "execution_count": 25,
     "metadata": {},
     "output_type": "execute_result"
    },
    {
     "name": "stdout",
     "output_type": "stream",
     "text": [
      "    Iter      log prob        ||dx||      ||grad||       alpha      alpha0  # evals  Notes \n",
      "      99       5140.74    0.00137826       235.524      0.2214           1      123   \n",
      "    Iter      log prob        ||dx||      ||grad||       alpha      alpha0  # evals  Notes \n",
      "     199       5142.68   0.000170438       107.844           1           1      250   \n",
      "    Iter      log prob        ||dx||      ||grad||       alpha      alpha0  # evals  Notes \n",
      "     254       5143.51   8.29652e-05        119.68   5.246e-07       0.001      379  LS failed, Hessian reset \n",
      "     299       5144.26    0.00103878       85.0084           1           1      432   \n",
      "    Iter      log prob        ||dx||      ||grad||       alpha      alpha0  # evals  Notes \n",
      "     337       5144.42   0.000177377       192.029   1.655e-06       0.001      527  LS failed, Hessian reset \n",
      "     373       5144.44   3.98106e-07       75.1393      0.8519      0.8519      575   \n",
      "Optimization terminated normally: \n",
      "  Convergence detected: relative gradient magnitude is below tolerance\n"
     ]
    }
   ],
   "source": [
    "m.fit(df_tma_anc)"
   ]
  },
  {
   "cell_type": "code",
   "execution_count": 26,
   "metadata": {
    "execution": {
     "iopub.execute_input": "2022-03-30T17:02:04.799284Z",
     "iopub.status.busy": "2022-03-30T17:02:04.798636Z",
     "iopub.status.idle": "2022-03-30T17:02:04.807759Z",
     "shell.execute_reply": "2022-03-30T17:02:04.806943Z",
     "shell.execute_reply.started": "2022-03-30T17:02:04.799231Z"
    },
    "id": "Iq-KLct058TY"
   },
   "outputs": [],
   "source": [
    "future = m.make_future_dataframe(periods=1440, freq='H')"
   ]
  },
  {
   "cell_type": "code",
   "execution_count": 27,
   "metadata": {
    "execution": {
     "iopub.execute_input": "2022-03-30T17:02:04.810621Z",
     "iopub.status.busy": "2022-03-30T17:02:04.809911Z",
     "iopub.status.idle": "2022-03-30T17:02:04.825245Z",
     "shell.execute_reply": "2022-03-30T17:02:04.824185Z",
     "shell.execute_reply.started": "2022-03-30T17:02:04.810569Z"
    },
    "id": "6dGM0yvo58Pd",
    "outputId": "e21a8994-6a46-4c43-9138-54e0d313d057"
   },
   "outputs": [
    {
     "data": {
      "text/html": [
       "<div>\n",
       "<style scoped>\n",
       "    .dataframe tbody tr th:only-of-type {\n",
       "        vertical-align: middle;\n",
       "    }\n",
       "\n",
       "    .dataframe tbody tr th {\n",
       "        vertical-align: top;\n",
       "    }\n",
       "\n",
       "    .dataframe thead th {\n",
       "        text-align: right;\n",
       "    }\n",
       "</style>\n",
       "<table border=\"1\" class=\"dataframe\">\n",
       "  <thead>\n",
       "    <tr style=\"text-align: right;\">\n",
       "      <th></th>\n",
       "      <th>ds</th>\n",
       "    </tr>\n",
       "  </thead>\n",
       "  <tbody>\n",
       "    <tr>\n",
       "      <th>3428</th>\n",
       "      <td>2022-04-19 10:00:00</td>\n",
       "    </tr>\n",
       "    <tr>\n",
       "      <th>3429</th>\n",
       "      <td>2022-04-19 11:00:00</td>\n",
       "    </tr>\n",
       "    <tr>\n",
       "      <th>3430</th>\n",
       "      <td>2022-04-19 12:00:00</td>\n",
       "    </tr>\n",
       "    <tr>\n",
       "      <th>3431</th>\n",
       "      <td>2022-04-19 13:00:00</td>\n",
       "    </tr>\n",
       "    <tr>\n",
       "      <th>3432</th>\n",
       "      <td>2022-04-19 14:00:00</td>\n",
       "    </tr>\n",
       "  </tbody>\n",
       "</table>\n",
       "</div>"
      ],
      "text/plain": [
       "                      ds\n",
       "3428 2022-04-19 10:00:00\n",
       "3429 2022-04-19 11:00:00\n",
       "3430 2022-04-19 12:00:00\n",
       "3431 2022-04-19 13:00:00\n",
       "3432 2022-04-19 14:00:00"
      ]
     },
     "execution_count": 27,
     "metadata": {},
     "output_type": "execute_result"
    }
   ],
   "source": [
    "future.tail(5)"
   ]
  },
  {
   "cell_type": "code",
   "execution_count": 28,
   "metadata": {
    "execution": {
     "iopub.execute_input": "2022-03-30T17:02:04.827759Z",
     "iopub.status.busy": "2022-03-30T17:02:04.826879Z",
     "iopub.status.idle": "2022-03-30T17:02:11.031693Z",
     "shell.execute_reply": "2022-03-30T17:02:11.030733Z",
     "shell.execute_reply.started": "2022-03-30T17:02:04.827706Z"
    },
    "id": "OCdhcLtp58LY"
   },
   "outputs": [],
   "source": [
    "forecast = m.predict(future)"
   ]
  },
  {
   "cell_type": "code",
   "execution_count": 29,
   "metadata": {
    "execution": {
     "iopub.execute_input": "2022-03-30T17:02:11.033335Z",
     "iopub.status.busy": "2022-03-30T17:02:11.033043Z",
     "iopub.status.idle": "2022-03-30T17:02:11.060494Z",
     "shell.execute_reply": "2022-03-30T17:02:11.059383Z",
     "shell.execute_reply.started": "2022-03-30T17:02:11.033301Z"
    },
    "id": "0sfWkS3U58Hv",
    "outputId": "716da66a-95ee-4cc4-9752-8a8f78e2d1cf"
   },
   "outputs": [
    {
     "data": {
      "text/html": [
       "<div>\n",
       "<style scoped>\n",
       "    .dataframe tbody tr th:only-of-type {\n",
       "        vertical-align: middle;\n",
       "    }\n",
       "\n",
       "    .dataframe tbody tr th {\n",
       "        vertical-align: top;\n",
       "    }\n",
       "\n",
       "    .dataframe thead th {\n",
       "        text-align: right;\n",
       "    }\n",
       "</style>\n",
       "<table border=\"1\" class=\"dataframe\">\n",
       "  <thead>\n",
       "    <tr style=\"text-align: right;\">\n",
       "      <th></th>\n",
       "      <th>ds</th>\n",
       "      <th>trend</th>\n",
       "      <th>yhat_lower</th>\n",
       "      <th>yhat_upper</th>\n",
       "      <th>trend_lower</th>\n",
       "      <th>trend_upper</th>\n",
       "      <th>additive_terms</th>\n",
       "      <th>additive_terms_lower</th>\n",
       "      <th>additive_terms_upper</th>\n",
       "      <th>daily</th>\n",
       "      <th>daily_lower</th>\n",
       "      <th>daily_upper</th>\n",
       "      <th>weekly</th>\n",
       "      <th>weekly_lower</th>\n",
       "      <th>weekly_upper</th>\n",
       "      <th>multiplicative_terms</th>\n",
       "      <th>multiplicative_terms_lower</th>\n",
       "      <th>multiplicative_terms_upper</th>\n",
       "      <th>yhat</th>\n",
       "    </tr>\n",
       "  </thead>\n",
       "  <tbody>\n",
       "    <tr>\n",
       "      <th>3428</th>\n",
       "      <td>2022-04-19 10:00:00</td>\n",
       "      <td>189.367904</td>\n",
       "      <td>158.167325</td>\n",
       "      <td>223.643834</td>\n",
       "      <td>162.846701</td>\n",
       "      <td>212.557420</td>\n",
       "      <td>3.454242</td>\n",
       "      <td>3.454242</td>\n",
       "      <td>3.454242</td>\n",
       "      <td>3.893769</td>\n",
       "      <td>3.893769</td>\n",
       "      <td>3.893769</td>\n",
       "      <td>-0.439527</td>\n",
       "      <td>-0.439527</td>\n",
       "      <td>-0.439527</td>\n",
       "      <td>0.0</td>\n",
       "      <td>0.0</td>\n",
       "      <td>0.0</td>\n",
       "      <td>192.822146</td>\n",
       "    </tr>\n",
       "    <tr>\n",
       "      <th>3429</th>\n",
       "      <td>2022-04-19 11:00:00</td>\n",
       "      <td>189.391997</td>\n",
       "      <td>158.571370</td>\n",
       "      <td>224.819008</td>\n",
       "      <td>162.838062</td>\n",
       "      <td>212.607639</td>\n",
       "      <td>2.905714</td>\n",
       "      <td>2.905714</td>\n",
       "      <td>2.905714</td>\n",
       "      <td>3.166590</td>\n",
       "      <td>3.166590</td>\n",
       "      <td>3.166590</td>\n",
       "      <td>-0.260876</td>\n",
       "      <td>-0.260876</td>\n",
       "      <td>-0.260876</td>\n",
       "      <td>0.0</td>\n",
       "      <td>0.0</td>\n",
       "      <td>0.0</td>\n",
       "      <td>192.297711</td>\n",
       "    </tr>\n",
       "    <tr>\n",
       "      <th>3430</th>\n",
       "      <td>2022-04-19 12:00:00</td>\n",
       "      <td>189.416091</td>\n",
       "      <td>159.253086</td>\n",
       "      <td>223.806673</td>\n",
       "      <td>162.829424</td>\n",
       "      <td>212.659300</td>\n",
       "      <td>3.294824</td>\n",
       "      <td>3.294824</td>\n",
       "      <td>3.294824</td>\n",
       "      <td>3.363924</td>\n",
       "      <td>3.363924</td>\n",
       "      <td>3.363924</td>\n",
       "      <td>-0.069101</td>\n",
       "      <td>-0.069101</td>\n",
       "      <td>-0.069101</td>\n",
       "      <td>0.0</td>\n",
       "      <td>0.0</td>\n",
       "      <td>0.0</td>\n",
       "      <td>192.710914</td>\n",
       "    </tr>\n",
       "    <tr>\n",
       "      <th>3431</th>\n",
       "      <td>2022-04-19 13:00:00</td>\n",
       "      <td>189.440184</td>\n",
       "      <td>158.436578</td>\n",
       "      <td>226.692363</td>\n",
       "      <td>162.820785</td>\n",
       "      <td>212.710960</td>\n",
       "      <td>4.337858</td>\n",
       "      <td>4.337858</td>\n",
       "      <td>4.337858</td>\n",
       "      <td>4.203703</td>\n",
       "      <td>4.203703</td>\n",
       "      <td>4.203703</td>\n",
       "      <td>0.134156</td>\n",
       "      <td>0.134156</td>\n",
       "      <td>0.134156</td>\n",
       "      <td>0.0</td>\n",
       "      <td>0.0</td>\n",
       "      <td>0.0</td>\n",
       "      <td>193.778042</td>\n",
       "    </tr>\n",
       "    <tr>\n",
       "      <th>3432</th>\n",
       "      <td>2022-04-19 14:00:00</td>\n",
       "      <td>189.464277</td>\n",
       "      <td>161.554552</td>\n",
       "      <td>226.723446</td>\n",
       "      <td>162.812147</td>\n",
       "      <td>212.762026</td>\n",
       "      <td>5.248260</td>\n",
       "      <td>5.248260</td>\n",
       "      <td>5.248260</td>\n",
       "      <td>4.901169</td>\n",
       "      <td>4.901169</td>\n",
       "      <td>4.901169</td>\n",
       "      <td>0.347091</td>\n",
       "      <td>0.347091</td>\n",
       "      <td>0.347091</td>\n",
       "      <td>0.0</td>\n",
       "      <td>0.0</td>\n",
       "      <td>0.0</td>\n",
       "      <td>194.712537</td>\n",
       "    </tr>\n",
       "  </tbody>\n",
       "</table>\n",
       "</div>"
      ],
      "text/plain": [
       "                      ds       trend  yhat_lower  yhat_upper  trend_lower  \\\n",
       "3428 2022-04-19 10:00:00  189.367904  158.167325  223.643834   162.846701   \n",
       "3429 2022-04-19 11:00:00  189.391997  158.571370  224.819008   162.838062   \n",
       "3430 2022-04-19 12:00:00  189.416091  159.253086  223.806673   162.829424   \n",
       "3431 2022-04-19 13:00:00  189.440184  158.436578  226.692363   162.820785   \n",
       "3432 2022-04-19 14:00:00  189.464277  161.554552  226.723446   162.812147   \n",
       "\n",
       "      trend_upper  additive_terms  additive_terms_lower  additive_terms_upper  \\\n",
       "3428   212.557420        3.454242              3.454242              3.454242   \n",
       "3429   212.607639        2.905714              2.905714              2.905714   \n",
       "3430   212.659300        3.294824              3.294824              3.294824   \n",
       "3431   212.710960        4.337858              4.337858              4.337858   \n",
       "3432   212.762026        5.248260              5.248260              5.248260   \n",
       "\n",
       "         daily  daily_lower  daily_upper    weekly  weekly_lower  \\\n",
       "3428  3.893769     3.893769     3.893769 -0.439527     -0.439527   \n",
       "3429  3.166590     3.166590     3.166590 -0.260876     -0.260876   \n",
       "3430  3.363924     3.363924     3.363924 -0.069101     -0.069101   \n",
       "3431  4.203703     4.203703     4.203703  0.134156      0.134156   \n",
       "3432  4.901169     4.901169     4.901169  0.347091      0.347091   \n",
       "\n",
       "      weekly_upper  multiplicative_terms  multiplicative_terms_lower  \\\n",
       "3428     -0.439527                   0.0                         0.0   \n",
       "3429     -0.260876                   0.0                         0.0   \n",
       "3430     -0.069101                   0.0                         0.0   \n",
       "3431      0.134156                   0.0                         0.0   \n",
       "3432      0.347091                   0.0                         0.0   \n",
       "\n",
       "      multiplicative_terms_upper        yhat  \n",
       "3428                         0.0  192.822146  \n",
       "3429                         0.0  192.297711  \n",
       "3430                         0.0  192.710914  \n",
       "3431                         0.0  193.778042  \n",
       "3432                         0.0  194.712537  "
      ]
     },
     "execution_count": 29,
     "metadata": {},
     "output_type": "execute_result"
    }
   ],
   "source": [
    "forecast.tail()"
   ]
  },
  {
   "cell_type": "code",
   "execution_count": 30,
   "metadata": {
    "execution": {
     "iopub.execute_input": "2022-03-30T17:02:11.062069Z",
     "iopub.status.busy": "2022-03-30T17:02:11.061811Z",
     "iopub.status.idle": "2022-03-30T17:02:11.371568Z",
     "shell.execute_reply": "2022-03-30T17:02:11.370635Z",
     "shell.execute_reply.started": "2022-03-30T17:02:11.062037Z"
    },
    "id": "DF2s22fk58Em",
    "outputId": "a651a350-57d6-4d42-b3d8-589fd8622a65"
   },
   "outputs": [
    {
     "data": {
      "text/plain": [
       "Text(0.5, 1.0, 'Forecast of the Time Series in the next 60 days (1440 hours)')"
      ]
     },
     "execution_count": 30,
     "metadata": {},
     "output_type": "execute_result"
    },
    {
     "data": {
      "image/png": "[encoded data removed]",
      "text/plain": [
       "<Figure size 720x432 with 1 Axes>"
      ]
     },
     "metadata": {},
     "output_type": "display_data"
    }
   ],
   "source": [
    "m.plot(forecast);\n",
    "plt.title(\"Forecast of the Time Series in the next 60 days (1440 hours)\")"
   ]
  },
  {
   "cell_type": "code",
   "execution_count": 31,
   "metadata": {
    "execution": {
     "iopub.execute_input": "2022-03-30T17:02:11.373728Z",
     "iopub.status.busy": "2022-03-30T17:02:11.373412Z",
     "iopub.status.idle": "2022-03-30T17:02:12.021084Z",
     "shell.execute_reply": "2022-03-30T17:02:12.020024Z",
     "shell.execute_reply.started": "2022-03-30T17:02:11.373684Z"
    },
    "id": "RWsL_f4eB5B2",
    "outputId": "2a22ed8d-354c-4bdf-c1f1-a94c22e44423"
   },
   "outputs": [
    {
     "name": "stdout",
     "output_type": "stream",
     "text": [
      "Components of the time series:\n"
     ]
    },
    {
     "data": {
      "image/png": "[encoded data removed]",
      "text/plain": [
       "<Figure size 648x648 with 3 Axes>"
      ]
     },
     "metadata": {},
     "output_type": "display_data"
    }
   ],
   "source": [
    "m.plot_components(forecast);\n",
    "print(\"Components of the time series:\")"
   ]
  },
  {
   "cell_type": "code",
   "execution_count": 32,
   "metadata": {
    "execution": {
     "iopub.execute_input": "2022-03-30T17:02:12.022623Z",
     "iopub.status.busy": "2022-03-30T17:02:12.02239Z",
     "iopub.status.idle": "2022-03-30T17:02:12.039914Z",
     "shell.execute_reply": "2022-03-30T17:02:12.039014Z",
     "shell.execute_reply.started": "2022-03-30T17:02:12.022594Z"
    },
    "id": "jzO55k-q-xqy"
   },
   "outputs": [
    {
     "name": "stdout",
     "output_type": "stream",
     "text": [
      "<class 'pandas.core.frame.DataFrame'>\n",
      "RangeIndex: 3433 entries, 0 to 3432\n",
      "Data columns (total 4 columns):\n",
      " #   Column      Non-Null Count  Dtype         \n",
      "---  ------      --------------  -----         \n",
      " 0   ds          3433 non-null   datetime64[ns]\n",
      " 1   yhat_lower  3433 non-null   float64       \n",
      " 2   yhat        3433 non-null   float64       \n",
      " 3   yhat_upper  3433 non-null   float64       \n",
      "dtypes: datetime64[ns](1), float64(3)\n",
      "memory usage: 107.4 KB\n"
     ]
    }
   ],
   "source": [
    "#p_forecast = forecast[forecast['ds']>'2022-02-18 16:00:00'][['ds','yhat_lower','yhat','yhat_upper']]\n",
    "p_forecast = forecast[['ds','yhat_lower','yhat','yhat_upper']]\n",
    "p_forecast.info()"
   ]
  },
  {
   "cell_type": "code",
   "execution_count": 33,
   "metadata": {
    "execution": {
     "iopub.execute_input": "2022-03-30T17:02:12.041313Z",
     "iopub.status.busy": "2022-03-30T17:02:12.041068Z",
     "iopub.status.idle": "2022-03-30T17:02:12.369995Z",
     "shell.execute_reply": "2022-03-30T17:02:12.369093Z",
     "shell.execute_reply.started": "2022-03-30T17:02:12.041284Z"
    },
    "id": "D3luqYmd-xjx",
    "outputId": "27964f81-f5d6-473f-bf14-465c982d7cef"
   },
   "outputs": [
    {
     "data": {
      "text/plain": [
       "<matplotlib.collections.PolyCollection at 0x7f97871e7f40>"
      ]
     },
     "execution_count": 33,
     "metadata": {},
     "output_type": "execute_result"
    },
    {
     "data": {
      "image/png": "[encoded data removed]",
      "text/plain": [
       "<Figure size 864x432 with 1 Axes>"
      ]
     },
     "metadata": {},
     "output_type": "display_data"
    }
   ],
   "source": [
    "plt.figure(figsize=(12,6))\n",
    "plt.xticks(rotation=45)\n",
    "plt.title(\"Detail of Forecast using Prophet\")\n",
    "plt.plot(p_forecast['ds'], p_forecast['yhat'], marker='.', c='navy')\n",
    "plt.fill_between(p_forecast['ds'],p_forecast['yhat_lower'], p_forecast['yhat_upper'], alpha=0.1, color='cyan')"
   ]
  },
  {
   "cell_type": "markdown",
   "metadata": {
    "id": "gdCVB2iaLqmS"
   },
   "source": [
    "### Performance Metrics"
   ]
  },
  {
   "cell_type": "code",
   "execution_count": 34,
   "metadata": {
    "execution": {
     "iopub.execute_input": "2022-03-30T17:02:12.371644Z",
     "iopub.status.busy": "2022-03-30T17:02:12.371392Z",
     "iopub.status.idle": "2022-03-30T17:02:12.376401Z",
     "shell.execute_reply": "2022-03-30T17:02:12.375426Z",
     "shell.execute_reply.started": "2022-03-30T17:02:12.371612Z"
    },
    "id": "tPJQi-dm-wrf"
   },
   "outputs": [],
   "source": [
    "from sklearn.metrics import mean_squared_error"
   ]
  },
  {
   "cell_type": "code",
   "execution_count": 35,
   "metadata": {
    "execution": {
     "iopub.execute_input": "2022-03-30T17:02:12.378699Z",
     "iopub.status.busy": "2022-03-30T17:02:12.37838Z",
     "iopub.status.idle": "2022-03-30T17:02:12.398512Z",
     "shell.execute_reply": "2022-03-30T17:02:12.397428Z",
     "shell.execute_reply.started": "2022-03-30T17:02:12.378655Z"
    }
   },
   "outputs": [
    {
     "name": "stdout",
     "output_type": "stream",
     "text": [
      "<class 'pandas.core.frame.DataFrame'>\n",
      "Int64Index: 1993 entries, 8 to 30525\n",
      "Data columns (total 2 columns):\n",
      " #   Column  Non-Null Count  Dtype         \n",
      "---  ------  --------------  -----         \n",
      " 0   ds      1993 non-null   datetime64[ns]\n",
      " 1   y       1993 non-null   int64         \n",
      "dtypes: datetime64[ns](1), int64(1)\n",
      "memory usage: 46.7 KB\n"
     ]
    }
   ],
   "source": [
    "df_tma_anc.info()"
   ]
  },
  {
   "cell_type": "code",
   "execution_count": 36,
   "metadata": {
    "execution": {
     "iopub.execute_input": "2022-03-30T17:02:12.400691Z",
     "iopub.status.busy": "2022-03-30T17:02:12.400053Z",
     "iopub.status.idle": "2022-03-30T17:02:12.427353Z",
     "shell.execute_reply": "2022-03-30T17:02:12.426363Z",
     "shell.execute_reply.started": "2022-03-30T17:02:12.400648Z"
    }
   },
   "outputs": [
    {
     "data": {
      "text/html": [
       "<div>\n",
       "<style scoped>\n",
       "    .dataframe tbody tr th:only-of-type {\n",
       "        vertical-align: middle;\n",
       "    }\n",
       "\n",
       "    .dataframe tbody tr th {\n",
       "        vertical-align: top;\n",
       "    }\n",
       "\n",
       "    .dataframe thead th {\n",
       "        text-align: right;\n",
       "    }\n",
       "</style>\n",
       "<table border=\"1\" class=\"dataframe\">\n",
       "  <thead>\n",
       "    <tr style=\"text-align: right;\">\n",
       "      <th></th>\n",
       "      <th>ds</th>\n",
       "      <th>yhat_lower</th>\n",
       "      <th>yhat_upper</th>\n",
       "      <th>yhat</th>\n",
       "      <th>y</th>\n",
       "    </tr>\n",
       "  </thead>\n",
       "  <tbody>\n",
       "    <tr>\n",
       "      <th>0</th>\n",
       "      <td>2021-11-16 03:00:00</td>\n",
       "      <td>149.338800</td>\n",
       "      <td>191.586822</td>\n",
       "      <td>170.764073</td>\n",
       "      <td>188</td>\n",
       "    </tr>\n",
       "    <tr>\n",
       "      <th>1</th>\n",
       "      <td>2021-11-16 04:00:00</td>\n",
       "      <td>154.017957</td>\n",
       "      <td>196.698401</td>\n",
       "      <td>174.561380</td>\n",
       "      <td>194</td>\n",
       "    </tr>\n",
       "    <tr>\n",
       "      <th>2</th>\n",
       "      <td>2021-11-16 05:00:00</td>\n",
       "      <td>156.738101</td>\n",
       "      <td>199.551727</td>\n",
       "      <td>177.470921</td>\n",
       "      <td>200</td>\n",
       "    </tr>\n",
       "    <tr>\n",
       "      <th>3</th>\n",
       "      <td>2021-11-16 07:00:00</td>\n",
       "      <td>158.646780</td>\n",
       "      <td>200.389365</td>\n",
       "      <td>178.773267</td>\n",
       "      <td>212</td>\n",
       "    </tr>\n",
       "    <tr>\n",
       "      <th>4</th>\n",
       "      <td>2021-11-17 08:00:00</td>\n",
       "      <td>159.555016</td>\n",
       "      <td>203.092277</td>\n",
       "      <td>181.471750</td>\n",
       "      <td>211</td>\n",
       "    </tr>\n",
       "  </tbody>\n",
       "</table>\n",
       "</div>"
      ],
      "text/plain": [
       "                   ds  yhat_lower  yhat_upper        yhat    y\n",
       "0 2021-11-16 03:00:00  149.338800  191.586822  170.764073  188\n",
       "1 2021-11-16 04:00:00  154.017957  196.698401  174.561380  194\n",
       "2 2021-11-16 05:00:00  156.738101  199.551727  177.470921  200\n",
       "3 2021-11-16 07:00:00  158.646780  200.389365  178.773267  212\n",
       "4 2021-11-17 08:00:00  159.555016  203.092277  181.471750  211"
      ]
     },
     "execution_count": 36,
     "metadata": {},
     "output_type": "execute_result"
    }
   ],
   "source": [
    "df_tma_anc_merge = pd.merge(df_tma_anc, forecast[['ds','yhat_lower','yhat_upper','yhat']],on='ds')\n",
    "df_tma_anc_merge = df_tma_anc_merge[['ds','yhat_lower','yhat_upper','yhat','y']]\n",
    "df_tma_anc_merge.head()"
   ]
  },
  {
   "cell_type": "code",
   "execution_count": 37,
   "metadata": {
    "execution": {
     "iopub.execute_input": "2022-03-30T17:02:12.428925Z",
     "iopub.status.busy": "2022-03-30T17:02:12.428674Z",
     "iopub.status.idle": "2022-03-30T17:02:12.445087Z",
     "shell.execute_reply": "2022-03-30T17:02:12.443595Z",
     "shell.execute_reply.started": "2022-03-30T17:02:12.428895Z"
    }
   },
   "outputs": [
    {
     "data": {
      "text/html": [
       "<div>\n",
       "<style scoped>\n",
       "    .dataframe tbody tr th:only-of-type {\n",
       "        vertical-align: middle;\n",
       "    }\n",
       "\n",
       "    .dataframe tbody tr th {\n",
       "        vertical-align: top;\n",
       "    }\n",
       "\n",
       "    .dataframe thead th {\n",
       "        text-align: right;\n",
       "    }\n",
       "</style>\n",
       "<table border=\"1\" class=\"dataframe\">\n",
       "  <thead>\n",
       "    <tr style=\"text-align: right;\">\n",
       "      <th></th>\n",
       "      <th>ds</th>\n",
       "      <th>yhat_lower</th>\n",
       "      <th>yhat_upper</th>\n",
       "      <th>yhat</th>\n",
       "      <th>y</th>\n",
       "    </tr>\n",
       "  </thead>\n",
       "  <tbody>\n",
       "    <tr>\n",
       "      <th>1988</th>\n",
       "      <td>2022-02-18 10:00:00</td>\n",
       "      <td>138.198822</td>\n",
       "      <td>179.957276</td>\n",
       "      <td>158.528785</td>\n",
       "      <td>162</td>\n",
       "    </tr>\n",
       "    <tr>\n",
       "      <th>1989</th>\n",
       "      <td>2022-02-18 11:00:00</td>\n",
       "      <td>137.348261</td>\n",
       "      <td>178.650090</td>\n",
       "      <td>157.905966</td>\n",
       "      <td>160</td>\n",
       "    </tr>\n",
       "    <tr>\n",
       "      <th>1990</th>\n",
       "      <td>2022-02-18 12:00:00</td>\n",
       "      <td>135.966105</td>\n",
       "      <td>179.409789</td>\n",
       "      <td>158.198033</td>\n",
       "      <td>156</td>\n",
       "    </tr>\n",
       "    <tr>\n",
       "      <th>1991</th>\n",
       "      <td>2022-02-18 13:00:00</td>\n",
       "      <td>138.283558</td>\n",
       "      <td>179.031704</td>\n",
       "      <td>159.121681</td>\n",
       "      <td>163</td>\n",
       "    </tr>\n",
       "    <tr>\n",
       "      <th>1992</th>\n",
       "      <td>2022-02-18 14:00:00</td>\n",
       "      <td>138.346805</td>\n",
       "      <td>181.110877</td>\n",
       "      <td>159.891083</td>\n",
       "      <td>174</td>\n",
       "    </tr>\n",
       "  </tbody>\n",
       "</table>\n",
       "</div>"
      ],
      "text/plain": [
       "                      ds  yhat_lower  yhat_upper        yhat    y\n",
       "1988 2022-02-18 10:00:00  138.198822  179.957276  158.528785  162\n",
       "1989 2022-02-18 11:00:00  137.348261  178.650090  157.905966  160\n",
       "1990 2022-02-18 12:00:00  135.966105  179.409789  158.198033  156\n",
       "1991 2022-02-18 13:00:00  138.283558  179.031704  159.121681  163\n",
       "1992 2022-02-18 14:00:00  138.346805  181.110877  159.891083  174"
      ]
     },
     "execution_count": 37,
     "metadata": {},
     "output_type": "execute_result"
    }
   ],
   "source": [
    "df_tma_anc_merge.tail()"
   ]
  },
  {
   "cell_type": "code",
   "execution_count": 38,
   "metadata": {
    "execution": {
     "iopub.execute_input": "2022-03-30T17:02:12.44772Z",
     "iopub.status.busy": "2022-03-30T17:02:12.446872Z",
     "iopub.status.idle": "2022-03-30T17:02:12.455506Z",
     "shell.execute_reply": "2022-03-30T17:02:12.454706Z",
     "shell.execute_reply.started": "2022-03-30T17:02:12.447665Z"
    },
    "id": "h3g-k2Bd-wlT"
   },
   "outputs": [],
   "source": [
    "prophet_mse = mean_squared_error(df_tma_anc_merge['y'], df_tma_anc_merge['yhat'])\n",
    "prophet_rmse = np.sqrt(mean_squared_error(df_tma_anc_merge['y'], df_tma_anc_merge['yhat']))"
   ]
  },
  {
   "cell_type": "code",
   "execution_count": 39,
   "metadata": {
    "execution": {
     "iopub.execute_input": "2022-03-30T17:02:12.457118Z",
     "iopub.status.busy": "2022-03-30T17:02:12.456647Z",
     "iopub.status.idle": "2022-03-30T17:02:12.473775Z",
     "shell.execute_reply": "2022-03-30T17:02:12.473003Z",
     "shell.execute_reply.started": "2022-03-30T17:02:12.45708Z"
    },
    "id": "shJVx922-wh5",
    "outputId": "8362eca7-9488-45b3-c55d-b5553b8ab96c"
   },
   "outputs": [
    {
     "name": "stdout",
     "output_type": "stream",
     "text": [
      "Prophet MSE: 269.4433\n",
      "Prophet RMSE: 16.4147\n"
     ]
    }
   ],
   "source": [
    "print(\"Prophet MSE: {:.4f}\".format(prophet_mse))\n",
    "print(\"Prophet RMSE: {:.4f}\".format(prophet_rmse))"
   ]
  },
  {
   "cell_type": "markdown",
   "metadata": {
    "id": "Ut0bqOp6NKXB"
   },
   "source": [
    "## NeuralProphet"
   ]
  },
  {
   "cell_type": "code",
   "execution_count": 40,
   "metadata": {
    "execution": {
     "iopub.execute_input": "2022-03-30T17:02:12.475484Z",
     "iopub.status.busy": "2022-03-30T17:02:12.475082Z",
     "iopub.status.idle": "2022-03-30T17:02:21.811484Z",
     "shell.execute_reply": "2022-03-30T17:02:21.810411Z",
     "shell.execute_reply.started": "2022-03-30T17:02:12.47545Z"
    },
    "id": "_MmLi72YQUzB"
   },
   "outputs": [],
   "source": [
    "!pip install neuralprophet -q"
   ]
  },
  {
   "cell_type": "code",
   "execution_count": 41,
   "metadata": {
    "execution": {
     "iopub.execute_input": "2022-03-30T17:02:21.813496Z",
     "iopub.status.busy": "2022-03-30T17:02:21.813185Z",
     "iopub.status.idle": "2022-03-30T17:02:21.819001Z",
     "shell.execute_reply": "2022-03-30T17:02:21.817958Z",
     "shell.execute_reply.started": "2022-03-30T17:02:21.813461Z"
    },
    "id": "z8ZOYrkOQ5A_"
   },
   "outputs": [],
   "source": [
    "from neuralprophet import NeuralProphet, set_random_seed"
   ]
  },
  {
   "cell_type": "code",
   "execution_count": 42,
   "metadata": {
    "execution": {
     "iopub.execute_input": "2022-03-30T17:02:21.820614Z",
     "iopub.status.busy": "2022-03-30T17:02:21.820388Z",
     "iopub.status.idle": "2022-03-30T17:02:21.833023Z",
     "shell.execute_reply": "2022-03-30T17:02:21.832148Z",
     "shell.execute_reply.started": "2022-03-30T17:02:21.820586Z"
    },
    "id": "jzVA9PzwVDWF"
   },
   "outputs": [],
   "source": [
    "set_random_seed(42)"
   ]
  },
  {
   "cell_type": "code",
   "execution_count": 43,
   "metadata": {
    "execution": {
     "iopub.execute_input": "2022-03-30T17:02:21.835053Z",
     "iopub.status.busy": "2022-03-30T17:02:21.834571Z",
     "iopub.status.idle": "2022-03-30T17:02:21.851987Z",
     "shell.execute_reply": "2022-03-30T17:02:21.851222Z",
     "shell.execute_reply.started": "2022-03-30T17:02:21.835018Z"
    },
    "id": "j1etU6abQU2_"
   },
   "outputs": [],
   "source": [
    "nm = NeuralProphet(seasonality_mode='additive')"
   ]
  },
  {
   "cell_type": "code",
   "execution_count": 44,
   "metadata": {
    "execution": {
     "iopub.execute_input": "2022-03-30T17:02:21.854008Z",
     "iopub.status.busy": "2022-03-30T17:02:21.853598Z",
     "iopub.status.idle": "2022-03-30T17:02:42.778641Z",
     "shell.execute_reply": "2022-03-30T17:02:42.777587Z",
     "shell.execute_reply.started": "2022-03-30T17:02:21.853972Z"
    },
    "id": "94DWQAlRQU6l",
    "outputId": "e119abca-ba94-48f8-cf50-60a76f8bbce8"
   },
   "outputs": [
    {
     "name": "stderr",
     "output_type": "stream",
     "text": [
      "INFO - (NP.df_utils._infer_frequency) - Major frequency H corresponds to 90.968% of the data.\n",
      "INFO:NP.df_utils:Major frequency H corresponds to 90.968% of the data.\n",
      "INFO - (NP.df_utils._infer_frequency) - Defined frequency is equal to major frequency - H\n",
      "INFO:NP.df_utils:Defined frequency is equal to major frequency - H\n",
      "INFO - (NP.config.init_data_params) - Setting normalization to global as only one dataframe provided for training.\n",
      "INFO:NP.config:Setting normalization to global as only one dataframe provided for training.\n",
      "INFO - (NP.utils.set_auto_seasonalities) - Disabling yearly seasonality. Run NeuralProphet with yearly_seasonality=True to override this.\n",
      "INFO:NP.utils:Disabling yearly seasonality. Run NeuralProphet with yearly_seasonality=True to override this.\n",
      "INFO - (NP.config.set_auto_batch_epoch) - Auto-set batch_size to 32\n",
      "INFO:NP.config:Auto-set batch_size to 32\n",
      "INFO - (NP.config.set_auto_batch_epoch) - Auto-set epochs to 158\n",
      "INFO:NP.config:Auto-set epochs to 158\n"
     ]
    },
    {
     "data": {
      "application/vnd.jupyter.widget-view+json": {
       "model_id": "3d70da69a59b4d4ba80534296763223e",
       "version_major": 2,
       "version_minor": 0
      },
      "text/plain": [
       "  0%|          | 0/133 [00:00<?, ?it/s]"
      ]
     },
     "metadata": {},
     "output_type": "display_data"
    },
    {
     "name": "stderr",
     "output_type": "stream",
     "text": [
      "INFO - (NP.utils_torch.lr_range_test) - lr-range-test results: steep: 7.31E-02, min: 1.23E+00\n",
      "INFO:NP.utils_torch:lr-range-test results: steep: 7.31E-02, min: 1.23E+00\n"
     ]
    },
    {
     "data": {
      "application/vnd.jupyter.widget-view+json": {
       "model_id": "eaac2dc8c22b457c977e2a4317e01709",
       "version_major": 2,
       "version_minor": 0
      },
      "text/plain": [
       "  0%|          | 0/133 [00:00<?, ?it/s]"
      ]
     },
     "metadata": {},
     "output_type": "display_data"
    },
    {
     "name": "stderr",
     "output_type": "stream",
     "text": [
      "INFO - (NP.utils_torch.lr_range_test) - lr-range-test results: steep: 2.57E-01, min: 1.44E+00\n",
      "INFO:NP.utils_torch:lr-range-test results: steep: 2.57E-01, min: 1.44E+00\n",
      "INFO - (NP.forecaster._init_train_loader) - lr-range-test selected learning rate: 1.23E-01\n",
      "INFO:NP.forecaster:lr-range-test selected learning rate: 1.23E-01\n",
      "Epoch[158/158]: 100%|██████████| 158/158 [00:16<00:00,  9.31it/s, SmoothL1Loss=0.00222, MAE=9.7, RMSE=14.2, RegLoss=0] \n"
     ]
    },
    {
     "data": {
      "text/html": [
       "<div>\n",
       "<style scoped>\n",
       "    .dataframe tbody tr th:only-of-type {\n",
       "        vertical-align: middle;\n",
       "    }\n",
       "\n",
       "    .dataframe tbody tr th {\n",
       "        vertical-align: top;\n",
       "    }\n",
       "\n",
       "    .dataframe thead th {\n",
       "        text-align: right;\n",
       "    }\n",
       "</style>\n",
       "<table border=\"1\" class=\"dataframe\">\n",
       "  <thead>\n",
       "    <tr style=\"text-align: right;\">\n",
       "      <th></th>\n",
       "      <th>SmoothL1Loss</th>\n",
       "      <th>MAE</th>\n",
       "      <th>RMSE</th>\n",
       "      <th>RegLoss</th>\n",
       "    </tr>\n",
       "  </thead>\n",
       "  <tbody>\n",
       "    <tr>\n",
       "      <th>0</th>\n",
       "      <td>0.732371</td>\n",
       "      <td>277.049910</td>\n",
       "      <td>341.955735</td>\n",
       "      <td>0.0</td>\n",
       "    </tr>\n",
       "    <tr>\n",
       "      <th>1</th>\n",
       "      <td>0.614683</td>\n",
       "      <td>246.540598</td>\n",
       "      <td>303.585930</td>\n",
       "      <td>0.0</td>\n",
       "    </tr>\n",
       "    <tr>\n",
       "      <th>2</th>\n",
       "      <td>0.490637</td>\n",
       "      <td>213.503572</td>\n",
       "      <td>260.692658</td>\n",
       "      <td>0.0</td>\n",
       "    </tr>\n",
       "    <tr>\n",
       "      <th>3</th>\n",
       "      <td>0.352537</td>\n",
       "      <td>175.257683</td>\n",
       "      <td>212.765280</td>\n",
       "      <td>0.0</td>\n",
       "    </tr>\n",
       "    <tr>\n",
       "      <th>4</th>\n",
       "      <td>0.210597</td>\n",
       "      <td>133.261884</td>\n",
       "      <td>158.225494</td>\n",
       "      <td>0.0</td>\n",
       "    </tr>\n",
       "    <tr>\n",
       "      <th>...</th>\n",
       "      <td>...</td>\n",
       "      <td>...</td>\n",
       "      <td>...</td>\n",
       "      <td>...</td>\n",
       "    </tr>\n",
       "    <tr>\n",
       "      <th>153</th>\n",
       "      <td>0.002243</td>\n",
       "      <td>9.739124</td>\n",
       "      <td>14.320898</td>\n",
       "      <td>0.0</td>\n",
       "    </tr>\n",
       "    <tr>\n",
       "      <th>154</th>\n",
       "      <td>0.002236</td>\n",
       "      <td>9.757182</td>\n",
       "      <td>14.269255</td>\n",
       "      <td>0.0</td>\n",
       "    </tr>\n",
       "    <tr>\n",
       "      <th>155</th>\n",
       "      <td>0.002228</td>\n",
       "      <td>9.703414</td>\n",
       "      <td>14.427413</td>\n",
       "      <td>0.0</td>\n",
       "    </tr>\n",
       "    <tr>\n",
       "      <th>156</th>\n",
       "      <td>0.002226</td>\n",
       "      <td>9.706246</td>\n",
       "      <td>14.352447</td>\n",
       "      <td>0.0</td>\n",
       "    </tr>\n",
       "    <tr>\n",
       "      <th>157</th>\n",
       "      <td>0.002223</td>\n",
       "      <td>9.699444</td>\n",
       "      <td>14.192844</td>\n",
       "      <td>0.0</td>\n",
       "    </tr>\n",
       "  </tbody>\n",
       "</table>\n",
       "<p>158 rows × 4 columns</p>\n",
       "</div>"
      ],
      "text/plain": [
       "     SmoothL1Loss         MAE        RMSE  RegLoss\n",
       "0        0.732371  277.049910  341.955735      0.0\n",
       "1        0.614683  246.540598  303.585930      0.0\n",
       "2        0.490637  213.503572  260.692658      0.0\n",
       "3        0.352537  175.257683  212.765280      0.0\n",
       "4        0.210597  133.261884  158.225494      0.0\n",
       "..            ...         ...         ...      ...\n",
       "153      0.002243    9.739124   14.320898      0.0\n",
       "154      0.002236    9.757182   14.269255      0.0\n",
       "155      0.002228    9.703414   14.427413      0.0\n",
       "156      0.002226    9.706246   14.352447      0.0\n",
       "157      0.002223    9.699444   14.192844      0.0\n",
       "\n",
       "[158 rows x 4 columns]"
      ]
     },
     "execution_count": 44,
     "metadata": {},
     "output_type": "execute_result"
    }
   ],
   "source": [
    "nm.fit(df_tma_anc, freq='H')"
   ]
  },
  {
   "cell_type": "code",
   "execution_count": 45,
   "metadata": {
    "execution": {
     "iopub.execute_input": "2022-03-30T17:02:42.781104Z",
     "iopub.status.busy": "2022-03-30T17:02:42.780764Z",
     "iopub.status.idle": "2022-03-30T17:02:42.823118Z",
     "shell.execute_reply": "2022-03-30T17:02:42.822219Z",
     "shell.execute_reply.started": "2022-03-30T17:02:42.781055Z"
    },
    "id": "2712r-y6QU_J"
   },
   "outputs": [
    {
     "name": "stderr",
     "output_type": "stream",
     "text": [
      "INFO - (NP.df_utils._infer_frequency) - Major frequency H corresponds to 85.349% of the data.\n",
      "INFO:NP.df_utils:Major frequency H corresponds to 85.349% of the data.\n",
      "INFO - (NP.df_utils._infer_frequency) - Defined frequency is equal to major frequency - H\n",
      "INFO:NP.df_utils:Defined frequency is equal to major frequency - H\n"
     ]
    },
    {
     "data": {
      "text/html": [
       "<div>\n",
       "<style scoped>\n",
       "    .dataframe tbody tr th:only-of-type {\n",
       "        vertical-align: middle;\n",
       "    }\n",
       "\n",
       "    .dataframe tbody tr th {\n",
       "        vertical-align: top;\n",
       "    }\n",
       "\n",
       "    .dataframe thead th {\n",
       "        text-align: right;\n",
       "    }\n",
       "</style>\n",
       "<table border=\"1\" class=\"dataframe\">\n",
       "  <thead>\n",
       "    <tr style=\"text-align: right;\">\n",
       "      <th></th>\n",
       "      <th>ds</th>\n",
       "      <th>y</th>\n",
       "    </tr>\n",
       "  </thead>\n",
       "  <tbody>\n",
       "    <tr>\n",
       "      <th>0</th>\n",
       "      <td>2021-11-16 03:00:00</td>\n",
       "      <td>188</td>\n",
       "    </tr>\n",
       "    <tr>\n",
       "      <th>1</th>\n",
       "      <td>2021-11-16 04:00:00</td>\n",
       "      <td>194</td>\n",
       "    </tr>\n",
       "    <tr>\n",
       "      <th>2</th>\n",
       "      <td>2021-11-16 05:00:00</td>\n",
       "      <td>200</td>\n",
       "    </tr>\n",
       "    <tr>\n",
       "      <th>3</th>\n",
       "      <td>2021-11-16 07:00:00</td>\n",
       "      <td>212</td>\n",
       "    </tr>\n",
       "    <tr>\n",
       "      <th>4</th>\n",
       "      <td>2021-11-17 00:00:00</td>\n",
       "      <td>168</td>\n",
       "    </tr>\n",
       "    <tr>\n",
       "      <th>...</th>\n",
       "      <td>...</td>\n",
       "      <td>...</td>\n",
       "    </tr>\n",
       "    <tr>\n",
       "      <th>3428</th>\n",
       "      <td>2022-04-19 10:00:00</td>\n",
       "      <td>None</td>\n",
       "    </tr>\n",
       "    <tr>\n",
       "      <th>3429</th>\n",
       "      <td>2022-04-19 11:00:00</td>\n",
       "      <td>None</td>\n",
       "    </tr>\n",
       "    <tr>\n",
       "      <th>3430</th>\n",
       "      <td>2022-04-19 12:00:00</td>\n",
       "      <td>None</td>\n",
       "    </tr>\n",
       "    <tr>\n",
       "      <th>3431</th>\n",
       "      <td>2022-04-19 13:00:00</td>\n",
       "      <td>None</td>\n",
       "    </tr>\n",
       "    <tr>\n",
       "      <th>3432</th>\n",
       "      <td>2022-04-19 14:00:00</td>\n",
       "      <td>None</td>\n",
       "    </tr>\n",
       "  </tbody>\n",
       "</table>\n",
       "<p>3433 rows × 2 columns</p>\n",
       "</div>"
      ],
      "text/plain": [
       "                      ds     y\n",
       "0    2021-11-16 03:00:00   188\n",
       "1    2021-11-16 04:00:00   194\n",
       "2    2021-11-16 05:00:00   200\n",
       "3    2021-11-16 07:00:00   212\n",
       "4    2021-11-17 00:00:00   168\n",
       "...                  ...   ...\n",
       "3428 2022-04-19 10:00:00  None\n",
       "3429 2022-04-19 11:00:00  None\n",
       "3430 2022-04-19 12:00:00  None\n",
       "3431 2022-04-19 13:00:00  None\n",
       "3432 2022-04-19 14:00:00  None\n",
       "\n",
       "[3433 rows x 2 columns]"
      ]
     },
     "execution_count": 45,
     "metadata": {},
     "output_type": "execute_result"
    }
   ],
   "source": [
    "n_future = nm.make_future_dataframe(df_tma_anc, periods=1440, n_historic_predictions=len(df_tma_anc))\n",
    "n_future"
   ]
  },
  {
   "cell_type": "code",
   "execution_count": 46,
   "metadata": {
    "execution": {
     "iopub.execute_input": "2022-03-30T17:02:42.824723Z",
     "iopub.status.busy": "2022-03-30T17:02:42.824463Z",
     "iopub.status.idle": "2022-03-30T17:02:42.837215Z",
     "shell.execute_reply": "2022-03-30T17:02:42.836233Z",
     "shell.execute_reply.started": "2022-03-30T17:02:42.824689Z"
    },
    "id": "YEDwelt4QVEC",
    "outputId": "05320861-f7fa-4dd1-d08e-146d658bb393"
   },
   "outputs": [
    {
     "data": {
      "text/html": [
       "<div>\n",
       "<style scoped>\n",
       "    .dataframe tbody tr th:only-of-type {\n",
       "        vertical-align: middle;\n",
       "    }\n",
       "\n",
       "    .dataframe tbody tr th {\n",
       "        vertical-align: top;\n",
       "    }\n",
       "\n",
       "    .dataframe thead th {\n",
       "        text-align: right;\n",
       "    }\n",
       "</style>\n",
       "<table border=\"1\" class=\"dataframe\">\n",
       "  <thead>\n",
       "    <tr style=\"text-align: right;\">\n",
       "      <th></th>\n",
       "      <th>ds</th>\n",
       "      <th>y</th>\n",
       "    </tr>\n",
       "  </thead>\n",
       "  <tbody>\n",
       "    <tr>\n",
       "      <th>3428</th>\n",
       "      <td>2022-04-19 10:00:00</td>\n",
       "      <td>None</td>\n",
       "    </tr>\n",
       "    <tr>\n",
       "      <th>3429</th>\n",
       "      <td>2022-04-19 11:00:00</td>\n",
       "      <td>None</td>\n",
       "    </tr>\n",
       "    <tr>\n",
       "      <th>3430</th>\n",
       "      <td>2022-04-19 12:00:00</td>\n",
       "      <td>None</td>\n",
       "    </tr>\n",
       "    <tr>\n",
       "      <th>3431</th>\n",
       "      <td>2022-04-19 13:00:00</td>\n",
       "      <td>None</td>\n",
       "    </tr>\n",
       "    <tr>\n",
       "      <th>3432</th>\n",
       "      <td>2022-04-19 14:00:00</td>\n",
       "      <td>None</td>\n",
       "    </tr>\n",
       "  </tbody>\n",
       "</table>\n",
       "</div>"
      ],
      "text/plain": [
       "                      ds     y\n",
       "3428 2022-04-19 10:00:00  None\n",
       "3429 2022-04-19 11:00:00  None\n",
       "3430 2022-04-19 12:00:00  None\n",
       "3431 2022-04-19 13:00:00  None\n",
       "3432 2022-04-19 14:00:00  None"
      ]
     },
     "execution_count": 46,
     "metadata": {},
     "output_type": "execute_result"
    }
   ],
   "source": [
    "n_future.tail()"
   ]
  },
  {
   "cell_type": "code",
   "execution_count": 47,
   "metadata": {
    "execution": {
     "iopub.execute_input": "2022-03-30T17:02:42.840629Z",
     "iopub.status.busy": "2022-03-30T17:02:42.839075Z",
     "iopub.status.idle": "2022-03-30T17:02:44.264632Z",
     "shell.execute_reply": "2022-03-30T17:02:44.263617Z",
     "shell.execute_reply.started": "2022-03-30T17:02:42.840566Z"
    },
    "id": "9itH7Z1sQVIM"
   },
   "outputs": [
    {
     "name": "stderr",
     "output_type": "stream",
     "text": [
      "INFO - (NP.df_utils._infer_frequency) - Major frequency H corresponds to 94.757% of the data.\n",
      "INFO:NP.df_utils:Major frequency H corresponds to 94.757% of the data.\n",
      "INFO - (NP.df_utils._infer_frequency) - Defined frequency is equal to major frequency - H\n",
      "INFO:NP.df_utils:Defined frequency is equal to major frequency - H\n",
      "INFO - (NP.df_utils._infer_frequency) - Major frequency H corresponds to 94.757% of the data.\n",
      "INFO:NP.df_utils:Major frequency H corresponds to 94.757% of the data.\n",
      "INFO - (NP.df_utils._infer_frequency) - Defined frequency is equal to major frequency - H\n",
      "INFO:NP.df_utils:Defined frequency is equal to major frequency - H\n"
     ]
    }
   ],
   "source": [
    "n_forecast = nm.predict(n_future)"
   ]
  },
  {
   "cell_type": "code",
   "execution_count": 48,
   "metadata": {
    "execution": {
     "iopub.execute_input": "2022-03-30T17:02:44.266807Z",
     "iopub.status.busy": "2022-03-30T17:02:44.266448Z",
     "iopub.status.idle": "2022-03-30T17:02:44.284602Z",
     "shell.execute_reply": "2022-03-30T17:02:44.283315Z",
     "shell.execute_reply.started": "2022-03-30T17:02:44.266757Z"
    }
   },
   "outputs": [
    {
     "name": "stdout",
     "output_type": "stream",
     "text": [
      "<class 'pandas.core.frame.DataFrame'>\n",
      "RangeIndex: 3433 entries, 0 to 3432\n",
      "Data columns (total 7 columns):\n",
      " #   Column         Non-Null Count  Dtype         \n",
      "---  ------         --------------  -----         \n",
      " 0   ds             3433 non-null   datetime64[ns]\n",
      " 1   y              1993 non-null   object        \n",
      " 2   yhat1          3433 non-null   float64       \n",
      " 3   residual1      1993 non-null   object        \n",
      " 4   trend          3433 non-null   float64       \n",
      " 5   season_weekly  3433 non-null   float64       \n",
      " 6   season_daily   3433 non-null   float64       \n",
      "dtypes: datetime64[ns](1), float64(4), object(2)\n",
      "memory usage: 187.9+ KB\n"
     ]
    }
   ],
   "source": [
    "n_forecast.info()"
   ]
  },
  {
   "cell_type": "code",
   "execution_count": 49,
   "metadata": {
    "execution": {
     "iopub.execute_input": "2022-03-30T17:02:44.286968Z",
     "iopub.status.busy": "2022-03-30T17:02:44.286518Z",
     "iopub.status.idle": "2022-03-30T17:02:44.304392Z",
     "shell.execute_reply": "2022-03-30T17:02:44.303224Z",
     "shell.execute_reply.started": "2022-03-30T17:02:44.286915Z"
    },
    "id": "pAxbeCwCQVMu",
    "outputId": "93e7f551-74ca-4717-f0a5-0a97d05ef94f"
   },
   "outputs": [
    {
     "data": {
      "text/html": [
       "<div>\n",
       "<style scoped>\n",
       "    .dataframe tbody tr th:only-of-type {\n",
       "        vertical-align: middle;\n",
       "    }\n",
       "\n",
       "    .dataframe tbody tr th {\n",
       "        vertical-align: top;\n",
       "    }\n",
       "\n",
       "    .dataframe thead th {\n",
       "        text-align: right;\n",
       "    }\n",
       "</style>\n",
       "<table border=\"1\" class=\"dataframe\">\n",
       "  <thead>\n",
       "    <tr style=\"text-align: right;\">\n",
       "      <th></th>\n",
       "      <th>ds</th>\n",
       "      <th>y</th>\n",
       "      <th>yhat1</th>\n",
       "      <th>residual1</th>\n",
       "      <th>trend</th>\n",
       "      <th>season_weekly</th>\n",
       "      <th>season_daily</th>\n",
       "    </tr>\n",
       "  </thead>\n",
       "  <tbody>\n",
       "    <tr>\n",
       "      <th>3428</th>\n",
       "      <td>2022-04-19 10:00:00</td>\n",
       "      <td>None</td>\n",
       "      <td>215.662537</td>\n",
       "      <td>NaN</td>\n",
       "      <td>211.677856</td>\n",
       "      <td>0.055480</td>\n",
       "      <td>3.929209</td>\n",
       "    </tr>\n",
       "    <tr>\n",
       "      <th>3429</th>\n",
       "      <td>2022-04-19 11:00:00</td>\n",
       "      <td>None</td>\n",
       "      <td>215.071838</td>\n",
       "      <td>NaN</td>\n",
       "      <td>211.715790</td>\n",
       "      <td>0.275376</td>\n",
       "      <td>3.080703</td>\n",
       "    </tr>\n",
       "    <tr>\n",
       "      <th>3430</th>\n",
       "      <td>2022-04-19 12:00:00</td>\n",
       "      <td>None</td>\n",
       "      <td>216.009949</td>\n",
       "      <td>NaN</td>\n",
       "      <td>211.753723</td>\n",
       "      <td>0.502976</td>\n",
       "      <td>3.753251</td>\n",
       "    </tr>\n",
       "    <tr>\n",
       "      <th>3431</th>\n",
       "      <td>2022-04-19 13:00:00</td>\n",
       "      <td>None</td>\n",
       "      <td>217.794647</td>\n",
       "      <td>NaN</td>\n",
       "      <td>211.791656</td>\n",
       "      <td>0.736347</td>\n",
       "      <td>5.266654</td>\n",
       "    </tr>\n",
       "    <tr>\n",
       "      <th>3432</th>\n",
       "      <td>2022-04-19 14:00:00</td>\n",
       "      <td>None</td>\n",
       "      <td>218.068848</td>\n",
       "      <td>NaN</td>\n",
       "      <td>211.829590</td>\n",
       "      <td>0.973459</td>\n",
       "      <td>5.265783</td>\n",
       "    </tr>\n",
       "  </tbody>\n",
       "</table>\n",
       "</div>"
      ],
      "text/plain": [
       "                      ds     y       yhat1 residual1       trend  \\\n",
       "3428 2022-04-19 10:00:00  None  215.662537       NaN  211.677856   \n",
       "3429 2022-04-19 11:00:00  None  215.071838       NaN  211.715790   \n",
       "3430 2022-04-19 12:00:00  None  216.009949       NaN  211.753723   \n",
       "3431 2022-04-19 13:00:00  None  217.794647       NaN  211.791656   \n",
       "3432 2022-04-19 14:00:00  None  218.068848       NaN  211.829590   \n",
       "\n",
       "      season_weekly  season_daily  \n",
       "3428       0.055480      3.929209  \n",
       "3429       0.275376      3.080703  \n",
       "3430       0.502976      3.753251  \n",
       "3431       0.736347      5.266654  \n",
       "3432       0.973459      5.265783  "
      ]
     },
     "execution_count": 49,
     "metadata": {},
     "output_type": "execute_result"
    }
   ],
   "source": [
    "n_forecast.tail()"
   ]
  },
  {
   "cell_type": "code",
   "execution_count": 50,
   "metadata": {
    "execution": {
     "iopub.execute_input": "2022-03-30T17:02:44.307182Z",
     "iopub.status.busy": "2022-03-30T17:02:44.305958Z",
     "iopub.status.idle": "2022-03-30T17:02:44.620953Z",
     "shell.execute_reply": "2022-03-30T17:02:44.619921Z",
     "shell.execute_reply.started": "2022-03-30T17:02:44.307084Z"
    },
    "id": "BDfgTxJgQVRz",
    "outputId": "bbf586f8-beb6-4467-d367-d86b362c7e7f"
   },
   "outputs": [
    {
     "name": "stderr",
     "output_type": "stream",
     "text": [
      "WARNING:matplotlib.legend:No artists with labels found to put in legend.  Note that artists whose label start with an underscore are ignored when legend() is called with no argument.\n"
     ]
    },
    {
     "data": {
      "text/plain": [
       "<matplotlib.legend.Legend at 0x7f977971a760>"
      ]
     },
     "execution_count": 50,
     "metadata": {},
     "output_type": "execute_result"
    },
    {
     "data": {
      "image/png": "[encoded data removed]",
      "text/plain": [
       "<Figure size 864x432 with 1 Axes>"
      ]
     },
     "metadata": {},
     "output_type": "display_data"
    }
   ],
   "source": [
    "plt.figure(figsize=(12,6))\n",
    "plt.xticks(rotation=45)\n",
    "plt.title(\"Detail of Forecast using NeuralProphet\")\n",
    "plt.plot(n_forecast['ds'], n_forecast['yhat1'], marker='.', c='red')\n",
    "plt.legend()"
   ]
  },
  {
   "cell_type": "code",
   "execution_count": 51,
   "metadata": {
    "execution": {
     "iopub.execute_input": "2022-03-30T17:09:46.52695Z",
     "iopub.status.busy": "2022-03-30T17:09:46.526525Z",
     "iopub.status.idle": "2022-03-30T17:09:46.917367Z",
     "shell.execute_reply": "2022-03-30T17:09:46.916269Z",
     "shell.execute_reply.started": "2022-03-30T17:09:46.526911Z"
    },
    "id": "RlRTtEIOQVXh",
    "outputId": "a4807c9c-183b-4251-bc24-05ae03933b03"
   },
   "outputs": [
    {
     "data": {
      "text/plain": [
       "Text(0.5, 1.0, 'Forecast of the Time Series in the next 60 days (1440 hours)')"
      ]
     },
     "execution_count": 51,
     "metadata": {},
     "output_type": "execute_result"
    },
    {
     "data": {
      "image/png": "[encoded data removed]",
      "text/plain": [
       "<Figure size 720x432 with 1 Axes>"
      ]
     },
     "metadata": {},
     "output_type": "display_data"
    }
   ],
   "source": [
    "nm.plot(pd.concat([df_tma_anc, n_forecast], ignore_index=True));\n",
    "plt.title(\"Forecast of the Time Series in the next 60 days (1440 hours)\")"
   ]
  },
  {
   "cell_type": "code",
   "execution_count": 52,
   "metadata": {
    "execution": {
     "iopub.execute_input": "2022-03-30T17:02:45.006237Z",
     "iopub.status.busy": "2022-03-30T17:02:45.005428Z",
     "iopub.status.idle": "2022-03-30T17:02:45.894081Z",
     "shell.execute_reply": "2022-03-30T17:02:45.893072Z",
     "shell.execute_reply.started": "2022-03-30T17:02:45.006183Z"
    }
   },
   "outputs": [
    {
     "data": {
      "image/png": "[encoded data removed]",
      "text/plain": [
       "<Figure size 720x648 with 3 Axes>"
      ]
     },
     "metadata": {},
     "output_type": "display_data"
    }
   ],
   "source": [
    "nm.plot_components(pd.concat([df_tma_anc, n_forecast], ignore_index=True));"
   ]
  },
  {
   "cell_type": "markdown",
   "metadata": {
    "id": "PxQPboiBTGk6"
   },
   "source": [
    "### Performance Metrics"
   ]
  },
  {
   "cell_type": "code",
   "execution_count": 53,
   "metadata": {
    "execution": {
     "iopub.execute_input": "2022-03-30T17:02:45.8961Z",
     "iopub.status.busy": "2022-03-30T17:02:45.895741Z",
     "iopub.status.idle": "2022-03-30T17:02:45.919223Z",
     "shell.execute_reply": "2022-03-30T17:02:45.918366Z",
     "shell.execute_reply.started": "2022-03-30T17:02:45.896052Z"
    }
   },
   "outputs": [
    {
     "data": {
      "text/html": [
       "<div>\n",
       "<style scoped>\n",
       "    .dataframe tbody tr th:only-of-type {\n",
       "        vertical-align: middle;\n",
       "    }\n",
       "\n",
       "    .dataframe tbody tr th {\n",
       "        vertical-align: top;\n",
       "    }\n",
       "\n",
       "    .dataframe thead th {\n",
       "        text-align: right;\n",
       "    }\n",
       "</style>\n",
       "<table border=\"1\" class=\"dataframe\">\n",
       "  <thead>\n",
       "    <tr style=\"text-align: right;\">\n",
       "      <th></th>\n",
       "      <th>ds</th>\n",
       "      <th>y</th>\n",
       "      <th>yhat1</th>\n",
       "      <th>residual1</th>\n",
       "      <th>trend</th>\n",
       "      <th>season_weekly</th>\n",
       "      <th>season_daily</th>\n",
       "    </tr>\n",
       "  </thead>\n",
       "  <tbody>\n",
       "    <tr>\n",
       "      <th>0</th>\n",
       "      <td>2021-11-16 03:00:00</td>\n",
       "      <td>188</td>\n",
       "      <td>177.547028</td>\n",
       "      <td>-10.452972</td>\n",
       "      <td>176.354065</td>\n",
       "      <td>-1.134346</td>\n",
       "      <td>2.327324</td>\n",
       "    </tr>\n",
       "    <tr>\n",
       "      <th>1</th>\n",
       "      <td>2021-11-16 04:00:00</td>\n",
       "      <td>194</td>\n",
       "      <td>179.442688</td>\n",
       "      <td>-14.557312</td>\n",
       "      <td>176.289368</td>\n",
       "      <td>-1.010618</td>\n",
       "      <td>4.163929</td>\n",
       "    </tr>\n",
       "    <tr>\n",
       "      <th>2</th>\n",
       "      <td>2021-11-16 05:00:00</td>\n",
       "      <td>200</td>\n",
       "      <td>181.423355</td>\n",
       "      <td>-18.576645</td>\n",
       "      <td>176.224686</td>\n",
       "      <td>-0.869843</td>\n",
       "      <td>6.068498</td>\n",
       "    </tr>\n",
       "    <tr>\n",
       "      <th>3</th>\n",
       "      <td>2021-11-16 07:00:00</td>\n",
       "      <td>212</td>\n",
       "      <td>183.783386</td>\n",
       "      <td>-28.216614</td>\n",
       "      <td>176.095306</td>\n",
       "      <td>-0.540478</td>\n",
       "      <td>8.228549</td>\n",
       "    </tr>\n",
       "    <tr>\n",
       "      <th>4</th>\n",
       "      <td>2021-11-17 00:00:00</td>\n",
       "      <td>168</td>\n",
       "      <td>169.560806</td>\n",
       "      <td>1.560806</td>\n",
       "      <td>174.995682</td>\n",
       "      <td>3.083025</td>\n",
       "      <td>-8.517905</td>\n",
       "    </tr>\n",
       "    <tr>\n",
       "      <th>...</th>\n",
       "      <td>...</td>\n",
       "      <td>...</td>\n",
       "      <td>...</td>\n",
       "      <td>...</td>\n",
       "      <td>...</td>\n",
       "      <td>...</td>\n",
       "      <td>...</td>\n",
       "    </tr>\n",
       "    <tr>\n",
       "      <th>3428</th>\n",
       "      <td>2022-04-19 10:00:00</td>\n",
       "      <td>None</td>\n",
       "      <td>215.662537</td>\n",
       "      <td>NaN</td>\n",
       "      <td>211.677856</td>\n",
       "      <td>0.055480</td>\n",
       "      <td>3.929209</td>\n",
       "    </tr>\n",
       "    <tr>\n",
       "      <th>3429</th>\n",
       "      <td>2022-04-19 11:00:00</td>\n",
       "      <td>None</td>\n",
       "      <td>215.071838</td>\n",
       "      <td>NaN</td>\n",
       "      <td>211.715790</td>\n",
       "      <td>0.275376</td>\n",
       "      <td>3.080703</td>\n",
       "    </tr>\n",
       "    <tr>\n",
       "      <th>3430</th>\n",
       "      <td>2022-04-19 12:00:00</td>\n",
       "      <td>None</td>\n",
       "      <td>216.009949</td>\n",
       "      <td>NaN</td>\n",
       "      <td>211.753723</td>\n",
       "      <td>0.502976</td>\n",
       "      <td>3.753251</td>\n",
       "    </tr>\n",
       "    <tr>\n",
       "      <th>3431</th>\n",
       "      <td>2022-04-19 13:00:00</td>\n",
       "      <td>None</td>\n",
       "      <td>217.794647</td>\n",
       "      <td>NaN</td>\n",
       "      <td>211.791656</td>\n",
       "      <td>0.736347</td>\n",
       "      <td>5.266654</td>\n",
       "    </tr>\n",
       "    <tr>\n",
       "      <th>3432</th>\n",
       "      <td>2022-04-19 14:00:00</td>\n",
       "      <td>None</td>\n",
       "      <td>218.068848</td>\n",
       "      <td>NaN</td>\n",
       "      <td>211.829590</td>\n",
       "      <td>0.973459</td>\n",
       "      <td>5.265783</td>\n",
       "    </tr>\n",
       "  </tbody>\n",
       "</table>\n",
       "<p>3433 rows × 7 columns</p>\n",
       "</div>"
      ],
      "text/plain": [
       "                      ds     y       yhat1  residual1       trend  \\\n",
       "0    2021-11-16 03:00:00   188  177.547028 -10.452972  176.354065   \n",
       "1    2021-11-16 04:00:00   194  179.442688 -14.557312  176.289368   \n",
       "2    2021-11-16 05:00:00   200  181.423355 -18.576645  176.224686   \n",
       "3    2021-11-16 07:00:00   212  183.783386 -28.216614  176.095306   \n",
       "4    2021-11-17 00:00:00   168  169.560806   1.560806  174.995682   \n",
       "...                  ...   ...         ...        ...         ...   \n",
       "3428 2022-04-19 10:00:00  None  215.662537        NaN  211.677856   \n",
       "3429 2022-04-19 11:00:00  None  215.071838        NaN  211.715790   \n",
       "3430 2022-04-19 12:00:00  None  216.009949        NaN  211.753723   \n",
       "3431 2022-04-19 13:00:00  None  217.794647        NaN  211.791656   \n",
       "3432 2022-04-19 14:00:00  None  218.068848        NaN  211.829590   \n",
       "\n",
       "      season_weekly  season_daily  \n",
       "0         -1.134346      2.327324  \n",
       "1         -1.010618      4.163929  \n",
       "2         -0.869843      6.068498  \n",
       "3         -0.540478      8.228549  \n",
       "4          3.083025     -8.517905  \n",
       "...             ...           ...  \n",
       "3428       0.055480      3.929209  \n",
       "3429       0.275376      3.080703  \n",
       "3430       0.502976      3.753251  \n",
       "3431       0.736347      5.266654  \n",
       "3432       0.973459      5.265783  \n",
       "\n",
       "[3433 rows x 7 columns]"
      ]
     },
     "execution_count": 53,
     "metadata": {},
     "output_type": "execute_result"
    }
   ],
   "source": [
    "n_forecast"
   ]
  },
  {
   "cell_type": "code",
   "execution_count": 54,
   "metadata": {
    "execution": {
     "iopub.execute_input": "2022-03-30T17:02:45.920891Z",
     "iopub.status.busy": "2022-03-30T17:02:45.920619Z",
     "iopub.status.idle": "2022-03-30T17:02:45.944197Z",
     "shell.execute_reply": "2022-03-30T17:02:45.943179Z",
     "shell.execute_reply.started": "2022-03-30T17:02:45.92085Z"
    }
   },
   "outputs": [
    {
     "data": {
      "text/html": [
       "<div>\n",
       "<style scoped>\n",
       "    .dataframe tbody tr th:only-of-type {\n",
       "        vertical-align: middle;\n",
       "    }\n",
       "\n",
       "    .dataframe tbody tr th {\n",
       "        vertical-align: top;\n",
       "    }\n",
       "\n",
       "    .dataframe thead th {\n",
       "        text-align: right;\n",
       "    }\n",
       "</style>\n",
       "<table border=\"1\" class=\"dataframe\">\n",
       "  <thead>\n",
       "    <tr style=\"text-align: right;\">\n",
       "      <th></th>\n",
       "      <th>ds</th>\n",
       "      <th>yhat1</th>\n",
       "      <th>residual1</th>\n",
       "      <th>y</th>\n",
       "    </tr>\n",
       "  </thead>\n",
       "  <tbody>\n",
       "    <tr>\n",
       "      <th>0</th>\n",
       "      <td>2021-11-16 03:00:00</td>\n",
       "      <td>177.547028</td>\n",
       "      <td>-10.452972</td>\n",
       "      <td>188</td>\n",
       "    </tr>\n",
       "    <tr>\n",
       "      <th>1</th>\n",
       "      <td>2021-11-16 04:00:00</td>\n",
       "      <td>179.442688</td>\n",
       "      <td>-14.557312</td>\n",
       "      <td>194</td>\n",
       "    </tr>\n",
       "    <tr>\n",
       "      <th>2</th>\n",
       "      <td>2021-11-16 05:00:00</td>\n",
       "      <td>181.423355</td>\n",
       "      <td>-18.576645</td>\n",
       "      <td>200</td>\n",
       "    </tr>\n",
       "    <tr>\n",
       "      <th>3</th>\n",
       "      <td>2021-11-16 07:00:00</td>\n",
       "      <td>183.783386</td>\n",
       "      <td>-28.216614</td>\n",
       "      <td>212</td>\n",
       "    </tr>\n",
       "    <tr>\n",
       "      <th>4</th>\n",
       "      <td>2021-11-17 08:00:00</td>\n",
       "      <td>185.087280</td>\n",
       "      <td>-25.91272</td>\n",
       "      <td>211</td>\n",
       "    </tr>\n",
       "  </tbody>\n",
       "</table>\n",
       "</div>"
      ],
      "text/plain": [
       "                   ds       yhat1  residual1    y\n",
       "0 2021-11-16 03:00:00  177.547028 -10.452972  188\n",
       "1 2021-11-16 04:00:00  179.442688 -14.557312  194\n",
       "2 2021-11-16 05:00:00  181.423355 -18.576645  200\n",
       "3 2021-11-16 07:00:00  183.783386 -28.216614  212\n",
       "4 2021-11-17 08:00:00  185.087280  -25.91272  211"
      ]
     },
     "execution_count": 54,
     "metadata": {},
     "output_type": "execute_result"
    }
   ],
   "source": [
    "n_forecast_merge = pd.merge(df_tma_anc, n_forecast[['ds','yhat1','residual1']],on='ds')\n",
    "n_forecast_merge = n_forecast_merge[['ds','yhat1','residual1','y']]\n",
    "n_forecast_merge.head()"
   ]
  },
  {
   "cell_type": "code",
   "execution_count": 55,
   "metadata": {
    "execution": {
     "iopub.execute_input": "2022-03-30T17:02:45.946012Z",
     "iopub.status.busy": "2022-03-30T17:02:45.945747Z",
     "iopub.status.idle": "2022-03-30T17:02:45.953746Z",
     "shell.execute_reply": "2022-03-30T17:02:45.952698Z",
     "shell.execute_reply.started": "2022-03-30T17:02:45.945981Z"
    },
    "id": "NYjhoFjzQVcz"
   },
   "outputs": [],
   "source": [
    "n_prophet_mse = mean_squared_error(n_forecast_merge['y'], n_forecast_merge['yhat1'])\n",
    "n_prophet_rmse = np.sqrt(mean_squared_error(n_forecast_merge['y'], n_forecast_merge['yhat1']))"
   ]
  },
  {
   "cell_type": "code",
   "execution_count": 56,
   "metadata": {
    "execution": {
     "iopub.execute_input": "2022-03-30T17:02:45.955575Z",
     "iopub.status.busy": "2022-03-30T17:02:45.955035Z",
     "iopub.status.idle": "2022-03-30T17:02:45.966788Z",
     "shell.execute_reply": "2022-03-30T17:02:45.966064Z",
     "shell.execute_reply.started": "2022-03-30T17:02:45.955535Z"
    },
    "id": "qGMxH51hQVih",
    "outputId": "889ecefd-b6be-4fc1-e30a-65029a40f9dd"
   },
   "outputs": [
    {
     "name": "stdout",
     "output_type": "stream",
     "text": [
      "Neural Prophet MSE: 264.6797\n",
      "Neural Prophet RMSE: 16.2690\n"
     ]
    }
   ],
   "source": [
    "print(\"Neural Prophet MSE: {:.4f}\".format(n_prophet_mse))\n",
    "print(\"Neural Prophet RMSE: {:.4f}\".format(n_prophet_rmse))"
   ]
  },
  {
   "cell_type": "code",
   "execution_count": 57,
   "metadata": {
    "execution": {
     "iopub.execute_input": "2022-03-30T17:02:45.96855Z",
     "iopub.status.busy": "2022-03-30T17:02:45.968061Z",
     "iopub.status.idle": "2022-03-30T17:02:45.97867Z",
     "shell.execute_reply": "2022-03-30T17:02:45.977697Z",
     "shell.execute_reply.started": "2022-03-30T17:02:45.968502Z"
    },
    "id": "PQf5WbhgTwiS",
    "outputId": "4e50d70e-3812-41d9-901d-e66fc4ccf595"
   },
   "outputs": [
    {
     "name": "stdout",
     "output_type": "stream",
     "text": [
      "Prophet MSE: 269.4433\n",
      "Prophet RMSE: 16.4147\n"
     ]
    }
   ],
   "source": [
    "print(\"Prophet MSE: {:.4f}\".format(prophet_mse))\n",
    "print(\"Prophet RMSE: {:.4f}\".format(prophet_rmse))"
   ]
  },
  {
   "cell_type": "code",
   "execution_count": 58,
   "metadata": {
    "execution": {
     "iopub.execute_input": "2022-03-30T17:02:45.981187Z",
     "iopub.status.busy": "2022-03-30T17:02:45.98032Z",
     "iopub.status.idle": "2022-03-30T17:02:45.991738Z",
     "shell.execute_reply": "2022-03-30T17:02:45.990731Z",
     "shell.execute_reply.started": "2022-03-30T17:02:45.981129Z"
    }
   },
   "outputs": [
    {
     "data": {
      "text/plain": [
       "-4.763546237988635"
      ]
     },
     "execution_count": 58,
     "metadata": {},
     "output_type": "execute_result"
    }
   ],
   "source": [
    "n_prophet_mse - prophet_mse"
   ]
  },
  {
   "cell_type": "code",
   "execution_count": 59,
   "metadata": {
    "execution": {
     "iopub.execute_input": "2022-03-30T17:02:45.993668Z",
     "iopub.status.busy": "2022-03-30T17:02:45.993155Z",
     "iopub.status.idle": "2022-03-30T17:02:46.00546Z",
     "shell.execute_reply": "2022-03-30T17:02:46.004488Z",
     "shell.execute_reply.started": "2022-03-30T17:02:45.993615Z"
    },
    "id": "2uYHMulJYpiq",
    "outputId": "5e2facbf-0e3b-4a72-d2fa-6b401edc2b36"
   },
   "outputs": [
    {
     "data": {
      "text/plain": [
       "-0.14574680858210698"
      ]
     },
     "execution_count": 59,
     "metadata": {},
     "output_type": "execute_result"
    }
   ],
   "source": [
    "n_prophet_rmse - prophet_rmse"
   ]
  },
  {
   "cell_type": "code",
   "execution_count": 60,
   "metadata": {
    "execution": {
     "iopub.execute_input": "2022-03-30T17:02:46.007784Z",
     "iopub.status.busy": "2022-03-30T17:02:46.006884Z",
     "iopub.status.idle": "2022-03-30T17:02:46.360987Z",
     "shell.execute_reply": "2022-03-30T17:02:46.359996Z",
     "shell.execute_reply.started": "2022-03-30T17:02:46.007742Z"
    }
   },
   "outputs": [
    {
     "data": {
      "text/plain": [
       "<matplotlib.legend.Legend at 0x7f9779784310>"
      ]
     },
     "execution_count": 60,
     "metadata": {},
     "output_type": "execute_result"
    },
    {
     "data": {
      "image/png": "[encoded data removed]",
      "text/plain": [
       "<Figure size 864x432 with 1 Axes>"
      ]
     },
     "metadata": {},
     "output_type": "display_data"
    }
   ],
   "source": [
    "plt.figure(figsize=(12,6))\n",
    "plt.xticks(rotation=45)\n",
    "plt.title(\"Models Comparison\")\n",
    "plt.plot(p_forecast['ds'], p_forecast['yhat'], marker='.', c='navy', label='Prophet')\n",
    "plt.plot(n_forecast['ds'], n_forecast['yhat1'], marker='.', c='red', label='NeuralProphet')\n",
    "plt.legend()"
   ]
  },
  {
   "cell_type": "code",
   "execution_count": 61,
   "metadata": {
    "execution": {
     "iopub.execute_input": "2022-03-30T17:02:46.363266Z",
     "iopub.status.busy": "2022-03-30T17:02:46.362756Z",
     "iopub.status.idle": "2022-03-30T17:02:46.375451Z",
     "shell.execute_reply": "2022-03-30T17:02:46.374593Z",
     "shell.execute_reply.started": "2022-03-30T17:02:46.363227Z"
    }
   },
   "outputs": [
    {
     "data": {
      "text/html": [
       "<div>\n",
       "<style scoped>\n",
       "    .dataframe tbody tr th:only-of-type {\n",
       "        vertical-align: middle;\n",
       "    }\n",
       "\n",
       "    .dataframe tbody tr th {\n",
       "        vertical-align: top;\n",
       "    }\n",
       "\n",
       "    .dataframe thead th {\n",
       "        text-align: right;\n",
       "    }\n",
       "</style>\n",
       "<table border=\"1\" class=\"dataframe\">\n",
       "  <thead>\n",
       "    <tr style=\"text-align: right;\">\n",
       "      <th></th>\n",
       "      <th>metrics</th>\n",
       "      <th>Prophet</th>\n",
       "      <th>Neural Prophet</th>\n",
       "    </tr>\n",
       "  </thead>\n",
       "  <tbody>\n",
       "    <tr>\n",
       "      <th>0</th>\n",
       "      <td>MSE</td>\n",
       "      <td>269.443288</td>\n",
       "      <td>264.679741</td>\n",
       "    </tr>\n",
       "    <tr>\n",
       "      <th>1</th>\n",
       "      <td>RMSE</td>\n",
       "      <td>16.414728</td>\n",
       "      <td>16.268981</td>\n",
       "    </tr>\n",
       "  </tbody>\n",
       "</table>\n",
       "</div>"
      ],
      "text/plain": [
       "  metrics    Prophet   Neural Prophet\n",
       "0     MSE  269.443288      264.679741\n",
       "1    RMSE   16.414728       16.268981"
      ]
     },
     "execution_count": 61,
     "metadata": {},
     "output_type": "execute_result"
    }
   ],
   "source": [
    "pd.DataFrame({'metrics':['MSE','RMSE'],\n",
    "              'Prophet ':[prophet_mse, prophet_rmse],\n",
    "              'Neural Prophet':[n_prophet_mse, n_prophet_rmse]\n",
    "             })"
   ]
  },
  {
   "cell_type": "markdown",
   "metadata": {
    "id": "Aq80C1pRYTvd"
   },
   "source": [
    "## Final Comments"
   ]
  },
  {
   "cell_type": "markdown",
   "metadata": {
    "id": "Z9gvnBfLYcbP"
   },
   "source": [
    "*   At least for this particular dataset and using the default arguments,  the **NeuralProphet** model scored a **MSE** of **264.679741** and **RMSE** of **16.268981** whereas the **Prophet** model scored a **MSE** of **269.443288** and **RMSE** of **16.414728**, a **4.763546237988635 and 0.14574680858210698 difference of MSE and RMSE respectively** compared against the first model."
   ]
  }
 ],
 "metadata": {
  "kernelspec": {
   "display_name": "Python 3.9",
   "language": "python",
   "name": "python3"
  },
  "language_info": {
   "codemirror_mode": {
    "name": "ipython",
    "version": 3
   },
   "file_extension": ".py",
   "mimetype": "text/x-python",
   "name": "python",
   "nbconvert_exporter": "python",
   "pygments_lexer": "ipython3",
   "version": "3.9.7"
  }
 },
 "nbformat": 4,
 "nbformat_minor": 4
}
