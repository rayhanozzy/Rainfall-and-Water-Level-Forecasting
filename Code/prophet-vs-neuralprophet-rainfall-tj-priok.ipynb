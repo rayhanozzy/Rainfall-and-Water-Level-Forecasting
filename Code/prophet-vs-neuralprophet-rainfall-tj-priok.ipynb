{
 "cells": [
  {
   "cell_type": "markdown",
   "metadata": {
    "id": "VMPDxYyw5d6h"
   },
   "source": [
    "# [Facebook Prophet](https://github.com/facebook/prophet) and [NeuralProphet](https://github.com/ourownstory/neural_prophet) Comparison\n",
    "By: Rayhan Ozzy Ertarto\n",
    "\n",
    "The goal of this notebook is to compare the *expected values* forecasted by these two models and compare them against the actuals in order to calculate the performance metrics and define which model performs better using this time series dataset (Rainfall in Tanjung Priok BMKG Station, North Jakarta)"
   ]
  },
  {
   "cell_type": "markdown",
   "metadata": {
    "id": "00MQ79C35ueh"
   },
   "source": [
    "Importing basic libraries"
   ]
  },
  {
   "cell_type": "code",
   "execution_count": 1,
   "metadata": {
    "execution": {
     "iopub.execute_input": "2022-04-01T08:34:12.810609Z",
     "iopub.status.busy": "2022-04-01T08:34:12.810265Z",
     "iopub.status.idle": "2022-04-01T08:34:13.909545Z",
     "shell.execute_reply": "2022-04-01T08:34:13.908723Z",
     "shell.execute_reply.started": "2022-04-01T08:34:12.810523Z"
    },
    "id": "0Ricp40n5W3h"
   },
   "outputs": [],
   "source": [
    "import pandas as pd\n",
    "import numpy as np\n",
    "import matplotlib.pyplot as plt\n",
    "import seaborn as sns"
   ]
  },
  {
   "cell_type": "code",
   "execution_count": 2,
   "metadata": {
    "execution": {
     "iopub.execute_input": "2022-04-01T08:34:13.911266Z",
     "iopub.status.busy": "2022-04-01T08:34:13.910941Z",
     "iopub.status.idle": "2022-04-01T08:34:13.916597Z",
     "shell.execute_reply": "2022-04-01T08:34:13.915516Z",
     "shell.execute_reply.started": "2022-04-01T08:34:13.911234Z"
    },
    "id": "I85geYiv55Tc"
   },
   "outputs": [],
   "source": [
    "np.random.seed(1234)"
   ]
  },
  {
   "cell_type": "code",
   "execution_count": 3,
   "metadata": {
    "execution": {
     "iopub.execute_input": "2022-04-01T08:34:13.918083Z",
     "iopub.status.busy": "2022-04-01T08:34:13.917471Z",
     "iopub.status.idle": "2022-04-01T08:34:13.928885Z",
     "shell.execute_reply": "2022-04-01T08:34:13.928189Z",
     "shell.execute_reply.started": "2022-04-01T08:34:13.918052Z"
    },
    "id": "ngJzMaV17JSb"
   },
   "outputs": [],
   "source": [
    "plt.style.use('ggplot')"
   ]
  },
  {
   "cell_type": "markdown",
   "metadata": {
    "_kg_hide-input": true,
    "_kg_hide-output": true,
    "id": "Ixo5-LLZ6Dlq"
   },
   "source": [
    "Reading the time series"
   ]
  },
  {
   "cell_type": "code",
   "execution_count": 4,
   "metadata": {
    "execution": {
     "iopub.execute_input": "2022-04-01T08:34:13.931255Z",
     "iopub.status.busy": "2022-04-01T08:34:13.930513Z",
     "iopub.status.idle": "2022-04-01T08:34:15.196589Z",
     "shell.execute_reply": "2022-04-01T08:34:15.195832Z",
     "shell.execute_reply.started": "2022-04-01T08:34:13.931226Z"
    }
   },
   "outputs": [
    {
     "data": {
      "text/html": [
       "<div>\n",
       "<style scoped>\n",
       "    .dataframe tbody tr th:only-of-type {\n",
       "        vertical-align: middle;\n",
       "    }\n",
       "\n",
       "    .dataframe tbody tr th {\n",
       "        vertical-align: top;\n",
       "    }\n",
       "\n",
       "    .dataframe thead th {\n",
       "        text-align: right;\n",
       "    }\n",
       "</style>\n",
       "<table border=\"1\" class=\"dataframe\">\n",
       "  <thead>\n",
       "    <tr style=\"text-align: right;\">\n",
       "      <th></th>\n",
       "      <th>Tanggal</th>\n",
       "      <th>RR</th>\n",
       "    </tr>\n",
       "  </thead>\n",
       "  <tbody>\n",
       "    <tr>\n",
       "      <th>0</th>\n",
       "      <td>01-01-2021</td>\n",
       "      <td>7.7</td>\n",
       "    </tr>\n",
       "    <tr>\n",
       "      <th>1</th>\n",
       "      <td>02-01-2021</td>\n",
       "      <td>0.5</td>\n",
       "    </tr>\n",
       "    <tr>\n",
       "      <th>2</th>\n",
       "      <td>03-01-2021</td>\n",
       "      <td>NaN</td>\n",
       "    </tr>\n",
       "    <tr>\n",
       "      <th>3</th>\n",
       "      <td>04-01-2021</td>\n",
       "      <td>2.8</td>\n",
       "    </tr>\n",
       "    <tr>\n",
       "      <th>4</th>\n",
       "      <td>05-01-2021</td>\n",
       "      <td>NaN</td>\n",
       "    </tr>\n",
       "    <tr>\n",
       "      <th>5</th>\n",
       "      <td>06-01-2021</td>\n",
       "      <td>19.1</td>\n",
       "    </tr>\n",
       "    <tr>\n",
       "      <th>6</th>\n",
       "      <td>07-01-2021</td>\n",
       "      <td>32.0</td>\n",
       "    </tr>\n",
       "    <tr>\n",
       "      <th>7</th>\n",
       "      <td>08-01-2021</td>\n",
       "      <td>2.8</td>\n",
       "    </tr>\n",
       "    <tr>\n",
       "      <th>8</th>\n",
       "      <td>09-01-2021</td>\n",
       "      <td>3.9</td>\n",
       "    </tr>\n",
       "    <tr>\n",
       "      <th>9</th>\n",
       "      <td>10-01-2021</td>\n",
       "      <td>31.5</td>\n",
       "    </tr>\n",
       "  </tbody>\n",
       "</table>\n",
       "</div>"
      ],
      "text/plain": [
       "      Tanggal    RR\n",
       "0  01-01-2021   7.7\n",
       "1  02-01-2021   0.5\n",
       "2  03-01-2021   NaN\n",
       "3  04-01-2021   2.8\n",
       "4  05-01-2021   NaN\n",
       "5  06-01-2021  19.1\n",
       "6  07-01-2021  32.0\n",
       "7  08-01-2021   2.8\n",
       "8  09-01-2021   3.9\n",
       "9  10-01-2021  31.5"
      ]
     },
     "execution_count": 4,
     "metadata": {},
     "output_type": "execute_result"
    }
   ],
   "source": [
    "gsheetkey = \"1qAe0nBzswVA1vekBH97Sj2uBQQWdN8RQ3g95pjc7CT4\"\n",
    "\n",
    "url=f'https://docs.google.com/spreadsheet/ccc?key={gsheetkey}&output=csv'\n",
    "df_tp = pd.read_csv(url)\n",
    "df_tp.head(10)"
   ]
  },
  {
   "cell_type": "code",
   "execution_count": 5,
   "metadata": {
    "execution": {
     "iopub.execute_input": "2022-04-01T08:34:15.198846Z",
     "iopub.status.busy": "2022-04-01T08:34:15.197956Z",
     "iopub.status.idle": "2022-04-01T08:34:15.225190Z",
     "shell.execute_reply": "2022-04-01T08:34:15.223928Z",
     "shell.execute_reply.started": "2022-04-01T08:34:15.198799Z"
    }
   },
   "outputs": [
    {
     "name": "stdout",
     "output_type": "stream",
     "text": [
      "<class 'pandas.core.frame.DataFrame'>\n",
      "RangeIndex: 424 entries, 0 to 423\n",
      "Data columns (total 2 columns):\n",
      " #   Column   Non-Null Count  Dtype  \n",
      "---  ------   --------------  -----  \n",
      " 0   Tanggal  424 non-null    object \n",
      " 1   RR       382 non-null    float64\n",
      "dtypes: float64(1), object(1)\n",
      "memory usage: 6.8+ KB\n"
     ]
    }
   ],
   "source": [
    "df_tp.info()"
   ]
  },
  {
   "cell_type": "code",
   "execution_count": 6,
   "metadata": {
    "execution": {
     "iopub.execute_input": "2022-04-01T08:34:15.227331Z",
     "iopub.status.busy": "2022-04-01T08:34:15.226979Z",
     "iopub.status.idle": "2022-04-01T08:34:15.241045Z",
     "shell.execute_reply": "2022-04-01T08:34:15.240393Z",
     "shell.execute_reply.started": "2022-04-01T08:34:15.227287Z"
    }
   },
   "outputs": [],
   "source": [
    "df_tp['RR'] = df_tp['RR'].replace([8888.0],['NaN'])"
   ]
  },
  {
   "cell_type": "code",
   "execution_count": 7,
   "metadata": {
    "execution": {
     "iopub.execute_input": "2022-04-01T08:34:15.242722Z",
     "iopub.status.busy": "2022-04-01T08:34:15.242243Z",
     "iopub.status.idle": "2022-04-01T08:34:15.253410Z",
     "shell.execute_reply": "2022-04-01T08:34:15.252453Z",
     "shell.execute_reply.started": "2022-04-01T08:34:15.242667Z"
    }
   },
   "outputs": [],
   "source": [
    "df_tp['RR'] = df_tp['RR'].replace([9999.0],['NaN'])"
   ]
  },
  {
   "cell_type": "code",
   "execution_count": 8,
   "metadata": {
    "execution": {
     "iopub.execute_input": "2022-04-01T08:34:15.256532Z",
     "iopub.status.busy": "2022-04-01T08:34:15.255499Z",
     "iopub.status.idle": "2022-04-01T08:34:15.273657Z",
     "shell.execute_reply": "2022-04-01T08:34:15.272922Z",
     "shell.execute_reply.started": "2022-04-01T08:34:15.256488Z"
    }
   },
   "outputs": [
    {
     "data": {
      "text/html": [
       "<div>\n",
       "<style scoped>\n",
       "    .dataframe tbody tr th:only-of-type {\n",
       "        vertical-align: middle;\n",
       "    }\n",
       "\n",
       "    .dataframe tbody tr th {\n",
       "        vertical-align: top;\n",
       "    }\n",
       "\n",
       "    .dataframe thead th {\n",
       "        text-align: right;\n",
       "    }\n",
       "</style>\n",
       "<table border=\"1\" class=\"dataframe\">\n",
       "  <thead>\n",
       "    <tr style=\"text-align: right;\">\n",
       "      <th></th>\n",
       "      <th>Tanggal</th>\n",
       "      <th>RR</th>\n",
       "    </tr>\n",
       "  </thead>\n",
       "  <tbody>\n",
       "    <tr>\n",
       "      <th>0</th>\n",
       "      <td>01-01-2021</td>\n",
       "      <td>7.7</td>\n",
       "    </tr>\n",
       "    <tr>\n",
       "      <th>1</th>\n",
       "      <td>02-01-2021</td>\n",
       "      <td>0.5</td>\n",
       "    </tr>\n",
       "    <tr>\n",
       "      <th>2</th>\n",
       "      <td>03-01-2021</td>\n",
       "      <td>NaN</td>\n",
       "    </tr>\n",
       "    <tr>\n",
       "      <th>3</th>\n",
       "      <td>04-01-2021</td>\n",
       "      <td>2.8</td>\n",
       "    </tr>\n",
       "    <tr>\n",
       "      <th>4</th>\n",
       "      <td>05-01-2021</td>\n",
       "      <td>NaN</td>\n",
       "    </tr>\n",
       "    <tr>\n",
       "      <th>5</th>\n",
       "      <td>06-01-2021</td>\n",
       "      <td>19.1</td>\n",
       "    </tr>\n",
       "    <tr>\n",
       "      <th>6</th>\n",
       "      <td>07-01-2021</td>\n",
       "      <td>32.0</td>\n",
       "    </tr>\n",
       "    <tr>\n",
       "      <th>7</th>\n",
       "      <td>08-01-2021</td>\n",
       "      <td>2.8</td>\n",
       "    </tr>\n",
       "    <tr>\n",
       "      <th>8</th>\n",
       "      <td>09-01-2021</td>\n",
       "      <td>3.9</td>\n",
       "    </tr>\n",
       "    <tr>\n",
       "      <th>9</th>\n",
       "      <td>10-01-2021</td>\n",
       "      <td>31.5</td>\n",
       "    </tr>\n",
       "  </tbody>\n",
       "</table>\n",
       "</div>"
      ],
      "text/plain": [
       "      Tanggal    RR\n",
       "0  01-01-2021   7.7\n",
       "1  02-01-2021   0.5\n",
       "2  03-01-2021   NaN\n",
       "3  04-01-2021   2.8\n",
       "4  05-01-2021   NaN\n",
       "5  06-01-2021  19.1\n",
       "6  07-01-2021  32.0\n",
       "7  08-01-2021   2.8\n",
       "8  09-01-2021   3.9\n",
       "9  10-01-2021  31.5"
      ]
     },
     "execution_count": 8,
     "metadata": {},
     "output_type": "execute_result"
    }
   ],
   "source": [
    "df_tp.head(10)"
   ]
  },
  {
   "cell_type": "code",
   "execution_count": 9,
   "metadata": {
    "execution": {
     "iopub.execute_input": "2022-04-01T08:34:15.275878Z",
     "iopub.status.busy": "2022-04-01T08:34:15.275406Z",
     "iopub.status.idle": "2022-04-01T08:34:15.288842Z",
     "shell.execute_reply": "2022-04-01T08:34:15.287967Z",
     "shell.execute_reply.started": "2022-04-01T08:34:15.275824Z"
    }
   },
   "outputs": [
    {
     "name": "stdout",
     "output_type": "stream",
     "text": [
      "<class 'pandas.core.frame.DataFrame'>\n",
      "RangeIndex: 424 entries, 0 to 423\n",
      "Data columns (total 2 columns):\n",
      " #   Column   Non-Null Count  Dtype \n",
      "---  ------   --------------  ----- \n",
      " 0   Tanggal  424 non-null    object\n",
      " 1   RR       382 non-null    object\n",
      "dtypes: object(2)\n",
      "memory usage: 6.8+ KB\n"
     ]
    }
   ],
   "source": [
    "df_tp.info()"
   ]
  },
  {
   "cell_type": "code",
   "execution_count": 10,
   "metadata": {
    "execution": {
     "iopub.execute_input": "2022-04-01T08:34:15.292543Z",
     "iopub.status.busy": "2022-04-01T08:34:15.292019Z",
     "iopub.status.idle": "2022-04-01T08:34:15.311326Z",
     "shell.execute_reply": "2022-04-01T08:34:15.309931Z",
     "shell.execute_reply.started": "2022-04-01T08:34:15.292510Z"
    }
   },
   "outputs": [
    {
     "name": "stdout",
     "output_type": "stream",
     "text": [
      "<class 'pandas.core.frame.DataFrame'>\n",
      "RangeIndex: 424 entries, 0 to 423\n",
      "Data columns (total 2 columns):\n",
      " #   Column   Non-Null Count  Dtype  \n",
      "---  ------   --------------  -----  \n",
      " 0   Tanggal  424 non-null    object \n",
      " 1   RR       358 non-null    float64\n",
      "dtypes: float64(1), object(1)\n",
      "memory usage: 6.8+ KB\n"
     ]
    }
   ],
   "source": [
    "df_tp['RR'] = df_tp['RR'].astype(float)\n",
    "df_tp.info()"
   ]
  },
  {
   "cell_type": "code",
   "execution_count": 11,
   "metadata": {
    "execution": {
     "iopub.execute_input": "2022-04-01T08:34:15.314886Z",
     "iopub.status.busy": "2022-04-01T08:34:15.314383Z",
     "iopub.status.idle": "2022-04-01T08:34:15.323260Z",
     "shell.execute_reply": "2022-04-01T08:34:15.322746Z",
     "shell.execute_reply.started": "2022-04-01T08:34:15.314846Z"
    }
   },
   "outputs": [
    {
     "data": {
      "text/html": [
       "<div>\n",
       "<style scoped>\n",
       "    .dataframe tbody tr th:only-of-type {\n",
       "        vertical-align: middle;\n",
       "    }\n",
       "\n",
       "    .dataframe tbody tr th {\n",
       "        vertical-align: top;\n",
       "    }\n",
       "\n",
       "    .dataframe thead th {\n",
       "        text-align: right;\n",
       "    }\n",
       "</style>\n",
       "<table border=\"1\" class=\"dataframe\">\n",
       "  <thead>\n",
       "    <tr style=\"text-align: right;\">\n",
       "      <th></th>\n",
       "      <th>Tanggal</th>\n",
       "      <th>RR</th>\n",
       "    </tr>\n",
       "  </thead>\n",
       "  <tbody>\n",
       "    <tr>\n",
       "      <th>0</th>\n",
       "      <td>01-01-2021</td>\n",
       "      <td>7.7</td>\n",
       "    </tr>\n",
       "    <tr>\n",
       "      <th>1</th>\n",
       "      <td>02-01-2021</td>\n",
       "      <td>0.5</td>\n",
       "    </tr>\n",
       "    <tr>\n",
       "      <th>2</th>\n",
       "      <td>03-01-2021</td>\n",
       "      <td>NaN</td>\n",
       "    </tr>\n",
       "    <tr>\n",
       "      <th>3</th>\n",
       "      <td>04-01-2021</td>\n",
       "      <td>2.8</td>\n",
       "    </tr>\n",
       "    <tr>\n",
       "      <th>4</th>\n",
       "      <td>05-01-2021</td>\n",
       "      <td>NaN</td>\n",
       "    </tr>\n",
       "  </tbody>\n",
       "</table>\n",
       "</div>"
      ],
      "text/plain": [
       "      Tanggal   RR\n",
       "0  01-01-2021  7.7\n",
       "1  02-01-2021  0.5\n",
       "2  03-01-2021  NaN\n",
       "3  04-01-2021  2.8\n",
       "4  05-01-2021  NaN"
      ]
     },
     "execution_count": 11,
     "metadata": {},
     "output_type": "execute_result"
    }
   ],
   "source": [
    "df_tp.head()"
   ]
  },
  {
   "cell_type": "markdown",
   "metadata": {},
   "source": [
    "Check for Missing Values"
   ]
  },
  {
   "cell_type": "code",
   "execution_count": 12,
   "metadata": {
    "execution": {
     "iopub.execute_input": "2022-04-01T08:34:15.324681Z",
     "iopub.status.busy": "2022-04-01T08:34:15.324317Z",
     "iopub.status.idle": "2022-04-01T08:34:15.338151Z",
     "shell.execute_reply": "2022-04-01T08:34:15.337177Z",
     "shell.execute_reply.started": "2022-04-01T08:34:15.324646Z"
    }
   },
   "outputs": [
    {
     "data": {
      "text/plain": [
       "Tanggal     0\n",
       "RR         66\n",
       "dtype: int64"
      ]
     },
     "execution_count": 12,
     "metadata": {},
     "output_type": "execute_result"
    }
   ],
   "source": [
    "df_tp.isna().sum()"
   ]
  },
  {
   "cell_type": "markdown",
   "metadata": {},
   "source": [
    "Fill Missing Values by Interpolation"
   ]
  },
  {
   "cell_type": "code",
   "execution_count": 13,
   "metadata": {
    "execution": {
     "iopub.execute_input": "2022-04-01T08:34:15.339368Z",
     "iopub.status.busy": "2022-04-01T08:34:15.339171Z",
     "iopub.status.idle": "2022-04-01T08:34:15.350416Z",
     "shell.execute_reply": "2022-04-01T08:34:15.349867Z",
     "shell.execute_reply.started": "2022-04-01T08:34:15.339344Z"
    }
   },
   "outputs": [],
   "source": [
    "df_tp = df_tp.interpolate()"
   ]
  },
  {
   "cell_type": "code",
   "execution_count": 14,
   "metadata": {
    "execution": {
     "iopub.execute_input": "2022-04-01T08:34:15.352199Z",
     "iopub.status.busy": "2022-04-01T08:34:15.351650Z",
     "iopub.status.idle": "2022-04-01T08:34:15.362461Z",
     "shell.execute_reply": "2022-04-01T08:34:15.361672Z",
     "shell.execute_reply.started": "2022-04-01T08:34:15.352156Z"
    }
   },
   "outputs": [
    {
     "data": {
      "text/plain": [
       "Tanggal    0\n",
       "RR         0\n",
       "dtype: int64"
      ]
     },
     "execution_count": 14,
     "metadata": {},
     "output_type": "execute_result"
    }
   ],
   "source": [
    "df_tp.isna().sum()"
   ]
  },
  {
   "cell_type": "code",
   "execution_count": 15,
   "metadata": {
    "execution": {
     "iopub.execute_input": "2022-04-01T08:34:15.364062Z",
     "iopub.status.busy": "2022-04-01T08:34:15.363777Z",
     "iopub.status.idle": "2022-04-01T08:34:15.375716Z",
     "shell.execute_reply": "2022-04-01T08:34:15.374949Z",
     "shell.execute_reply.started": "2022-04-01T08:34:15.364022Z"
    }
   },
   "outputs": [
    {
     "data": {
      "text/html": [
       "<div>\n",
       "<style scoped>\n",
       "    .dataframe tbody tr th:only-of-type {\n",
       "        vertical-align: middle;\n",
       "    }\n",
       "\n",
       "    .dataframe tbody tr th {\n",
       "        vertical-align: top;\n",
       "    }\n",
       "\n",
       "    .dataframe thead th {\n",
       "        text-align: right;\n",
       "    }\n",
       "</style>\n",
       "<table border=\"1\" class=\"dataframe\">\n",
       "  <thead>\n",
       "    <tr style=\"text-align: right;\">\n",
       "      <th></th>\n",
       "      <th>Tanggal</th>\n",
       "      <th>RR</th>\n",
       "    </tr>\n",
       "  </thead>\n",
       "  <tbody>\n",
       "    <tr>\n",
       "      <th>0</th>\n",
       "      <td>01-01-2021</td>\n",
       "      <td>7.70</td>\n",
       "    </tr>\n",
       "    <tr>\n",
       "      <th>1</th>\n",
       "      <td>02-01-2021</td>\n",
       "      <td>0.50</td>\n",
       "    </tr>\n",
       "    <tr>\n",
       "      <th>2</th>\n",
       "      <td>03-01-2021</td>\n",
       "      <td>1.65</td>\n",
       "    </tr>\n",
       "    <tr>\n",
       "      <th>3</th>\n",
       "      <td>04-01-2021</td>\n",
       "      <td>2.80</td>\n",
       "    </tr>\n",
       "    <tr>\n",
       "      <th>4</th>\n",
       "      <td>05-01-2021</td>\n",
       "      <td>10.95</td>\n",
       "    </tr>\n",
       "    <tr>\n",
       "      <th>5</th>\n",
       "      <td>06-01-2021</td>\n",
       "      <td>19.10</td>\n",
       "    </tr>\n",
       "    <tr>\n",
       "      <th>6</th>\n",
       "      <td>07-01-2021</td>\n",
       "      <td>32.00</td>\n",
       "    </tr>\n",
       "    <tr>\n",
       "      <th>7</th>\n",
       "      <td>08-01-2021</td>\n",
       "      <td>2.80</td>\n",
       "    </tr>\n",
       "    <tr>\n",
       "      <th>8</th>\n",
       "      <td>09-01-2021</td>\n",
       "      <td>3.90</td>\n",
       "    </tr>\n",
       "    <tr>\n",
       "      <th>9</th>\n",
       "      <td>10-01-2021</td>\n",
       "      <td>31.50</td>\n",
       "    </tr>\n",
       "  </tbody>\n",
       "</table>\n",
       "</div>"
      ],
      "text/plain": [
       "      Tanggal     RR\n",
       "0  01-01-2021   7.70\n",
       "1  02-01-2021   0.50\n",
       "2  03-01-2021   1.65\n",
       "3  04-01-2021   2.80\n",
       "4  05-01-2021  10.95\n",
       "5  06-01-2021  19.10\n",
       "6  07-01-2021  32.00\n",
       "7  08-01-2021   2.80\n",
       "8  09-01-2021   3.90\n",
       "9  10-01-2021  31.50"
      ]
     },
     "execution_count": 15,
     "metadata": {},
     "output_type": "execute_result"
    }
   ],
   "source": [
    "df_tp.head(10)"
   ]
  },
  {
   "cell_type": "code",
   "execution_count": 16,
   "metadata": {
    "execution": {
     "iopub.execute_input": "2022-04-01T08:34:15.377330Z",
     "iopub.status.busy": "2022-04-01T08:34:15.376872Z",
     "iopub.status.idle": "2022-04-01T08:34:15.393613Z",
     "shell.execute_reply": "2022-04-01T08:34:15.392793Z",
     "shell.execute_reply.started": "2022-04-01T08:34:15.377296Z"
    }
   },
   "outputs": [
    {
     "name": "stdout",
     "output_type": "stream",
     "text": [
      "<class 'pandas.core.frame.DataFrame'>\n",
      "RangeIndex: 424 entries, 0 to 423\n",
      "Data columns (total 2 columns):\n",
      " #   Column   Non-Null Count  Dtype         \n",
      "---  ------   --------------  -----         \n",
      " 0   Tanggal  424 non-null    datetime64[ns]\n",
      " 1   RR       424 non-null    float64       \n",
      "dtypes: datetime64[ns](1), float64(1)\n",
      "memory usage: 6.8 KB\n"
     ]
    }
   ],
   "source": [
    "df_tp['Tanggal'] = pd.to_datetime(df_tp['Tanggal'])\n",
    "df_tp.info()"
   ]
  },
  {
   "cell_type": "code",
   "execution_count": 17,
   "metadata": {
    "execution": {
     "iopub.execute_input": "2022-04-01T08:34:15.395657Z",
     "iopub.status.busy": "2022-04-01T08:34:15.394997Z",
     "iopub.status.idle": "2022-04-01T08:34:15.406495Z",
     "shell.execute_reply": "2022-04-01T08:34:15.405933Z",
     "shell.execute_reply.started": "2022-04-01T08:34:15.395614Z"
    }
   },
   "outputs": [
    {
     "data": {
      "text/html": [
       "<div>\n",
       "<style scoped>\n",
       "    .dataframe tbody tr th:only-of-type {\n",
       "        vertical-align: middle;\n",
       "    }\n",
       "\n",
       "    .dataframe tbody tr th {\n",
       "        vertical-align: top;\n",
       "    }\n",
       "\n",
       "    .dataframe thead th {\n",
       "        text-align: right;\n",
       "    }\n",
       "</style>\n",
       "<table border=\"1\" class=\"dataframe\">\n",
       "  <thead>\n",
       "    <tr style=\"text-align: right;\">\n",
       "      <th></th>\n",
       "      <th>ds</th>\n",
       "      <th>y</th>\n",
       "    </tr>\n",
       "  </thead>\n",
       "  <tbody>\n",
       "    <tr>\n",
       "      <th>0</th>\n",
       "      <td>2021-01-01</td>\n",
       "      <td>7.70</td>\n",
       "    </tr>\n",
       "    <tr>\n",
       "      <th>1</th>\n",
       "      <td>2021-02-01</td>\n",
       "      <td>0.50</td>\n",
       "    </tr>\n",
       "    <tr>\n",
       "      <th>2</th>\n",
       "      <td>2021-03-01</td>\n",
       "      <td>1.65</td>\n",
       "    </tr>\n",
       "    <tr>\n",
       "      <th>3</th>\n",
       "      <td>2021-04-01</td>\n",
       "      <td>2.80</td>\n",
       "    </tr>\n",
       "    <tr>\n",
       "      <th>4</th>\n",
       "      <td>2021-05-01</td>\n",
       "      <td>10.95</td>\n",
       "    </tr>\n",
       "  </tbody>\n",
       "</table>\n",
       "</div>"
      ],
      "text/plain": [
       "          ds      y\n",
       "0 2021-01-01   7.70\n",
       "1 2021-02-01   0.50\n",
       "2 2021-03-01   1.65\n",
       "3 2021-04-01   2.80\n",
       "4 2021-05-01  10.95"
      ]
     },
     "execution_count": 17,
     "metadata": {},
     "output_type": "execute_result"
    }
   ],
   "source": [
    "# Renaming columns\n",
    "df_tp.rename(columns = {'Tanggal':'ds', 'RR':'y'}, inplace = True)\n",
    "df_tp.head()"
   ]
  },
  {
   "cell_type": "code",
   "execution_count": 18,
   "metadata": {
    "execution": {
     "iopub.execute_input": "2022-04-01T08:34:15.407796Z",
     "iopub.status.busy": "2022-04-01T08:34:15.407582Z",
     "iopub.status.idle": "2022-04-01T08:34:15.424445Z",
     "shell.execute_reply": "2022-04-01T08:34:15.423686Z",
     "shell.execute_reply.started": "2022-04-01T08:34:15.407771Z"
    }
   },
   "outputs": [
    {
     "data": {
      "text/html": [
       "<div>\n",
       "<style scoped>\n",
       "    .dataframe tbody tr th:only-of-type {\n",
       "        vertical-align: middle;\n",
       "    }\n",
       "\n",
       "    .dataframe tbody tr th {\n",
       "        vertical-align: top;\n",
       "    }\n",
       "\n",
       "    .dataframe thead th {\n",
       "        text-align: right;\n",
       "    }\n",
       "</style>\n",
       "<table border=\"1\" class=\"dataframe\">\n",
       "  <thead>\n",
       "    <tr style=\"text-align: right;\">\n",
       "      <th></th>\n",
       "      <th>ds</th>\n",
       "      <th>y</th>\n",
       "    </tr>\n",
       "  </thead>\n",
       "  <tbody>\n",
       "    <tr>\n",
       "      <th>419</th>\n",
       "      <td>2022-02-24</td>\n",
       "      <td>6.30</td>\n",
       "    </tr>\n",
       "    <tr>\n",
       "      <th>420</th>\n",
       "      <td>2022-02-25</td>\n",
       "      <td>0.00</td>\n",
       "    </tr>\n",
       "    <tr>\n",
       "      <th>421</th>\n",
       "      <td>2022-02-26</td>\n",
       "      <td>2.00</td>\n",
       "    </tr>\n",
       "    <tr>\n",
       "      <th>422</th>\n",
       "      <td>2022-02-27</td>\n",
       "      <td>2.05</td>\n",
       "    </tr>\n",
       "    <tr>\n",
       "      <th>423</th>\n",
       "      <td>2022-02-28</td>\n",
       "      <td>2.10</td>\n",
       "    </tr>\n",
       "  </tbody>\n",
       "</table>\n",
       "</div>"
      ],
      "text/plain": [
       "            ds     y\n",
       "419 2022-02-24  6.30\n",
       "420 2022-02-25  0.00\n",
       "421 2022-02-26  2.00\n",
       "422 2022-02-27  2.05\n",
       "423 2022-02-28  2.10"
      ]
     },
     "execution_count": 18,
     "metadata": {},
     "output_type": "execute_result"
    }
   ],
   "source": [
    "df_tp.tail()"
   ]
  },
  {
   "cell_type": "code",
   "execution_count": 19,
   "metadata": {
    "execution": {
     "iopub.execute_input": "2022-04-01T08:34:15.426067Z",
     "iopub.status.busy": "2022-04-01T08:34:15.425582Z",
     "iopub.status.idle": "2022-04-01T08:34:15.817156Z",
     "shell.execute_reply": "2022-04-01T08:34:15.815439Z",
     "shell.execute_reply.started": "2022-04-01T08:34:15.426034Z"
    },
    "id": "vDiPYmpK58jC",
    "outputId": "fd851d04-e739-4b2f-86e7-0dde71e1db57"
   },
   "outputs": [
    {
     "data": {
      "text/plain": [
       "Text(0.5, 1.0, 'Time Series Plot')"
      ]
     },
     "execution_count": 19,
     "metadata": {},
     "output_type": "execute_result"
    },
    {
     "data": {
      "image/png": "[encoded data removed]",
      "text/plain": [
       "<Figure size 864x432 with 1 Axes>"
      ]
     },
     "metadata": {},
     "output_type": "display_data"
    }
   ],
   "source": [
    "df_tp.set_index('ds').plot(figsize=(12,6))\n",
    "plt.title('Time Series Plot')"
   ]
  },
  {
   "cell_type": "markdown",
   "metadata": {
    "id": "KS5j2phf7qCa"
   },
   "source": [
    "## Prophet Model"
   ]
  },
  {
   "cell_type": "code",
   "execution_count": 20,
   "metadata": {
    "execution": {
     "iopub.execute_input": "2022-04-01T08:34:15.819031Z",
     "iopub.status.busy": "2022-04-01T08:34:15.818483Z",
     "iopub.status.idle": "2022-04-01T08:36:19.339501Z",
     "shell.execute_reply": "2022-04-01T08:36:19.338573Z",
     "shell.execute_reply.started": "2022-04-01T08:34:15.818989Z"
    },
    "id": "PsCA_oCp7yYV"
   },
   "outputs": [],
   "source": [
    "!pip install prophet -q"
   ]
  },
  {
   "cell_type": "code",
   "execution_count": 21,
   "metadata": {
    "execution": {
     "iopub.execute_input": "2022-04-01T08:36:19.341432Z",
     "iopub.status.busy": "2022-04-01T08:36:19.341179Z",
     "iopub.status.idle": "2022-04-01T08:36:19.402095Z",
     "shell.execute_reply": "2022-04-01T08:36:19.401120Z",
     "shell.execute_reply.started": "2022-04-01T08:36:19.341385Z"
    },
    "id": "lFac0jli58e3"
   },
   "outputs": [],
   "source": [
    "from prophet import Prophet"
   ]
  },
  {
   "cell_type": "code",
   "execution_count": 22,
   "metadata": {
    "execution": {
     "iopub.execute_input": "2022-04-01T08:36:19.404039Z",
     "iopub.status.busy": "2022-04-01T08:36:19.403064Z",
     "iopub.status.idle": "2022-04-01T08:36:20.424173Z",
     "shell.execute_reply": "2022-04-01T08:36:20.423155Z",
     "shell.execute_reply.started": "2022-04-01T08:36:19.403994Z"
    },
    "id": "3_6QOV_258bJ"
   },
   "outputs": [],
   "source": [
    "m = Prophet(seasonality_mode='additive')"
   ]
  },
  {
   "cell_type": "markdown",
   "metadata": {
    "id": "n_TgzjgP9pki"
   },
   "source": [
    "Using default settings, only the seasonality mode is set to *Additive*\n",
    "\n"
   ]
  },
  {
   "cell_type": "code",
   "execution_count": 23,
   "metadata": {
    "execution": {
     "iopub.execute_input": "2022-04-01T08:36:20.426209Z",
     "iopub.status.busy": "2022-04-01T08:36:20.425890Z",
     "iopub.status.idle": "2022-04-01T08:36:20.542070Z",
     "shell.execute_reply": "2022-04-01T08:36:20.541352Z",
     "shell.execute_reply.started": "2022-04-01T08:36:20.426167Z"
    },
    "id": "9AcZ5Kga58XQ",
    "outputId": "cc2a687c-4507-4114-ce8a-b52d1ab04906"
   },
   "outputs": [
    {
     "name": "stderr",
     "output_type": "stream",
     "text": [
      "INFO:prophet:Disabling yearly seasonality. Run prophet with yearly_seasonality=True to override this.\n",
      "INFO:prophet:Disabling daily seasonality. Run prophet with daily_seasonality=True to override this.\n"
     ]
    },
    {
     "data": {
      "text/plain": [
       "<prophet.forecaster.Prophet at 0x7f4efd42f880>"
      ]
     },
     "execution_count": 23,
     "metadata": {},
     "output_type": "execute_result"
    },
    {
     "name": "stdout",
     "output_type": "stream",
     "text": [
      "Initial log joint probability = -4.96492\n",
      "    Iter      log prob        ||dx||      ||grad||       alpha      alpha0  # evals  Notes \n",
      "      43       701.089   0.000375066       59.3988   8.118e-06       0.001      107  LS failed, Hessian reset \n",
      "      72       701.124   2.10725e-05       58.5446    3.76e-07       0.001      187  LS failed, Hessian reset \n",
      "      99       701.135   1.53556e-05       49.7943      0.4365      0.4365      227   \n",
      "    Iter      log prob        ||dx||      ||grad||       alpha      alpha0  # evals  Notes \n",
      "     130       701.141   6.86081e-05       63.4313   1.483e-06       0.001      305  LS failed, Hessian reset \n",
      "     179       701.145   7.58142e-06       52.3852   1.219e-07       0.001      429  LS failed, Hessian reset \n",
      "     199       701.145   3.35579e-07       61.3635           1           1      461   \n",
      "    Iter      log prob        ||dx||      ||grad||       alpha      alpha0  # evals  Notes \n",
      "     205       701.145   2.25744e-08       55.3265      0.1832           1      475   \n",
      "Optimization terminated normally: \n",
      "  Convergence detected: relative gradient magnitude is below tolerance\n"
     ]
    }
   ],
   "source": [
    "m.fit(df_tp)"
   ]
  },
  {
   "cell_type": "code",
   "execution_count": 24,
   "metadata": {
    "execution": {
     "iopub.execute_input": "2022-04-01T08:36:20.543920Z",
     "iopub.status.busy": "2022-04-01T08:36:20.543136Z",
     "iopub.status.idle": "2022-04-01T08:36:20.551649Z",
     "shell.execute_reply": "2022-04-01T08:36:20.550764Z",
     "shell.execute_reply.started": "2022-04-01T08:36:20.543880Z"
    },
    "id": "Iq-KLct058TY"
   },
   "outputs": [],
   "source": [
    "future = m.make_future_dataframe(periods=60, freq='D')"
   ]
  },
  {
   "cell_type": "code",
   "execution_count": 25,
   "metadata": {
    "execution": {
     "iopub.execute_input": "2022-04-01T08:36:20.553601Z",
     "iopub.status.busy": "2022-04-01T08:36:20.553304Z",
     "iopub.status.idle": "2022-04-01T08:36:20.567046Z",
     "shell.execute_reply": "2022-04-01T08:36:20.565969Z",
     "shell.execute_reply.started": "2022-04-01T08:36:20.553559Z"
    },
    "id": "6dGM0yvo58Pd",
    "outputId": "e21a8994-6a46-4c43-9138-54e0d313d057"
   },
   "outputs": [
    {
     "data": {
      "text/html": [
       "<div>\n",
       "<style scoped>\n",
       "    .dataframe tbody tr th:only-of-type {\n",
       "        vertical-align: middle;\n",
       "    }\n",
       "\n",
       "    .dataframe tbody tr th {\n",
       "        vertical-align: top;\n",
       "    }\n",
       "\n",
       "    .dataframe thead th {\n",
       "        text-align: right;\n",
       "    }\n",
       "</style>\n",
       "<table border=\"1\" class=\"dataframe\">\n",
       "  <thead>\n",
       "    <tr style=\"text-align: right;\">\n",
       "      <th></th>\n",
       "      <th>ds</th>\n",
       "    </tr>\n",
       "  </thead>\n",
       "  <tbody>\n",
       "    <tr>\n",
       "      <th>479</th>\n",
       "      <td>2023-01-27</td>\n",
       "    </tr>\n",
       "    <tr>\n",
       "      <th>480</th>\n",
       "      <td>2023-01-28</td>\n",
       "    </tr>\n",
       "    <tr>\n",
       "      <th>481</th>\n",
       "      <td>2023-01-29</td>\n",
       "    </tr>\n",
       "    <tr>\n",
       "      <th>482</th>\n",
       "      <td>2023-01-30</td>\n",
       "    </tr>\n",
       "    <tr>\n",
       "      <th>483</th>\n",
       "      <td>2023-01-31</td>\n",
       "    </tr>\n",
       "  </tbody>\n",
       "</table>\n",
       "</div>"
      ],
      "text/plain": [
       "            ds\n",
       "479 2023-01-27\n",
       "480 2023-01-28\n",
       "481 2023-01-29\n",
       "482 2023-01-30\n",
       "483 2023-01-31"
      ]
     },
     "execution_count": 25,
     "metadata": {},
     "output_type": "execute_result"
    }
   ],
   "source": [
    "future.tail(5)"
   ]
  },
  {
   "cell_type": "code",
   "execution_count": 26,
   "metadata": {
    "execution": {
     "iopub.execute_input": "2022-04-01T08:36:20.568581Z",
     "iopub.status.busy": "2022-04-01T08:36:20.567989Z",
     "iopub.status.idle": "2022-04-01T08:36:22.444183Z",
     "shell.execute_reply": "2022-04-01T08:36:22.443187Z",
     "shell.execute_reply.started": "2022-04-01T08:36:20.568551Z"
    },
    "id": "OCdhcLtp58LY"
   },
   "outputs": [],
   "source": [
    "forecast = m.predict(future)"
   ]
  },
  {
   "cell_type": "code",
   "execution_count": 27,
   "metadata": {
    "execution": {
     "iopub.execute_input": "2022-04-01T08:36:22.445582Z",
     "iopub.status.busy": "2022-04-01T08:36:22.445348Z",
     "iopub.status.idle": "2022-04-01T08:36:22.466501Z",
     "shell.execute_reply": "2022-04-01T08:36:22.465955Z",
     "shell.execute_reply.started": "2022-04-01T08:36:22.445552Z"
    },
    "id": "0sfWkS3U58Hv",
    "outputId": "716da66a-95ee-4cc4-9752-8a8f78e2d1cf"
   },
   "outputs": [
    {
     "data": {
      "text/html": [
       "<div>\n",
       "<style scoped>\n",
       "    .dataframe tbody tr th:only-of-type {\n",
       "        vertical-align: middle;\n",
       "    }\n",
       "\n",
       "    .dataframe tbody tr th {\n",
       "        vertical-align: top;\n",
       "    }\n",
       "\n",
       "    .dataframe thead th {\n",
       "        text-align: right;\n",
       "    }\n",
       "</style>\n",
       "<table border=\"1\" class=\"dataframe\">\n",
       "  <thead>\n",
       "    <tr style=\"text-align: right;\">\n",
       "      <th></th>\n",
       "      <th>ds</th>\n",
       "      <th>trend</th>\n",
       "      <th>yhat_lower</th>\n",
       "      <th>yhat_upper</th>\n",
       "      <th>trend_lower</th>\n",
       "      <th>trend_upper</th>\n",
       "      <th>additive_terms</th>\n",
       "      <th>additive_terms_lower</th>\n",
       "      <th>additive_terms_upper</th>\n",
       "      <th>weekly</th>\n",
       "      <th>weekly_lower</th>\n",
       "      <th>weekly_upper</th>\n",
       "      <th>multiplicative_terms</th>\n",
       "      <th>multiplicative_terms_lower</th>\n",
       "      <th>multiplicative_terms_upper</th>\n",
       "      <th>yhat</th>\n",
       "    </tr>\n",
       "  </thead>\n",
       "  <tbody>\n",
       "    <tr>\n",
       "      <th>479</th>\n",
       "      <td>2023-01-27</td>\n",
       "      <td>7.869571</td>\n",
       "      <td>-14.258537</td>\n",
       "      <td>24.512040</td>\n",
       "      <td>7.838997</td>\n",
       "      <td>7.898615</td>\n",
       "      <td>-1.894526</td>\n",
       "      <td>-1.894526</td>\n",
       "      <td>-1.894526</td>\n",
       "      <td>-1.894526</td>\n",
       "      <td>-1.894526</td>\n",
       "      <td>-1.894526</td>\n",
       "      <td>0.0</td>\n",
       "      <td>0.0</td>\n",
       "      <td>0.0</td>\n",
       "      <td>5.975045</td>\n",
       "    </tr>\n",
       "    <tr>\n",
       "      <th>480</th>\n",
       "      <td>2023-01-28</td>\n",
       "      <td>7.871490</td>\n",
       "      <td>-16.114213</td>\n",
       "      <td>25.888505</td>\n",
       "      <td>7.839685</td>\n",
       "      <td>7.901337</td>\n",
       "      <td>-2.671516</td>\n",
       "      <td>-2.671516</td>\n",
       "      <td>-2.671516</td>\n",
       "      <td>-2.671516</td>\n",
       "      <td>-2.671516</td>\n",
       "      <td>-2.671516</td>\n",
       "      <td>0.0</td>\n",
       "      <td>0.0</td>\n",
       "      <td>0.0</td>\n",
       "      <td>5.199974</td>\n",
       "    </tr>\n",
       "    <tr>\n",
       "      <th>481</th>\n",
       "      <td>2023-01-29</td>\n",
       "      <td>7.873408</td>\n",
       "      <td>-11.865674</td>\n",
       "      <td>28.692633</td>\n",
       "      <td>7.840498</td>\n",
       "      <td>7.904280</td>\n",
       "      <td>0.548258</td>\n",
       "      <td>0.548258</td>\n",
       "      <td>0.548258</td>\n",
       "      <td>0.548258</td>\n",
       "      <td>0.548258</td>\n",
       "      <td>0.548258</td>\n",
       "      <td>0.0</td>\n",
       "      <td>0.0</td>\n",
       "      <td>0.0</td>\n",
       "      <td>8.421665</td>\n",
       "    </tr>\n",
       "    <tr>\n",
       "      <th>482</th>\n",
       "      <td>2023-01-30</td>\n",
       "      <td>7.875326</td>\n",
       "      <td>-14.781810</td>\n",
       "      <td>28.268470</td>\n",
       "      <td>7.841741</td>\n",
       "      <td>7.907209</td>\n",
       "      <td>0.176712</td>\n",
       "      <td>0.176712</td>\n",
       "      <td>0.176712</td>\n",
       "      <td>0.176712</td>\n",
       "      <td>0.176712</td>\n",
       "      <td>0.176712</td>\n",
       "      <td>0.0</td>\n",
       "      <td>0.0</td>\n",
       "      <td>0.0</td>\n",
       "      <td>8.052038</td>\n",
       "    </tr>\n",
       "    <tr>\n",
       "      <th>483</th>\n",
       "      <td>2023-01-31</td>\n",
       "      <td>7.877244</td>\n",
       "      <td>-9.471701</td>\n",
       "      <td>29.652534</td>\n",
       "      <td>7.843010</td>\n",
       "      <td>7.910018</td>\n",
       "      <td>2.916798</td>\n",
       "      <td>2.916798</td>\n",
       "      <td>2.916798</td>\n",
       "      <td>2.916798</td>\n",
       "      <td>2.916798</td>\n",
       "      <td>2.916798</td>\n",
       "      <td>0.0</td>\n",
       "      <td>0.0</td>\n",
       "      <td>0.0</td>\n",
       "      <td>10.794042</td>\n",
       "    </tr>\n",
       "  </tbody>\n",
       "</table>\n",
       "</div>"
      ],
      "text/plain": [
       "            ds     trend  yhat_lower  yhat_upper  trend_lower  trend_upper  \\\n",
       "479 2023-01-27  7.869571  -14.258537   24.512040     7.838997     7.898615   \n",
       "480 2023-01-28  7.871490  -16.114213   25.888505     7.839685     7.901337   \n",
       "481 2023-01-29  7.873408  -11.865674   28.692633     7.840498     7.904280   \n",
       "482 2023-01-30  7.875326  -14.781810   28.268470     7.841741     7.907209   \n",
       "483 2023-01-31  7.877244   -9.471701   29.652534     7.843010     7.910018   \n",
       "\n",
       "     additive_terms  additive_terms_lower  additive_terms_upper    weekly  \\\n",
       "479       -1.894526             -1.894526             -1.894526 -1.894526   \n",
       "480       -2.671516             -2.671516             -2.671516 -2.671516   \n",
       "481        0.548258              0.548258              0.548258  0.548258   \n",
       "482        0.176712              0.176712              0.176712  0.176712   \n",
       "483        2.916798              2.916798              2.916798  2.916798   \n",
       "\n",
       "     weekly_lower  weekly_upper  multiplicative_terms  \\\n",
       "479     -1.894526     -1.894526                   0.0   \n",
       "480     -2.671516     -2.671516                   0.0   \n",
       "481      0.548258      0.548258                   0.0   \n",
       "482      0.176712      0.176712                   0.0   \n",
       "483      2.916798      2.916798                   0.0   \n",
       "\n",
       "     multiplicative_terms_lower  multiplicative_terms_upper       yhat  \n",
       "479                         0.0                         0.0   5.975045  \n",
       "480                         0.0                         0.0   5.199974  \n",
       "481                         0.0                         0.0   8.421665  \n",
       "482                         0.0                         0.0   8.052038  \n",
       "483                         0.0                         0.0  10.794042  "
      ]
     },
     "execution_count": 27,
     "metadata": {},
     "output_type": "execute_result"
    }
   ],
   "source": [
    "forecast.tail()"
   ]
  },
  {
   "cell_type": "code",
   "execution_count": 28,
   "metadata": {
    "execution": {
     "iopub.execute_input": "2022-04-01T08:36:22.471501Z",
     "iopub.status.busy": "2022-04-01T08:36:22.471156Z",
     "iopub.status.idle": "2022-04-01T08:36:22.817645Z",
     "shell.execute_reply": "2022-04-01T08:36:22.816773Z",
     "shell.execute_reply.started": "2022-04-01T08:36:22.471473Z"
    },
    "id": "DF2s22fk58Em",
    "outputId": "a651a350-57d6-4d42-b3d8-589fd8622a65"
   },
   "outputs": [
    {
     "data": {
      "text/plain": [
       "Text(0.5, 1.0, 'Forecast of the Time Series in the next 60 days')"
      ]
     },
     "execution_count": 28,
     "metadata": {},
     "output_type": "execute_result"
    },
    {
     "data": {
      "image/png": "[encoded data removed]",
      "text/plain": [
       "<Figure size 720x432 with 1 Axes>"
      ]
     },
     "metadata": {},
     "output_type": "display_data"
    }
   ],
   "source": [
    "m.plot(forecast);\n",
    "plt.title(\"Forecast of the Time Series in the next 60 days\")"
   ]
  },
  {
   "cell_type": "code",
   "execution_count": 29,
   "metadata": {
    "execution": {
     "iopub.execute_input": "2022-04-01T08:36:22.819132Z",
     "iopub.status.busy": "2022-04-01T08:36:22.818855Z",
     "iopub.status.idle": "2022-04-01T08:36:23.278039Z",
     "shell.execute_reply": "2022-04-01T08:36:23.277171Z",
     "shell.execute_reply.started": "2022-04-01T08:36:22.819078Z"
    },
    "id": "RWsL_f4eB5B2",
    "outputId": "2a22ed8d-354c-4bdf-c1f1-a94c22e44423"
   },
   "outputs": [
    {
     "name": "stdout",
     "output_type": "stream",
     "text": [
      "Components of the time series:\n"
     ]
    },
    {
     "data": {
      "image/png": "[encoded data removed]",
      "text/plain": [
       "<Figure size 648x432 with 2 Axes>"
      ]
     },
     "metadata": {},
     "output_type": "display_data"
    }
   ],
   "source": [
    "m.plot_components(forecast);\n",
    "print(\"Components of the time series:\")"
   ]
  },
  {
   "cell_type": "code",
   "execution_count": 30,
   "metadata": {
    "execution": {
     "iopub.execute_input": "2022-04-01T08:36:23.280406Z",
     "iopub.status.busy": "2022-04-01T08:36:23.280188Z",
     "iopub.status.idle": "2022-04-01T08:36:23.294446Z",
     "shell.execute_reply": "2022-04-01T08:36:23.293640Z",
     "shell.execute_reply.started": "2022-04-01T08:36:23.280373Z"
    },
    "id": "jzO55k-q-xqy"
   },
   "outputs": [
    {
     "name": "stdout",
     "output_type": "stream",
     "text": [
      "<class 'pandas.core.frame.DataFrame'>\n",
      "RangeIndex: 484 entries, 0 to 483\n",
      "Data columns (total 4 columns):\n",
      " #   Column      Non-Null Count  Dtype         \n",
      "---  ------      --------------  -----         \n",
      " 0   ds          484 non-null    datetime64[ns]\n",
      " 1   yhat_lower  484 non-null    float64       \n",
      " 2   yhat        484 non-null    float64       \n",
      " 3   yhat_upper  484 non-null    float64       \n",
      "dtypes: datetime64[ns](1), float64(3)\n",
      "memory usage: 15.2 KB\n"
     ]
    }
   ],
   "source": [
    "#p_forecast = forecast[forecast['ds']>'2022-02-28'][['ds','yhat_lower','yhat','yhat_upper']]\n",
    "p_forecast = forecast[['ds','yhat_lower','yhat','yhat_upper']]\n",
    "p_forecast.info()"
   ]
  },
  {
   "cell_type": "code",
   "execution_count": 31,
   "metadata": {
    "execution": {
     "iopub.execute_input": "2022-04-01T08:36:23.296120Z",
     "iopub.status.busy": "2022-04-01T08:36:23.295548Z",
     "iopub.status.idle": "2022-04-01T08:36:23.615550Z",
     "shell.execute_reply": "2022-04-01T08:36:23.614914Z",
     "shell.execute_reply.started": "2022-04-01T08:36:23.296075Z"
    },
    "id": "D3luqYmd-xjx",
    "outputId": "27964f81-f5d6-473f-bf14-465c982d7cef"
   },
   "outputs": [
    {
     "data": {
      "text/plain": [
       "<matplotlib.collections.PolyCollection at 0x7f4efb739c40>"
      ]
     },
     "execution_count": 31,
     "metadata": {},
     "output_type": "execute_result"
    },
    {
     "data": {
      "image/png": "[encoded data removed]",
      "text/plain": [
       "<Figure size 864x432 with 1 Axes>"
      ]
     },
     "metadata": {},
     "output_type": "display_data"
    }
   ],
   "source": [
    "plt.figure(figsize=(12,6))\n",
    "plt.xticks(rotation=45)\n",
    "plt.title(\"Detail of Forecast using Prophet\")\n",
    "plt.plot(p_forecast['ds'], p_forecast['yhat'], marker='.', c='navy')\n",
    "plt.fill_between(p_forecast['ds'],p_forecast['yhat_lower'], p_forecast['yhat_upper'], alpha=0.1, color='cyan')"
   ]
  },
  {
   "cell_type": "markdown",
   "metadata": {
    "id": "gdCVB2iaLqmS"
   },
   "source": [
    "### Performance Metrics"
   ]
  },
  {
   "cell_type": "code",
   "execution_count": 32,
   "metadata": {
    "execution": {
     "iopub.execute_input": "2022-04-01T08:36:23.616977Z",
     "iopub.status.busy": "2022-04-01T08:36:23.616648Z",
     "iopub.status.idle": "2022-04-01T08:36:23.785524Z",
     "shell.execute_reply": "2022-04-01T08:36:23.784523Z",
     "shell.execute_reply.started": "2022-04-01T08:36:23.616950Z"
    },
    "id": "tPJQi-dm-wrf"
   },
   "outputs": [],
   "source": [
    "from sklearn.metrics import mean_squared_error"
   ]
  },
  {
   "cell_type": "code",
   "execution_count": 33,
   "metadata": {
    "execution": {
     "iopub.execute_input": "2022-04-01T08:36:23.787412Z",
     "iopub.status.busy": "2022-04-01T08:36:23.787102Z",
     "iopub.status.idle": "2022-04-01T08:36:23.799600Z",
     "shell.execute_reply": "2022-04-01T08:36:23.798739Z",
     "shell.execute_reply.started": "2022-04-01T08:36:23.787372Z"
    }
   },
   "outputs": [
    {
     "name": "stdout",
     "output_type": "stream",
     "text": [
      "<class 'pandas.core.frame.DataFrame'>\n",
      "RangeIndex: 424 entries, 0 to 423\n",
      "Data columns (total 2 columns):\n",
      " #   Column  Non-Null Count  Dtype         \n",
      "---  ------  --------------  -----         \n",
      " 0   ds      424 non-null    datetime64[ns]\n",
      " 1   y       424 non-null    float64       \n",
      "dtypes: datetime64[ns](1), float64(1)\n",
      "memory usage: 6.8 KB\n"
     ]
    }
   ],
   "source": [
    "df_tp.info()"
   ]
  },
  {
   "cell_type": "code",
   "execution_count": 34,
   "metadata": {
    "execution": {
     "iopub.execute_input": "2022-04-01T08:36:23.801719Z",
     "iopub.status.busy": "2022-04-01T08:36:23.801296Z",
     "iopub.status.idle": "2022-04-01T08:36:23.824535Z",
     "shell.execute_reply": "2022-04-01T08:36:23.823954Z",
     "shell.execute_reply.started": "2022-04-01T08:36:23.801647Z"
    }
   },
   "outputs": [
    {
     "data": {
      "text/html": [
       "<div>\n",
       "<style scoped>\n",
       "    .dataframe tbody tr th:only-of-type {\n",
       "        vertical-align: middle;\n",
       "    }\n",
       "\n",
       "    .dataframe tbody tr th {\n",
       "        vertical-align: top;\n",
       "    }\n",
       "\n",
       "    .dataframe thead th {\n",
       "        text-align: right;\n",
       "    }\n",
       "</style>\n",
       "<table border=\"1\" class=\"dataframe\">\n",
       "  <thead>\n",
       "    <tr style=\"text-align: right;\">\n",
       "      <th></th>\n",
       "      <th>ds</th>\n",
       "      <th>yhat_lower</th>\n",
       "      <th>yhat_upper</th>\n",
       "      <th>yhat</th>\n",
       "      <th>y</th>\n",
       "    </tr>\n",
       "  </thead>\n",
       "  <tbody>\n",
       "    <tr>\n",
       "      <th>0</th>\n",
       "      <td>2021-01-01</td>\n",
       "      <td>-12.554910</td>\n",
       "      <td>26.524538</td>\n",
       "      <td>7.090341</td>\n",
       "      <td>7.70</td>\n",
       "    </tr>\n",
       "    <tr>\n",
       "      <th>1</th>\n",
       "      <td>2021-02-01</td>\n",
       "      <td>-10.827227</td>\n",
       "      <td>28.314620</td>\n",
       "      <td>8.866150</td>\n",
       "      <td>0.50</td>\n",
       "    </tr>\n",
       "    <tr>\n",
       "      <th>2</th>\n",
       "      <td>2021-03-01</td>\n",
       "      <td>-11.426195</td>\n",
       "      <td>28.630039</td>\n",
       "      <td>8.599310</td>\n",
       "      <td>1.65</td>\n",
       "    </tr>\n",
       "    <tr>\n",
       "      <th>3</th>\n",
       "      <td>2021-04-01</td>\n",
       "      <td>-12.278468</td>\n",
       "      <td>27.838064</td>\n",
       "      <td>8.180022</td>\n",
       "      <td>2.80</td>\n",
       "    </tr>\n",
       "    <tr>\n",
       "      <th>4</th>\n",
       "      <td>2021-05-01</td>\n",
       "      <td>-16.077887</td>\n",
       "      <td>23.100408</td>\n",
       "      <td>5.169860</td>\n",
       "      <td>10.95</td>\n",
       "    </tr>\n",
       "  </tbody>\n",
       "</table>\n",
       "</div>"
      ],
      "text/plain": [
       "          ds  yhat_lower  yhat_upper      yhat      y\n",
       "0 2021-01-01  -12.554910   26.524538  7.090341   7.70\n",
       "1 2021-02-01  -10.827227   28.314620  8.866150   0.50\n",
       "2 2021-03-01  -11.426195   28.630039  8.599310   1.65\n",
       "3 2021-04-01  -12.278468   27.838064  8.180022   2.80\n",
       "4 2021-05-01  -16.077887   23.100408  5.169860  10.95"
      ]
     },
     "execution_count": 34,
     "metadata": {},
     "output_type": "execute_result"
    }
   ],
   "source": [
    "df_tp_merge = pd.merge(df_tp, forecast[['ds','yhat_lower','yhat_upper','yhat']],on='ds')\n",
    "df_tp_merge = df_tp_merge[['ds','yhat_lower','yhat_upper','yhat','y']]\n",
    "df_tp_merge.head()"
   ]
  },
  {
   "cell_type": "code",
   "execution_count": 35,
   "metadata": {
    "execution": {
     "iopub.execute_input": "2022-04-01T08:36:23.826230Z",
     "iopub.status.busy": "2022-04-01T08:36:23.825851Z",
     "iopub.status.idle": "2022-04-01T08:36:23.839246Z",
     "shell.execute_reply": "2022-04-01T08:36:23.838406Z",
     "shell.execute_reply.started": "2022-04-01T08:36:23.826197Z"
    }
   },
   "outputs": [
    {
     "data": {
      "text/html": [
       "<div>\n",
       "<style scoped>\n",
       "    .dataframe tbody tr th:only-of-type {\n",
       "        vertical-align: middle;\n",
       "    }\n",
       "\n",
       "    .dataframe tbody tr th {\n",
       "        vertical-align: top;\n",
       "    }\n",
       "\n",
       "    .dataframe thead th {\n",
       "        text-align: right;\n",
       "    }\n",
       "</style>\n",
       "<table border=\"1\" class=\"dataframe\">\n",
       "  <thead>\n",
       "    <tr style=\"text-align: right;\">\n",
       "      <th></th>\n",
       "      <th>ds</th>\n",
       "      <th>yhat_lower</th>\n",
       "      <th>yhat_upper</th>\n",
       "      <th>yhat</th>\n",
       "      <th>y</th>\n",
       "    </tr>\n",
       "  </thead>\n",
       "  <tbody>\n",
       "    <tr>\n",
       "      <th>419</th>\n",
       "      <td>2022-02-24</td>\n",
       "      <td>-11.720964</td>\n",
       "      <td>26.206704</td>\n",
       "      <td>7.276019</td>\n",
       "      <td>6.30</td>\n",
       "    </tr>\n",
       "    <tr>\n",
       "      <th>420</th>\n",
       "      <td>2022-02-25</td>\n",
       "      <td>-15.662197</td>\n",
       "      <td>24.989971</td>\n",
       "      <td>5.330557</td>\n",
       "      <td>0.00</td>\n",
       "    </tr>\n",
       "    <tr>\n",
       "      <th>421</th>\n",
       "      <td>2022-02-26</td>\n",
       "      <td>-17.020070</td>\n",
       "      <td>23.919024</td>\n",
       "      <td>4.555486</td>\n",
       "      <td>2.00</td>\n",
       "    </tr>\n",
       "    <tr>\n",
       "      <th>422</th>\n",
       "      <td>2022-02-27</td>\n",
       "      <td>-13.862607</td>\n",
       "      <td>28.293251</td>\n",
       "      <td>7.777177</td>\n",
       "      <td>2.05</td>\n",
       "    </tr>\n",
       "    <tr>\n",
       "      <th>423</th>\n",
       "      <td>2022-02-28</td>\n",
       "      <td>-13.063388</td>\n",
       "      <td>26.824350</td>\n",
       "      <td>7.407550</td>\n",
       "      <td>2.10</td>\n",
       "    </tr>\n",
       "  </tbody>\n",
       "</table>\n",
       "</div>"
      ],
      "text/plain": [
       "            ds  yhat_lower  yhat_upper      yhat     y\n",
       "419 2022-02-24  -11.720964   26.206704  7.276019  6.30\n",
       "420 2022-02-25  -15.662197   24.989971  5.330557  0.00\n",
       "421 2022-02-26  -17.020070   23.919024  4.555486  2.00\n",
       "422 2022-02-27  -13.862607   28.293251  7.777177  2.05\n",
       "423 2022-02-28  -13.063388   26.824350  7.407550  2.10"
      ]
     },
     "execution_count": 35,
     "metadata": {},
     "output_type": "execute_result"
    }
   ],
   "source": [
    "df_tp_merge.tail()"
   ]
  },
  {
   "cell_type": "code",
   "execution_count": 36,
   "metadata": {
    "execution": {
     "iopub.execute_input": "2022-04-01T08:36:23.840822Z",
     "iopub.status.busy": "2022-04-01T08:36:23.840416Z",
     "iopub.status.idle": "2022-04-01T08:36:23.848356Z",
     "shell.execute_reply": "2022-04-01T08:36:23.847402Z",
     "shell.execute_reply.started": "2022-04-01T08:36:23.840793Z"
    },
    "id": "h3g-k2Bd-wlT"
   },
   "outputs": [],
   "source": [
    "prophet_mse = mean_squared_error(df_tp_merge['y'], df_tp_merge['yhat'])\n",
    "prophet_rmse = np.sqrt(mean_squared_error(df_tp_merge['y'], df_tp_merge['yhat']))"
   ]
  },
  {
   "cell_type": "code",
   "execution_count": 37,
   "metadata": {
    "execution": {
     "iopub.execute_input": "2022-04-01T08:36:23.850410Z",
     "iopub.status.busy": "2022-04-01T08:36:23.849659Z",
     "iopub.status.idle": "2022-04-01T08:36:23.857049Z",
     "shell.execute_reply": "2022-04-01T08:36:23.856227Z",
     "shell.execute_reply.started": "2022-04-01T08:36:23.850375Z"
    },
    "id": "shJVx922-wh5",
    "outputId": "8362eca7-9488-45b3-c55d-b5553b8ab96c"
   },
   "outputs": [
    {
     "name": "stdout",
     "output_type": "stream",
     "text": [
      "Prophet MSE: 242.9972\n",
      "Prophet RMSE: 15.5884\n"
     ]
    }
   ],
   "source": [
    "print(\"Prophet MSE: {:.4f}\".format(prophet_mse))\n",
    "print(\"Prophet RMSE: {:.4f}\".format(prophet_rmse))"
   ]
  },
  {
   "cell_type": "markdown",
   "metadata": {
    "id": "Ut0bqOp6NKXB"
   },
   "source": [
    "## NeuralProphet"
   ]
  },
  {
   "cell_type": "code",
   "execution_count": 38,
   "metadata": {
    "execution": {
     "iopub.execute_input": "2022-04-01T08:36:23.858582Z",
     "iopub.status.busy": "2022-04-01T08:36:23.858043Z",
     "iopub.status.idle": "2022-04-01T08:36:33.585482Z",
     "shell.execute_reply": "2022-04-01T08:36:33.584768Z",
     "shell.execute_reply.started": "2022-04-01T08:36:23.858548Z"
    },
    "id": "_MmLi72YQUzB"
   },
   "outputs": [],
   "source": [
    "!pip install neuralprophet -q"
   ]
  },
  {
   "cell_type": "code",
   "execution_count": 39,
   "metadata": {
    "execution": {
     "iopub.execute_input": "2022-04-01T08:36:33.587315Z",
     "iopub.status.busy": "2022-04-01T08:36:33.587006Z",
     "iopub.status.idle": "2022-04-01T08:36:34.665237Z",
     "shell.execute_reply": "2022-04-01T08:36:34.664464Z",
     "shell.execute_reply.started": "2022-04-01T08:36:33.587272Z"
    },
    "id": "z8ZOYrkOQ5A_"
   },
   "outputs": [],
   "source": [
    "from neuralprophet import NeuralProphet, set_random_seed"
   ]
  },
  {
   "cell_type": "code",
   "execution_count": 40,
   "metadata": {
    "execution": {
     "iopub.execute_input": "2022-04-01T08:36:34.666597Z",
     "iopub.status.busy": "2022-04-01T08:36:34.666390Z",
     "iopub.status.idle": "2022-04-01T08:36:34.675504Z",
     "shell.execute_reply": "2022-04-01T08:36:34.674737Z",
     "shell.execute_reply.started": "2022-04-01T08:36:34.666571Z"
    },
    "id": "jzVA9PzwVDWF"
   },
   "outputs": [],
   "source": [
    "set_random_seed(42)"
   ]
  },
  {
   "cell_type": "code",
   "execution_count": 41,
   "metadata": {
    "execution": {
     "iopub.execute_input": "2022-04-01T08:36:34.677764Z",
     "iopub.status.busy": "2022-04-01T08:36:34.677198Z",
     "iopub.status.idle": "2022-04-01T08:36:34.689400Z",
     "shell.execute_reply": "2022-04-01T08:36:34.688842Z",
     "shell.execute_reply.started": "2022-04-01T08:36:34.677638Z"
    },
    "id": "j1etU6abQU2_"
   },
   "outputs": [],
   "source": [
    "nm = NeuralProphet(seasonality_mode='additive')"
   ]
  },
  {
   "cell_type": "code",
   "execution_count": 42,
   "metadata": {
    "execution": {
     "iopub.execute_input": "2022-04-01T08:36:34.690963Z",
     "iopub.status.busy": "2022-04-01T08:36:34.690566Z",
     "iopub.status.idle": "2022-04-01T08:36:47.185714Z",
     "shell.execute_reply": "2022-04-01T08:36:47.184792Z",
     "shell.execute_reply.started": "2022-04-01T08:36:34.690926Z"
    },
    "id": "94DWQAlRQU6l",
    "outputId": "e119abca-ba94-48f8-cf50-60a76f8bbce8"
   },
   "outputs": [
    {
     "name": "stderr",
     "output_type": "stream",
     "text": [
      "INFO - (NP.df_utils._infer_frequency) - Major frequency D corresponds to 97.17% of the data.\n",
      "INFO:NP.df_utils:Major frequency D corresponds to 97.17% of the data.\n",
      "INFO - (NP.df_utils._infer_frequency) - Defined frequency is equal to major frequency - D\n",
      "INFO:NP.df_utils:Defined frequency is equal to major frequency - D\n",
      "INFO - (NP.config.init_data_params) - Setting normalization to global as only one dataframe provided for training.\n",
      "INFO:NP.config:Setting normalization to global as only one dataframe provided for training.\n",
      "INFO - (NP.utils.set_auto_seasonalities) - Disabling yearly seasonality. Run NeuralProphet with yearly_seasonality=True to override this.\n",
      "INFO:NP.utils:Disabling yearly seasonality. Run NeuralProphet with yearly_seasonality=True to override this.\n",
      "INFO - (NP.utils.set_auto_seasonalities) - Disabling daily seasonality. Run NeuralProphet with daily_seasonality=True to override this.\n",
      "INFO:NP.utils:Disabling daily seasonality. Run NeuralProphet with daily_seasonality=True to override this.\n",
      "INFO - (NP.config.set_auto_batch_epoch) - Auto-set batch_size to 16\n",
      "INFO:NP.config:Auto-set batch_size to 16\n",
      "INFO - (NP.config.set_auto_batch_epoch) - Auto-set epochs to 262\n",
      "INFO:NP.config:Auto-set epochs to 262\n"
     ]
    },
    {
     "data": {
      "application/vnd.jupyter.widget-view+json": {
       "model_id": "e9ec9682ae9444b3adab5d45720e1426",
       "version_major": 2,
       "version_minor": 0
      },
      "text/plain": [
       "  0%|          | 0/117 [00:00<?, ?it/s]"
      ]
     },
     "metadata": {},
     "output_type": "display_data"
    },
    {
     "name": "stderr",
     "output_type": "stream",
     "text": [
      "INFO - (NP.utils_torch.lr_range_test) - lr-range-test results: steep: 5.51E-02, min: 2.30E-01\n",
      "INFO:NP.utils_torch:lr-range-test results: steep: 5.51E-02, min: 2.30E-01\n"
     ]
    },
    {
     "data": {
      "application/vnd.jupyter.widget-view+json": {
       "model_id": "da6339494c9e4deea6890af6996f927e",
       "version_major": 2,
       "version_minor": 0
      },
      "text/plain": [
       "  0%|          | 0/117 [00:00<?, ?it/s]"
      ]
     },
     "metadata": {},
     "output_type": "display_data"
    },
    {
     "name": "stderr",
     "output_type": "stream",
     "text": [
      "INFO - (NP.utils_torch.lr_range_test) - lr-range-test results: steep: 5.51E-02, min: 1.93E-01\n",
      "INFO:NP.utils_torch:lr-range-test results: steep: 5.51E-02, min: 1.93E-01\n",
      "INFO - (NP.forecaster._init_train_loader) - lr-range-test selected learning rate: 6.72E-02\n",
      "INFO:NP.forecaster:lr-range-test selected learning rate: 6.72E-02\n",
      "Epoch[262/262]: 100%|██████████| 262/262 [00:12<00:00, 21.00it/s, SmoothL1Loss=0.064, MAE=8.99, RMSE=13.7, RegLoss=0] \n"
     ]
    },
    {
     "data": {
      "text/html": [
       "<div>\n",
       "<style scoped>\n",
       "    .dataframe tbody tr th:only-of-type {\n",
       "        vertical-align: middle;\n",
       "    }\n",
       "\n",
       "    .dataframe tbody tr th {\n",
       "        vertical-align: top;\n",
       "    }\n",
       "\n",
       "    .dataframe thead th {\n",
       "        text-align: right;\n",
       "    }\n",
       "</style>\n",
       "<table border=\"1\" class=\"dataframe\">\n",
       "  <thead>\n",
       "    <tr style=\"text-align: right;\">\n",
       "      <th></th>\n",
       "      <th>SmoothL1Loss</th>\n",
       "      <th>MAE</th>\n",
       "      <th>RMSE</th>\n",
       "      <th>RegLoss</th>\n",
       "    </tr>\n",
       "  </thead>\n",
       "  <tbody>\n",
       "    <tr>\n",
       "      <th>0</th>\n",
       "      <td>0.253268</td>\n",
       "      <td>22.102150</td>\n",
       "      <td>28.054430</td>\n",
       "      <td>0.0</td>\n",
       "    </tr>\n",
       "    <tr>\n",
       "      <th>1</th>\n",
       "      <td>0.239719</td>\n",
       "      <td>21.290670</td>\n",
       "      <td>27.367090</td>\n",
       "      <td>0.0</td>\n",
       "    </tr>\n",
       "    <tr>\n",
       "      <th>2</th>\n",
       "      <td>0.225372</td>\n",
       "      <td>20.439706</td>\n",
       "      <td>26.764395</td>\n",
       "      <td>0.0</td>\n",
       "    </tr>\n",
       "    <tr>\n",
       "      <th>3</th>\n",
       "      <td>0.209618</td>\n",
       "      <td>19.474955</td>\n",
       "      <td>25.692491</td>\n",
       "      <td>0.0</td>\n",
       "    </tr>\n",
       "    <tr>\n",
       "      <th>4</th>\n",
       "      <td>0.193053</td>\n",
       "      <td>18.436520</td>\n",
       "      <td>24.457262</td>\n",
       "      <td>0.0</td>\n",
       "    </tr>\n",
       "    <tr>\n",
       "      <th>...</th>\n",
       "      <td>...</td>\n",
       "      <td>...</td>\n",
       "      <td>...</td>\n",
       "      <td>...</td>\n",
       "    </tr>\n",
       "    <tr>\n",
       "      <th>257</th>\n",
       "      <td>0.063963</td>\n",
       "      <td>8.989144</td>\n",
       "      <td>13.531410</td>\n",
       "      <td>0.0</td>\n",
       "    </tr>\n",
       "    <tr>\n",
       "      <th>258</th>\n",
       "      <td>0.063958</td>\n",
       "      <td>8.990329</td>\n",
       "      <td>13.539375</td>\n",
       "      <td>0.0</td>\n",
       "    </tr>\n",
       "    <tr>\n",
       "      <th>259</th>\n",
       "      <td>0.063957</td>\n",
       "      <td>8.991812</td>\n",
       "      <td>13.419283</td>\n",
       "      <td>0.0</td>\n",
       "    </tr>\n",
       "    <tr>\n",
       "      <th>260</th>\n",
       "      <td>0.063955</td>\n",
       "      <td>8.991676</td>\n",
       "      <td>13.807043</td>\n",
       "      <td>0.0</td>\n",
       "    </tr>\n",
       "    <tr>\n",
       "      <th>261</th>\n",
       "      <td>0.063954</td>\n",
       "      <td>8.991885</td>\n",
       "      <td>13.666102</td>\n",
       "      <td>0.0</td>\n",
       "    </tr>\n",
       "  </tbody>\n",
       "</table>\n",
       "<p>262 rows × 4 columns</p>\n",
       "</div>"
      ],
      "text/plain": [
       "     SmoothL1Loss        MAE       RMSE  RegLoss\n",
       "0        0.253268  22.102150  28.054430      0.0\n",
       "1        0.239719  21.290670  27.367090      0.0\n",
       "2        0.225372  20.439706  26.764395      0.0\n",
       "3        0.209618  19.474955  25.692491      0.0\n",
       "4        0.193053  18.436520  24.457262      0.0\n",
       "..            ...        ...        ...      ...\n",
       "257      0.063963   8.989144  13.531410      0.0\n",
       "258      0.063958   8.990329  13.539375      0.0\n",
       "259      0.063957   8.991812  13.419283      0.0\n",
       "260      0.063955   8.991676  13.807043      0.0\n",
       "261      0.063954   8.991885  13.666102      0.0\n",
       "\n",
       "[262 rows x 4 columns]"
      ]
     },
     "execution_count": 42,
     "metadata": {},
     "output_type": "execute_result"
    }
   ],
   "source": [
    "nm.fit(df_tp, freq='D')"
   ]
  },
  {
   "cell_type": "code",
   "execution_count": 43,
   "metadata": {
    "execution": {
     "iopub.execute_input": "2022-04-01T08:36:47.187527Z",
     "iopub.status.busy": "2022-04-01T08:36:47.187215Z",
     "iopub.status.idle": "2022-04-01T08:36:47.213016Z",
     "shell.execute_reply": "2022-04-01T08:36:47.212114Z",
     "shell.execute_reply.started": "2022-04-01T08:36:47.187485Z"
    },
    "id": "2712r-y6QU_J"
   },
   "outputs": [
    {
     "name": "stderr",
     "output_type": "stream",
     "text": [
      "INFO - (NP.df_utils._infer_frequency) - Major frequency D corresponds to 57.547% of the data.\n",
      "INFO:NP.df_utils:Major frequency D corresponds to 57.547% of the data.\n",
      "WARNING - (NP.df_utils._infer_frequency) - Dataframe has multiple frequencies. It will be resampled according to given freq D. Ignore message if actual frequency is any of the following:  SM, BM, CBM, SMS, BMS, CBMS, BQ, BQS, BA, or, BAS.\n",
      "WARNING:NP.df_utils:Dataframe has multiple frequencies. It will be resampled according to given freq D. Ignore message if actual frequency is any of the following:  SM, BM, CBM, SMS, BMS, CBMS, BQ, BQS, BA, or, BAS.\n"
     ]
    },
    {
     "data": {
      "text/html": [
       "<div>\n",
       "<style scoped>\n",
       "    .dataframe tbody tr th:only-of-type {\n",
       "        vertical-align: middle;\n",
       "    }\n",
       "\n",
       "    .dataframe tbody tr th {\n",
       "        vertical-align: top;\n",
       "    }\n",
       "\n",
       "    .dataframe thead th {\n",
       "        text-align: right;\n",
       "    }\n",
       "</style>\n",
       "<table border=\"1\" class=\"dataframe\">\n",
       "  <thead>\n",
       "    <tr style=\"text-align: right;\">\n",
       "      <th></th>\n",
       "      <th>ds</th>\n",
       "      <th>y</th>\n",
       "    </tr>\n",
       "  </thead>\n",
       "  <tbody>\n",
       "    <tr>\n",
       "      <th>0</th>\n",
       "      <td>2021-01-01</td>\n",
       "      <td>7.7</td>\n",
       "    </tr>\n",
       "    <tr>\n",
       "      <th>1</th>\n",
       "      <td>2021-01-02</td>\n",
       "      <td>24.4</td>\n",
       "    </tr>\n",
       "    <tr>\n",
       "      <th>2</th>\n",
       "      <td>2021-01-03</td>\n",
       "      <td>0.3</td>\n",
       "    </tr>\n",
       "    <tr>\n",
       "      <th>3</th>\n",
       "      <td>2021-01-04</td>\n",
       "      <td>0.7</td>\n",
       "    </tr>\n",
       "    <tr>\n",
       "      <th>4</th>\n",
       "      <td>2021-01-05</td>\n",
       "      <td>0.0</td>\n",
       "    </tr>\n",
       "    <tr>\n",
       "      <th>...</th>\n",
       "      <td>...</td>\n",
       "      <td>...</td>\n",
       "    </tr>\n",
       "    <tr>\n",
       "      <th>479</th>\n",
       "      <td>2023-01-27</td>\n",
       "      <td>NaN</td>\n",
       "    </tr>\n",
       "    <tr>\n",
       "      <th>480</th>\n",
       "      <td>2023-01-28</td>\n",
       "      <td>NaN</td>\n",
       "    </tr>\n",
       "    <tr>\n",
       "      <th>481</th>\n",
       "      <td>2023-01-29</td>\n",
       "      <td>NaN</td>\n",
       "    </tr>\n",
       "    <tr>\n",
       "      <th>482</th>\n",
       "      <td>2023-01-30</td>\n",
       "      <td>NaN</td>\n",
       "    </tr>\n",
       "    <tr>\n",
       "      <th>483</th>\n",
       "      <td>2023-01-31</td>\n",
       "      <td>NaN</td>\n",
       "    </tr>\n",
       "  </tbody>\n",
       "</table>\n",
       "<p>484 rows × 2 columns</p>\n",
       "</div>"
      ],
      "text/plain": [
       "            ds     y\n",
       "0   2021-01-01   7.7\n",
       "1   2021-01-02  24.4\n",
       "2   2021-01-03   0.3\n",
       "3   2021-01-04   0.7\n",
       "4   2021-01-05   0.0\n",
       "..         ...   ...\n",
       "479 2023-01-27   NaN\n",
       "480 2023-01-28   NaN\n",
       "481 2023-01-29   NaN\n",
       "482 2023-01-30   NaN\n",
       "483 2023-01-31   NaN\n",
       "\n",
       "[484 rows x 2 columns]"
      ]
     },
     "execution_count": 43,
     "metadata": {},
     "output_type": "execute_result"
    }
   ],
   "source": [
    "n_future = nm.make_future_dataframe(df_tp, periods=60, n_historic_predictions=len(df_tp))\n",
    "n_future"
   ]
  },
  {
   "cell_type": "code",
   "execution_count": 44,
   "metadata": {
    "execution": {
     "iopub.execute_input": "2022-04-01T08:36:47.214552Z",
     "iopub.status.busy": "2022-04-01T08:36:47.214255Z",
     "iopub.status.idle": "2022-04-01T08:36:47.222932Z",
     "shell.execute_reply": "2022-04-01T08:36:47.222282Z",
     "shell.execute_reply.started": "2022-04-01T08:36:47.214520Z"
    },
    "id": "YEDwelt4QVEC",
    "outputId": "05320861-f7fa-4dd1-d08e-146d658bb393"
   },
   "outputs": [
    {
     "data": {
      "text/html": [
       "<div>\n",
       "<style scoped>\n",
       "    .dataframe tbody tr th:only-of-type {\n",
       "        vertical-align: middle;\n",
       "    }\n",
       "\n",
       "    .dataframe tbody tr th {\n",
       "        vertical-align: top;\n",
       "    }\n",
       "\n",
       "    .dataframe thead th {\n",
       "        text-align: right;\n",
       "    }\n",
       "</style>\n",
       "<table border=\"1\" class=\"dataframe\">\n",
       "  <thead>\n",
       "    <tr style=\"text-align: right;\">\n",
       "      <th></th>\n",
       "      <th>ds</th>\n",
       "      <th>y</th>\n",
       "    </tr>\n",
       "  </thead>\n",
       "  <tbody>\n",
       "    <tr>\n",
       "      <th>479</th>\n",
       "      <td>2023-01-27</td>\n",
       "      <td>NaN</td>\n",
       "    </tr>\n",
       "    <tr>\n",
       "      <th>480</th>\n",
       "      <td>2023-01-28</td>\n",
       "      <td>NaN</td>\n",
       "    </tr>\n",
       "    <tr>\n",
       "      <th>481</th>\n",
       "      <td>2023-01-29</td>\n",
       "      <td>NaN</td>\n",
       "    </tr>\n",
       "    <tr>\n",
       "      <th>482</th>\n",
       "      <td>2023-01-30</td>\n",
       "      <td>NaN</td>\n",
       "    </tr>\n",
       "    <tr>\n",
       "      <th>483</th>\n",
       "      <td>2023-01-31</td>\n",
       "      <td>NaN</td>\n",
       "    </tr>\n",
       "  </tbody>\n",
       "</table>\n",
       "</div>"
      ],
      "text/plain": [
       "            ds   y\n",
       "479 2023-01-27 NaN\n",
       "480 2023-01-28 NaN\n",
       "481 2023-01-29 NaN\n",
       "482 2023-01-30 NaN\n",
       "483 2023-01-31 NaN"
      ]
     },
     "execution_count": 44,
     "metadata": {},
     "output_type": "execute_result"
    }
   ],
   "source": [
    "n_future.tail()"
   ]
  },
  {
   "cell_type": "code",
   "execution_count": 45,
   "metadata": {
    "execution": {
     "iopub.execute_input": "2022-04-01T08:36:47.224591Z",
     "iopub.status.busy": "2022-04-01T08:36:47.223877Z",
     "iopub.status.idle": "2022-04-01T08:36:47.275657Z",
     "shell.execute_reply": "2022-04-01T08:36:47.274835Z",
     "shell.execute_reply.started": "2022-04-01T08:36:47.224562Z"
    },
    "id": "9itH7Z1sQVIM"
   },
   "outputs": [
    {
     "name": "stderr",
     "output_type": "stream",
     "text": [
      "INFO - (NP.df_utils._infer_frequency) - Major frequency D corresponds to 97.521% of the data.\n",
      "INFO:NP.df_utils:Major frequency D corresponds to 97.521% of the data.\n",
      "INFO - (NP.df_utils._infer_frequency) - Defined frequency is equal to major frequency - D\n",
      "INFO:NP.df_utils:Defined frequency is equal to major frequency - D\n",
      "INFO - (NP.df_utils._infer_frequency) - Major frequency D corresponds to 97.521% of the data.\n",
      "INFO:NP.df_utils:Major frequency D corresponds to 97.521% of the data.\n",
      "INFO - (NP.df_utils._infer_frequency) - Defined frequency is equal to major frequency - D\n",
      "INFO:NP.df_utils:Defined frequency is equal to major frequency - D\n"
     ]
    }
   ],
   "source": [
    "n_forecast = nm.predict(n_future)"
   ]
  },
  {
   "cell_type": "code",
   "execution_count": 46,
   "metadata": {
    "execution": {
     "iopub.execute_input": "2022-04-01T08:36:47.277166Z",
     "iopub.status.busy": "2022-04-01T08:36:47.276865Z",
     "iopub.status.idle": "2022-04-01T08:36:47.289622Z",
     "shell.execute_reply": "2022-04-01T08:36:47.288613Z",
     "shell.execute_reply.started": "2022-04-01T08:36:47.277134Z"
    }
   },
   "outputs": [
    {
     "name": "stdout",
     "output_type": "stream",
     "text": [
      "<class 'pandas.core.frame.DataFrame'>\n",
      "RangeIndex: 484 entries, 0 to 483\n",
      "Data columns (total 6 columns):\n",
      " #   Column         Non-Null Count  Dtype         \n",
      "---  ------         --------------  -----         \n",
      " 0   ds             484 non-null    datetime64[ns]\n",
      " 1   y              424 non-null    float64       \n",
      " 2   yhat1          484 non-null    float64       \n",
      " 3   residual1      424 non-null    float64       \n",
      " 4   trend          484 non-null    float64       \n",
      " 5   season_weekly  484 non-null    float64       \n",
      "dtypes: datetime64[ns](1), float64(5)\n",
      "memory usage: 22.8 KB\n"
     ]
    }
   ],
   "source": [
    "n_forecast.info()"
   ]
  },
  {
   "cell_type": "code",
   "execution_count": 47,
   "metadata": {
    "execution": {
     "iopub.execute_input": "2022-04-01T08:36:47.292301Z",
     "iopub.status.busy": "2022-04-01T08:36:47.291217Z",
     "iopub.status.idle": "2022-04-01T08:36:47.306258Z",
     "shell.execute_reply": "2022-04-01T08:36:47.305090Z",
     "shell.execute_reply.started": "2022-04-01T08:36:47.292256Z"
    },
    "id": "pAxbeCwCQVMu",
    "outputId": "93e7f551-74ca-4717-f0a5-0a97d05ef94f"
   },
   "outputs": [
    {
     "data": {
      "text/html": [
       "<div>\n",
       "<style scoped>\n",
       "    .dataframe tbody tr th:only-of-type {\n",
       "        vertical-align: middle;\n",
       "    }\n",
       "\n",
       "    .dataframe tbody tr th {\n",
       "        vertical-align: top;\n",
       "    }\n",
       "\n",
       "    .dataframe thead th {\n",
       "        text-align: right;\n",
       "    }\n",
       "</style>\n",
       "<table border=\"1\" class=\"dataframe\">\n",
       "  <thead>\n",
       "    <tr style=\"text-align: right;\">\n",
       "      <th></th>\n",
       "      <th>ds</th>\n",
       "      <th>y</th>\n",
       "      <th>yhat1</th>\n",
       "      <th>residual1</th>\n",
       "      <th>trend</th>\n",
       "      <th>season_weekly</th>\n",
       "    </tr>\n",
       "  </thead>\n",
       "  <tbody>\n",
       "    <tr>\n",
       "      <th>479</th>\n",
       "      <td>2023-01-27</td>\n",
       "      <td>NaN</td>\n",
       "      <td>19.147282</td>\n",
       "      <td>NaN</td>\n",
       "      <td>20.805456</td>\n",
       "      <td>-1.658176</td>\n",
       "    </tr>\n",
       "    <tr>\n",
       "      <th>480</th>\n",
       "      <td>2023-01-28</td>\n",
       "      <td>NaN</td>\n",
       "      <td>19.292692</td>\n",
       "      <td>NaN</td>\n",
       "      <td>20.909813</td>\n",
       "      <td>-1.617119</td>\n",
       "    </tr>\n",
       "    <tr>\n",
       "      <th>481</th>\n",
       "      <td>2023-01-29</td>\n",
       "      <td>NaN</td>\n",
       "      <td>21.092865</td>\n",
       "      <td>NaN</td>\n",
       "      <td>21.014168</td>\n",
       "      <td>0.078698</td>\n",
       "    </tr>\n",
       "    <tr>\n",
       "      <th>482</th>\n",
       "      <td>2023-01-30</td>\n",
       "      <td>NaN</td>\n",
       "      <td>21.638859</td>\n",
       "      <td>NaN</td>\n",
       "      <td>21.118532</td>\n",
       "      <td>0.520327</td>\n",
       "    </tr>\n",
       "    <tr>\n",
       "      <th>483</th>\n",
       "      <td>2023-01-31</td>\n",
       "      <td>NaN</td>\n",
       "      <td>23.490078</td>\n",
       "      <td>NaN</td>\n",
       "      <td>21.222897</td>\n",
       "      <td>2.267182</td>\n",
       "    </tr>\n",
       "  </tbody>\n",
       "</table>\n",
       "</div>"
      ],
      "text/plain": [
       "            ds   y      yhat1  residual1      trend  season_weekly\n",
       "479 2023-01-27 NaN  19.147282        NaN  20.805456      -1.658176\n",
       "480 2023-01-28 NaN  19.292692        NaN  20.909813      -1.617119\n",
       "481 2023-01-29 NaN  21.092865        NaN  21.014168       0.078698\n",
       "482 2023-01-30 NaN  21.638859        NaN  21.118532       0.520327\n",
       "483 2023-01-31 NaN  23.490078        NaN  21.222897       2.267182"
      ]
     },
     "execution_count": 47,
     "metadata": {},
     "output_type": "execute_result"
    }
   ],
   "source": [
    "n_forecast.tail()"
   ]
  },
  {
   "cell_type": "code",
   "execution_count": 48,
   "metadata": {
    "execution": {
     "iopub.execute_input": "2022-04-01T08:36:47.308040Z",
     "iopub.status.busy": "2022-04-01T08:36:47.307735Z",
     "iopub.status.idle": "2022-04-01T08:36:47.783438Z",
     "shell.execute_reply": "2022-04-01T08:36:47.782868Z",
     "shell.execute_reply.started": "2022-04-01T08:36:47.307998Z"
    },
    "id": "BDfgTxJgQVRz",
    "outputId": "bbf586f8-beb6-4467-d367-d86b362c7e7f"
   },
   "outputs": [
    {
     "name": "stderr",
     "output_type": "stream",
     "text": [
      "WARNING:matplotlib.legend:No artists with labels found to put in legend.  Note that artists whose label start with an underscore are ignored when legend() is called with no argument.\n"
     ]
    },
    {
     "data": {
      "text/plain": [
       "<matplotlib.legend.Legend at 0x7f4eede2a190>"
      ]
     },
     "execution_count": 48,
     "metadata": {},
     "output_type": "execute_result"
    },
    {
     "data": {
      "image/png": "[encoded data removed]",
      "text/plain": [
       "<Figure size 864x432 with 1 Axes>"
      ]
     },
     "metadata": {},
     "output_type": "display_data"
    }
   ],
   "source": [
    "plt.figure(figsize=(12,6))\n",
    "plt.xticks(rotation=45)\n",
    "plt.title(\"Detail of Forecast using NeuralProphet\")\n",
    "plt.plot(n_forecast['ds'], n_forecast['yhat1'], marker='.', c='red')\n",
    "plt.legend()"
   ]
  },
  {
   "cell_type": "code",
   "execution_count": 49,
   "metadata": {
    "execution": {
     "iopub.execute_input": "2022-04-01T08:36:47.784555Z",
     "iopub.status.busy": "2022-04-01T08:36:47.784278Z",
     "iopub.status.idle": "2022-04-01T08:36:48.157399Z",
     "shell.execute_reply": "2022-04-01T08:36:48.156313Z",
     "shell.execute_reply.started": "2022-04-01T08:36:47.784530Z"
    },
    "id": "RlRTtEIOQVXh",
    "outputId": "a4807c9c-183b-4251-bc24-05ae03933b03"
   },
   "outputs": [
    {
     "data": {
      "text/plain": [
       "Text(0.5, 1.0, 'Forecast of the Time Series in the next 60 days')"
      ]
     },
     "execution_count": 49,
     "metadata": {},
     "output_type": "execute_result"
    },
    {
     "data": {
      "image/png": "[encoded data removed]",
      "text/plain": [
       "<Figure size 720x432 with 1 Axes>"
      ]
     },
     "metadata": {},
     "output_type": "display_data"
    }
   ],
   "source": [
    "nm.plot(pd.concat([df_tp, n_forecast], ignore_index=True));\n",
    "plt.title(\"Forecast of the Time Series in the next 60 days\")"
   ]
  },
  {
   "cell_type": "code",
   "execution_count": 50,
   "metadata": {
    "execution": {
     "iopub.execute_input": "2022-04-01T08:36:48.160618Z",
     "iopub.status.busy": "2022-04-01T08:36:48.159652Z",
     "iopub.status.idle": "2022-04-01T08:36:48.614042Z",
     "shell.execute_reply": "2022-04-01T08:36:48.613084Z",
     "shell.execute_reply.started": "2022-04-01T08:36:48.160559Z"
    }
   },
   "outputs": [
    {
     "data": {
      "image/png": "[encoded data removed]",
      "text/plain": [
       "<Figure size 720x432 with 2 Axes>"
      ]
     },
     "metadata": {},
     "output_type": "display_data"
    }
   ],
   "source": [
    "nm.plot_components(pd.concat([df_tp, n_forecast], ignore_index=True));"
   ]
  },
  {
   "cell_type": "markdown",
   "metadata": {
    "id": "PxQPboiBTGk6"
   },
   "source": [
    "### Performance Metrics"
   ]
  },
  {
   "cell_type": "code",
   "execution_count": 51,
   "metadata": {
    "execution": {
     "iopub.execute_input": "2022-04-01T08:36:48.616149Z",
     "iopub.status.busy": "2022-04-01T08:36:48.615316Z",
     "iopub.status.idle": "2022-04-01T08:36:48.634916Z",
     "shell.execute_reply": "2022-04-01T08:36:48.634323Z",
     "shell.execute_reply.started": "2022-04-01T08:36:48.616104Z"
    }
   },
   "outputs": [
    {
     "data": {
      "text/html": [
       "<div>\n",
       "<style scoped>\n",
       "    .dataframe tbody tr th:only-of-type {\n",
       "        vertical-align: middle;\n",
       "    }\n",
       "\n",
       "    .dataframe tbody tr th {\n",
       "        vertical-align: top;\n",
       "    }\n",
       "\n",
       "    .dataframe thead th {\n",
       "        text-align: right;\n",
       "    }\n",
       "</style>\n",
       "<table border=\"1\" class=\"dataframe\">\n",
       "  <thead>\n",
       "    <tr style=\"text-align: right;\">\n",
       "      <th></th>\n",
       "      <th>ds</th>\n",
       "      <th>y</th>\n",
       "      <th>yhat1</th>\n",
       "      <th>residual1</th>\n",
       "      <th>trend</th>\n",
       "      <th>season_weekly</th>\n",
       "    </tr>\n",
       "  </thead>\n",
       "  <tbody>\n",
       "    <tr>\n",
       "      <th>0</th>\n",
       "      <td>2021-01-01</td>\n",
       "      <td>7.7</td>\n",
       "      <td>5.635226</td>\n",
       "      <td>-2.064774</td>\n",
       "      <td>7.293401</td>\n",
       "      <td>-1.658176</td>\n",
       "    </tr>\n",
       "    <tr>\n",
       "      <th>1</th>\n",
       "      <td>2021-01-02</td>\n",
       "      <td>24.4</td>\n",
       "      <td>5.796345</td>\n",
       "      <td>-18.603655</td>\n",
       "      <td>7.413465</td>\n",
       "      <td>-1.617119</td>\n",
       "    </tr>\n",
       "    <tr>\n",
       "      <th>2</th>\n",
       "      <td>2021-01-03</td>\n",
       "      <td>0.3</td>\n",
       "      <td>7.612227</td>\n",
       "      <td>7.312227</td>\n",
       "      <td>7.533529</td>\n",
       "      <td>0.078698</td>\n",
       "    </tr>\n",
       "    <tr>\n",
       "      <th>3</th>\n",
       "      <td>2021-01-04</td>\n",
       "      <td>0.7</td>\n",
       "      <td>8.173919</td>\n",
       "      <td>7.473919</td>\n",
       "      <td>7.653592</td>\n",
       "      <td>0.520327</td>\n",
       "    </tr>\n",
       "    <tr>\n",
       "      <th>4</th>\n",
       "      <td>2021-01-05</td>\n",
       "      <td>0.0</td>\n",
       "      <td>10.040837</td>\n",
       "      <td>10.040837</td>\n",
       "      <td>7.773656</td>\n",
       "      <td>2.267182</td>\n",
       "    </tr>\n",
       "    <tr>\n",
       "      <th>...</th>\n",
       "      <td>...</td>\n",
       "      <td>...</td>\n",
       "      <td>...</td>\n",
       "      <td>...</td>\n",
       "      <td>...</td>\n",
       "      <td>...</td>\n",
       "    </tr>\n",
       "    <tr>\n",
       "      <th>479</th>\n",
       "      <td>2023-01-27</td>\n",
       "      <td>NaN</td>\n",
       "      <td>19.147282</td>\n",
       "      <td>NaN</td>\n",
       "      <td>20.805456</td>\n",
       "      <td>-1.658176</td>\n",
       "    </tr>\n",
       "    <tr>\n",
       "      <th>480</th>\n",
       "      <td>2023-01-28</td>\n",
       "      <td>NaN</td>\n",
       "      <td>19.292692</td>\n",
       "      <td>NaN</td>\n",
       "      <td>20.909813</td>\n",
       "      <td>-1.617119</td>\n",
       "    </tr>\n",
       "    <tr>\n",
       "      <th>481</th>\n",
       "      <td>2023-01-29</td>\n",
       "      <td>NaN</td>\n",
       "      <td>21.092865</td>\n",
       "      <td>NaN</td>\n",
       "      <td>21.014168</td>\n",
       "      <td>0.078698</td>\n",
       "    </tr>\n",
       "    <tr>\n",
       "      <th>482</th>\n",
       "      <td>2023-01-30</td>\n",
       "      <td>NaN</td>\n",
       "      <td>21.638859</td>\n",
       "      <td>NaN</td>\n",
       "      <td>21.118532</td>\n",
       "      <td>0.520327</td>\n",
       "    </tr>\n",
       "    <tr>\n",
       "      <th>483</th>\n",
       "      <td>2023-01-31</td>\n",
       "      <td>NaN</td>\n",
       "      <td>23.490078</td>\n",
       "      <td>NaN</td>\n",
       "      <td>21.222897</td>\n",
       "      <td>2.267182</td>\n",
       "    </tr>\n",
       "  </tbody>\n",
       "</table>\n",
       "<p>484 rows × 6 columns</p>\n",
       "</div>"
      ],
      "text/plain": [
       "            ds     y      yhat1  residual1      trend  season_weekly\n",
       "0   2021-01-01   7.7   5.635226  -2.064774   7.293401      -1.658176\n",
       "1   2021-01-02  24.4   5.796345 -18.603655   7.413465      -1.617119\n",
       "2   2021-01-03   0.3   7.612227   7.312227   7.533529       0.078698\n",
       "3   2021-01-04   0.7   8.173919   7.473919   7.653592       0.520327\n",
       "4   2021-01-05   0.0  10.040837  10.040837   7.773656       2.267182\n",
       "..         ...   ...        ...        ...        ...            ...\n",
       "479 2023-01-27   NaN  19.147282        NaN  20.805456      -1.658176\n",
       "480 2023-01-28   NaN  19.292692        NaN  20.909813      -1.617119\n",
       "481 2023-01-29   NaN  21.092865        NaN  21.014168       0.078698\n",
       "482 2023-01-30   NaN  21.638859        NaN  21.118532       0.520327\n",
       "483 2023-01-31   NaN  23.490078        NaN  21.222897       2.267182\n",
       "\n",
       "[484 rows x 6 columns]"
      ]
     },
     "execution_count": 51,
     "metadata": {},
     "output_type": "execute_result"
    }
   ],
   "source": [
    "n_forecast"
   ]
  },
  {
   "cell_type": "code",
   "execution_count": 52,
   "metadata": {
    "execution": {
     "iopub.execute_input": "2022-04-01T08:36:48.636171Z",
     "iopub.status.busy": "2022-04-01T08:36:48.635873Z",
     "iopub.status.idle": "2022-04-01T08:36:48.652420Z",
     "shell.execute_reply": "2022-04-01T08:36:48.651893Z",
     "shell.execute_reply.started": "2022-04-01T08:36:48.636145Z"
    }
   },
   "outputs": [
    {
     "data": {
      "text/html": [
       "<div>\n",
       "<style scoped>\n",
       "    .dataframe tbody tr th:only-of-type {\n",
       "        vertical-align: middle;\n",
       "    }\n",
       "\n",
       "    .dataframe tbody tr th {\n",
       "        vertical-align: top;\n",
       "    }\n",
       "\n",
       "    .dataframe thead th {\n",
       "        text-align: right;\n",
       "    }\n",
       "</style>\n",
       "<table border=\"1\" class=\"dataframe\">\n",
       "  <thead>\n",
       "    <tr style=\"text-align: right;\">\n",
       "      <th></th>\n",
       "      <th>ds</th>\n",
       "      <th>yhat1</th>\n",
       "      <th>residual1</th>\n",
       "      <th>y</th>\n",
       "    </tr>\n",
       "  </thead>\n",
       "  <tbody>\n",
       "    <tr>\n",
       "      <th>0</th>\n",
       "      <td>2021-01-01</td>\n",
       "      <td>5.635226</td>\n",
       "      <td>-2.064774</td>\n",
       "      <td>7.70</td>\n",
       "    </tr>\n",
       "    <tr>\n",
       "      <th>1</th>\n",
       "      <td>2021-02-01</td>\n",
       "      <td>11.535705</td>\n",
       "      <td>11.035705</td>\n",
       "      <td>0.50</td>\n",
       "    </tr>\n",
       "    <tr>\n",
       "      <th>2</th>\n",
       "      <td>2021-03-01</td>\n",
       "      <td>14.335898</td>\n",
       "      <td>12.685898</td>\n",
       "      <td>1.65</td>\n",
       "    </tr>\n",
       "    <tr>\n",
       "      <th>3</th>\n",
       "      <td>2021-04-01</td>\n",
       "      <td>7.780525</td>\n",
       "      <td>4.980525</td>\n",
       "      <td>2.80</td>\n",
       "    </tr>\n",
       "    <tr>\n",
       "      <th>4</th>\n",
       "      <td>2021-05-01</td>\n",
       "      <td>1.352724</td>\n",
       "      <td>-9.597276</td>\n",
       "      <td>10.95</td>\n",
       "    </tr>\n",
       "  </tbody>\n",
       "</table>\n",
       "</div>"
      ],
      "text/plain": [
       "          ds      yhat1  residual1      y\n",
       "0 2021-01-01   5.635226  -2.064774   7.70\n",
       "1 2021-02-01  11.535705  11.035705   0.50\n",
       "2 2021-03-01  14.335898  12.685898   1.65\n",
       "3 2021-04-01   7.780525   4.980525   2.80\n",
       "4 2021-05-01   1.352724  -9.597276  10.95"
      ]
     },
     "execution_count": 52,
     "metadata": {},
     "output_type": "execute_result"
    }
   ],
   "source": [
    "n_forecast_merge = pd.merge(df_tp, n_forecast[['ds','yhat1','residual1']],on='ds')\n",
    "n_forecast_merge = n_forecast_merge[['ds','yhat1','residual1','y']]\n",
    "n_forecast_merge.head()"
   ]
  },
  {
   "cell_type": "code",
   "execution_count": 53,
   "metadata": {
    "execution": {
     "iopub.execute_input": "2022-04-01T08:36:48.653776Z",
     "iopub.status.busy": "2022-04-01T08:36:48.653434Z",
     "iopub.status.idle": "2022-04-01T08:36:48.658819Z",
     "shell.execute_reply": "2022-04-01T08:36:48.658145Z",
     "shell.execute_reply.started": "2022-04-01T08:36:48.653738Z"
    },
    "id": "NYjhoFjzQVcz"
   },
   "outputs": [],
   "source": [
    "n_prophet_mse = mean_squared_error(n_forecast_merge['y'], n_forecast_merge['yhat1'])\n",
    "n_prophet_rmse = np.sqrt(mean_squared_error(n_forecast_merge['y'], n_forecast_merge['yhat1']))"
   ]
  },
  {
   "cell_type": "code",
   "execution_count": 54,
   "metadata": {
    "execution": {
     "iopub.execute_input": "2022-04-01T08:36:48.660203Z",
     "iopub.status.busy": "2022-04-01T08:36:48.659876Z",
     "iopub.status.idle": "2022-04-01T08:36:48.671459Z",
     "shell.execute_reply": "2022-04-01T08:36:48.670822Z",
     "shell.execute_reply.started": "2022-04-01T08:36:48.660176Z"
    },
    "id": "qGMxH51hQVih",
    "outputId": "889ecefd-b6be-4fc1-e30a-65029a40f9dd"
   },
   "outputs": [
    {
     "name": "stdout",
     "output_type": "stream",
     "text": [
      "Neural Prophet MSE: 228.2751\n",
      "Neural Prophet RMSE: 15.1088\n"
     ]
    }
   ],
   "source": [
    "print(\"Neural Prophet MSE: {:.4f}\".format(n_prophet_mse))\n",
    "print(\"Neural Prophet RMSE: {:.4f}\".format(n_prophet_rmse))"
   ]
  },
  {
   "cell_type": "code",
   "execution_count": 55,
   "metadata": {
    "execution": {
     "iopub.execute_input": "2022-04-01T08:36:48.672861Z",
     "iopub.status.busy": "2022-04-01T08:36:48.672599Z",
     "iopub.status.idle": "2022-04-01T08:36:48.681995Z",
     "shell.execute_reply": "2022-04-01T08:36:48.681279Z",
     "shell.execute_reply.started": "2022-04-01T08:36:48.672822Z"
    },
    "id": "PQf5WbhgTwiS",
    "outputId": "4e50d70e-3812-41d9-901d-e66fc4ccf595"
   },
   "outputs": [
    {
     "name": "stdout",
     "output_type": "stream",
     "text": [
      "Prophet MSE: 242.9972\n",
      "Prophet RMSE: 15.5884\n"
     ]
    }
   ],
   "source": [
    "print(\"Prophet MSE: {:.4f}\".format(prophet_mse))\n",
    "print(\"Prophet RMSE: {:.4f}\".format(prophet_rmse))"
   ]
  },
  {
   "cell_type": "code",
   "execution_count": 56,
   "metadata": {
    "execution": {
     "iopub.execute_input": "2022-04-01T08:36:48.683475Z",
     "iopub.status.busy": "2022-04-01T08:36:48.683073Z",
     "iopub.status.idle": "2022-04-01T08:36:48.692955Z",
     "shell.execute_reply": "2022-04-01T08:36:48.692148Z",
     "shell.execute_reply.started": "2022-04-01T08:36:48.683440Z"
    }
   },
   "outputs": [
    {
     "data": {
      "text/plain": [
       "-14.722161218709658"
      ]
     },
     "execution_count": 56,
     "metadata": {},
     "output_type": "execute_result"
    }
   ],
   "source": [
    "n_prophet_mse - prophet_mse"
   ]
  },
  {
   "cell_type": "code",
   "execution_count": 57,
   "metadata": {
    "execution": {
     "iopub.execute_input": "2022-04-01T08:36:48.694598Z",
     "iopub.status.busy": "2022-04-01T08:36:48.694009Z",
     "iopub.status.idle": "2022-04-01T08:36:48.705477Z",
     "shell.execute_reply": "2022-04-01T08:36:48.704851Z",
     "shell.execute_reply.started": "2022-04-01T08:36:48.694567Z"
    },
    "id": "2uYHMulJYpiq",
    "outputId": "5e2facbf-0e3b-4a72-d2fa-6b401edc2b36"
   },
   "outputs": [
    {
     "data": {
      "text/plain": [
       "-0.47959387483461136"
      ]
     },
     "execution_count": 57,
     "metadata": {},
     "output_type": "execute_result"
    }
   ],
   "source": [
    "n_prophet_rmse - prophet_rmse"
   ]
  },
  {
   "cell_type": "code",
   "execution_count": 58,
   "metadata": {
    "execution": {
     "iopub.execute_input": "2022-04-01T08:36:48.707125Z",
     "iopub.status.busy": "2022-04-01T08:36:48.706472Z",
     "iopub.status.idle": "2022-04-01T08:36:49.044419Z",
     "shell.execute_reply": "2022-04-01T08:36:49.043441Z",
     "shell.execute_reply.started": "2022-04-01T08:36:48.707091Z"
    }
   },
   "outputs": [
    {
     "data": {
      "text/plain": [
       "<matplotlib.legend.Legend at 0x7f4eec397700>"
      ]
     },
     "execution_count": 58,
     "metadata": {},
     "output_type": "execute_result"
    },
    {
     "data": {
      "image/png": "[encoded data removed]",
      "text/plain": [
       "<Figure size 864x432 with 1 Axes>"
      ]
     },
     "metadata": {},
     "output_type": "display_data"
    }
   ],
   "source": [
    "plt.figure(figsize=(12,6))\n",
    "plt.xticks(rotation=45)\n",
    "plt.title(\"Models Comparison\")\n",
    "plt.plot(p_forecast['ds'], p_forecast['yhat'], marker='.', c='navy', label='Prophet')\n",
    "plt.plot(n_forecast['ds'], n_forecast['yhat1'], marker='.', c='red', label='NeuralProphet')\n",
    "plt.legend()"
   ]
  },
  {
   "cell_type": "code",
   "execution_count": 59,
   "metadata": {
    "execution": {
     "iopub.execute_input": "2022-04-01T08:36:49.046541Z",
     "iopub.status.busy": "2022-04-01T08:36:49.046046Z",
     "iopub.status.idle": "2022-04-01T08:36:49.059085Z",
     "shell.execute_reply": "2022-04-01T08:36:49.058092Z",
     "shell.execute_reply.started": "2022-04-01T08:36:49.046494Z"
    }
   },
   "outputs": [
    {
     "data": {
      "text/html": [
       "<div>\n",
       "<style scoped>\n",
       "    .dataframe tbody tr th:only-of-type {\n",
       "        vertical-align: middle;\n",
       "    }\n",
       "\n",
       "    .dataframe tbody tr th {\n",
       "        vertical-align: top;\n",
       "    }\n",
       "\n",
       "    .dataframe thead th {\n",
       "        text-align: right;\n",
       "    }\n",
       "</style>\n",
       "<table border=\"1\" class=\"dataframe\">\n",
       "  <thead>\n",
       "    <tr style=\"text-align: right;\">\n",
       "      <th></th>\n",
       "      <th>metrics</th>\n",
       "      <th>Prophet</th>\n",
       "      <th>Neural Prophet</th>\n",
       "    </tr>\n",
       "  </thead>\n",
       "  <tbody>\n",
       "    <tr>\n",
       "      <th>0</th>\n",
       "      <td>MSE</td>\n",
       "      <td>242.997213</td>\n",
       "      <td>228.275052</td>\n",
       "    </tr>\n",
       "    <tr>\n",
       "      <th>1</th>\n",
       "      <td>RMSE</td>\n",
       "      <td>15.588368</td>\n",
       "      <td>15.108774</td>\n",
       "    </tr>\n",
       "  </tbody>\n",
       "</table>\n",
       "</div>"
      ],
      "text/plain": [
       "  metrics    Prophet   Neural Prophet\n",
       "0     MSE  242.997213      228.275052\n",
       "1    RMSE   15.588368       15.108774"
      ]
     },
     "execution_count": 59,
     "metadata": {},
     "output_type": "execute_result"
    }
   ],
   "source": [
    "pd.DataFrame({'metrics':['MSE','RMSE'],\n",
    "              'Prophet ':[prophet_mse, prophet_rmse],\n",
    "              'Neural Prophet':[n_prophet_mse, n_prophet_rmse]\n",
    "             })"
   ]
  },
  {
   "cell_type": "markdown",
   "metadata": {
    "id": "Aq80C1pRYTvd"
   },
   "source": [
    "## Final Comments"
   ]
  },
  {
   "cell_type": "markdown",
   "metadata": {
    "id": "Z9gvnBfLYcbP"
   },
   "source": [
    "*   At least for this particular dataset and using the default arguments,  the **NeuralProphet** model scored a **MSE** of **228.275052** and **RMSE** of **15.108774** whereas the **Prophet** model scored a **MSE** of **242.997213** and **RMSE** of **15.588368**, a **14.722161218709658 and 0.47959387483461136 difference of MSE and RMSE respectively** compared against the first model."
   ]
  }
 ],
 "metadata": {
  "kernelspec": {
   "display_name": "Python 3.9",
   "language": "python",
   "name": "python3"
  },
  "language_info": {
   "codemirror_mode": {
    "name": "ipython",
    "version": 3
   },
   "file_extension": ".py",
   "mimetype": "text/x-python",
   "name": "python",
   "nbconvert_exporter": "python",
   "pygments_lexer": "ipython3",
   "version": "3.9.7"
  }
 },
 "nbformat": 4,
 "nbformat_minor": 4
}
